{
 "cells": [
  {
   "cell_type": "markdown",
   "metadata": {},
   "source": [
    "# Cleaning Quiz: Udacity's Course Catalog\n",
    "It's your turn! Udacity's [course catalog page](https://www.udacity.com/courses/all) has changed since the last video was filmed. One notable change is the introduction of  _schools_.\n",
    "\n",
    "In this activity, you're going to perform similar actions with BeautifulSoup to extract the following information from each course listing on the page:\n",
    "1. The course name - e.g. \"Data Analyst\"\n",
    "2. The school the course belongs to - e.g. \"School of Data Science\"\n",
    "\n",
    "**Note: All solution notebooks can be found by clicking on the Jupyter icon on the top left of this workspace.**"
   ]
  },
  {
   "cell_type": "markdown",
   "metadata": {},
   "source": [
    "### Step 1: Get text from Udacity's course catalog web page\n",
    "You can use the `requests` library to do this.\n",
    "\n",
    "You may have to scroll down past the javascript and CSS in the output of the last cell in this section to see the text."
   ]
  },
  {
   "cell_type": "code",
   "execution_count": 91,
   "metadata": {},
   "outputs": [],
   "source": [
    "# import statements\n",
    "import requests\n",
    "from bs4 import BeautifulSoup"
   ]
  },
  {
   "cell_type": "code",
   "execution_count": 92,
   "metadata": {},
   "outputs": [],
   "source": [
    "# fetch web page\n",
    "r = requests.get('https://www.udacity.com/courses/all')"
   ]
  },
  {
   "cell_type": "code",
   "execution_count": 93,
   "metadata": {},
   "outputs": [
    {
     "name": "stdout",
     "output_type": "stream",
     "text": [
      "<!DOCTYPE html><html><head>\n",
      "  <meta charset=\"utf-8\">\n",
      "  <script type=\"text/javascript\" class=\"ng-star-inserted\">window.NREUM||(NREUM={}),__nr_require=function(t,n,e){function r(e){if(!n[e]){var o=n[e]={exports:{}};t[e][0].call(o.exports,function(n){var o=t[e][1][n];return r(o||n)},o,o.exports)}return n[e].exports}if(\"function\"==typeof __nr_require)return __nr_require;for(var o=0;o<e.length;o++)r(e[o]);return r}({1:[function(t,n,e){function r(t){try{s.console&&console.log(t)}catch(n){}}var o,i=t(\"\n"
     ]
    }
   ],
   "source": [
    "# display text from web page\n",
    "print(r.text[0:500])"
   ]
  },
  {
   "cell_type": "markdown",
   "metadata": {},
   "source": [
    "### Step 2: Use BeautifulSoup to remove HTML tags\n",
    "Use `\"lxml\"` rather than `\"html5lib\"`.\n",
    "\n",
    "Again, you may have to scroll down past the javascript and CSS in the output of the last cell in this section to see the text. **Alternatively,** you can run the following two lines right before running `soup.get_text()`:\n",
    "\n",
    "```python\n",
    "for script in soup([\"script\", \"style\"]):\n",
    "    script.decompose()\n",
    "```\n",
    "Read more about this [here](https://stackoverflow.com/questions/22799990/beatifulsoup4-get-text-still-has-javascript)."
   ]
  },
  {
   "cell_type": "code",
   "execution_count": 94,
   "metadata": {},
   "outputs": [
    {
     "name": "stdout",
     "output_type": "stream",
     "text": [
      "\n",
      "\n",
      "window.NREUM||(NREUM={}),__nr_require=function(t,n,e){function r(e){if(!n[e]){var o=n[e]={exports:{}};t[e][0].call(o.exports,function(n){var o=t[e][1][n];return r(o||n)},o,o.exports)}return n[e].exports}if(\"function\"==typeof __nr_require)return __nr_require;for(var o=0;o<e.length;o++)r(e[o]);return r}({1:[function(t,n,e){function r(t){try{s.console&&console.log(t)}catch(n){}}var o,i=t(\"ee\"),a=t(15),s={};try{o=localStorage.getItem(\"__nr_flags\").split(\",\"),console&&\"function\"==typeof console.log\n",
      "\n"
     ]
    }
   ],
   "source": [
    "soup = BeautifulSoup(r.text,'lxml')\n",
    "print(soup.get_text()[0:500])\n",
    "print('')\n",
    "#print(soup.prettify())"
   ]
  },
  {
   "cell_type": "markdown",
   "metadata": {},
   "source": [
    "### Step 3: Find all course summaries\n",
    "Use the BeautifulSoup's `find_all` method to select based on tag type and class name. Just ike in the video, you can right click on the item, and click \"Inspect\" to view its html on a web page."
   ]
  },
  {
   "cell_type": "code",
   "execution_count": 95,
   "metadata": {},
   "outputs": [
    {
     "data": {
      "text/plain": [
       "229"
      ]
     },
     "execution_count": 95,
     "metadata": {},
     "output_type": "execute_result"
    }
   ],
   "source": [
    "len(soup.find_all(class_=\"course-summary-card\")) #class_ is new"
   ]
  },
  {
   "cell_type": "code",
   "execution_count": 99,
   "metadata": {},
   "outputs": [
    {
     "data": {
      "text/plain": [
       "\"Udacity's Intro to Programming is your first step towards careers in Web and App Development, Machine Learning, Data Science, AI, and more! This program is perfect for beginners.\""
      ]
     },
     "execution_count": 99,
     "metadata": {},
     "output_type": "execute_result"
    }
   ],
   "source": [
    "(soup.find_all(class_=\"card__expander--summary mb-1\")[0].get_text())"
   ]
  },
  {
   "cell_type": "code",
   "execution_count": 64,
   "metadata": {},
   "outputs": [
    {
     "name": "stdout",
     "output_type": "stream",
     "text": [
      "Number of Courses: 229\n"
     ]
    }
   ],
   "source": [
    "# Find all course summaries\n",
    "summaries = soup.find_all(\"div\", {\"class\":\"course-summary-card\"})\n",
    "print('Number of Courses:', len(summaries))"
   ]
  },
  {
   "cell_type": "code",
   "execution_count": 73,
   "metadata": {},
   "outputs": [],
   "source": [
    "course_description = []\n",
    "for summary in summaries:\n",
    "    \n",
    "    x=summary.find(\"div\", {\"class\":\"card__expander--summary mb-1\"})\n",
    "    \n",
    "    course_description.append(x.get_text())\n"
   ]
  },
  {
   "cell_type": "code",
   "execution_count": 76,
   "metadata": {},
   "outputs": [
    {
     "data": {
      "text/plain": [
       "\"You've used the Internet. Now find out more about how it works.\""
      ]
     },
     "execution_count": 76,
     "metadata": {},
     "output_type": "execute_result"
    }
   ],
   "source": [
    "len(course_description)\n",
    "course_description[228]"
   ]
  },
  {
   "cell_type": "markdown",
   "metadata": {},
   "source": [
    "### Step 4: Inspect the first summary to find selectors for the course name and school\n",
    "Tip: `.prettify()` is a super helpful method BeautifulSoup provides to output html in a nicely indented form! Make sure to use `print()` to ensure whitespace is displayed properly."
   ]
  },
  {
   "cell_type": "code",
   "execution_count": 79,
   "metadata": {},
   "outputs": [
    {
     "name": "stdout",
     "output_type": "stream",
     "text": [
      "<div _ngcontent-sc260=\"\" class=\"course-summary-card row row-gap-medium catalog-card nanodegree-card ng-star-inserted\">\n",
      " <ir-catalog-card _ngcontent-sc260=\"\" _nghost-sc263=\"\">\n",
      "  <div _ngcontent-sc263=\"\" class=\"card-wrapper is-collapsed\">\n",
      "   <div _ngcontent-sc263=\"\" class=\"card__inner card mb-0\">\n",
      "    <div _ngcontent-sc263=\"\" class=\"card__inner--upper\">\n",
      "     <div _ngcontent-sc263=\"\" class=\"image_wrapper hidden-md-down\">\n",
      "      <a _ngcontent-sc263=\"\" href=\"/course/intro-to-programming-nanodegree--nd000\">\n",
      "       <!-- -->\n",
      "       <!-- -->\n",
      "       <!-- -->\n",
      "       <div _ngcontent-sc263=\"\" class=\"image-container ng-star-inserted\" style=\"background-image:url(https://d20vrrgs8k4bvw.cloudfront.net/images/degrees/nd000/nd-card.jpg);\">\n",
      "        <div _ngcontent-sc263=\"\" class=\"image-overlay\">\n",
      "        </div>\n",
      "       </div>\n",
      "       <!-- -->\n",
      "       <!-- -->\n",
      "      </a>\n",
      "      <!-- -->\n",
      "     </div>\n",
      "     <div _ngcontent-sc263=\"\" class=\"card-content\">\n",
      "      <!-- -->\n",
      "      <!-- -->\n",
      "      <div _ngcontent-sc263=\"\" class=\"category-wrapper\">\n",
      "       <span _ngcontent-sc263=\"\" class=\"mobile-icon\">\n",
      "       </span>\n",
      "       <!-- -->\n",
      "       <h4 _ngcontent-sc263=\"\" class=\"category ng-star-inserted\">\n",
      "        School of Development\n",
      "       </h4>\n",
      "      </div>\n",
      "      <h3 _ngcontent-sc263=\"\" class=\"card-heading\">\n",
      "       <!-- -->\n",
      "       <a _ngcontent-sc263=\"\" class=\"capitalize ng-star-inserted\" href=\"/course/intro-to-programming-nanodegree--nd000\">\n",
      "        Introduction to Programming\n",
      "       </a>\n",
      "       <!-- -->\n",
      "      </h3>\n",
      "      <div _ngcontent-sc263=\"\" class=\"right-sub\">\n",
      "       <!-- -->\n",
      "       <div _ngcontent-sc263=\"\" class=\"skills ng-star-inserted\">\n",
      "        <h4 _ngcontent-sc263=\"\">\n",
      "         Skills Covered\n",
      "        </h4>\n",
      "        <span _ngcontent-sc263=\"\" class=\"truncate-content\">\n",
      "         <!-- -->\n",
      "         <span _ngcontent-sc263=\"\" class=\"ng-star-inserted\">\n",
      "          Introduction to Programming,\n",
      "         </span>\n",
      "         <span _ngcontent-sc263=\"\" class=\"ng-star-inserted\">\n",
      "          HTML,\n",
      "         </span>\n",
      "         <span _ngcontent-sc263=\"\" class=\"ng-star-inserted\">\n",
      "          CSS,\n",
      "         </span>\n",
      "         <span _ngcontent-sc263=\"\" class=\"ng-star-inserted\">\n",
      "          Python\n",
      "         </span>\n",
      "        </span>\n",
      "       </div>\n",
      "       <!-- -->\n",
      "       <div _ngcontent-sc263=\"\" class=\"hidden-md-up level\">\n",
      "        <span _ngcontent-sc263=\"\" class=\"course-level course-level-beginner\" classname=\"course-level course-level-beginner\">\n",
      "        </span>\n",
      "        <span _ngcontent-sc263=\"\" class=\"capitalize\">\n",
      "         beginner\n",
      "        </span>\n",
      "       </div>\n",
      "      </div>\n",
      "     </div>\n",
      "    </div>\n",
      "    <div _ngcontent-sc263=\"\" class=\"card__inner--lower hidden-sm-down\">\n",
      "     <div _ngcontent-sc263=\"\" class=\"left uppercase blue expander pointer\">\n",
      "      <!-- -->\n",
      "      <span _ngcontent-sc263=\"\" class=\"ng-star-inserted\">\n",
      "       Nanodegree Details\n",
      "      </span>\n",
      "      <!-- -->\n",
      "     </div>\n",
      "     <div _ngcontent-sc263=\"\" class=\"right\">\n",
      "      <!-- -->\n",
      "      <span _ngcontent-sc263=\"\" class=\"caption text-right level ng-star-inserted\">\n",
      "       <span _ngcontent-sc263=\"\" class=\"course-level course-level-beginner\" classname=\"course-level course-level-beginner\">\n",
      "       </span>\n",
      "       <span _ngcontent-sc263=\"\" class=\"capitalize\">\n",
      "        beginner\n",
      "       </span>\n",
      "      </span>\n",
      "     </div>\n",
      "    </div>\n",
      "   </div>\n",
      "   <div _ngcontent-sc263=\"\" class=\"card__expander\">\n",
      "    <div _ngcontent-sc263=\"\" class=\"card__expander--summary mb-1\">\n",
      "     <!-- -->\n",
      "     <span _ngcontent-sc263=\"\" class=\"ng-star-inserted\">\n",
      "      Udacity's Intro to Programming is your first step towards careers in Web and App Development, Machine Learning, Data Science, AI, and more! This program is perfect for beginners.\n",
      "     </span>\n",
      "    </div>\n",
      "    <hr _ngcontent-sc263=\"\"/>\n",
      "    <div _ngcontent-sc263=\"\" class=\"card__expander--details\">\n",
      "     <div _ngcontent-sc263=\"\" class=\"rating\">\n",
      "      <!-- -->\n",
      "      <!-- -->\n",
      "      <!-- -->\n",
      "      <!-- -->\n",
      "     </div>\n",
      "     <a _ngcontent-sc263=\"\" class=\"button--primary btn\" href=\"/course/intro-to-programming-nanodegree--nd000\">\n",
      "      Learn More\n",
      "     </a>\n",
      "    </div>\n",
      "   </div>\n",
      "  </div>\n",
      " </ir-catalog-card>\n",
      "</div>\n",
      "\n"
     ]
    }
   ],
   "source": [
    "# print the first summary in summaries\n",
    "print(summaries[0].prettify())"
   ]
  },
  {
   "cell_type": "markdown",
   "metadata": {},
   "source": [
    "Look for selectors that contain the courses title and school name text you want to extract. Then, use the `select_one` method on the summary object to pull out the html with those selectors. Afterwards, don't forget to do some extra cleaning to isolate the names (get rid of unnecessary html), as you saw in the last video."
   ]
  },
  {
   "cell_type": "code",
   "execution_count": 82,
   "metadata": {},
   "outputs": [
    {
     "data": {
      "text/plain": [
       "'Introduction to Programming'"
      ]
     },
     "execution_count": 82,
     "metadata": {},
     "output_type": "execute_result"
    }
   ],
   "source": [
    "# Extract course title\n",
    "summaries[0].find('h3').get_text()"
   ]
  },
  {
   "cell_type": "code",
   "execution_count": 83,
   "metadata": {},
   "outputs": [
    {
     "data": {
      "text/plain": [
       "'School of Development'"
      ]
     },
     "execution_count": 83,
     "metadata": {},
     "output_type": "execute_result"
    }
   ],
   "source": [
    "# Extract school\n",
    "summaries[0].find('h4').get_text()"
   ]
  },
  {
   "cell_type": "code",
   "execution_count": 85,
   "metadata": {},
   "outputs": [
    {
     "data": {
      "text/plain": [
       "'Introduction to Programming'"
      ]
     },
     "execution_count": 85,
     "metadata": {},
     "output_type": "execute_result"
    }
   ],
   "source": [
    "summaries[0].select_one('h3').get_text()"
   ]
  },
  {
   "cell_type": "markdown",
   "metadata": {},
   "source": [
    "### Step 5: Collect names and schools of ALL course listings\n",
    "Reuse your code from the previous step, but now in a loop to extract the name and school from every course summary in `summaries`!"
   ]
  },
  {
   "cell_type": "code",
   "execution_count": 87,
   "metadata": {},
   "outputs": [],
   "source": [
    "courses = []\n",
    "for summary in summaries:\n",
    "    # append name and school of each summary to courses list\n",
    "    courses.append((summary.find('h3').get_text(),summary.find('h4').get_text()))\n"
   ]
  },
  {
   "cell_type": "code",
   "execution_count": 88,
   "metadata": {},
   "outputs": [
    {
     "name": "stdout",
     "output_type": "stream",
     "text": [
      "229 course summaries found. Sample:\n"
     ]
    },
    {
     "data": {
      "text/plain": [
       "[('Introduction to Programming', 'School of Development'),\n",
       " ('What is Programming?', 'School of Development'),\n",
       " ('Data Analyst', 'School of Data Science'),\n",
       " ('iOS Developer', 'School of Development'),\n",
       " ('Full Stack Web Developer', 'School of Development'),\n",
       " ('Predictive Analytics for Business', 'School of Business'),\n",
       " ('Machine Learning Engineer', 'School of Artificial Intelligence'),\n",
       " ('Self Driving Car Engineer Nanodegree', 'School of Autonomous Systems'),\n",
       " ('Digital Marketing', 'School of Business'),\n",
       " ('React', 'School of Development'),\n",
       " ('Mobile Web Specialist', 'School of Development'),\n",
       " ('Data Scientist', 'School of Data Science'),\n",
       " ('AI Programming with Python', 'School of Artificial Intelligence'),\n",
       " ('Business Analytics', 'School of Business'),\n",
       " ('Deep Learning', 'School of Artificial Intelligence'),\n",
       " ('Programming for Data Science', 'School of Data Science'),\n",
       " ('VR Foundations', 'Skills Covered'),\n",
       " ('VR Mobile 360', 'Skills Covered'),\n",
       " ('VR High-Immersion', 'Skills Covered'),\n",
       " ('Intro to Self-Driving Cars', 'School of Autonomous Systems')]"
      ]
     },
     "execution_count": 88,
     "metadata": {},
     "output_type": "execute_result"
    }
   ],
   "source": [
    "# display results\n",
    "print(len(courses), \"course summaries found. Sample:\")\n",
    "courses[:20]"
   ]
  },
  {
   "cell_type": "code",
   "execution_count": null,
   "metadata": {},
   "outputs": [],
   "source": []
  }
 ],
 "metadata": {
  "kernelspec": {
   "display_name": "Python 3",
   "language": "python",
   "name": "python3"
  },
  "language_info": {
   "codemirror_mode": {
    "name": "ipython",
    "version": 3
   },
   "file_extension": ".py",
   "mimetype": "text/x-python",
   "name": "python",
   "nbconvert_exporter": "python",
   "pygments_lexer": "ipython3",
   "version": "3.6.3"
  }
 },
 "nbformat": 4,
 "nbformat_minor": 2
}
