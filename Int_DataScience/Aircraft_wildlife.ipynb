{
 "cells": [
  {
   "cell_type": "code",
   "execution_count": 1,
   "metadata": {},
   "outputs": [],
   "source": [
    "import numpy as np\n",
    "import pandas as pd\n",
    "\n"
   ]
  },
  {
   "cell_type": "code",
   "execution_count": 2,
   "metadata": {},
   "outputs": [
    {
     "name": "stderr",
     "output_type": "stream",
     "text": [
      "/home/ania/anaconda3/lib/python3.6/site-packages/IPython/core/interactiveshell.py:2785: DtypeWarning: Columns (9,12,15,17) have mixed types. Specify dtype option on import or set low_memory=False.\n",
      "  interactivity=interactivity, compiler=compiler, result=result)\n"
     ]
    }
   ],
   "source": [
    "df=pd.read_csv('database.csv')"
   ]
  },
  {
   "cell_type": "code",
   "execution_count": 3,
   "metadata": {},
   "outputs": [
    {
     "data": {
      "text/html": [
       "<div>\n",
       "<style scoped>\n",
       "    .dataframe tbody tr th:only-of-type {\n",
       "        vertical-align: middle;\n",
       "    }\n",
       "\n",
       "    .dataframe tbody tr th {\n",
       "        vertical-align: top;\n",
       "    }\n",
       "\n",
       "    .dataframe thead th {\n",
       "        text-align: right;\n",
       "    }\n",
       "</style>\n",
       "<table border=\"1\" class=\"dataframe\">\n",
       "  <thead>\n",
       "    <tr style=\"text-align: right;\">\n",
       "      <th></th>\n",
       "      <th>Record ID</th>\n",
       "      <th>Incident Year</th>\n",
       "      <th>Incident Month</th>\n",
       "      <th>Incident Day</th>\n",
       "      <th>Operator ID</th>\n",
       "      <th>Operator</th>\n",
       "      <th>Aircraft</th>\n",
       "      <th>Aircraft Type</th>\n",
       "      <th>Aircraft Make</th>\n",
       "      <th>Aircraft Model</th>\n",
       "      <th>...</th>\n",
       "      <th>Fuselage Strike</th>\n",
       "      <th>Fuselage Damage</th>\n",
       "      <th>Landing Gear Strike</th>\n",
       "      <th>Landing Gear Damage</th>\n",
       "      <th>Tail Strike</th>\n",
       "      <th>Tail Damage</th>\n",
       "      <th>Lights Strike</th>\n",
       "      <th>Lights Damage</th>\n",
       "      <th>Other Strike</th>\n",
       "      <th>Other Damage</th>\n",
       "    </tr>\n",
       "  </thead>\n",
       "  <tbody>\n",
       "    <tr>\n",
       "      <th>0</th>\n",
       "      <td>127128</td>\n",
       "      <td>1990</td>\n",
       "      <td>1</td>\n",
       "      <td>1</td>\n",
       "      <td>DAL</td>\n",
       "      <td>DELTA AIR LINES</td>\n",
       "      <td>B-757-200</td>\n",
       "      <td>A</td>\n",
       "      <td>148</td>\n",
       "      <td>26</td>\n",
       "      <td>...</td>\n",
       "      <td>0</td>\n",
       "      <td>0</td>\n",
       "      <td>0</td>\n",
       "      <td>0</td>\n",
       "      <td>1</td>\n",
       "      <td>1</td>\n",
       "      <td>0</td>\n",
       "      <td>0</td>\n",
       "      <td>0</td>\n",
       "      <td>0</td>\n",
       "    </tr>\n",
       "    <tr>\n",
       "      <th>1</th>\n",
       "      <td>129779</td>\n",
       "      <td>1990</td>\n",
       "      <td>1</td>\n",
       "      <td>1</td>\n",
       "      <td>HAL</td>\n",
       "      <td>HAWAIIAN AIR</td>\n",
       "      <td>DC-9</td>\n",
       "      <td>A</td>\n",
       "      <td>583</td>\n",
       "      <td>90</td>\n",
       "      <td>...</td>\n",
       "      <td>0</td>\n",
       "      <td>0</td>\n",
       "      <td>0</td>\n",
       "      <td>0</td>\n",
       "      <td>0</td>\n",
       "      <td>0</td>\n",
       "      <td>0</td>\n",
       "      <td>0</td>\n",
       "      <td>1</td>\n",
       "      <td>0</td>\n",
       "    </tr>\n",
       "    <tr>\n",
       "      <th>2</th>\n",
       "      <td>129780</td>\n",
       "      <td>1990</td>\n",
       "      <td>1</td>\n",
       "      <td>2</td>\n",
       "      <td>UNK</td>\n",
       "      <td>UNKNOWN</td>\n",
       "      <td>UNKNOWN</td>\n",
       "      <td>NaN</td>\n",
       "      <td>NaN</td>\n",
       "      <td>NaN</td>\n",
       "      <td>...</td>\n",
       "      <td>0</td>\n",
       "      <td>0</td>\n",
       "      <td>0</td>\n",
       "      <td>0</td>\n",
       "      <td>0</td>\n",
       "      <td>0</td>\n",
       "      <td>0</td>\n",
       "      <td>0</td>\n",
       "      <td>0</td>\n",
       "      <td>0</td>\n",
       "    </tr>\n",
       "    <tr>\n",
       "      <th>3</th>\n",
       "      <td>2258</td>\n",
       "      <td>1990</td>\n",
       "      <td>1</td>\n",
       "      <td>3</td>\n",
       "      <td>MIL</td>\n",
       "      <td>MILITARY</td>\n",
       "      <td>A-10A</td>\n",
       "      <td>A</td>\n",
       "      <td>345</td>\n",
       "      <td>NaN</td>\n",
       "      <td>...</td>\n",
       "      <td>0</td>\n",
       "      <td>0</td>\n",
       "      <td>0</td>\n",
       "      <td>0</td>\n",
       "      <td>0</td>\n",
       "      <td>0</td>\n",
       "      <td>0</td>\n",
       "      <td>0</td>\n",
       "      <td>0</td>\n",
       "      <td>0</td>\n",
       "    </tr>\n",
       "    <tr>\n",
       "      <th>4</th>\n",
       "      <td>2257</td>\n",
       "      <td>1990</td>\n",
       "      <td>1</td>\n",
       "      <td>3</td>\n",
       "      <td>MIL</td>\n",
       "      <td>MILITARY</td>\n",
       "      <td>F-16</td>\n",
       "      <td>A</td>\n",
       "      <td>561</td>\n",
       "      <td>NaN</td>\n",
       "      <td>...</td>\n",
       "      <td>0</td>\n",
       "      <td>0</td>\n",
       "      <td>0</td>\n",
       "      <td>0</td>\n",
       "      <td>0</td>\n",
       "      <td>0</td>\n",
       "      <td>0</td>\n",
       "      <td>0</td>\n",
       "      <td>0</td>\n",
       "      <td>0</td>\n",
       "    </tr>\n",
       "  </tbody>\n",
       "</table>\n",
       "<p>5 rows × 66 columns</p>\n",
       "</div>"
      ],
      "text/plain": [
       "   Record ID  Incident Year  Incident Month  Incident Day Operator ID  \\\n",
       "0     127128           1990               1             1         DAL   \n",
       "1     129779           1990               1             1         HAL   \n",
       "2     129780           1990               1             2         UNK   \n",
       "3       2258           1990               1             3         MIL   \n",
       "4       2257           1990               1             3         MIL   \n",
       "\n",
       "          Operator   Aircraft Aircraft Type Aircraft Make Aircraft Model  \\\n",
       "0  DELTA AIR LINES  B-757-200             A           148             26   \n",
       "1     HAWAIIAN AIR       DC-9             A           583             90   \n",
       "2          UNKNOWN    UNKNOWN           NaN           NaN            NaN   \n",
       "3         MILITARY      A-10A             A           345            NaN   \n",
       "4         MILITARY       F-16             A           561            NaN   \n",
       "\n",
       "      ...       Fuselage Strike  Fuselage Damage Landing Gear Strike  \\\n",
       "0     ...                     0                0                   0   \n",
       "1     ...                     0                0                   0   \n",
       "2     ...                     0                0                   0   \n",
       "3     ...                     0                0                   0   \n",
       "4     ...                     0                0                   0   \n",
       "\n",
       "   Landing Gear Damage Tail Strike Tail Damage  Lights Strike Lights Damage  \\\n",
       "0                    0           1           1              0             0   \n",
       "1                    0           0           0              0             0   \n",
       "2                    0           0           0              0             0   \n",
       "3                    0           0           0              0             0   \n",
       "4                    0           0           0              0             0   \n",
       "\n",
       "   Other Strike Other Damage  \n",
       "0             0            0  \n",
       "1             1            0  \n",
       "2             0            0  \n",
       "3             0            0  \n",
       "4             0            0  \n",
       "\n",
       "[5 rows x 66 columns]"
      ]
     },
     "execution_count": 3,
     "metadata": {},
     "output_type": "execute_result"
    }
   ],
   "source": [
    "df.head()"
   ]
  },
  {
   "cell_type": "code",
   "execution_count": 4,
   "metadata": {
    "scrolled": true
   },
   "outputs": [
    {
     "data": {
      "text/plain": [
       "Index(['Record ID', 'Incident Year', 'Incident Month', 'Incident Day',\n",
       "       'Operator ID', 'Operator', 'Aircraft', 'Aircraft Type', 'Aircraft Make',\n",
       "       'Aircraft Model', 'Aircraft Mass', 'Engine Make', 'Engine Model',\n",
       "       'Engines', 'Engine Type', 'Engine1 Position', 'Engine2 Position',\n",
       "       'Engine3 Position', 'Engine4 Position', 'Airport ID', 'Airport',\n",
       "       'State', 'FAA Region', 'Warning Issued', 'Flight Phase', 'Visibility',\n",
       "       'Precipitation', 'Height', 'Speed', 'Distance', 'Species ID',\n",
       "       'Species Name', 'Species Quantity', 'Flight Impact', 'Fatalities',\n",
       "       'Injuries', 'Aircraft Damage', 'Radome Strike', 'Radome Damage',\n",
       "       'Windshield Strike', 'Windshield Damage', 'Nose Strike', 'Nose Damage',\n",
       "       'Engine1 Strike', 'Engine1 Damage', 'Engine2 Strike', 'Engine2 Damage',\n",
       "       'Engine3 Strike', 'Engine3 Damage', 'Engine4 Strike', 'Engine4 Damage',\n",
       "       'Engine Ingested', 'Propeller Strike', 'Propeller Damage',\n",
       "       'Wing or Rotor Strike', 'Wing or Rotor Damage', 'Fuselage Strike',\n",
       "       'Fuselage Damage', 'Landing Gear Strike', 'Landing Gear Damage',\n",
       "       'Tail Strike', 'Tail Damage', 'Lights Strike', 'Lights Damage',\n",
       "       'Other Strike', 'Other Damage'],\n",
       "      dtype='object')"
      ]
     },
     "execution_count": 4,
     "metadata": {},
     "output_type": "execute_result"
    }
   ],
   "source": [
    "df.columns"
   ]
  },
  {
   "cell_type": "code",
   "execution_count": 15,
   "metadata": {},
   "outputs": [],
   "source": [
    "#df['Species ID']"
   ]
  },
  {
   "cell_type": "code",
   "execution_count": 5,
   "metadata": {},
   "outputs": [
    {
     "data": {
      "text/plain": [
       "NONE                     88082\n",
       "PRECAUTIONARY LANDING     6145\n",
       "OTHER                     2423\n",
       "ABORTED TAKEOFF           2352\n",
       "ENGINE SHUT DOWN           248\n",
       "ENGINE SHUTDOWN            215\n",
       "Name: Flight Impact, dtype: int64"
      ]
     },
     "execution_count": 5,
     "metadata": {},
     "output_type": "execute_result"
    }
   ],
   "source": [
    "df['Flight Impact'].value_counts()"
   ]
  },
  {
   "cell_type": "code",
   "execution_count": 9,
   "metadata": {},
   "outputs": [
    {
     "data": {
      "text/plain": [
       "0    159135\n",
       "1     14969\n",
       "Name: Aircraft Damage, dtype: int64"
      ]
     },
     "execution_count": 9,
     "metadata": {},
     "output_type": "execute_result"
    }
   ],
   "source": [
    "df['Aircraft Damage'].value_counts()"
   ]
  },
  {
   "cell_type": "code",
   "execution_count": 11,
   "metadata": {},
   "outputs": [
    {
     "data": {
      "text/plain": [
       "1.0      178\n",
       "2.0       42\n",
       "5.0        2\n",
       "7.0        2\n",
       "4.0        2\n",
       "3.0        2\n",
       "100.0      1\n",
       "Name: Injuries, dtype: int64"
      ]
     },
     "execution_count": 11,
     "metadata": {},
     "output_type": "execute_result"
    }
   ],
   "source": [
    "df['Injuries'].value_counts()"
   ]
  },
  {
   "cell_type": "code",
   "execution_count": 12,
   "metadata": {},
   "outputs": [
    {
     "data": {
      "text/plain": [
       "UNKNOWN MEDIUM BIRD            38531\n",
       "UNKNOWN SMALL BIRD             32981\n",
       "MOURNING DOVE                   7653\n",
       "GULL                            6580\n",
       "UNKNOWN BIRD                    6400\n",
       "KILLDEER                        4562\n",
       "AMERICAN KESTREL                4476\n",
       "BARN SWALLOW                    4215\n",
       "HORNED LARK                     3952\n",
       "EUROPEAN STARLING               3915\n",
       "SPARROW                         3152\n",
       "ROCK PIGEON                     2893\n",
       "UNKNOWN LARGE BIRD              2789\n",
       "RED-TAILED HAWK                 2254\n",
       "EASTERN MEADOWLARK              1829\n",
       "CANADA GOOSE                    1574\n",
       "RING-BILLED GULL                1531\n",
       "CLIFF SWALLOW                   1485\n",
       "HAWK                            1313\n",
       "BLACKBIRD                       1281\n",
       "HERRING GULL                    1199\n",
       "BARN OWL                        1118\n",
       "WESTERN MEADOWLARK              1072\n",
       "SWALLOW                         1053\n",
       "DOVE                            1041\n",
       "WHITE-TAILED DEER               1021\n",
       "AMERICAN ROBIN                   957\n",
       "PACIFIC GOLDEN-PLOVER            909\n",
       "MALLARD                          877\n",
       "PERCHING BIRDS                   867\n",
       "                               ...  \n",
       "PACIFIC LOON                       1\n",
       "CHICKEN TURTLE                     1\n",
       "TROPICAL MOCKINGBIRD               1\n",
       "RUFFED GROUSE                      1\n",
       "WHITE-BELLIED SEA-EAGLE            1\n",
       "FORK-TAILED STORM-PETREL           1\n",
       "ROSEATE TERN                       1\n",
       "LAGOMORPHS (RABBITS, HARES)        1\n",
       "OLIVE-THROATED PARAKEET            1\n",
       "PUFFINS                            1\n",
       "TOWHEES                            1\n",
       "ALLEN'S HUMMINGBIRD                1\n",
       "CASSIN'S FINCH                     1\n",
       "GRAY HERON                         1\n",
       "ALLIGATOR SNAPPING TURTLE          1\n",
       "CLARK'S GREBE                      1\n",
       "INTERMEDIATE EGRET                 1\n",
       "LONG-LEGGED MYOTIS                 1\n",
       "ANTILLEAN NIGHTHAWK                1\n",
       "CUCKOOS, ROADRUNNERS, ANIS         1\n",
       "LAPPET-FACED VULTURE               1\n",
       "PICAZURO PIGEON                    1\n",
       "NORTHERN SHRIKE                    1\n",
       "BAIRD'S SPARROW                    1\n",
       "PHILIPPINE DUCK                    1\n",
       "HERMIT WARBLER                     1\n",
       "LEAST BITTERN                      1\n",
       "YELLOW-BELLIED MARMOT              1\n",
       "HARLEQUIN DUCK                     1\n",
       "GRAY-HEADED CHICKADEE              1\n",
       "Name: Species Name, Length: 715, dtype: int64"
      ]
     },
     "execution_count": 12,
     "metadata": {},
     "output_type": "execute_result"
    }
   ],
   "source": [
    "df['Species Name'].value_counts()"
   ]
  },
  {
   "cell_type": "code",
   "execution_count": 13,
   "metadata": {},
   "outputs": [
    {
     "data": {
      "text/plain": [
       "UNKNOWN MEDIUM BIRD          4243\n",
       "GULL                         1095\n",
       "UNKNOWN LARGE BIRD           1063\n",
       "UNKNOWN SMALL BIRD            952\n",
       "WHITE-TAILED DEER             852\n",
       "CANADA GOOSE                  773\n",
       "UNKNOWN BIRD                  445\n",
       "RED-TAILED HAWK               333\n",
       "TURKEY VULTURE                329\n",
       "DUCK                          279\n",
       "ROCK PIGEON                   255\n",
       "HAWK                          255\n",
       "GEESE                         214\n",
       "MOURNING DOVE                 208\n",
       "MALLARD                       197\n",
       "NEW WORLD VULTURES            191\n",
       "EUROPEAN STARLING             130\n",
       "RING-BILLED GULL              123\n",
       "HERRING GULL                  118\n",
       "SNOW GOOSE                     99\n",
       "BLACK VULTURE                  98\n",
       "BALD EAGLE                     88\n",
       "BLACKBIRD                      80\n",
       "GREAT BLUE HERON               78\n",
       "DUCKS, GEESE, SWANS            70\n",
       "MULE DEER                      70\n",
       "NORTHERN PINTAIL               69\n",
       "OSPREY                         68\n",
       "AMERICAN ROBIN                 64\n",
       "AMERICAN COOT                  57\n",
       "                             ... \n",
       "MARBLED GODWIT                  1\n",
       "MARSH WREN                      1\n",
       "BAIRD'S SANDPIPER               1\n",
       "PIPING PLOVER                   1\n",
       "RAILS                           1\n",
       "ARMADILLO                       1\n",
       "EURASIAN BUZZARD                1\n",
       "HOODED WARBLER                  1\n",
       "PTARMIGANS                      1\n",
       "LITTLE BLUE HERON               1\n",
       "HUDSONIAN GODWIT                1\n",
       "BLACK-HEADED GULL               1\n",
       "FLORIDA SOFT SHELL TURTLE       1\n",
       "CORMORANTS                      1\n",
       "SONG SPARROW                    1\n",
       "AMERICAN REDSTART               1\n",
       "AMERICAN ALLIGATOR              1\n",
       "NORTHERN SAW-WHET OWL           1\n",
       "SOUTHERN LAPWING                1\n",
       "LONG-BILLED CURLEW              1\n",
       "CANIDS                          1\n",
       "UNKNOWN BIRD OR BAT             1\n",
       "GRAY HERON                      1\n",
       "EASTERN TOWHEE                  1\n",
       "HAWAIIAN GOOSE                  1\n",
       "AUSTRALIAN PELICAN              1\n",
       "SEMIPALMATED SANDPIPER          1\n",
       "HAWAIIAN HAWK                   1\n",
       "LEAST SANDPIPER                 1\n",
       "LAPPET-FACED VULTURE            1\n",
       "Name: Species Name, Length: 348, dtype: int64"
      ]
     },
     "execution_count": 13,
     "metadata": {},
     "output_type": "execute_result"
    }
   ],
   "source": [
    "df[df['Aircraft Damage']==1]['Species Name'].value_counts()"
   ]
  },
  {
   "cell_type": "code",
   "execution_count": 17,
   "metadata": {},
   "outputs": [
    {
     "data": {
      "text/plain": [
       "LANDING ROLL    540\n",
       "TAKEOFF RUN     196\n",
       "APPROACH         65\n",
       "CLIMB            30\n",
       "TAXI             11\n",
       "LOCAL             3\n",
       "ARRIVAL           1\n",
       "Name: Flight Phase, dtype: int64"
      ]
     },
     "execution_count": 17,
     "metadata": {},
     "output_type": "execute_result"
    }
   ],
   "source": [
    "df[(df['Aircraft Damage']==1) & (df['Species Name']=='WHITE-TAILED DEER')]['Flight Phase'].value_counts()"
   ]
  },
  {
   "cell_type": "code",
   "execution_count": 18,
   "metadata": {},
   "outputs": [
    {
     "data": {
      "text/plain": [
       "MORRISTOWN MUNICIPAL ARPT                              13\n",
       "BALTIMORE/WASH INTL THURGOOD MARSHAL ARPT              11\n",
       "EAST HAMPTON ARPT                                      11\n",
       "NORTH CENTRAL WEST VIRGINIA ARPT                       10\n",
       "UNKNOWN                                                 9\n",
       "GREATER ROCHESTER INTL                                  8\n",
       "WASHINGTON COUNTY                                       8\n",
       "CHARLESTON EXECUTIVE ARPT                               7\n",
       "LEESBURG EXECUTIVE ARPT                                 7\n",
       "ESSEX COUNTY AIRPORT                                    7\n",
       "WILLIAMSPORT REGIONAL ARPT                              6\n",
       "GENERAL DOWNING-PEORIA INTL ARPT                        6\n",
       "DANBURY MUNICIPAL ARPT                                  6\n",
       "NEWPORT NEWS/WILLIAMSBURG INTL                          6\n",
       "READING REGNL ARPT/CARL A SPAATZ FIELD                  5\n",
       "TRI-STATE ARPT/MILTON J. FERGUSON FIELD                 5\n",
       "MORGANTOWN MUNICIPAL ARPT-WALTER L. BILL HART FIELD     5\n",
       "ROSTRAVER                                               5\n",
       "WINCHESTER REGIONAL ARPT                                5\n",
       "ANOKA COUNTY-BLAINE                                     5\n",
       "FULTON COUNTY ARPT - BROWN FIELD                        5\n",
       "SOLBERG-HUNTERDON                                       5\n",
       "BEVERLY MUNICIPAL ARPT                                  4\n",
       "PITTSBURGH INTL ARPT                                    4\n",
       "MONROE COUNTY                                           4\n",
       "SMYRNA ARPT                                             4\n",
       "ONEIDA COUNTY ARPT                                      4\n",
       "CAMDENTON MEMORIAL ARPT                                 4\n",
       "ANDERSON REGIONAL                                       4\n",
       "MONTAUK ARPT                                            4\n",
       "                                                       ..\n",
       "THIGPEN FIELD ARPT                                      1\n",
       "SONORA MUNICIPAL ARPT                                   1\n",
       "MC CALL MUNICIPAL ARPT                                  1\n",
       "CAPITOL                                                 1\n",
       "SOUTH BEND REGIONAL                                     1\n",
       "KNOX COUNTY ARPT                                        1\n",
       "PIKE COUNTY ARPT                                        1\n",
       "FORD ARPT                                               1\n",
       "NORTHEAST PHILADELPHIA ARPT                             1\n",
       "DAVID'S ARPT                                            1\n",
       "HANCOCK COUNTY-BAR HARBOR                               1\n",
       "FREEDOM AIR FIELD                                       1\n",
       "ORMOND BEACH MUNICIPAL ARPT                             1\n",
       "TRI-CITY ARPT (PARSONS)                                 1\n",
       "RUSK COUNTY ARPT                                        1\n",
       "SUMMERSVILLE ARPT                                       1\n",
       "GWINNETT COUNTY - BRISCOE FIELD                         1\n",
       "BROWNWOOD REGIONAL ARPT                                 1\n",
       "EASTERWOOD FIELD AIRPORT                                1\n",
       "ESSEX SKYPARK                                           1\n",
       "LEE C FINE MEMORIAL ARPT                                1\n",
       "FINDLAY ARPT                                            1\n",
       "ANDERSON MUNI-DARLINGTON FLD                            1\n",
       "ROCKINGHAM COUNTY NC SHILOH ARPT                        1\n",
       "VANSANT                                                 1\n",
       "ALPENA COUNTY REG                                       1\n",
       "SIKESTON MEMORIAL MUNICIPAL ARPT                        1\n",
       "ROBERT R WELLS JR ARPT                                  1\n",
       "JACKSON COUNTY ARPT                                     1\n",
       "TWIN LAKES RANCH ARPT                                   1\n",
       "Name: Airport, Length: 519, dtype: int64"
      ]
     },
     "execution_count": 18,
     "metadata": {},
     "output_type": "execute_result"
    }
   ],
   "source": [
    "df[(df['Aircraft Damage']==1) & (df['Species Name']=='WHITE-TAILED DEER')]['Airport'].value_counts()"
   ]
  },
  {
   "cell_type": "code",
   "execution_count": 21,
   "metadata": {},
   "outputs": [
    {
     "data": {
      "text/plain": [
       "APPROACH        363\n",
       "CLIMB           319\n",
       "TAKEOFF RUN     224\n",
       "EN ROUTE         80\n",
       "LANDING ROLL     70\n",
       "DESCENT          18\n",
       "Name: Flight Phase, dtype: int64"
      ]
     },
     "execution_count": 21,
     "metadata": {},
     "output_type": "execute_result"
    }
   ],
   "source": [
    "df[(df['Aircraft Damage']==1) & (df['Species Name']=='GULL')]['Flight Phase'].value_counts()"
   ]
  },
  {
   "cell_type": "code",
   "execution_count": null,
   "metadata": {},
   "outputs": [],
   "source": []
  }
 ],
 "metadata": {
  "kernelspec": {
   "display_name": "Python 3",
   "language": "python",
   "name": "python3"
  },
  "language_info": {
   "codemirror_mode": {
    "name": "ipython",
    "version": 3
   },
   "file_extension": ".py",
   "mimetype": "text/x-python",
   "name": "python",
   "nbconvert_exporter": "python",
   "pygments_lexer": "ipython3",
   "version": "3.6.5"
  }
 },
 "nbformat": 4,
 "nbformat_minor": 2
}
