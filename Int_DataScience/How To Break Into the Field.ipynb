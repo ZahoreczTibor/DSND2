{
 "cells": [
  {
   "cell_type": "markdown",
   "metadata": {},
   "source": [
    "### How To Break Into the Field\n",
    "\n",
    "Now you have had a closer look at the data, and you saw how I approached looking at how the survey respondents think you should break into the field.  Let's recreate those results, as well as take a look at another question."
   ]
  },
  {
   "cell_type": "code",
   "execution_count": 107,
   "metadata": {
    "scrolled": false
   },
   "outputs": [
    {
     "data": {
      "text/html": [
       "<div>\n",
       "<style>\n",
       "    .dataframe thead tr:only-child th {\n",
       "        text-align: right;\n",
       "    }\n",
       "\n",
       "    .dataframe thead th {\n",
       "        text-align: left;\n",
       "    }\n",
       "\n",
       "    .dataframe tbody tr th {\n",
       "        vertical-align: top;\n",
       "    }\n",
       "</style>\n",
       "<table border=\"1\" class=\"dataframe\">\n",
       "  <thead>\n",
       "    <tr style=\"text-align: right;\">\n",
       "      <th></th>\n",
       "      <th>Respondent</th>\n",
       "      <th>Professional</th>\n",
       "      <th>ProgramHobby</th>\n",
       "      <th>Country</th>\n",
       "      <th>University</th>\n",
       "      <th>EmploymentStatus</th>\n",
       "      <th>FormalEducation</th>\n",
       "      <th>MajorUndergrad</th>\n",
       "      <th>HomeRemote</th>\n",
       "      <th>CompanySize</th>\n",
       "      <th>...</th>\n",
       "      <th>StackOverflowMakeMoney</th>\n",
       "      <th>Gender</th>\n",
       "      <th>HighestEducationParents</th>\n",
       "      <th>Race</th>\n",
       "      <th>SurveyLong</th>\n",
       "      <th>QuestionsInteresting</th>\n",
       "      <th>QuestionsConfusing</th>\n",
       "      <th>InterestedAnswers</th>\n",
       "      <th>Salary</th>\n",
       "      <th>ExpectedSalary</th>\n",
       "    </tr>\n",
       "  </thead>\n",
       "  <tbody>\n",
       "    <tr>\n",
       "      <th>0</th>\n",
       "      <td>1</td>\n",
       "      <td>Student</td>\n",
       "      <td>Yes, both</td>\n",
       "      <td>United States</td>\n",
       "      <td>No</td>\n",
       "      <td>Not employed, and not looking for work</td>\n",
       "      <td>Secondary school</td>\n",
       "      <td>NaN</td>\n",
       "      <td>NaN</td>\n",
       "      <td>NaN</td>\n",
       "      <td>...</td>\n",
       "      <td>Strongly disagree</td>\n",
       "      <td>Male</td>\n",
       "      <td>High school</td>\n",
       "      <td>White or of European descent</td>\n",
       "      <td>Strongly disagree</td>\n",
       "      <td>Strongly agree</td>\n",
       "      <td>Disagree</td>\n",
       "      <td>Strongly agree</td>\n",
       "      <td>NaN</td>\n",
       "      <td>NaN</td>\n",
       "    </tr>\n",
       "    <tr>\n",
       "      <th>1</th>\n",
       "      <td>2</td>\n",
       "      <td>Student</td>\n",
       "      <td>Yes, both</td>\n",
       "      <td>United Kingdom</td>\n",
       "      <td>Yes, full-time</td>\n",
       "      <td>Employed part-time</td>\n",
       "      <td>Some college/university study without earning ...</td>\n",
       "      <td>Computer science or software engineering</td>\n",
       "      <td>More than half, but not all, the time</td>\n",
       "      <td>20 to 99 employees</td>\n",
       "      <td>...</td>\n",
       "      <td>Strongly disagree</td>\n",
       "      <td>Male</td>\n",
       "      <td>A master's degree</td>\n",
       "      <td>White or of European descent</td>\n",
       "      <td>Somewhat agree</td>\n",
       "      <td>Somewhat agree</td>\n",
       "      <td>Disagree</td>\n",
       "      <td>Strongly agree</td>\n",
       "      <td>NaN</td>\n",
       "      <td>37500.0</td>\n",
       "    </tr>\n",
       "    <tr>\n",
       "      <th>2</th>\n",
       "      <td>3</td>\n",
       "      <td>Professional developer</td>\n",
       "      <td>Yes, both</td>\n",
       "      <td>United Kingdom</td>\n",
       "      <td>No</td>\n",
       "      <td>Employed full-time</td>\n",
       "      <td>Bachelor's degree</td>\n",
       "      <td>Computer science or software engineering</td>\n",
       "      <td>Less than half the time, but at least one day ...</td>\n",
       "      <td>10,000 or more employees</td>\n",
       "      <td>...</td>\n",
       "      <td>Disagree</td>\n",
       "      <td>Male</td>\n",
       "      <td>A professional degree</td>\n",
       "      <td>White or of European descent</td>\n",
       "      <td>Somewhat agree</td>\n",
       "      <td>Agree</td>\n",
       "      <td>Disagree</td>\n",
       "      <td>Agree</td>\n",
       "      <td>113750.0</td>\n",
       "      <td>NaN</td>\n",
       "    </tr>\n",
       "    <tr>\n",
       "      <th>3</th>\n",
       "      <td>4</td>\n",
       "      <td>Professional non-developer who sometimes write...</td>\n",
       "      <td>Yes, both</td>\n",
       "      <td>United States</td>\n",
       "      <td>No</td>\n",
       "      <td>Employed full-time</td>\n",
       "      <td>Doctoral degree</td>\n",
       "      <td>A non-computer-focused engineering discipline</td>\n",
       "      <td>Less than half the time, but at least one day ...</td>\n",
       "      <td>10,000 or more employees</td>\n",
       "      <td>...</td>\n",
       "      <td>Disagree</td>\n",
       "      <td>Male</td>\n",
       "      <td>A doctoral degree</td>\n",
       "      <td>White or of European descent</td>\n",
       "      <td>Agree</td>\n",
       "      <td>Agree</td>\n",
       "      <td>Somewhat agree</td>\n",
       "      <td>Strongly agree</td>\n",
       "      <td>NaN</td>\n",
       "      <td>NaN</td>\n",
       "    </tr>\n",
       "    <tr>\n",
       "      <th>4</th>\n",
       "      <td>5</td>\n",
       "      <td>Professional developer</td>\n",
       "      <td>Yes, I program as a hobby</td>\n",
       "      <td>Switzerland</td>\n",
       "      <td>No</td>\n",
       "      <td>Employed full-time</td>\n",
       "      <td>Master's degree</td>\n",
       "      <td>Computer science or software engineering</td>\n",
       "      <td>Never</td>\n",
       "      <td>10 to 19 employees</td>\n",
       "      <td>...</td>\n",
       "      <td>NaN</td>\n",
       "      <td>NaN</td>\n",
       "      <td>NaN</td>\n",
       "      <td>NaN</td>\n",
       "      <td>NaN</td>\n",
       "      <td>NaN</td>\n",
       "      <td>NaN</td>\n",
       "      <td>NaN</td>\n",
       "      <td>NaN</td>\n",
       "      <td>NaN</td>\n",
       "    </tr>\n",
       "  </tbody>\n",
       "</table>\n",
       "<p>5 rows × 154 columns</p>\n",
       "</div>"
      ],
      "text/plain": [
       "   Respondent                                       Professional  \\\n",
       "0           1                                            Student   \n",
       "1           2                                            Student   \n",
       "2           3                             Professional developer   \n",
       "3           4  Professional non-developer who sometimes write...   \n",
       "4           5                             Professional developer   \n",
       "\n",
       "                ProgramHobby         Country      University  \\\n",
       "0                  Yes, both   United States              No   \n",
       "1                  Yes, both  United Kingdom  Yes, full-time   \n",
       "2                  Yes, both  United Kingdom              No   \n",
       "3                  Yes, both   United States              No   \n",
       "4  Yes, I program as a hobby     Switzerland              No   \n",
       "\n",
       "                         EmploymentStatus  \\\n",
       "0  Not employed, and not looking for work   \n",
       "1                      Employed part-time   \n",
       "2                      Employed full-time   \n",
       "3                      Employed full-time   \n",
       "4                      Employed full-time   \n",
       "\n",
       "                                     FormalEducation  \\\n",
       "0                                   Secondary school   \n",
       "1  Some college/university study without earning ...   \n",
       "2                                  Bachelor's degree   \n",
       "3                                    Doctoral degree   \n",
       "4                                    Master's degree   \n",
       "\n",
       "                                  MajorUndergrad  \\\n",
       "0                                            NaN   \n",
       "1       Computer science or software engineering   \n",
       "2       Computer science or software engineering   \n",
       "3  A non-computer-focused engineering discipline   \n",
       "4       Computer science or software engineering   \n",
       "\n",
       "                                          HomeRemote  \\\n",
       "0                                                NaN   \n",
       "1              More than half, but not all, the time   \n",
       "2  Less than half the time, but at least one day ...   \n",
       "3  Less than half the time, but at least one day ...   \n",
       "4                                              Never   \n",
       "\n",
       "                CompanySize       ...       StackOverflowMakeMoney Gender  \\\n",
       "0                       NaN       ...            Strongly disagree   Male   \n",
       "1        20 to 99 employees       ...            Strongly disagree   Male   \n",
       "2  10,000 or more employees       ...                     Disagree   Male   \n",
       "3  10,000 or more employees       ...                     Disagree   Male   \n",
       "4        10 to 19 employees       ...                          NaN    NaN   \n",
       "\n",
       "  HighestEducationParents                          Race         SurveyLong  \\\n",
       "0             High school  White or of European descent  Strongly disagree   \n",
       "1       A master's degree  White or of European descent     Somewhat agree   \n",
       "2   A professional degree  White or of European descent     Somewhat agree   \n",
       "3       A doctoral degree  White or of European descent              Agree   \n",
       "4                     NaN                           NaN                NaN   \n",
       "\n",
       "  QuestionsInteresting QuestionsConfusing InterestedAnswers    Salary  \\\n",
       "0       Strongly agree           Disagree    Strongly agree       NaN   \n",
       "1       Somewhat agree           Disagree    Strongly agree       NaN   \n",
       "2                Agree           Disagree             Agree  113750.0   \n",
       "3                Agree     Somewhat agree    Strongly agree       NaN   \n",
       "4                  NaN                NaN               NaN       NaN   \n",
       "\n",
       "   ExpectedSalary  \n",
       "0             NaN  \n",
       "1         37500.0  \n",
       "2             NaN  \n",
       "3             NaN  \n",
       "4             NaN  \n",
       "\n",
       "[5 rows x 154 columns]"
      ]
     },
     "execution_count": 107,
     "metadata": {},
     "output_type": "execute_result"
    }
   ],
   "source": [
    "import numpy as np\n",
    "import pandas as pd\n",
    "import matplotlib.pyplot as plt\n",
    "import seaborn as sns\n",
    "import HowToBreakIntoTheField as t\n",
    "%matplotlib inline\n",
    "\n",
    "df = pd.read_csv('./survey_results_public.csv')\n",
    "schema = pd.read_csv('./survey_results_schema.csv')\n",
    "df.head()"
   ]
  },
  {
   "cell_type": "code",
   "execution_count": 12,
   "metadata": {},
   "outputs": [
    {
     "data": {
      "text/plain": [
       "154"
      ]
     },
     "execution_count": 12,
     "metadata": {},
     "output_type": "execute_result"
    }
   ],
   "source": [
    "df.shape[1] #columns matching question per column in schema"
   ]
  },
  {
   "cell_type": "code",
   "execution_count": 3,
   "metadata": {
    "scrolled": true
   },
   "outputs": [
    {
     "data": {
      "text/html": [
       "<div>\n",
       "<style>\n",
       "    .dataframe thead tr:only-child th {\n",
       "        text-align: right;\n",
       "    }\n",
       "\n",
       "    .dataframe thead th {\n",
       "        text-align: left;\n",
       "    }\n",
       "\n",
       "    .dataframe tbody tr th {\n",
       "        vertical-align: top;\n",
       "    }\n",
       "</style>\n",
       "<table border=\"1\" class=\"dataframe\">\n",
       "  <thead>\n",
       "    <tr style=\"text-align: right;\">\n",
       "      <th></th>\n",
       "      <th>Column</th>\n",
       "      <th>Question</th>\n",
       "    </tr>\n",
       "  </thead>\n",
       "  <tbody>\n",
       "    <tr>\n",
       "      <th>0</th>\n",
       "      <td>Respondent</td>\n",
       "      <td>Respondent ID number</td>\n",
       "    </tr>\n",
       "    <tr>\n",
       "      <th>1</th>\n",
       "      <td>Professional</td>\n",
       "      <td>Which of the following best describes you?</td>\n",
       "    </tr>\n",
       "    <tr>\n",
       "      <th>2</th>\n",
       "      <td>ProgramHobby</td>\n",
       "      <td>Do you program as a hobby or contribute to ope...</td>\n",
       "    </tr>\n",
       "    <tr>\n",
       "      <th>3</th>\n",
       "      <td>Country</td>\n",
       "      <td>In which country do you currently live?</td>\n",
       "    </tr>\n",
       "    <tr>\n",
       "      <th>4</th>\n",
       "      <td>University</td>\n",
       "      <td>Are you currently enrolled in a formal, degree...</td>\n",
       "    </tr>\n",
       "  </tbody>\n",
       "</table>\n",
       "</div>"
      ],
      "text/plain": [
       "         Column                                           Question\n",
       "0    Respondent                               Respondent ID number\n",
       "1  Professional         Which of the following best describes you?\n",
       "2  ProgramHobby  Do you program as a hobby or contribute to ope...\n",
       "3       Country            In which country do you currently live?\n",
       "4    University  Are you currently enrolled in a formal, degree..."
      ]
     },
     "execution_count": 3,
     "metadata": {},
     "output_type": "execute_result"
    }
   ],
   "source": [
    "schema.head()"
   ]
  },
  {
   "cell_type": "code",
   "execution_count": 22,
   "metadata": {},
   "outputs": [
    {
     "name": "stdout",
     "output_type": "stream",
     "text": [
      "151    I'm interested in learning how other developer...\n",
      "Name: Question, dtype: object\n"
     ]
    }
   ],
   "source": [
    "print(schema[schema['Column']=='InterestedAnswers']['Question'])"
   ]
  },
  {
   "cell_type": "code",
   "execution_count": 23,
   "metadata": {},
   "outputs": [
    {
     "data": {
      "text/plain": [
       "150    The questions were confusing\n",
       "Name: Question, dtype: object"
      ]
     },
     "execution_count": 23,
     "metadata": {},
     "output_type": "execute_result"
    }
   ],
   "source": [
    "schema[schema['Column']=='QuestionsConfusing']['Question']"
   ]
  },
  {
   "cell_type": "code",
   "execution_count": 14,
   "metadata": {},
   "outputs": [
    {
     "data": {
      "text/plain": [
       "154"
      ]
     },
     "execution_count": 14,
     "metadata": {},
     "output_type": "execute_result"
    }
   ],
   "source": [
    "schema.shape[0]"
   ]
  },
  {
   "cell_type": "code",
   "execution_count": 6,
   "metadata": {},
   "outputs": [
    {
     "data": {
      "text/plain": [
       "149"
      ]
     },
     "execution_count": 6,
     "metadata": {},
     "output_type": "execute_result"
    }
   ],
   "source": [
    "len(schema['Question'].value_counts())"
   ]
  },
  {
   "cell_type": "code",
   "execution_count": 9,
   "metadata": {},
   "outputs": [
    {
     "data": {
      "text/html": [
       "<div>\n",
       "<style>\n",
       "    .dataframe thead tr:only-child th {\n",
       "        text-align: right;\n",
       "    }\n",
       "\n",
       "    .dataframe thead th {\n",
       "        text-align: left;\n",
       "    }\n",
       "\n",
       "    .dataframe tbody tr th {\n",
       "        vertical-align: top;\n",
       "    }\n",
       "</style>\n",
       "<table border=\"1\" class=\"dataframe\">\n",
       "  <thead>\n",
       "    <tr style=\"text-align: right;\">\n",
       "      <th></th>\n",
       "      <th>Column</th>\n",
       "      <th>Question</th>\n",
       "    </tr>\n",
       "  </thead>\n",
       "  <tbody>\n",
       "    <tr>\n",
       "      <th>3</th>\n",
       "      <td>Country</td>\n",
       "      <td>In which country do you currently live?</td>\n",
       "    </tr>\n",
       "  </tbody>\n",
       "</table>\n",
       "</div>"
      ],
      "text/plain": [
       "    Column                                 Question\n",
       "3  Country  In which country do you currently live?"
      ]
     },
     "execution_count": 9,
     "metadata": {},
     "output_type": "execute_result"
    }
   ],
   "source": [
    "schema[schema['Question']=='In which country do you currently live?']"
   ]
  },
  {
   "cell_type": "code",
   "execution_count": 34,
   "metadata": {},
   "outputs": [
    {
     "data": {
      "text/plain": [
       "86    Let's pretend you have a distant cousin. They ...\n",
       "Name: Question, dtype: object"
      ]
     },
     "execution_count": 34,
     "metadata": {},
     "output_type": "execute_result"
    }
   ],
   "source": [
    "schema[schema['Column']=='CousinEducation']['Question']"
   ]
  },
  {
   "cell_type": "code",
   "execution_count": 53,
   "metadata": {},
   "outputs": [
    {
     "data": {
      "text/plain": [
       "\"Let's pretend you have a distant cousin. They are 24 years old, have a college degree in a field not related to computer programming, and have been working a non-coding job for the last two years. They want your advice on how to switch to a career as a software developer. Which of the following options would you most strongly recommend to your cousin?\\nLet's pretend you have a distant cousin named Robert. He is 24 years old, has a college degree in a field not related to computer programming, and has been working a non-coding job for the last two years. He wants your advice on how to switch to a career as a software developer. Which of the following options would you most strongly recommend to Robert?\\nLet's pretend you have a distant cousin named Alice. She is 24 years old, has a college degree in a field not related to computer programming, and has been working a non-coding job for the last two years. She wants your advice on how to switch to a career as a software developer. Which of the following options would you most strongly recommend to Alice?\""
      ]
     },
     "execution_count": 53,
     "metadata": {},
     "output_type": "execute_result"
    }
   ],
   "source": [
    "schema[schema['Column']=='CousinEducation']['Question'].values[0]"
   ]
  },
  {
   "cell_type": "markdown",
   "metadata": {},
   "source": [
    "#### Question 1\n",
    "\n",
    "**1.** In order to understand how to break into the field, we will look at the **CousinEducation** field.  Use the **schema** dataset to answer this question.  Write a function called **get_description** that takes the **schema dataframe** and the **column** as a string, and returns a string of the description for that column."
   ]
  },
  {
   "cell_type": "code",
   "execution_count": 35,
   "metadata": {},
   "outputs": [
    {
     "data": {
      "text/plain": [
       "'Respondent'"
      ]
     },
     "execution_count": 35,
     "metadata": {},
     "output_type": "execute_result"
    }
   ],
   "source": [
    "df.columns[0]"
   ]
  },
  {
   "cell_type": "code",
   "execution_count": 85,
   "metadata": {},
   "outputs": [
    {
     "data": {
      "text/plain": [
       "'Respondent ID number'"
      ]
     },
     "execution_count": 85,
     "metadata": {},
     "output_type": "execute_result"
    }
   ],
   "source": [
    "def get_description(column_name, schema=schema):\n",
    "    '''\n",
    "    INPUT - schema - pandas dataframe with the schema of the developers survey\n",
    "            column_name - string - the name of the column you would like to know about\n",
    "    OUTPUT - \n",
    "            desc - string - the description of the column\n",
    "    '''\n",
    "    desc = schema[schema['Column']==column_name]['Question'].values[0]\n",
    "    return desc\n",
    "\n",
    "#test your code\n",
    "#Check your function against solution - you shouldn't need to change any of the below code\n",
    "get_description(df.columns[0]) # This should return a string of the first column description"
   ]
  },
  {
   "cell_type": "code",
   "execution_count": 110,
   "metadata": {},
   "outputs": [
    {
     "name": "stdout",
     "output_type": "stream",
     "text": [
      "Nice job it looks like your function works correctly!\n"
     ]
    }
   ],
   "source": [
    "#Check your function against solution - you shouldn't need to change any of the below code\n",
    "descrips = set(get_description(col) for col in df.columns)\n",
    "t.check_description(descrips)"
   ]
  },
  {
   "cell_type": "markdown",
   "metadata": {},
   "source": [
    "The question we have been focused on has been around how to break into the field.  Use your **get_description** function below to take a closer look at the **CousinEducation** column."
   ]
  },
  {
   "cell_type": "code",
   "execution_count": 56,
   "metadata": {},
   "outputs": [
    {
     "data": {
      "text/plain": [
       "\"Let's pretend you have a distant cousin. They are 24 years old, have a college degree in a field not related to computer programming, and have been working a non-coding job for the last two years. They want your advice on how to switch to a career as a software developer. Which of the following options would you most strongly recommend to your cousin?\\nLet's pretend you have a distant cousin named Robert. He is 24 years old, has a college degree in a field not related to computer programming, and has been working a non-coding job for the last two years. He wants your advice on how to switch to a career as a software developer. Which of the following options would you most strongly recommend to Robert?\\nLet's pretend you have a distant cousin named Alice. She is 24 years old, has a college degree in a field not related to computer programming, and has been working a non-coding job for the last two years. She wants your advice on how to switch to a career as a software developer. Which of the following options would you most strongly recommend to Alice?\""
      ]
     },
     "execution_count": 56,
     "metadata": {},
     "output_type": "execute_result"
    }
   ],
   "source": [
    "get_description('CousinEducation')"
   ]
  },
  {
   "cell_type": "markdown",
   "metadata": {},
   "source": [
    "#### Question 2\n",
    "\n",
    "**2.** Provide a pandas series of the different **CousinEducation** status values in the dataset.  Store this pandas series in **cous_ed_vals**.  If you are correct, you should see a bar chart of the proportion of individuals in each status.  If it looks terrible, and you get no information from it, then you followed directions.  However, we should clean this up!"
   ]
  },
  {
   "cell_type": "code",
   "execution_count": 4,
   "metadata": {},
   "outputs": [
    {
     "data": {
      "text/plain": [
       "Take online courses; Buy books and work through the exercises                                                                          192\n",
       "None of these                                                                                                                          167\n",
       "Take online courses                                                                                                                    158\n",
       "Take online courses; Part-time/evening courses; Buy books and work through the exercises                                               140\n",
       "Take online courses; Bootcamp; Part-time/evening courses; Buy books and work through the exercises                                     132\n",
       "Take online courses; Contribute to open source; Buy books and work through the exercises                                               129\n",
       "Return to college; Take online courses; Part-time/evening courses; Buy books and work through the exercises                            121\n",
       "Take online courses; Contribute to open source; Buy books and work through the exercises; Conferences/meet-ups                         115\n",
       "Take online courses; Contribute to open source; Part-time/evening courses; Buy books and work through the exercises                     95\n",
       "Other                                                                                                                                   91\n",
       "Buy books and work through the exercises                                                                                                89\n",
       "Take online courses; Contribute to open source; Participate in online coding competitions; Buy books and work through the exercises     86\n",
       "Take online courses; Part-time/evening courses; Buy books and work through the exercises; Conferences/meet-ups                          82\n",
       "Return to college                                                                                                                       79\n",
       "Get a job as a QA tester; Take online courses; Part-time/evening courses; Buy books and work through the exercises                      78\n",
       "Take online courses; Buy books and work through the exercises; Conferences/meet-ups                                                     74\n",
       "Take online courses; Bootcamp; Part-time/evening courses                                                                                68\n",
       "Return to college; Take online courses; Buy books and work through the exercises                                                        66\n",
       "Take online courses; Part-time/evening courses; Participate in online coding competitions; Buy books and work through the exercises     64\n",
       "Take online courses; Contribute to open source                                                                                          63\n",
       "Contribute to open source; Buy books and work through the exercises                                                                     62\n",
       "Take online courses; Part-time/evening courses                                                                                          60\n",
       "Take online courses; Bootcamp; Buy books and work through the exercises                                                                 59\n",
       "Return to college; Take online courses                                                                                                  55\n",
       "Contribute to open source                                                                                                               51\n",
       "Take online courses; Contribute to open source; Bootcamp; Buy books and work through the exercises                                      51\n",
       "Take online courses; Bootcamp                                                                                                           49\n",
       "Return to college; Take online courses; Bootcamp; Part-time/evening courses                                                             49\n",
       "Return to college; Master's degree; Take online courses; Buy books and work through the exercises                                       47\n",
       "Get a job as a QA tester; Take online courses; Buy books and work through the exercises                                                 46\n",
       "                                                                                                                                      ... \n",
       "Get a job as a QA tester; Contribute to open source; Bootcamp; Participate in online coding competitions                                 1\n",
       "Master's degree; Take online courses; Participate in online coding competitions; Conferences/meet-ups                                    1\n",
       "Master's degree; Take online courses; Participate in hackathons; Other                                                                   1\n",
       "Master's degree; Bootcamp; Participate in hackathons                                                                                     1\n",
       "Master's degree; Part-time/evening courses; Participate in online coding competitions; Conferences/meet-ups                              1\n",
       "Return to college; Master's degree; Take online courses; Participate in hackathons                                                       1\n",
       "Take online courses; Bootcamp; Participate in online coding competitions; Other                                                          1\n",
       "Return to college; Part-time/evening courses; Participate in hackathons; Participate in online coding competitions                       1\n",
       "Contribute to open source; Participate in online coding competitions; Conferences/meet-ups; Other                                        1\n",
       "Bootcamp; Part-time/evening courses; Buy books and work through the exercises; Other                                                     1\n",
       "Master's degree; Get a job as a QA tester; Conferences/meet-ups                                                                          1\n",
       "Take online courses; Participate in hackathons; Conferences/meet-ups; Other                                                              1\n",
       "Return to college; Get a job as a QA tester; Participate in online coding competitions; Buy books and work through the exercises         1\n",
       "Part-time/evening courses; Participate in hackathons; Other                                                                              1\n",
       "Master's degree; Part-time/evening courses; Participate in hackathons; Buy books and work through the exercises                          1\n",
       "Get a job as a QA tester; Participate in online coding competitions; Conferences/meet-ups; Other                                         1\n",
       "Master's degree; Participate in hackathons; Participate in online coding competitions; Buy books and work through the exercises          1\n",
       "Participate in online coding competitions; Other                                                                                         1\n",
       "Return to college; Bootcamp; Part-time/evening courses; Other                                                                            1\n",
       "Return to college; Bootcamp; Part-time/evening courses; Participate in hackathons                                                        1\n",
       "Master's degree; Participate in online coding competitions; Buy books and work through the exercises; Conferences/meet-ups               1\n",
       "Return to college; Get a job as a QA tester; Part-time/evening courses; Other                                                            1\n",
       "Return to college; Part-time/evening courses; Participate in hackathons                                                                  1\n",
       "Return to college; Bootcamp; Buy books and work through the exercises; Other                                                             1\n",
       "Master's degree; Buy books and work through the exercises; Other                                                                         1\n",
       "Get a job as a QA tester; Take online courses; Conferences/meet-ups; Other                                                               1\n",
       "Master's degree; Get a job as a QA tester; Contribute to open source; Buy books and work through the exercises                           1\n",
       "Participate in hackathons; Participate in online coding competitions; Conferences/meet-ups                                               1\n",
       "Master's degree; Bootcamp; Part-time/evening courses; Participate in hackathons                                                          1\n",
       "Return to college; Get a job as a QA tester; Other                                                                                       1\n",
       "Name: CousinEducation, Length: 601, dtype: int64"
      ]
     },
     "execution_count": 4,
     "metadata": {},
     "output_type": "execute_result"
    }
   ],
   "source": [
    "cous_ed_vals = df['CousinEducation'].value_counts() #Provide a pandas series of the counts for each CousinEducation status\n",
    "\n",
    "cous_ed_vals # assure this looks right"
   ]
  },
  {
   "cell_type": "code",
   "execution_count": 6,
   "metadata": {},
   "outputs": [],
   "source": [
    "list_=df['CousinEducation'].value_counts().index"
   ]
  },
  {
   "cell_type": "code",
   "execution_count": 7,
   "metadata": {},
   "outputs": [
    {
     "data": {
      "text/plain": [
       "601"
      ]
     },
     "execution_count": 7,
     "metadata": {},
     "output_type": "execute_result"
    }
   ],
   "source": [
    "len(list_)"
   ]
  },
  {
   "cell_type": "code",
   "execution_count": 4,
   "metadata": {},
   "outputs": [],
   "source": [
    "# init_list=[]\n",
    "# g = lambda x: (list(x).append(init_list))\n",
    "# [g(x) for x in list_]"
   ]
  },
  {
   "cell_type": "code",
   "execution_count": 8,
   "metadata": {},
   "outputs": [],
   "source": [
    "#init_list=[]\n",
    "f = lambda x: (x.split(';')[0:len(x.split(';'))])\n",
    "init_list=[f(x) for x in list_]"
   ]
  },
  {
   "cell_type": "code",
   "execution_count": 10,
   "metadata": {},
   "outputs": [
    {
     "data": {
      "text/plain": [
       "True"
      ]
     },
     "execution_count": 10,
     "metadata": {},
     "output_type": "execute_result"
    }
   ],
   "source": [
    "list__=[5,6,7]\n",
    "5 in list__"
   ]
  },
  {
   "cell_type": "code",
   "execution_count": 29,
   "metadata": {},
   "outputs": [],
   "source": [
    "#init_list\n",
    "\n",
    "# ' Bootcamp': 140,\n",
    "# 'Bootcamp': 27,   need to account for space\n",
    "\n",
    "dict_={}\n",
    "item_list=[]\n",
    "for entry in init_list:\n",
    "    for item in entry:\n",
    "        if(item[0]==' '):\n",
    "            item=item[1:]\n",
    "        if (item in item_list):\n",
    "            dict_[item]=dict_[item]+1           \n",
    "        else:\n",
    "            dict_[item]=1\n",
    "            \n",
    "        item_list.append(item)\n",
    "        \n",
    "        #item_list=set(item_list)\n",
    "        \n",
    "        \n",
    "        \n",
    "        "
   ]
  },
  {
   "cell_type": "code",
   "execution_count": 30,
   "metadata": {},
   "outputs": [
    {
     "data": {
      "text/plain": [
       "2076"
      ]
     },
     "execution_count": 30,
     "metadata": {},
     "output_type": "execute_result"
    }
   ],
   "source": [
    "len(item_list)"
   ]
  },
  {
   "cell_type": "code",
   "execution_count": 31,
   "metadata": {
    "scrolled": false
   },
   "outputs": [
    {
     "data": {
      "text/plain": [
       "{'Bootcamp': 167,\n",
       " 'Buy books and work through the exercises': 204,\n",
       " 'Conferences/meet-ups': 178,\n",
       " 'Contribute to open source': 207,\n",
       " 'Get a job as a QA tester': 160,\n",
       " \"Master's degree\": 148,\n",
       " 'None of these': 2,\n",
       " 'Other': 123,\n",
       " 'Part-time/evening courses': 182,\n",
       " 'Participate in hackathons': 157,\n",
       " 'Participate in online coding competitions': 159,\n",
       " 'Return to college': 174,\n",
       " 'Take online courses': 215}"
      ]
     },
     "execution_count": 31,
     "metadata": {},
     "output_type": "execute_result"
    }
   ],
   "source": [
    "dict_"
   ]
  },
  {
   "cell_type": "code",
   "execution_count": 49,
   "metadata": {},
   "outputs": [
    {
     "data": {
      "text/plain": [
       "2076"
      ]
     },
     "execution_count": 49,
     "metadata": {},
     "output_type": "execute_result"
    }
   ],
   "source": [
    "sum(dict_.values())"
   ]
  },
  {
   "cell_type": "code",
   "execution_count": 53,
   "metadata": {},
   "outputs": [
    {
     "data": {
      "text/plain": [
       "[('Take online courses', 215),\n",
       " ('Contribute to open source', 207),\n",
       " ('Buy books and work through the exercises', 204),\n",
       " ('Part-time/evening courses', 182),\n",
       " ('Conferences/meet-ups', 178),\n",
       " ('Return to college', 174),\n",
       " ('Bootcamp', 167),\n",
       " ('Get a job as a QA tester', 160),\n",
       " ('Participate in online coding competitions', 159),\n",
       " ('Participate in hackathons', 157),\n",
       " (\"Master's degree\", 148),\n",
       " ('Other', 123),\n",
       " ('None of these', 2)]"
      ]
     },
     "execution_count": 53,
     "metadata": {},
     "output_type": "execute_result"
    }
   ],
   "source": [
    "sorted(dict_.items(), key=lambda x: x[1],reverse=True)"
   ]
  },
  {
   "cell_type": "code",
   "execution_count": 5,
   "metadata": {},
   "outputs": [
    {
     "data": {
      "image/png": "[encoded data removed]",
      "text/plain": [
       "<matplotlib.figure.Figure at 0x7fc6a9697c88>"
      ]
     },
     "metadata": {},
     "output_type": "display_data"
    }
   ],
   "source": [
    "# The below should be a bar chart of the proportion of individuals in your ed_vals\n",
    "# if it is set up correctly.\n",
    "\n",
    "(cous_ed_vals/df.shape[0]).plot(kind=\"bar\");\n",
    "plt.title(\"Formal Education\");"
   ]
  },
  {
   "cell_type": "markdown",
   "metadata": {},
   "source": [
    "We definitely need to clean this.  Above is an example of what happens when you do not clean your data. Below I am using the same code you saw in the earlier video to take a look at the data after it has been cleaned."
   ]
  },
  {
   "cell_type": "code",
   "execution_count": 97,
   "metadata": {},
   "outputs": [
    {
     "data": {
      "image/png": "[encoded data removed]",
      "text/plain": [
       "<matplotlib.figure.Figure at 0x7fa094551ef0>"
      ]
     },
     "metadata": {},
     "output_type": "display_data"
    }
   ],
   "source": [
    "possible_vals = [\"Take online courses\", \"Buy books and work through the exercises\", \n",
    "                 \"None of these\", \"Part-time/evening courses\", \"Return to college\",\n",
    "                 \"Contribute to open source\", \"Conferences/meet-ups\", \"Bootcamp\",\n",
    "                 \"Get a job as a QA tester\", \"Participate in online coding competitions\",\n",
    "                 \"Master's degree\", \"Participate in hackathons\", \"Other\"]\n",
    "\n",
    "def clean_and_plot(df, title='Method of Educating Suggested', plot=True):\n",
    "    '''\n",
    "    INPUT \n",
    "        df - a dataframe holding the CousinEducation column\n",
    "        title - string the title of your plot\n",
    "        axis - axis object\n",
    "        plot - bool providing whether or not you want a plot back\n",
    "        \n",
    "    OUTPUT\n",
    "        study_df - a dataframe with the count of how many individuals\n",
    "        Displays a plot of pretty things related to the CousinEducation column.\n",
    "    '''\n",
    "    study = df['CousinEducation'].value_counts().reset_index()\n",
    "    study.rename(columns={'index': 'method', 'CousinEducation': 'count'}, inplace=True)\n",
    "    study_df = t.total_count(study, 'method', 'count', possible_vals)\n",
    "\n",
    "    study_df.set_index('method', inplace=True)\n",
    "    if plot:\n",
    "        (study_df/study_df.sum()).plot(kind='bar', legend=None);\n",
    "        plt.title(title);\n",
    "        plt.show()\n",
    "    props_study_df = study_df/study_df.sum()\n",
    "    return props_study_df\n",
    "    \n",
    "props_df = clean_and_plot(df)"
   ]
  },
  {
   "cell_type": "markdown",
   "metadata": {},
   "source": [
    "#### Question 3\n",
    "\n",
    "**3.** I wonder if some of the individuals might have bias towards their own degrees.  Complete the function below that will apply to the elements of the **FormalEducation** column in **df**. "
   ]
  },
  {
   "cell_type": "code",
   "execution_count": 55,
   "metadata": {},
   "outputs": [
    {
     "data": {
      "text/plain": [
       "Bachelor's degree                                                    8099\n",
       "Master's degree                                                      4143\n",
       "Some college/university study without earning a bachelor's degree    2869\n",
       "Secondary school                                                     2227\n",
       "Doctoral degree                                                       551\n",
       "I prefer not to answer                                                409\n",
       "Primary/elementary school                                             404\n",
       "Professional degree                                                   255\n",
       "I never completed any formal education                                145\n",
       "Name: FormalEducation, dtype: int64"
      ]
     },
     "execution_count": 55,
     "metadata": {},
     "output_type": "execute_result"
    }
   ],
   "source": [
    "df['FormalEducation'].value_counts()"
   ]
  },
  {
   "cell_type": "code",
   "execution_count": 89,
   "metadata": {},
   "outputs": [
    {
     "data": {
      "text/plain": [
       "0    0.0\n",
       "1    0.0\n",
       "2    0.0\n",
       "3    0.0\n",
       "4    1.0\n",
       "Name: FormalEducation, dtype: float64"
      ]
     },
     "execution_count": 89,
     "metadata": {},
     "output_type": "execute_result"
    }
   ],
   "source": [
    "def higher_ed(formal_ed_str):\n",
    "    '''\n",
    "    INPUT\n",
    "        formal_ed_str - a string of one of the values from the Formal Education column\n",
    "    \n",
    "    OUTPUT\n",
    "        return 1 if the string is  in (\"Master's degree\", \"Doctoral\", \"Professional degree\")\n",
    "        return 0 otherwise\n",
    "    \n",
    "    '''\n",
    "    list_ed=[\"Master's degree\",\"Doctoral\",\"Professional degree\"]   # \"Doctoral degree\" is correct but for solution to be correct need to put Doctoral\n",
    "    if formal_ed_str in list_ed:\n",
    "        return 1.0\n",
    "    else:\n",
    "        return 0.0\n",
    "\n",
    "    \n",
    "\n",
    "df[\"FormalEducation\"].apply(higher_ed)[:5] #Test your function to assure it provides 1 and 0 values for the df"
   ]
  },
  {
   "cell_type": "code",
   "execution_count": 90,
   "metadata": {},
   "outputs": [
    {
     "data": {
      "text/plain": [
       "0                                     Secondary school\n",
       "1    Some college/university study without earning ...\n",
       "2                                    Bachelor's degree\n",
       "3                                      Doctoral degree\n",
       "4                                      Master's degree\n",
       "Name: FormalEducation, dtype: object"
      ]
     },
     "execution_count": 90,
     "metadata": {},
     "output_type": "execute_result"
    }
   ],
   "source": [
    "df['FormalEducation'][0:5]"
   ]
  },
  {
   "cell_type": "code",
   "execution_count": 91,
   "metadata": {},
   "outputs": [
    {
     "name": "stdout",
     "output_type": "stream",
     "text": [
      "0.230237671448\n",
      "Nice job!  That's right.  The percentage of individuals in these three groups is 0.2302376714480159.\n"
     ]
    }
   ],
   "source": [
    "# Check your code here\n",
    "df['HigherEd'] = df[\"FormalEducation\"].apply(higher_ed)\n",
    "higher_ed_perc = df['HigherEd'].mean()\n",
    "print(higher_ed_perc)  #with Doctoral\n",
    "t.higher_ed_test(higher_ed_perc)"
   ]
  },
  {
   "cell_type": "code",
   "execution_count": 87,
   "metadata": {},
   "outputs": [
    {
     "name": "stdout",
     "output_type": "stream",
     "text": [
      "0.259082818553\n",
      "Oops - your final result should be a decimal value associated with the proportion of individuals who are in these three categories (ex. Provide 0.50798 if ~50% of individuals are in these categories)\n"
     ]
    }
   ],
   "source": [
    "# \"Doctoral degree\" is correct but for solution to be correct need to put Doctoral\n",
    "df['HigherEd'] = df[\"FormalEducation\"].apply(higher_ed)\n",
    "higher_ed_perc = df['HigherEd'].mean()\n",
    "print(higher_ed_perc)  #with Doctoral\n",
    "t.higher_ed_test(higher_ed_perc)"
   ]
  },
  {
   "cell_type": "code",
   "execution_count": 66,
   "metadata": {},
   "outputs": [
    {
     "data": {
      "text/plain": [
       "0.25908281855303111"
      ]
     },
     "execution_count": 66,
     "metadata": {},
     "output_type": "execute_result"
    }
   ],
   "source": [
    "df['HigherEd'].mean()"
   ]
  },
  {
   "cell_type": "markdown",
   "metadata": {},
   "source": [
    "#### Question 4\n",
    "\n",
    "**4.** Now we would like to find out if the proportion of individuals who completed one of these three programs feel differently than those that did not. Store a dataframe of only the individual's who had **HigherEd** equal to 1 in **ed_1**.  Similarly, store a dataframe of only the **HigherEd** equal to 0 values in **ed_0**.\n",
    "\n",
    "Notice, you have already created the **HigherEd** column using the check code portion above, so here you only need to subset the dataframe using this newly created column."
   ]
  },
  {
   "cell_type": "code",
   "execution_count": 92,
   "metadata": {
    "scrolled": true
   },
   "outputs": [
    {
     "data": {
      "text/html": [
       "<div>\n",
       "<style>\n",
       "    .dataframe thead tr:only-child th {\n",
       "        text-align: right;\n",
       "    }\n",
       "\n",
       "    .dataframe thead th {\n",
       "        text-align: left;\n",
       "    }\n",
       "\n",
       "    .dataframe tbody tr th {\n",
       "        vertical-align: top;\n",
       "    }\n",
       "</style>\n",
       "<table border=\"1\" class=\"dataframe\">\n",
       "  <thead>\n",
       "    <tr style=\"text-align: right;\">\n",
       "      <th></th>\n",
       "      <th>Respondent</th>\n",
       "      <th>Professional</th>\n",
       "      <th>ProgramHobby</th>\n",
       "      <th>Country</th>\n",
       "      <th>University</th>\n",
       "      <th>EmploymentStatus</th>\n",
       "      <th>FormalEducation</th>\n",
       "      <th>MajorUndergrad</th>\n",
       "      <th>HomeRemote</th>\n",
       "      <th>CompanySize</th>\n",
       "      <th>...</th>\n",
       "      <th>Gender</th>\n",
       "      <th>HighestEducationParents</th>\n",
       "      <th>Race</th>\n",
       "      <th>SurveyLong</th>\n",
       "      <th>QuestionsInteresting</th>\n",
       "      <th>QuestionsConfusing</th>\n",
       "      <th>InterestedAnswers</th>\n",
       "      <th>Salary</th>\n",
       "      <th>ExpectedSalary</th>\n",
       "      <th>HigherEd</th>\n",
       "    </tr>\n",
       "  </thead>\n",
       "  <tbody>\n",
       "    <tr>\n",
       "      <th>0</th>\n",
       "      <td>1</td>\n",
       "      <td>Student</td>\n",
       "      <td>Yes, both</td>\n",
       "      <td>United States</td>\n",
       "      <td>No</td>\n",
       "      <td>Not employed, and not looking for work</td>\n",
       "      <td>Secondary school</td>\n",
       "      <td>NaN</td>\n",
       "      <td>NaN</td>\n",
       "      <td>NaN</td>\n",
       "      <td>...</td>\n",
       "      <td>Male</td>\n",
       "      <td>High school</td>\n",
       "      <td>White or of European descent</td>\n",
       "      <td>Strongly disagree</td>\n",
       "      <td>Strongly agree</td>\n",
       "      <td>Disagree</td>\n",
       "      <td>Strongly agree</td>\n",
       "      <td>NaN</td>\n",
       "      <td>NaN</td>\n",
       "      <td>0.0</td>\n",
       "    </tr>\n",
       "    <tr>\n",
       "      <th>1</th>\n",
       "      <td>2</td>\n",
       "      <td>Student</td>\n",
       "      <td>Yes, both</td>\n",
       "      <td>United Kingdom</td>\n",
       "      <td>Yes, full-time</td>\n",
       "      <td>Employed part-time</td>\n",
       "      <td>Some college/university study without earning ...</td>\n",
       "      <td>Computer science or software engineering</td>\n",
       "      <td>More than half, but not all, the time</td>\n",
       "      <td>20 to 99 employees</td>\n",
       "      <td>...</td>\n",
       "      <td>Male</td>\n",
       "      <td>A master's degree</td>\n",
       "      <td>White or of European descent</td>\n",
       "      <td>Somewhat agree</td>\n",
       "      <td>Somewhat agree</td>\n",
       "      <td>Disagree</td>\n",
       "      <td>Strongly agree</td>\n",
       "      <td>NaN</td>\n",
       "      <td>37500.0</td>\n",
       "      <td>0.0</td>\n",
       "    </tr>\n",
       "    <tr>\n",
       "      <th>2</th>\n",
       "      <td>3</td>\n",
       "      <td>Professional developer</td>\n",
       "      <td>Yes, both</td>\n",
       "      <td>United Kingdom</td>\n",
       "      <td>No</td>\n",
       "      <td>Employed full-time</td>\n",
       "      <td>Bachelor's degree</td>\n",
       "      <td>Computer science or software engineering</td>\n",
       "      <td>Less than half the time, but at least one day ...</td>\n",
       "      <td>10,000 or more employees</td>\n",
       "      <td>...</td>\n",
       "      <td>Male</td>\n",
       "      <td>A professional degree</td>\n",
       "      <td>White or of European descent</td>\n",
       "      <td>Somewhat agree</td>\n",
       "      <td>Agree</td>\n",
       "      <td>Disagree</td>\n",
       "      <td>Agree</td>\n",
       "      <td>113750.0</td>\n",
       "      <td>NaN</td>\n",
       "      <td>0.0</td>\n",
       "    </tr>\n",
       "    <tr>\n",
       "      <th>3</th>\n",
       "      <td>4</td>\n",
       "      <td>Professional non-developer who sometimes write...</td>\n",
       "      <td>Yes, both</td>\n",
       "      <td>United States</td>\n",
       "      <td>No</td>\n",
       "      <td>Employed full-time</td>\n",
       "      <td>Doctoral degree</td>\n",
       "      <td>A non-computer-focused engineering discipline</td>\n",
       "      <td>Less than half the time, but at least one day ...</td>\n",
       "      <td>10,000 or more employees</td>\n",
       "      <td>...</td>\n",
       "      <td>Male</td>\n",
       "      <td>A doctoral degree</td>\n",
       "      <td>White or of European descent</td>\n",
       "      <td>Agree</td>\n",
       "      <td>Agree</td>\n",
       "      <td>Somewhat agree</td>\n",
       "      <td>Strongly agree</td>\n",
       "      <td>NaN</td>\n",
       "      <td>NaN</td>\n",
       "      <td>0.0</td>\n",
       "    </tr>\n",
       "    <tr>\n",
       "      <th>4</th>\n",
       "      <td>5</td>\n",
       "      <td>Professional developer</td>\n",
       "      <td>Yes, I program as a hobby</td>\n",
       "      <td>Switzerland</td>\n",
       "      <td>No</td>\n",
       "      <td>Employed full-time</td>\n",
       "      <td>Master's degree</td>\n",
       "      <td>Computer science or software engineering</td>\n",
       "      <td>Never</td>\n",
       "      <td>10 to 19 employees</td>\n",
       "      <td>...</td>\n",
       "      <td>NaN</td>\n",
       "      <td>NaN</td>\n",
       "      <td>NaN</td>\n",
       "      <td>NaN</td>\n",
       "      <td>NaN</td>\n",
       "      <td>NaN</td>\n",
       "      <td>NaN</td>\n",
       "      <td>NaN</td>\n",
       "      <td>NaN</td>\n",
       "      <td>1.0</td>\n",
       "    </tr>\n",
       "  </tbody>\n",
       "</table>\n",
       "<p>5 rows × 155 columns</p>\n",
       "</div>"
      ],
      "text/plain": [
       "   Respondent                                       Professional  \\\n",
       "0           1                                            Student   \n",
       "1           2                                            Student   \n",
       "2           3                             Professional developer   \n",
       "3           4  Professional non-developer who sometimes write...   \n",
       "4           5                             Professional developer   \n",
       "\n",
       "                ProgramHobby         Country      University  \\\n",
       "0                  Yes, both   United States              No   \n",
       "1                  Yes, both  United Kingdom  Yes, full-time   \n",
       "2                  Yes, both  United Kingdom              No   \n",
       "3                  Yes, both   United States              No   \n",
       "4  Yes, I program as a hobby     Switzerland              No   \n",
       "\n",
       "                         EmploymentStatus  \\\n",
       "0  Not employed, and not looking for work   \n",
       "1                      Employed part-time   \n",
       "2                      Employed full-time   \n",
       "3                      Employed full-time   \n",
       "4                      Employed full-time   \n",
       "\n",
       "                                     FormalEducation  \\\n",
       "0                                   Secondary school   \n",
       "1  Some college/university study without earning ...   \n",
       "2                                  Bachelor's degree   \n",
       "3                                    Doctoral degree   \n",
       "4                                    Master's degree   \n",
       "\n",
       "                                  MajorUndergrad  \\\n",
       "0                                            NaN   \n",
       "1       Computer science or software engineering   \n",
       "2       Computer science or software engineering   \n",
       "3  A non-computer-focused engineering discipline   \n",
       "4       Computer science or software engineering   \n",
       "\n",
       "                                          HomeRemote  \\\n",
       "0                                                NaN   \n",
       "1              More than half, but not all, the time   \n",
       "2  Less than half the time, but at least one day ...   \n",
       "3  Less than half the time, but at least one day ...   \n",
       "4                                              Never   \n",
       "\n",
       "                CompanySize    ...    Gender HighestEducationParents  \\\n",
       "0                       NaN    ...      Male             High school   \n",
       "1        20 to 99 employees    ...      Male       A master's degree   \n",
       "2  10,000 or more employees    ...      Male   A professional degree   \n",
       "3  10,000 or more employees    ...      Male       A doctoral degree   \n",
       "4        10 to 19 employees    ...       NaN                     NaN   \n",
       "\n",
       "                           Race         SurveyLong QuestionsInteresting  \\\n",
       "0  White or of European descent  Strongly disagree       Strongly agree   \n",
       "1  White or of European descent     Somewhat agree       Somewhat agree   \n",
       "2  White or of European descent     Somewhat agree                Agree   \n",
       "3  White or of European descent              Agree                Agree   \n",
       "4                           NaN                NaN                  NaN   \n",
       "\n",
       "  QuestionsConfusing InterestedAnswers    Salary  ExpectedSalary  HigherEd  \n",
       "0           Disagree    Strongly agree       NaN             NaN       0.0  \n",
       "1           Disagree    Strongly agree       NaN         37500.0       0.0  \n",
       "2           Disagree             Agree  113750.0             NaN       0.0  \n",
       "3     Somewhat agree    Strongly agree       NaN             NaN       0.0  \n",
       "4                NaN               NaN       NaN             NaN       1.0  \n",
       "\n",
       "[5 rows x 155 columns]"
      ]
     },
     "execution_count": 92,
     "metadata": {},
     "output_type": "execute_result"
    }
   ],
   "source": [
    "df.head()"
   ]
  },
  {
   "cell_type": "code",
   "execution_count": null,
   "metadata": {},
   "outputs": [],
   "source": []
  },
  {
   "cell_type": "code",
   "execution_count": 93,
   "metadata": {
    "scrolled": true
   },
   "outputs": [
    {
     "name": "stdout",
     "output_type": "stream",
     "text": [
      "4     1.0\n",
      "6     1.0\n",
      "7     1.0\n",
      "9     1.0\n",
      "14    1.0\n",
      "Name: HigherEd, dtype: float64\n",
      "0    0.0\n",
      "1    0.0\n",
      "2    0.0\n",
      "3    0.0\n",
      "5    0.0\n",
      "Name: HigherEd, dtype: float64\n"
     ]
    }
   ],
   "source": [
    "ed_1 = df[df['HigherEd']==1.0] #Subset df to only those with HigherEd of 1\n",
    "ed_0 = df[df['HigherEd']==0.0] # Subset df to only those with HigherEd of 0\n",
    "\n",
    "\n",
    "print(ed_1['HigherEd'][:5]) #Assure it looks like what you would expect\n",
    "print(ed_0['HigherEd'][:5]) #Assure it looks like what you would expect"
   ]
  },
  {
   "cell_type": "code",
   "execution_count": 103,
   "metadata": {},
   "outputs": [
    {
     "data": {
      "text/html": [
       "<div>\n",
       "<style>\n",
       "    .dataframe thead tr:only-child th {\n",
       "        text-align: right;\n",
       "    }\n",
       "\n",
       "    .dataframe thead th {\n",
       "        text-align: left;\n",
       "    }\n",
       "\n",
       "    .dataframe tbody tr th {\n",
       "        vertical-align: top;\n",
       "    }\n",
       "</style>\n",
       "<table border=\"1\" class=\"dataframe\">\n",
       "  <thead>\n",
       "    <tr style=\"text-align: right;\">\n",
       "      <th></th>\n",
       "      <th>count_x</th>\n",
       "      <th>count_y</th>\n",
       "    </tr>\n",
       "    <tr>\n",
       "      <th>method</th>\n",
       "      <th></th>\n",
       "      <th></th>\n",
       "    </tr>\n",
       "  </thead>\n",
       "  <tbody>\n",
       "    <tr>\n",
       "      <th>Take online courses</th>\n",
       "      <td>0.205361</td>\n",
       "      <td>0.210090</td>\n",
       "    </tr>\n",
       "    <tr>\n",
       "      <th>Buy books and work through the exercises</th>\n",
       "      <td>0.163579</td>\n",
       "      <td>0.160257</td>\n",
       "    </tr>\n",
       "    <tr>\n",
       "      <th>Contribute to open source</th>\n",
       "      <td>0.106031</td>\n",
       "      <td>0.110053</td>\n",
       "    </tr>\n",
       "    <tr>\n",
       "      <th>Part-time/evening courses</th>\n",
       "      <td>0.101498</td>\n",
       "      <td>0.103005</td>\n",
       "    </tr>\n",
       "    <tr>\n",
       "      <th>Bootcamp</th>\n",
       "      <td>0.073118</td>\n",
       "      <td>0.074069</td>\n",
       "    </tr>\n",
       "    <tr>\n",
       "      <th>Return to college</th>\n",
       "      <td>0.069176</td>\n",
       "      <td>0.069123</td>\n",
       "    </tr>\n",
       "    <tr>\n",
       "      <th>Conferences/meet-ups</th>\n",
       "      <td>0.067008</td>\n",
       "      <td>0.074069</td>\n",
       "    </tr>\n",
       "    <tr>\n",
       "      <th>Master's degree</th>\n",
       "      <td>0.055775</td>\n",
       "      <td>0.030234</td>\n",
       "    </tr>\n",
       "    <tr>\n",
       "      <th>Get a job as a QA tester</th>\n",
       "      <td>0.050847</td>\n",
       "      <td>0.048102</td>\n",
       "    </tr>\n",
       "    <tr>\n",
       "      <th>Participate in online coding competitions</th>\n",
       "      <td>0.041585</td>\n",
       "      <td>0.048720</td>\n",
       "    </tr>\n",
       "    <tr>\n",
       "      <th>Participate in hackathons</th>\n",
       "      <td>0.032125</td>\n",
       "      <td>0.035860</td>\n",
       "    </tr>\n",
       "    <tr>\n",
       "      <th>Other</th>\n",
       "      <td>0.024438</td>\n",
       "      <td>0.028193</td>\n",
       "    </tr>\n",
       "    <tr>\n",
       "      <th>None of these</th>\n",
       "      <td>0.009460</td>\n",
       "      <td>0.008223</td>\n",
       "    </tr>\n",
       "  </tbody>\n",
       "</table>\n",
       "</div>"
      ],
      "text/plain": [
       "                                            count_x   count_y\n",
       "method                                                       \n",
       "Take online courses                        0.205361  0.210090\n",
       "Buy books and work through the exercises   0.163579  0.160257\n",
       "Contribute to open source                  0.106031  0.110053\n",
       "Part-time/evening courses                  0.101498  0.103005\n",
       "Bootcamp                                   0.073118  0.074069\n",
       "Return to college                          0.069176  0.069123\n",
       "Conferences/meet-ups                       0.067008  0.074069\n",
       "Master's degree                            0.055775  0.030234\n",
       "Get a job as a QA tester                   0.050847  0.048102\n",
       "Participate in online coding competitions  0.041585  0.048720\n",
       "Participate in hackathons                  0.032125  0.035860\n",
       "Other                                      0.024438  0.028193\n",
       "None of these                              0.009460  0.008223"
      ]
     },
     "execution_count": 103,
     "metadata": {},
     "output_type": "execute_result"
    }
   ],
   "source": [
    "comp_df"
   ]
  },
  {
   "cell_type": "code",
   "execution_count": 104,
   "metadata": {},
   "outputs": [
    {
     "data": {
      "text/html": [
       "<div>\n",
       "<style>\n",
       "    .dataframe thead tr:only-child th {\n",
       "        text-align: right;\n",
       "    }\n",
       "\n",
       "    .dataframe thead th {\n",
       "        text-align: left;\n",
       "    }\n",
       "\n",
       "    .dataframe tbody tr th {\n",
       "        vertical-align: top;\n",
       "    }\n",
       "</style>\n",
       "<table border=\"1\" class=\"dataframe\">\n",
       "  <thead>\n",
       "    <tr style=\"text-align: right;\">\n",
       "      <th></th>\n",
       "      <th>count</th>\n",
       "    </tr>\n",
       "    <tr>\n",
       "      <th>method</th>\n",
       "      <th></th>\n",
       "    </tr>\n",
       "  </thead>\n",
       "  <tbody>\n",
       "    <tr>\n",
       "      <th>Take online courses</th>\n",
       "      <td>0.210090</td>\n",
       "    </tr>\n",
       "    <tr>\n",
       "      <th>Buy books and work through the exercises</th>\n",
       "      <td>0.160257</td>\n",
       "    </tr>\n",
       "    <tr>\n",
       "      <th>Contribute to open source</th>\n",
       "      <td>0.110053</td>\n",
       "    </tr>\n",
       "    <tr>\n",
       "      <th>Part-time/evening courses</th>\n",
       "      <td>0.103005</td>\n",
       "    </tr>\n",
       "    <tr>\n",
       "      <th>Bootcamp</th>\n",
       "      <td>0.074069</td>\n",
       "    </tr>\n",
       "    <tr>\n",
       "      <th>Conferences/meet-ups</th>\n",
       "      <td>0.074069</td>\n",
       "    </tr>\n",
       "    <tr>\n",
       "      <th>Return to college</th>\n",
       "      <td>0.069123</td>\n",
       "    </tr>\n",
       "    <tr>\n",
       "      <th>Participate in online coding competitions</th>\n",
       "      <td>0.048720</td>\n",
       "    </tr>\n",
       "    <tr>\n",
       "      <th>Get a job as a QA tester</th>\n",
       "      <td>0.048102</td>\n",
       "    </tr>\n",
       "    <tr>\n",
       "      <th>Participate in hackathons</th>\n",
       "      <td>0.035860</td>\n",
       "    </tr>\n",
       "    <tr>\n",
       "      <th>Master's degree</th>\n",
       "      <td>0.030234</td>\n",
       "    </tr>\n",
       "    <tr>\n",
       "      <th>Other</th>\n",
       "      <td>0.028193</td>\n",
       "    </tr>\n",
       "    <tr>\n",
       "      <th>None of these</th>\n",
       "      <td>0.008223</td>\n",
       "    </tr>\n",
       "  </tbody>\n",
       "</table>\n",
       "</div>"
      ],
      "text/plain": [
       "                                              count\n",
       "method                                             \n",
       "Take online courses                        0.210090\n",
       "Buy books and work through the exercises   0.160257\n",
       "Contribute to open source                  0.110053\n",
       "Part-time/evening courses                  0.103005\n",
       "Bootcamp                                   0.074069\n",
       "Conferences/meet-ups                       0.074069\n",
       "Return to college                          0.069123\n",
       "Participate in online coding competitions  0.048720\n",
       "Get a job as a QA tester                   0.048102\n",
       "Participate in hackathons                  0.035860\n",
       "Master's degree                            0.030234\n",
       "Other                                      0.028193\n",
       "None of these                              0.008223"
      ]
     },
     "execution_count": 104,
     "metadata": {},
     "output_type": "execute_result"
    }
   ],
   "source": [
    "ed_0_perc"
   ]
  },
  {
   "cell_type": "code",
   "execution_count": 105,
   "metadata": {},
   "outputs": [
    {
     "data": {
      "text/html": [
       "<style  type=\"text/css\" >\n",
       "    #T_32a1edda_c1d5_11e8_a0b0_0242ac120002row0_col2 {\n",
       "            width:  10em;\n",
       "             height:  80%;\n",
       "            background:  linear-gradient(90deg, transparent 0%, transparent 7.4%, #d65f5f 7.4%, #d65f5f 21.8%, transparent 21.8%);\n",
       "        }    #T_32a1edda_c1d5_11e8_a0b0_0242ac120002row1_col2 {\n",
       "            width:  10em;\n",
       "             height:  80%;\n",
       "            background:  linear-gradient(90deg, transparent 0%, transparent 21.8%, #5fba7d 21.8%, #5fba7d 32.0%, transparent 32.0%);\n",
       "        }    #T_32a1edda_c1d5_11e8_a0b0_0242ac120002row2_col2 {\n",
       "            width:  10em;\n",
       "             height:  80%;\n",
       "            background:  linear-gradient(90deg, transparent 0%, transparent 9.5%, #d65f5f 9.5%, #d65f5f 21.8%, transparent 21.8%);\n",
       "        }    #T_32a1edda_c1d5_11e8_a0b0_0242ac120002row3_col2 {\n",
       "            width:  10em;\n",
       "             height:  80%;\n",
       "            background:  linear-gradient(90deg, transparent 0%, transparent 17.2%, #d65f5f 17.2%, #d65f5f 21.8%, transparent 21.8%);\n",
       "        }    #T_32a1edda_c1d5_11e8_a0b0_0242ac120002row4_col2 {\n",
       "            width:  10em;\n",
       "             height:  80%;\n",
       "            background:  linear-gradient(90deg, transparent 0%, transparent 18.9%, #d65f5f 18.9%, #d65f5f 21.8%, transparent 21.8%);\n",
       "        }    #T_32a1edda_c1d5_11e8_a0b0_0242ac120002row5_col2 {\n",
       "            width:  10em;\n",
       "             height:  80%;\n",
       "            background:  linear-gradient(90deg, transparent 0%, transparent 21.8%, #5fba7d 21.8%, #5fba7d 22.0%, transparent 22.0%);\n",
       "        }    #T_32a1edda_c1d5_11e8_a0b0_0242ac120002row6_col2 {\n",
       "            width:  10em;\n",
       "             height:  80%;\n",
       "            background:  linear-gradient(90deg, transparent 0%, transparent 0.2%, #d65f5f 0.2%, #d65f5f 21.8%, transparent 21.8%);\n",
       "        }    #T_32a1edda_c1d5_11e8_a0b0_0242ac120002row7_col2 {\n",
       "            width:  10em;\n",
       "             height:  80%;\n",
       "            background:  linear-gradient(90deg, transparent 0%, transparent 21.8%, #5fba7d 21.8%, #5fba7d 100.0%, transparent 100.0%);\n",
       "        }    #T_32a1edda_c1d5_11e8_a0b0_0242ac120002row8_col2 {\n",
       "            width:  10em;\n",
       "             height:  80%;\n",
       "            background:  linear-gradient(90deg, transparent 0%, transparent 21.8%, #5fba7d 21.8%, #5fba7d 30.2%, transparent 30.2%);\n",
       "        }    #T_32a1edda_c1d5_11e8_a0b0_0242ac120002row9_col2 {\n",
       "            width:  10em;\n",
       "             height:  80%;\n",
       "            background:  linear-gradient(90deg, transparent 0%, transparent 0.0%, #d65f5f 0.0%, #d65f5f 21.8%, transparent 21.8%);\n",
       "        }    #T_32a1edda_c1d5_11e8_a0b0_0242ac120002row10_col2 {\n",
       "            width:  10em;\n",
       "             height:  80%;\n",
       "            background:  linear-gradient(90deg, transparent 0%, transparent 10.4%, #d65f5f 10.4%, #d65f5f 21.8%, transparent 21.8%);\n",
       "        }    #T_32a1edda_c1d5_11e8_a0b0_0242ac120002row11_col2 {\n",
       "            width:  10em;\n",
       "             height:  80%;\n",
       "            background:  linear-gradient(90deg, transparent 0%, transparent 10.3%, #d65f5f 10.3%, #d65f5f 21.8%, transparent 21.8%);\n",
       "        }    #T_32a1edda_c1d5_11e8_a0b0_0242ac120002row12_col2 {\n",
       "            width:  10em;\n",
       "             height:  80%;\n",
       "            background:  linear-gradient(90deg, transparent 0%, transparent 21.8%, #5fba7d 21.8%, #5fba7d 25.6%, transparent 25.6%);\n",
       "        }</style>  \n",
       "<table id=\"T_32a1edda_c1d5_11e8_a0b0_0242ac120002\" > \n",
       "<thead>    <tr> \n",
       "        <th class=\"blank level0\" ></th> \n",
       "        <th class=\"col_heading level0 col0\" >ed_1_perc</th> \n",
       "        <th class=\"col_heading level0 col1\" >ed_0_perc</th> \n",
       "        <th class=\"col_heading level0 col2\" >Diff_HigherEd_Vals</th> \n",
       "    </tr>    <tr> \n",
       "        <th class=\"index_name level0\" >method</th> \n",
       "        <th class=\"blank\" ></th> \n",
       "        <th class=\"blank\" ></th> \n",
       "        <th class=\"blank\" ></th> \n",
       "    </tr></thead> \n",
       "<tbody>    <tr> \n",
       "        <th id=\"T_32a1edda_c1d5_11e8_a0b0_0242ac120002level0_row0\" class=\"row_heading level0 row0\" >Take online courses</th> \n",
       "        <td id=\"T_32a1edda_c1d5_11e8_a0b0_0242ac120002row0_col0\" class=\"data row0 col0\" >0.205361</td> \n",
       "        <td id=\"T_32a1edda_c1d5_11e8_a0b0_0242ac120002row0_col1\" class=\"data row0 col1\" >0.21009</td> \n",
       "        <td id=\"T_32a1edda_c1d5_11e8_a0b0_0242ac120002row0_col2\" class=\"data row0 col2\" >-0.00472961</td> \n",
       "    </tr>    <tr> \n",
       "        <th id=\"T_32a1edda_c1d5_11e8_a0b0_0242ac120002level0_row1\" class=\"row_heading level0 row1\" >Buy books and work through the exercises</th> \n",
       "        <td id=\"T_32a1edda_c1d5_11e8_a0b0_0242ac120002row1_col0\" class=\"data row1 col0\" >0.163579</td> \n",
       "        <td id=\"T_32a1edda_c1d5_11e8_a0b0_0242ac120002row1_col1\" class=\"data row1 col1\" >0.160257</td> \n",
       "        <td id=\"T_32a1edda_c1d5_11e8_a0b0_0242ac120002row1_col2\" class=\"data row1 col2\" >0.00332183</td> \n",
       "    </tr>    <tr> \n",
       "        <th id=\"T_32a1edda_c1d5_11e8_a0b0_0242ac120002level0_row2\" class=\"row_heading level0 row2\" >Contribute to open source</th> \n",
       "        <td id=\"T_32a1edda_c1d5_11e8_a0b0_0242ac120002row2_col0\" class=\"data row2 col0\" >0.106031</td> \n",
       "        <td id=\"T_32a1edda_c1d5_11e8_a0b0_0242ac120002row2_col1\" class=\"data row2 col1\" >0.110053</td> \n",
       "        <td id=\"T_32a1edda_c1d5_11e8_a0b0_0242ac120002row2_col2\" class=\"data row2 col2\" >-0.00402243</td> \n",
       "    </tr>    <tr> \n",
       "        <th id=\"T_32a1edda_c1d5_11e8_a0b0_0242ac120002level0_row3\" class=\"row_heading level0 row3\" >Part-time/evening courses</th> \n",
       "        <td id=\"T_32a1edda_c1d5_11e8_a0b0_0242ac120002row3_col0\" class=\"data row3 col0\" >0.101498</td> \n",
       "        <td id=\"T_32a1edda_c1d5_11e8_a0b0_0242ac120002row3_col1\" class=\"data row3 col1\" >0.103005</td> \n",
       "        <td id=\"T_32a1edda_c1d5_11e8_a0b0_0242ac120002row3_col2\" class=\"data row3 col2\" >-0.00150699</td> \n",
       "    </tr>    <tr> \n",
       "        <th id=\"T_32a1edda_c1d5_11e8_a0b0_0242ac120002level0_row4\" class=\"row_heading level0 row4\" >Bootcamp</th> \n",
       "        <td id=\"T_32a1edda_c1d5_11e8_a0b0_0242ac120002row4_col0\" class=\"data row4 col0\" >0.0731179</td> \n",
       "        <td id=\"T_32a1edda_c1d5_11e8_a0b0_0242ac120002row4_col1\" class=\"data row4 col1\" >0.0740695</td> \n",
       "        <td id=\"T_32a1edda_c1d5_11e8_a0b0_0242ac120002row4_col2\" class=\"data row4 col2\" >-0.000951639</td> \n",
       "    </tr>    <tr> \n",
       "        <th id=\"T_32a1edda_c1d5_11e8_a0b0_0242ac120002level0_row5\" class=\"row_heading level0 row5\" >Return to college</th> \n",
       "        <td id=\"T_32a1edda_c1d5_11e8_a0b0_0242ac120002row5_col0\" class=\"data row5 col0\" >0.0691762</td> \n",
       "        <td id=\"T_32a1edda_c1d5_11e8_a0b0_0242ac120002row5_col1\" class=\"data row5 col1\" >0.0691233</td> \n",
       "        <td id=\"T_32a1edda_c1d5_11e8_a0b0_0242ac120002row5_col2\" class=\"data row5 col2\" >5.29081e-05</td> \n",
       "    </tr>    <tr> \n",
       "        <th id=\"T_32a1edda_c1d5_11e8_a0b0_0242ac120002level0_row6\" class=\"row_heading level0 row6\" >Conferences/meet-ups</th> \n",
       "        <td id=\"T_32a1edda_c1d5_11e8_a0b0_0242ac120002row6_col0\" class=\"data row6 col0\" >0.0670083</td> \n",
       "        <td id=\"T_32a1edda_c1d5_11e8_a0b0_0242ac120002row6_col1\" class=\"data row6 col1\" >0.0740695</td> \n",
       "        <td id=\"T_32a1edda_c1d5_11e8_a0b0_0242ac120002row6_col2\" class=\"data row6 col2\" >-0.00706122</td> \n",
       "    </tr>    <tr> \n",
       "        <th id=\"T_32a1edda_c1d5_11e8_a0b0_0242ac120002level0_row7\" class=\"row_heading level0 row7\" >Master's degree</th> \n",
       "        <td id=\"T_32a1edda_c1d5_11e8_a0b0_0242ac120002row7_col0\" class=\"data row7 col0\" >0.0557745</td> \n",
       "        <td id=\"T_32a1edda_c1d5_11e8_a0b0_0242ac120002row7_col1\" class=\"data row7 col1\" >0.0302337</td> \n",
       "        <td id=\"T_32a1edda_c1d5_11e8_a0b0_0242ac120002row7_col2\" class=\"data row7 col2\" >0.0255408</td> \n",
       "    </tr>    <tr> \n",
       "        <th id=\"T_32a1edda_c1d5_11e8_a0b0_0242ac120002level0_row8\" class=\"row_heading level0 row8\" >Get a job as a QA tester</th> \n",
       "        <td id=\"T_32a1edda_c1d5_11e8_a0b0_0242ac120002row8_col0\" class=\"data row8 col0\" >0.0508475</td> \n",
       "        <td id=\"T_32a1edda_c1d5_11e8_a0b0_0242ac120002row8_col1\" class=\"data row8 col1\" >0.0481019</td> \n",
       "        <td id=\"T_32a1edda_c1d5_11e8_a0b0_0242ac120002row8_col2\" class=\"data row8 col2\" >0.00274557</td> \n",
       "    </tr>    <tr> \n",
       "        <th id=\"T_32a1edda_c1d5_11e8_a0b0_0242ac120002level0_row9\" class=\"row_heading level0 row9\" >Participate in online coding competitions</th> \n",
       "        <td id=\"T_32a1edda_c1d5_11e8_a0b0_0242ac120002row9_col0\" class=\"data row9 col0\" >0.0415845</td> \n",
       "        <td id=\"T_32a1edda_c1d5_11e8_a0b0_0242ac120002row9_col1\" class=\"data row9 col1\" >0.0487202</td> \n",
       "        <td id=\"T_32a1edda_c1d5_11e8_a0b0_0242ac120002row9_col2\" class=\"data row9 col2\" >-0.00713562</td> \n",
       "    </tr>    <tr> \n",
       "        <th id=\"T_32a1edda_c1d5_11e8_a0b0_0242ac120002level0_row10\" class=\"row_heading level0 row10\" >Participate in hackathons</th> \n",
       "        <td id=\"T_32a1edda_c1d5_11e8_a0b0_0242ac120002row10_col0\" class=\"data row10 col0\" >0.0321246</td> \n",
       "        <td id=\"T_32a1edda_c1d5_11e8_a0b0_0242ac120002row10_col1\" class=\"data row10 col1\" >0.03586</td> \n",
       "        <td id=\"T_32a1edda_c1d5_11e8_a0b0_0242ac120002row10_col2\" class=\"data row10 col2\" >-0.00373547</td> \n",
       "    </tr>    <tr> \n",
       "        <th id=\"T_32a1edda_c1d5_11e8_a0b0_0242ac120002level0_row11\" class=\"row_heading level0 row11\" >Other</th> \n",
       "        <td id=\"T_32a1edda_c1d5_11e8_a0b0_0242ac120002row11_col0\" class=\"data row11 col0\" >0.0244383</td> \n",
       "        <td id=\"T_32a1edda_c1d5_11e8_a0b0_0242ac120002row11_col1\" class=\"data row11 col1\" >0.0281934</td> \n",
       "        <td id=\"T_32a1edda_c1d5_11e8_a0b0_0242ac120002row11_col2\" class=\"data row11 col2\" >-0.00375508</td> \n",
       "    </tr>    <tr> \n",
       "        <th id=\"T_32a1edda_c1d5_11e8_a0b0_0242ac120002level0_row12\" class=\"row_heading level0 row12\" >None of these</th> \n",
       "        <td id=\"T_32a1edda_c1d5_11e8_a0b0_0242ac120002row12_col0\" class=\"data row12 col0\" >0.00945999</td> \n",
       "        <td id=\"T_32a1edda_c1d5_11e8_a0b0_0242ac120002row12_col1\" class=\"data row12 col1\" >0.00822307</td> \n",
       "        <td id=\"T_32a1edda_c1d5_11e8_a0b0_0242ac120002row12_col2\" class=\"data row12 col2\" >0.00123692</td> \n",
       "    </tr></tbody> \n",
       "</table> "
      ],
      "text/plain": [
       "<pandas.io.formats.style.Styler at 0x7fa094904e10>"
      ]
     },
     "execution_count": 105,
     "metadata": {},
     "output_type": "execute_result"
    }
   ],
   "source": [
    "#Check your subset is correct - you should get a plot that was created using pandas styling\n",
    "#which you can learn more about here: https://pandas.pydata.org/pandas-docs/stable/style.html\n",
    "\n",
    "ed_1_perc = clean_and_plot(ed_1, 'Higher Formal Education', plot=False)\n",
    "ed_0_perc = clean_and_plot(ed_0, 'Max of Bachelors Higher Ed', plot=False)\n",
    "\n",
    "comp_df = pd.merge(ed_1_perc, ed_0_perc, left_index=True, right_index=True)\n",
    "comp_df.columns = ['ed_1_perc', 'ed_0_perc']\n",
    "comp_df['Diff_HigherEd_Vals'] = comp_df['ed_1_perc'] - comp_df['ed_0_perc']\n",
    "comp_df.style.bar(subset=['Diff_HigherEd_Vals'], align='mid', color=['#d65f5f', '#5fba7d'])"
   ]
  },
  {
   "cell_type": "markdown",
   "metadata": {},
   "source": [
    "#### Question 5\n",
    "\n",
    "**5.** What can you conclude from the above plot?  Change the dictionary to mark **True** for the keys of any statements you can conclude, and **False** for any of the statements you cannot conclude."
   ]
  },
  {
   "cell_type": "code",
   "execution_count": 113,
   "metadata": {},
   "outputs": [
    {
     "name": "stdout",
     "output_type": "stream",
     "text": [
      "Nice job that looks right!\n"
     ]
    }
   ],
   "source": [
    "sol = {'Everyone should get a higher level of formal education': False, \n",
    "       'Regardless of formal education, online courses are the top suggested form of education': True,\n",
    "       'There is less than a 1% difference between suggestions of the two groups for all forms of education': False,\n",
    "       'Those with higher formal education suggest it more than those who do not have it': True}\n",
    "\n",
    "t.conclusions(sol)"
   ]
  },
  {
   "cell_type": "markdown",
   "metadata": {},
   "source": [
    "This concludes another look at the way we could compare education methods by those currently writing code in industry."
   ]
  },
  {
   "cell_type": "code",
   "execution_count": null,
   "metadata": {
    "collapsed": true
   },
   "outputs": [],
   "source": []
  }
 ],
 "metadata": {
  "kernelspec": {
   "display_name": "Python 3",
   "language": "python",
   "name": "python3"
  },
  "language_info": {
   "codemirror_mode": {
    "name": "ipython",
    "version": 3
   },
   "file_extension": ".py",
   "mimetype": "text/x-python",
   "name": "python",
   "nbconvert_exporter": "python",
   "pygments_lexer": "ipython3",
   "version": "3.6.3"
  }
 },
 "nbformat": 4,
 "nbformat_minor": 2
}
