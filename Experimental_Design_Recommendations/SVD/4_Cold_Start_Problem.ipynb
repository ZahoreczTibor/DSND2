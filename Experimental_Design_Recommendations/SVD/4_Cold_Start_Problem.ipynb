{
 "cells": [
  {
   "cell_type": "markdown",
   "metadata": {},
   "source": [
    "### Cold Start Problem\n",
    "\n",
    "In the previous notebook, you learned about the **Cold Start Problem** first hand. In cases where you are introduced to a new user or new movie, collaborative flitering is not helpful as a technique to make predictions.\n",
    "\n",
    "Instead, you will need to use one of the techniques from the previous lesson like content based recommendations for new items **(movie)** or rank based recommendations for new users.  \n",
    "\n",
    "As a final step to completing out our recommendation system, we will build in these edge cases. Run the cell below to get started.\n",
    "\n",
    "### Matrix Factorization - Collaborative Filtering Where Possible\n",
    "\n",
    "Notice the following information is available by running the below cell:\n",
    "\n",
    "`1.` **reviews** - a dataframe of reviews\n",
    "\n",
    "`2.` **movies** - a dataframe of movies\n",
    "\n",
    "`3.` **create_train_test** - a function for creating the training and validation datasets\n",
    "\n",
    "`4.` **predict_rating** - a function that takes a user and movie and gives a prediction using FunkSVD\n",
    "\n",
    "`5.` **train_df** and **val_df** - the training and test datasets used in the previous notebook\n",
    "\n",
    "`6.` **user_mat** and **movie_mat** - the u and v matrices from FunkSVD\n",
    "\n",
    "`7.` **train_data_df** - a user-movie matrix with ratings where available.  FunkSVD was performed on this matrix"
   ]
  },
  {
   "cell_type": "code",
   "execution_count": 1,
   "metadata": {},
   "outputs": [
    {
     "name": "stdout",
     "output_type": "stream",
     "text": [
      "Requirement already satisfied: progressbar in c:\\users\\niava\\anaconda3\\lib\\site-packages (2.5)\n"
     ]
    },
    {
     "name": "stderr",
     "output_type": "stream",
     "text": [
      "smart-open 1.6.0 requires bz2file, which is not installed.\n",
      "You are using pip version 10.0.1, however version 18.1 is available.\n",
      "You should consider upgrading via the 'python -m pip install --upgrade pip' command.\n"
     ]
    }
   ],
   "source": [
    "import numpy as np\n",
    "import pandas as pd\n",
    "import matplotlib.pyplot as plt\n",
    "import seaborn as sns\n",
    "%matplotlib inline\n",
    "import pickle\n",
    "!pip install progressbar\n",
    "import progressbar\n",
    "\n",
    "# Read in the datasets\n",
    "movies = pd.read_csv('data/movies_clean.csv')\n",
    "reviews = pd.read_csv('data/reviews_clean.csv')\n",
    "\n",
    "del movies['Unnamed: 0']\n",
    "del reviews['Unnamed: 0']\n",
    "\n",
    "def create_train_test(reviews, order_by, training_size, testing_size):\n",
    "    '''    \n",
    "    INPUT:\n",
    "    reviews - (pandas df) dataframe to split into train and test\n",
    "    order_by - (string) column name to sort by\n",
    "    training_size - (int) number of rows in training set\n",
    "    testing_size - (int) number of columns in the test set\n",
    "    \n",
    "    OUTPUT:\n",
    "    training_df -  (pandas df) dataframe of the training set\n",
    "    validation_df - (pandas df) dataframe of the test set\n",
    "    '''\n",
    "    reviews_new = reviews.sort_values(order_by)\n",
    "    training_df = reviews_new.head(training_size)\n",
    "    validation_df = reviews_new.iloc[training_size:training_size+testing_size]\n",
    "    \n",
    "    return training_df, validation_df\n",
    "\n",
    "def predict_rating(user_matrix, movie_matrix, user_id, movie_id):\n",
    "    '''\n",
    "    INPUT:\n",
    "    user_matrix - user by latent factor matrix\n",
    "    movie_matrix - latent factor by movie matrix\n",
    "    user_id - the user_id from the reviews df\n",
    "    movie_id - the movie_id according the movies df\n",
    "    \n",
    "    OUTPUT:\n",
    "    pred - the predicted rating for user_id-movie_id according to FunkSVD\n",
    "    '''\n",
    "    # Create series of users and movies in the right order\n",
    "    user_ids_series = np.array(train_data_df.index)\n",
    "    movie_ids_series = np.array(train_data_df.columns)\n",
    "    \n",
    "    # User row and Movie Column\n",
    "    user_row = np.where(user_ids_series == user_id)[0][0]\n",
    "    movie_col = np.where(movie_ids_series == movie_id)[0][0]\n",
    "    \n",
    "    # Take dot product of that row and column in U and V to make prediction\n",
    "    pred = np.dot(user_matrix[user_row, :], movie_matrix[:, movie_col])\n",
    "    \n",
    "    return pred\n",
    "\n",
    "# Use our function to create training and test datasets\n",
    "train_df, val_df = create_train_test(reviews, 'date', 8000, 2000)\n",
    "\n",
    "# Create user-by-item matrix - this will keep track of order of users and movies in u and v\n",
    "train_user_item = train_df[['user_id', 'movie_id', 'rating', 'timestamp']]\n",
    "train_data_df = train_user_item.groupby(['user_id', 'movie_id'])['rating'].max().unstack()\n",
    "train_data_np = np.array(train_data_df)\n",
    "\n",
    "# Read in user and movie matrices\n",
    "user_file = open(\"user_matrix\", 'rb')   # read trained matrix user*latent space\n",
    "user_mat = pickle.load(user_file)\n",
    "user_file.close()\n",
    "\n",
    "movie_file = open(\"movie_matrix\", 'rb')   # read trained matrix latent space * movie\n",
    "movie_mat = pickle.load(movie_file)\n",
    "movie_file.close()"
   ]
  },
  {
   "cell_type": "markdown",
   "metadata": {},
   "source": [
    "### Validating Predictions\n",
    "\n",
    "Unfortunately, you weren't able to make predictions on every user-movie combination in the test set, as some of these users or movies were new.  \n",
    "\n",
    "However, you can validate your predictions for the user-movie pairs that do exist in the user_mat and movie_mat matrices.  \n",
    "\n",
    "`1.` Complete the function below to see how far off we were on average across all of the predicted ratings."
   ]
  },
  {
   "cell_type": "code",
   "execution_count": 2,
   "metadata": {},
   "outputs": [
    {
     "data": {
      "text/plain": [
       "3.0"
      ]
     },
     "execution_count": 2,
     "metadata": {},
     "output_type": "execute_result"
    }
   ],
   "source": [
    "np.round(2.6)"
   ]
  },
  {
   "cell_type": "code",
   "execution_count": 3,
   "metadata": {},
   "outputs": [],
   "source": [
    "x = np.zeros((2,2))"
   ]
  },
  {
   "cell_type": "code",
   "execution_count": 4,
   "metadata": {},
   "outputs": [
    {
     "data": {
      "text/plain": [
       "array([[0., 1.],\n",
       "       [0., 0.]])"
      ]
     },
     "execution_count": 4,
     "metadata": {},
     "output_type": "execute_result"
    }
   ],
   "source": [
    "x[0,1] = 1\n",
    "x"
   ]
  },
  {
   "cell_type": "code",
   "execution_count": 5,
   "metadata": {},
   "outputs": [],
   "source": [
    "def validation_comparison(val_df, user_mat=user_mat, movie_mat=movie_mat):\n",
    "    '''\n",
    "    INPUT:\n",
    "    val_df - the validation dataset created in the third cell above\n",
    "    user_mat - U matrix in FunkSVD\n",
    "    movie_mat - V matrix in FunkSVD\n",
    "        \n",
    "    OUTPUT:\n",
    "    rmse - RMSE of how far off each value is from it's predicted value\n",
    "    perc_rated - percent of predictions out of all possible that could be rated\n",
    "    actual_v_pred - a 10 x 10 grid with counts for actual vs predicted values\n",
    "    preds - (list) predictions for any user-movie pairs where it was possible to make a prediction\n",
    "    acts - (list) actual values for any user-movie pairs where it was possible to make a prediction\n",
    "    '''\n",
    "    user_movie_id_list = val_df.iloc[:][['user_id','movie_id']].values # user who reviewed movies\n",
    "    \n",
    "    count_pred = 0\n",
    "    rmse = 0\n",
    "    preds = []\n",
    "    acts = []\n",
    "    actual_v_pred = np.zeros((10,10))\n",
    "    for user_id, movie_id in user_movie_id_list:        \n",
    "        try:  \n",
    "            prediction = int(np.round(predict_rating(user_mat, movie_mat, user_id, movie_id),0))\n",
    "            #print(predict_rating(user_mat, movie_mat, user_id, movie_id),prediction)\n",
    "            rating_actual = val_df[(val_df['user_id']==user_id) & (val_df['movie_id']==movie_id)].rating.values[0]\n",
    "            count_pred += 1\n",
    "            rmse += (prediction-rating_actual)**2.0\n",
    "            preds.append(prediction)\n",
    "            acts.append(rating_actual)\n",
    "            actual_v_pred[rating_actual-1, prediction-1] += 1\n",
    "            \n",
    "        except:\n",
    "            continue\n",
    "  \n",
    "    rmse =  np.sqrt(rmse) / count_pred\n",
    "    perc_rated = count_pred*100 / len(user_movie_id_list)\n",
    "\n",
    "    return rmse, perc_rated, actual_v_pred, preds, acts"
   ]
  },
  {
   "cell_type": "code",
   "execution_count": 6,
   "metadata": {},
   "outputs": [
    {
     "name": "stdout",
     "output_type": "stream",
     "text": [
      "0.06676876159992542\n",
      "47.95\n"
     ]
    }
   ],
   "source": [
    "rmse, perc_rated, actual_v_pred, preds, acts = validation_comparison(val_df, user_mat, movie_mat)\n",
    "print(rmse)\n",
    "print(perc_rated)\n",
    "#print(actual_v_pred)"
   ]
  },
  {
   "cell_type": "code",
   "execution_count": 8,
   "metadata": {},
   "outputs": [
    {
     "data": {
      "text/plain": [
       "Text(33,0.5,'Actual rating')"
      ]
     },
     "execution_count": 8,
     "metadata": {},
     "output_type": "execute_result"
    },
    {
     "data": {
      "image/png": "[encoded data removed]",
      "text/plain": [
       "<Figure size 432x288 with 2 Axes>"
      ]
     },
     "metadata": {},
     "output_type": "display_data"
    }
   ],
   "source": [
    "# How well did we do? # Make some plots and calculate some statistics to \n",
    "# understand how well this technique is working\n",
    "sns.heatmap(actual_v_pred,cmap='coolwarm');\n",
    "plt.title('Actual vs. prediction rating using Funk SVD \\n on later time frames for unknown user/movie combos')\n",
    "plt.xlabel('Prediction rating')\n",
    "plt.ylabel('Actual rating')"
   ]
  },
  {
   "cell_type": "code",
   "execution_count": 9,
   "metadata": {},
   "outputs": [
    {
     "data": {
      "text/plain": [
       "<seaborn.axisgrid.JointGrid at 0x210d9186a90>"
      ]
     },
     "execution_count": 9,
     "metadata": {},
     "output_type": "execute_result"
    },
    {
     "data": {
      "image/png": "[encoded data removed]",
      "text/plain": [
       "<Figure size 432x432 with 3 Axes>"
      ]
     },
     "metadata": {},
     "output_type": "display_data"
    }
   ],
   "source": [
    "sns.jointplot(np.array(preds), np.array(acts), kind=\"kde\", color=\"k\")"
   ]
  },
  {
   "cell_type": "code",
   "execution_count": 10,
   "metadata": {},
   "outputs": [
    {
     "name": "stderr",
     "output_type": "stream",
     "text": [
      "C:\\Users\\niava\\Anaconda3\\lib\\site-packages\\matplotlib\\axes\\_axes.py:6462: UserWarning: The 'normed' kwarg is deprecated, and has been replaced by the 'density' kwarg.\n",
      "  warnings.warn(\"The 'normed' kwarg is deprecated, and has been \"\n"
     ]
    },
    {
     "data": {
      "text/plain": [
       "<matplotlib.legend.Legend at 0x210d9b0a278>"
      ]
     },
     "execution_count": 10,
     "metadata": {},
     "output_type": "execute_result"
    },
    {
     "data": {
      "image/png": "[encoded data removed]",
      "text/plain": [
       "<Figure size 432x288 with 1 Axes>"
      ]
     },
     "metadata": {},
     "output_type": "display_data"
    }
   ],
   "source": [
    "sns.distplot(preds, bins=10)   # what is the meaning of negative rating , why? to do with it? assign to 1, also 12? assign to 10\n",
    "sns.distplot(acts, bins=10)   \n",
    "plt.legend(['Prediction', 'Actual'])"
   ]
  },
  {
   "cell_type": "code",
   "execution_count": 11,
   "metadata": {},
   "outputs": [
    {
     "name": "stdout",
     "output_type": "stream",
     "text": [
      "-1 12\n"
     ]
    }
   ],
   "source": [
    "print(np.array(preds).min(),np.array(preds).max())  # why? should we truncate?"
   ]
  },
  {
   "cell_type": "code",
   "execution_count": 12,
   "metadata": {},
   "outputs": [
    {
     "name": "stdout",
     "output_type": "stream",
     "text": [
      "1 10\n"
     ]
    }
   ],
   "source": [
    "print(np.array(acts).min(),np.array(acts).max())"
   ]
  },
  {
   "cell_type": "markdown",
   "metadata": {},
   "source": [
    "`2.` We didn't do so bad on making those predictions!  But, how many user-movie pairs were we unable to make predictions for?  Use the cell below to answer this question."
   ]
  },
  {
   "cell_type": "code",
   "execution_count": 13,
   "metadata": {},
   "outputs": [
    {
     "data": {
      "text/plain": [
       "(2000, 23)"
      ]
     },
     "execution_count": 13,
     "metadata": {},
     "output_type": "execute_result"
    }
   ],
   "source": [
    "val_df.shape"
   ]
  },
  {
   "cell_type": "code",
   "execution_count": 14,
   "metadata": {},
   "outputs": [
    {
     "name": "stdout",
     "output_type": "stream",
     "text": [
      "not rated 1041\n",
      "rated 959\n"
     ]
    }
   ],
   "source": [
    "print('not rated', int((1-perc_rated/100)*val_df.shape[0]))\n",
    "print('rated', int((perc_rated/100)*val_df.shape[0]))"
   ]
  },
  {
   "cell_type": "markdown",
   "metadata": {},
   "source": [
    "### Content Based For New Movies\n",
    "\n",
    "If all of the above went well, you will notice we still have work to do!  We need to bring in a few things we picked up from the last lesson to use for those new users and movies.  Below is the code used to make the content based recommendations, which found movies that were similar to one another.  This was from **5_Content_Based_Recommendations** in the previous lesson.\n",
    "\n",
    "The below function **find_similar_movies** will provide similar movies to any movie based only on content.  \n",
    "\n",
    "Run the cell below to gain access to the content based similarity functions."
   ]
  },
  {
   "cell_type": "code",
   "execution_count": 15,
   "metadata": {},
   "outputs": [],
   "source": [
    "# Subset so movie_content is only using the dummy variables for each genre and the 3 century based year dummy columns\n",
    "movie_content = np.array(movies.iloc[:,4:])\n",
    "\n",
    "# Take the dot product to obtain a movie x movie matrix of similarities\n",
    "dot_prod_movies = movie_content.dot(np.transpose(movie_content))\n",
    "\n",
    "\n",
    "def find_similar_movies(movie_id):\n",
    "    '''\n",
    "    INPUT\n",
    "    movie_id - a movie_id \n",
    "    OUTPUT\n",
    "    similar_movies - an array of the most similar movies by title\n",
    "    '''\n",
    "    # find the row of each movie id\n",
    "#     movie_idx = np.where(movies['movie_id'] == movie_id)[0][0]\n",
    "    \n",
    "#     # find the most similar movie indices - to start I said they need to be the same for all content\n",
    "#     similar_idxs = np.where(dot_prod_movies[movie_idx] == np.max(dot_prod_movies[movie_idx]))[0]\n",
    "    \n",
    "#     # pull the movie titles based on the indices\n",
    "#     similar_movies = np.array(movies.iloc[similar_idxs, ]['movie'])\n",
    "\n",
    "    movie_ids_list = movies.movie_id.values\n",
    "    dot_prod_movies_df = pd.DataFrame(dot_prod_movies, columns=movie_ids_list, index=movie_ids_list)\n",
    "    # get similarity from maxx\n",
    "    tmp = dot_prod_movies_df.loc[movie_id].sort_values(ascending=False)\n",
    "    # maximum correlation exclusing itself\n",
    "    max_sim = tmp[tmp.index!=movie_id].max()\n",
    "    arr = (tmp==max_sim)\n",
    "    movie_id_list = np.array(arr[arr ==True].index)\n",
    "    similar_max = np.setdiff1d(movie_id_list,[movie_id],assume_unique=True) # drop itself\n",
    "    # get similarity from rest        \n",
    "    arr = ((tmp>max_sim/2.0) & (tmp!=max_sim))\n",
    "    movie_id_list = np.array(arr[arr ==True].index)\n",
    "    # take the overlap from max list\n",
    "    similar_other = np.setdiff1d(movie_id_list,similar_max,assume_unique=True)\n",
    "    similar_other = np.setdiff1d(np.setdiff1d, [movie_id], assume_unique=True)\n",
    "    #priority is with max index\n",
    "    #print(similar_max)\n",
    "    #print(similar_other)  # issue\n",
    "    similar_movies = np.append(similar_max, similar_other)\n",
    "    #similar_max.extend(similar_other) # extend does not work on arrays\n",
    "    #similar_movies = similar_max\n",
    "        \n",
    "    return similar_movies\n",
    "    \n",
    "    \n",
    "def get_movie_names(movie_ids):\n",
    "    '''\n",
    "    INPUT\n",
    "    movie_ids - a list of movie_ids\n",
    "    OUTPUT\n",
    "    movies - a list of movie names associated with the movie_ids\n",
    "    \n",
    "    '''\n",
    "    movie_lst = list(movies[movies['movie_id'].isin(movie_ids)]['movie'])\n",
    "   \n",
    "    return movie_lst"
   ]
  },
  {
   "cell_type": "markdown",
   "metadata": {},
   "source": [
    "### Rank Based For New Users\n",
    "\n",
    "From the above two code cells:\n",
    "- We have a way to make recommendations for movie-user pairs that have ratings in any part of our user-movie matrix at least one rating, no rows or columns are completely NaN **(Funk SVD)**.\n",
    "- We also have a way to make ratings for movies that have never received a rating using movie similarities **(content-based, base on categories/year)**.\n",
    "\n",
    "In this last part here, we need a way to make recommendations to new users.  For this, our functions from **2_Most_Popular_Recommendations** in Lesson 1 will come in handy.  Run the cell below to have these functions available.\n",
    "\n",
    "Run the cell below to gain access to the rank based functions."
   ]
  },
  {
   "cell_type": "code",
   "execution_count": 16,
   "metadata": {},
   "outputs": [],
   "source": [
    "def create_ranked_df(movies, reviews):\n",
    "        '''\n",
    "        INPUT\n",
    "        movies - the movies dataframe\n",
    "        reviews - the reviews dataframe\n",
    "        \n",
    "        OUTPUT\n",
    "        ranked_movies - a dataframe with movies that are sorted by highest avg rating, more reviews, \n",
    "                        then time, and must have more than 4 ratings\n",
    "        '''\n",
    "        \n",
    "        # Pull the average ratings and number of ratings for each movie\n",
    "        movie_ratings = reviews.groupby('movie_id')['rating']\n",
    "        avg_ratings = movie_ratings.mean()\n",
    "        num_ratings = movie_ratings.count()\n",
    "        last_rating = pd.DataFrame(reviews.groupby('movie_id').max()['date'])\n",
    "        last_rating.columns = ['last_rating']\n",
    "\n",
    "        # Add Dates\n",
    "        rating_count_df = pd.DataFrame({'avg_rating': avg_ratings, 'num_ratings': num_ratings})\n",
    "        rating_count_df = rating_count_df.join(last_rating)\n",
    "\n",
    "        # merge with the movies dataset\n",
    "        movie_recs = movies.set_index('movie_id').join(rating_count_df)\n",
    "\n",
    "        # sort by top avg rating and number of ratings\n",
    "        ranked_movies = movie_recs.sort_values(['avg_rating', 'num_ratings', 'last_rating'], ascending=False)\n",
    "\n",
    "        # for edge cases - subset the movie list to those with only 5 or more reviews\n",
    "        ranked_movies = ranked_movies[ranked_movies['num_ratings'] > 4]\n",
    "        \n",
    "        return ranked_movies\n",
    "    \n",
    "\n",
    "def popular_recommendations(user_id, n_top, ranked_movies):\n",
    "    '''\n",
    "    INPUT:\n",
    "    user_id - the user_id (str) of the individual you are making recommendations for\n",
    "    n_top - an integer of the number recommendations you want back\n",
    "    ranked_movies - a pandas dataframe of the already ranked movies based on avg rating, count, and time\n",
    "\n",
    "    OUTPUT:\n",
    "    top_movies - a list of the n_top recommended movies by movie title in order best to worst\n",
    "    '''\n",
    "\n",
    "    top_movies_names = list(ranked_movies['movie'][:n_top])\n",
    "    #print(ranked_movies['avg_rating'].values[:n_top])\n",
    "    top_movies_ids = list(ranked_movies.reset_index()['movie_id'][:n_top])\n",
    "    \n",
    "    return top_movies_ids, top_movies_names \n",
    "        "
   ]
  },
  {
   "cell_type": "markdown",
   "metadata": {},
   "source": [
    "### Now For Your Task\n",
    "\n",
    "The above cells set up everything we need to use to make predictions.  Your task is to write a function, which uses the above information as necessary to provide recommendations for every user in the **val_df** dataframe.  There isn't one right way to do this, but using a blend between the three could be your best bet.  \n",
    "\n",
    "You can see the blended approach I used in the video on the next page, but feel free to be creative with your solution!\n",
    "\n",
    "`3.` Use the function below along with the document strings to assist with completing the task for this notebook.  "
   ]
  },
  {
   "cell_type": "code",
   "execution_count": 17,
   "metadata": {},
   "outputs": [
    {
     "data": {
      "text/html": [
       "<div>\n",
       "<style scoped>\n",
       "    .dataframe tbody tr th:only-of-type {\n",
       "        vertical-align: middle;\n",
       "    }\n",
       "\n",
       "    .dataframe tbody tr th {\n",
       "        vertical-align: top;\n",
       "    }\n",
       "\n",
       "    .dataframe thead th {\n",
       "        text-align: right;\n",
       "    }\n",
       "</style>\n",
       "<table border=\"1\" class=\"dataframe\">\n",
       "  <thead>\n",
       "    <tr style=\"text-align: right;\">\n",
       "      <th></th>\n",
       "      <th>user_id</th>\n",
       "      <th>movie_id</th>\n",
       "      <th>rating</th>\n",
       "      <th>timestamp</th>\n",
       "      <th>date</th>\n",
       "      <th>month_1</th>\n",
       "      <th>month_2</th>\n",
       "      <th>month_3</th>\n",
       "      <th>month_4</th>\n",
       "      <th>month_5</th>\n",
       "      <th>...</th>\n",
       "      <th>month_9</th>\n",
       "      <th>month_10</th>\n",
       "      <th>month_11</th>\n",
       "      <th>month_12</th>\n",
       "      <th>year_2013</th>\n",
       "      <th>year_2014</th>\n",
       "      <th>year_2015</th>\n",
       "      <th>year_2016</th>\n",
       "      <th>year_2017</th>\n",
       "      <th>year_2018</th>\n",
       "    </tr>\n",
       "  </thead>\n",
       "  <tbody>\n",
       "    <tr>\n",
       "      <th>498923</th>\n",
       "      <td>37287</td>\n",
       "      <td>2171847</td>\n",
       "      <td>6</td>\n",
       "      <td>1362062307</td>\n",
       "      <td>2013-02-28 14:38:27</td>\n",
       "      <td>0</td>\n",
       "      <td>0</td>\n",
       "      <td>0</td>\n",
       "      <td>0</td>\n",
       "      <td>0</td>\n",
       "      <td>...</td>\n",
       "      <td>0</td>\n",
       "      <td>0</td>\n",
       "      <td>0</td>\n",
       "      <td>0</td>\n",
       "      <td>1</td>\n",
       "      <td>0</td>\n",
       "      <td>0</td>\n",
       "      <td>0</td>\n",
       "      <td>0</td>\n",
       "      <td>0</td>\n",
       "    </tr>\n",
       "    <tr>\n",
       "      <th>442554</th>\n",
       "      <td>33140</td>\n",
       "      <td>444778</td>\n",
       "      <td>8</td>\n",
       "      <td>1362062624</td>\n",
       "      <td>2013-02-28 14:43:44</td>\n",
       "      <td>0</td>\n",
       "      <td>0</td>\n",
       "      <td>0</td>\n",
       "      <td>0</td>\n",
       "      <td>0</td>\n",
       "      <td>...</td>\n",
       "      <td>0</td>\n",
       "      <td>0</td>\n",
       "      <td>0</td>\n",
       "      <td>0</td>\n",
       "      <td>1</td>\n",
       "      <td>0</td>\n",
       "      <td>0</td>\n",
       "      <td>0</td>\n",
       "      <td>0</td>\n",
       "      <td>0</td>\n",
       "    </tr>\n",
       "    <tr>\n",
       "      <th>81920</th>\n",
       "      <td>6338</td>\n",
       "      <td>1411238</td>\n",
       "      <td>6</td>\n",
       "      <td>1362062838</td>\n",
       "      <td>2013-02-28 14:47:18</td>\n",
       "      <td>0</td>\n",
       "      <td>0</td>\n",
       "      <td>0</td>\n",
       "      <td>0</td>\n",
       "      <td>0</td>\n",
       "      <td>...</td>\n",
       "      <td>0</td>\n",
       "      <td>0</td>\n",
       "      <td>0</td>\n",
       "      <td>0</td>\n",
       "      <td>1</td>\n",
       "      <td>0</td>\n",
       "      <td>0</td>\n",
       "      <td>0</td>\n",
       "      <td>0</td>\n",
       "      <td>0</td>\n",
       "    </tr>\n",
       "  </tbody>\n",
       "</table>\n",
       "<p>3 rows × 23 columns</p>\n",
       "</div>"
      ],
      "text/plain": [
       "        user_id  movie_id  rating   timestamp                 date  month_1  \\\n",
       "498923    37287   2171847       6  1362062307  2013-02-28 14:38:27        0   \n",
       "442554    33140    444778       8  1362062624  2013-02-28 14:43:44        0   \n",
       "81920      6338   1411238       6  1362062838  2013-02-28 14:47:18        0   \n",
       "\n",
       "        month_2  month_3  month_4  month_5    ...      month_9  month_10  \\\n",
       "498923        0        0        0        0    ...            0         0   \n",
       "442554        0        0        0        0    ...            0         0   \n",
       "81920         0        0        0        0    ...            0         0   \n",
       "\n",
       "        month_11  month_12  year_2013  year_2014  year_2015  year_2016  \\\n",
       "498923         0         0          1          0          0          0   \n",
       "442554         0         0          1          0          0          0   \n",
       "81920          0         0          1          0          0          0   \n",
       "\n",
       "        year_2017  year_2018  \n",
       "498923          0          0  \n",
       "442554          0          0  \n",
       "81920           0          0  \n",
       "\n",
       "[3 rows x 23 columns]"
      ]
     },
     "execution_count": 17,
     "metadata": {},
     "output_type": "execute_result"
    }
   ],
   "source": [
    "train_df.head(3)"
   ]
  },
  {
   "cell_type": "code",
   "execution_count": 18,
   "metadata": {},
   "outputs": [
    {
     "data": {
      "text/plain": [
       "array([385002], dtype=int64)"
      ]
     },
     "execution_count": 18,
     "metadata": {},
     "output_type": "execute_result"
    }
   ],
   "source": [
    "x =train_data_df.loc[8]\n",
    "np.array(x[~train_data_df.loc[8].isnull()].index)"
   ]
  },
  {
   "cell_type": "code",
   "execution_count": 29,
   "metadata": {},
   "outputs": [],
   "source": [
    "def make_recommendations(_id, _id_type='movie', train_data=train_data_df, \n",
    "                         train_df=train_df, movies=movies, rec_num=5, user_mat=user_mat, movie_mat=movie_mat):\n",
    "    '''\n",
    "    INPUT:\n",
    "    _id - either a user or movie id (int)\n",
    "    _id_type - \"movie\" or \"user\" (str)\n",
    "    train_data - dataframe of data as user-movie matrix\n",
    "    train_df - dataframe of training data reviews\n",
    "    movies - movies df\n",
    "    rec_num - number of recommendations to return (int)\n",
    "    user_mat - the U matrix of matrix factorization\n",
    "    movie_mat - the V matrix of matrix factorization\n",
    "    \n",
    "    OUTPUT:\n",
    "    rec_ids - (array) a list or numpy array of recommended movies by id                  \n",
    "    rec_names - (array) a list or numpy array of recommended movies by name\n",
    "    '''\n",
    "    rec_ids = []\n",
    "    rec_names = []\n",
    "    overall = []\n",
    "    tmp_movie_id = []\n",
    "    tmp_pred_id = []\n",
    "    # based on movie--------------\n",
    "    if(_id_type=='movie'):\n",
    "        #print('Movie new/exists')\n",
    "        # do content base get top similar movies if movie new, if movie not new can do item base with correlation with all pair of movie but not here\n",
    "        rec_ids = find_similar_movies(_id)[0:rec_num]  # adding max criteria priority then the rest some \n",
    "        rec_names = get_movie_names(rec_ids)        # add randomness in pulling too\n",
    "        \n",
    "    # based on user--------------\n",
    "    if(_id_type=='user'):\n",
    "        user_ids_series = np.array(train_data_df.index)\n",
    "        movie_ids_series = np.array(train_data_df.columns)    \n",
    "        \n",
    "        if(_id in user_ids_series): # user id already in training user/matrix data\n",
    "            #print('User exists')\n",
    "            predict_array = []\n",
    "            x =train_data_df.loc[_id]\n",
    "            user_seen_movie = np.array(x[~train_data_df.loc[_id].isnull()].index)\n",
    "            # remove movies if user already seen it\n",
    "            user_unseen_movie = np.setdiff1d(movie_ids_series, user_seen_movie)\n",
    "            for movie in user_unseen_movie:\n",
    "                prediction = int(np.round(predict_rating(user_mat, movie_mat, _id, movie),0))\n",
    "                if(prediction>=7):\n",
    "                    tmp_movie_id.append(movie) \n",
    "                    tmp_pred_id.append(prediction)\n",
    "\n",
    "            idx = np.argsort(np.array(tmp_pred_id))[::-1]\n",
    "            tmp_pred_id = np.array(tmp_pred_id)\n",
    "            tmp_movie_id = np.array(tmp_movie_id)\n",
    "            rec_ids = tmp_movie_id[idx]\n",
    "            rec_ids = rec_ids[0:rec_num] # can do random pick of high rated count =rec_num for novelty/surprise\n",
    "            rec_names = get_movie_names(rec_ids)\n",
    "            \n",
    "        if(_id not in user_ids_series):  # user not in the training user/matrix data \n",
    "            #print('User new')\n",
    "            ranked_movies = create_ranked_df(movies, train_df)\n",
    "            rec_ids, rec_names = popular_recommendations(_id, rec_num, ranked_movies) # can do some randomness here too get 2*rec_num then pick randomly\n",
    "    #print(overall)\n",
    "    return list(rec_ids), rec_names"
   ]
  },
  {
   "cell_type": "code",
   "execution_count": 30,
   "metadata": {},
   "outputs": [
    {
     "data": {
      "text/plain": [
       "([1024648], ['Argo (2012)'])"
      ]
     },
     "execution_count": 30,
     "metadata": {},
     "output_type": "execute_result"
    }
   ],
   "source": [
    "make_recommendations(2215, 'user')"
   ]
  },
  {
   "cell_type": "code",
   "execution_count": 20,
   "metadata": {},
   "outputs": [
    {
     "data": {
      "text/plain": [
       "2012"
      ]
     },
     "execution_count": 20,
     "metadata": {},
     "output_type": "execute_result"
    }
   ],
   "source": [
    "movies[movies['movie_id']==2171847]['date'].values[0]"
   ]
  },
  {
   "cell_type": "code",
   "execution_count": 21,
   "metadata": {},
   "outputs": [
    {
     "data": {
      "text/plain": [
       "([92965, 54215, 775489, 1205489, 903624],\n",
       " ['Psycho (1960)',\n",
       "  'Empire of the Sun (1987)',\n",
       "  \"L'illusionniste (2010)\",\n",
       "  'The Hobbit: An Unexpected Journey (2012)',\n",
       "  'Gran Torino (2008)'])"
      ]
     },
     "execution_count": 21,
     "metadata": {},
     "output_type": "execute_result"
    }
   ],
   "source": [
    "make_recommendations(48, 'user')"
   ]
  },
  {
   "cell_type": "code",
   "execution_count": 22,
   "metadata": {},
   "outputs": [
    {
     "data": {
      "text/plain": [
       "([99685, 838283, 169547, 469494, 1205489],\n",
       " ['Goodfellas (1990)',\n",
       "  'Step Brothers (2008)',\n",
       "  'American Beauty (1999)',\n",
       "  'There Will Be Blood (2007)',\n",
       "  'Gran Torino (2008)'])"
      ]
     },
     "execution_count": 22,
     "metadata": {},
     "output_type": "execute_result"
    }
   ],
   "source": [
    "make_recommendations(152, 'user')"
   ]
  },
  {
   "cell_type": "code",
   "execution_count": 23,
   "metadata": {},
   "outputs": [
    {
     "data": {
      "text/plain": [
       "([55233, 51565, 73800, 87553, 37366],\n",
       " ['Thirty Seconds Over Tokyo (1944)',\n",
       "  'Dunkirk (1958)',\n",
       "  'Ningen no jôken (1961)',\n",
       "  'O thiasos (1975)',\n",
       "  'The Killing Fields (1984)'])"
      ]
     },
     "execution_count": 23,
     "metadata": {},
     "output_type": "execute_result"
    }
   ],
   "source": [
    "make_recommendations(92965, 'movie')"
   ]
  },
  {
   "cell_type": "code",
   "execution_count": 32,
   "metadata": {},
   "outputs": [
    {
     "data": {
      "text/plain": [
       "([1682180, 468569, 110912, 286244, 111161],\n",
       " ['Pulp Fiction (1994)',\n",
       "  'The Shawshank Redemption (1994)',\n",
       "  'Les triplettes de Belleville (2003)',\n",
       "  'The Dark Knight (2008)',\n",
       "  'Stoker (2013)'])"
      ]
     },
     "execution_count": 32,
     "metadata": {},
     "output_type": "execute_result"
    }
   ],
   "source": [
    "make_recommendations(51201, 'user')"
   ]
  },
  {
   "cell_type": "code",
   "execution_count": 24,
   "metadata": {},
   "outputs": [
    {
     "data": {
      "text/html": [
       "<div>\n",
       "<style scoped>\n",
       "    .dataframe tbody tr th:only-of-type {\n",
       "        vertical-align: middle;\n",
       "    }\n",
       "\n",
       "    .dataframe tbody tr th {\n",
       "        vertical-align: top;\n",
       "    }\n",
       "\n",
       "    .dataframe thead th {\n",
       "        text-align: right;\n",
       "    }\n",
       "</style>\n",
       "<table border=\"1\" class=\"dataframe\">\n",
       "  <thead>\n",
       "    <tr style=\"text-align: right;\">\n",
       "      <th></th>\n",
       "      <th>user_id</th>\n",
       "      <th>movie_id</th>\n",
       "      <th>rating</th>\n",
       "      <th>timestamp</th>\n",
       "      <th>date</th>\n",
       "      <th>month_1</th>\n",
       "      <th>month_2</th>\n",
       "      <th>month_3</th>\n",
       "      <th>month_4</th>\n",
       "      <th>month_5</th>\n",
       "      <th>...</th>\n",
       "      <th>month_9</th>\n",
       "      <th>month_10</th>\n",
       "      <th>month_11</th>\n",
       "      <th>month_12</th>\n",
       "      <th>year_2013</th>\n",
       "      <th>year_2014</th>\n",
       "      <th>year_2015</th>\n",
       "      <th>year_2016</th>\n",
       "      <th>year_2017</th>\n",
       "      <th>year_2018</th>\n",
       "    </tr>\n",
       "  </thead>\n",
       "  <tbody>\n",
       "    <tr>\n",
       "      <th>650588</th>\n",
       "      <td>49056</td>\n",
       "      <td>1598822</td>\n",
       "      <td>8</td>\n",
       "      <td>1363308721</td>\n",
       "      <td>2013-03-15 00:52:01</td>\n",
       "      <td>0</td>\n",
       "      <td>0</td>\n",
       "      <td>0</td>\n",
       "      <td>0</td>\n",
       "      <td>0</td>\n",
       "      <td>...</td>\n",
       "      <td>0</td>\n",
       "      <td>0</td>\n",
       "      <td>0</td>\n",
       "      <td>0</td>\n",
       "      <td>1</td>\n",
       "      <td>0</td>\n",
       "      <td>0</td>\n",
       "      <td>0</td>\n",
       "      <td>0</td>\n",
       "      <td>0</td>\n",
       "    </tr>\n",
       "    <tr>\n",
       "      <th>650569</th>\n",
       "      <td>49056</td>\n",
       "      <td>289879</td>\n",
       "      <td>9</td>\n",
       "      <td>1363308742</td>\n",
       "      <td>2013-03-15 00:52:22</td>\n",
       "      <td>0</td>\n",
       "      <td>0</td>\n",
       "      <td>0</td>\n",
       "      <td>0</td>\n",
       "      <td>0</td>\n",
       "      <td>...</td>\n",
       "      <td>0</td>\n",
       "      <td>0</td>\n",
       "      <td>0</td>\n",
       "      <td>0</td>\n",
       "      <td>1</td>\n",
       "      <td>0</td>\n",
       "      <td>0</td>\n",
       "      <td>0</td>\n",
       "      <td>0</td>\n",
       "      <td>0</td>\n",
       "    </tr>\n",
       "  </tbody>\n",
       "</table>\n",
       "<p>2 rows × 23 columns</p>\n",
       "</div>"
      ],
      "text/plain": [
       "        user_id  movie_id  rating   timestamp                 date  month_1  \\\n",
       "650588    49056   1598822       8  1363308721  2013-03-15 00:52:01        0   \n",
       "650569    49056    289879       9  1363308742  2013-03-15 00:52:22        0   \n",
       "\n",
       "        month_2  month_3  month_4  month_5    ...      month_9  month_10  \\\n",
       "650588        0        0        0        0    ...            0         0   \n",
       "650569        0        0        0        0    ...            0         0   \n",
       "\n",
       "        month_11  month_12  year_2013  year_2014  year_2015  year_2016  \\\n",
       "650588         0         0          1          0          0          0   \n",
       "650569         0         0          1          0          0          0   \n",
       "\n",
       "        year_2017  year_2018  \n",
       "650588          0          0  \n",
       "650569          0          0  \n",
       "\n",
       "[2 rows x 23 columns]"
      ]
     },
     "execution_count": 24,
     "metadata": {},
     "output_type": "execute_result"
    }
   ],
   "source": [
    "val_df.head(2)"
   ]
  },
  {
   "cell_type": "code",
   "execution_count": 25,
   "metadata": {},
   "outputs": [
    {
     "name": "stderr",
     "output_type": "stream",
     "text": [
      "100% |########################################################################|\n"
     ]
    }
   ],
   "source": [
    "user_id_list = val_df.user_id.values\n",
    "dict_rec_name = {}\n",
    "dict_rec_id = {}\n",
    "bar = progressbar.ProgressBar()\n",
    "for user_id in bar(user_id_list):\n",
    "    dict_rec_id[user_id], dict_rec_name[user_id] = make_recommendations(user_id, 'user')"
   ]
  },
  {
   "cell_type": "code",
   "execution_count": 36,
   "metadata": {},
   "outputs": [
    {
     "data": {
      "text/plain": [
       "1241"
      ]
     },
     "execution_count": 36,
     "metadata": {},
     "output_type": "execute_result"
    }
   ],
   "source": [
    "val_df.user_id.nunique()"
   ]
  },
  {
   "cell_type": "code",
   "execution_count": 35,
   "metadata": {},
   "outputs": [
    {
     "data": {
      "text/plain": [
       "1241"
      ]
     },
     "execution_count": 35,
     "metadata": {},
     "output_type": "execute_result"
    }
   ],
   "source": [
    "len(dict_rec_name.keys())"
   ]
  },
  {
   "cell_type": "code",
   "execution_count": 33,
   "metadata": {},
   "outputs": [
    {
     "name": "stdout",
     "output_type": "stream",
     "text": [
      "user_id 49056\n",
      "movie recommendation ['Empire of the Sun (1987)', 'Pulp Fiction (1994)', 'Looper (2012)', 'Oz the Great and Powerful (2013)', 'Stoker (2013)']\n",
      "----------------------------\n",
      "\n",
      "user_id 28599\n",
      "movie recommendation ['Empire of the Sun (1987)', 'The Lion King (1994)', 'The Dark Knight (2008)', 'Bad 25 (2012)', 'Paperman (2012)']\n",
      "----------------------------\n",
      "\n",
      "user_id 50593\n",
      "movie recommendation ['Empire of the Sun (1987)', 'The Shawshank Redemption (1994)', 'Life of Pi (2012)', 'The Perks of Being a Wallflower (2012)', 'Shame (2011)']\n",
      "----------------------------\n",
      "\n",
      "user_id 29000\n",
      "movie recommendation ['Blood Diamond (2006)', 'The Hobbit: An Unexpected Journey (2012)', 'Skyfall (2012)', 'Jack the Giant Slayer (2013)', 'Sinister (2012)']\n",
      "----------------------------\n",
      "\n",
      "user_id 32541\n",
      "movie recommendation ['Empire of the Sun (1987)', 'Blood Diamond (2006)', 'Les Misérables (2012)', 'Shame (2011)']\n",
      "----------------------------\n",
      "\n",
      "user_id 9779\n",
      "movie recommendation ['Empire of the Sun (1987)', 'Lincoln (2012)', 'There Will Be Blood (2007)', 'Skyfall (2012)', 'Oz the Great and Powerful (2013)']\n",
      "----------------------------\n",
      "\n",
      "user_id 44110\n",
      "movie recommendation ['2001: A Space Odyssey (1968)', 'Empire of the Sun (1987)', 'The Lord of the Rings: The Fellowship of the Ring (2001)', 'Argo (2012)', 'Django Unchained (2012)']\n",
      "----------------------------\n",
      "\n",
      "user_id 40093\n",
      "movie recommendation ['Goodfellas (1990)', 'Step Brothers (2008)', 'American Beauty (1999)', 'There Will Be Blood (2007)', 'Gran Torino (2008)']\n",
      "----------------------------\n",
      "\n",
      "user_id 17186\n",
      "movie recommendation ['The Wrestler (2008)', 'Lo imposible (2012)', 'Arbitrage (2012)', 'Killing Them Softly (2012)', 'Promised Land (2012)']\n",
      "----------------------------\n",
      "\n",
      "user_id 42089\n",
      "movie recommendation ['Empire of the Sun (1987)', 'The Dark Knight (2008)', 'Argo (2012)', 'The Cabin in the Woods (2011)', 'Les Misérables (2012)']\n",
      "----------------------------\n",
      "\n",
      "user_id 31367\n",
      "movie recommendation ['Amélie (2001)', 'The Hobbit: An Unexpected Journey (2012)', 'Silver Linings Playbook (2012)', 'The Perks of Being a Wallflower (2012)', 'Django Unchained (2012)']\n",
      "----------------------------\n",
      "\n",
      "user_id 10811\n",
      "movie recommendation ['A Few Good Men (1992)', \"Schindler's List (1993)\", 'Blood Diamond (2006)', 'Shame (2011)', 'Django Unchained (2012)']\n",
      "----------------------------\n",
      "\n",
      "user_id 37647\n",
      "movie recommendation ['Empire of the Sun (1987)', 'Inglourious Basterds (2009)', 'The Bourne Legacy (2012)', 'Shame (2011)', 'Jagten (2012)']\n",
      "----------------------------\n",
      "\n",
      "user_id 16138\n",
      "movie recommendation ['Goodfellas (1990)', 'Step Brothers (2008)', 'American Beauty (1999)', 'There Will Be Blood (2007)', 'Gran Torino (2008)']\n",
      "----------------------------\n",
      "\n",
      "user_id 45986\n",
      "movie recommendation ['Empire of the Sun (1987)', 'The Shawshank Redemption (1994)', 'Gran Torino (2008)', 'Incendies (2010)', 'Django Unchained (2012)']\n",
      "----------------------------\n",
      "\n",
      "user_id 16963\n",
      "movie recommendation ['Goodfellas (1990)', 'Step Brothers (2008)', 'American Beauty (1999)', 'There Will Be Blood (2007)', 'Gran Torino (2008)']\n",
      "----------------------------\n",
      "\n",
      "user_id 7136\n",
      "movie recommendation ['Goodfellas (1990)', 'Step Brothers (2008)', 'American Beauty (1999)', 'There Will Be Blood (2007)', 'Gran Torino (2008)']\n",
      "----------------------------\n",
      "\n",
      "user_id 47985\n",
      "movie recommendation ['Goodfellas (1990)', 'Step Brothers (2008)', 'American Beauty (1999)', 'There Will Be Blood (2007)', 'Gran Torino (2008)']\n",
      "----------------------------\n",
      "\n",
      "user_id 43524\n",
      "movie recommendation ['Blood Diamond (2006)', 'Life of Pi (2012)', 'Silver Linings Playbook (2012)', 'Les amours imaginaires (2010)', 'Bad 25 (2012)']\n",
      "----------------------------\n",
      "\n",
      "user_id 33808\n",
      "movie recommendation ['Empire of the Sun (1987)', 'Goodfellas (1990)', 'Extremely Loud & Incredibly Close (2011)', 'Incendies (2010)', 'Django Unchained (2012)']\n",
      "----------------------------\n",
      "\n"
     ]
    }
   ],
   "source": [
    "count = 0\n",
    "for key, value in dict_rec_name.items():\n",
    "    if(count<20):\n",
    "        print('user_id',key)\n",
    "        print('movie recommendation', value)\n",
    "        print('----------------------------')\n",
    "        print()\n",
    "        count += 1"
   ]
  },
  {
   "cell_type": "code",
   "execution_count": 280,
   "metadata": {},
   "outputs": [
    {
     "name": "stdout",
     "output_type": "stream",
     "text": [
      "2000\n"
     ]
    }
   ],
   "source": [
    "user_id_list\n",
    "print(len(user_id_list))"
   ]
  },
  {
   "cell_type": "code",
   "execution_count": 28,
   "metadata": {},
   "outputs": [
    {
     "data": {
      "text/plain": [
       "['The Master (2012)']"
      ]
     },
     "execution_count": 28,
     "metadata": {},
     "output_type": "execute_result"
    }
   ],
   "source": [
    "get_movie_names(train_df[train_df['user_id']==2215].movie_id.values)"
   ]
  },
  {
   "cell_type": "code",
   "execution_count": null,
   "metadata": {},
   "outputs": [],
   "source": []
  },
  {
   "cell_type": "markdown",
   "metadata": {},
   "source": [
    "**Use this cell to discuss your findings.**"
   ]
  },
  {
   "cell_type": "code",
   "execution_count": 45,
   "metadata": {},
   "outputs": [
    {
     "name": "stdout",
     "output_type": "stream",
     "text": [
      "[ True False  True False  True]\n",
      "(array([0, 2, 4], dtype=int64),)\n"
     ]
    }
   ],
   "source": [
    "bool_unseen = np.isin([1,7,5,8,6], [1,5,6])\n",
    "print(bool_unseen)\n",
    "ix = np.where(bool_unseen)\n",
    "print(ix)"
   ]
  },
  {
   "cell_type": "code",
   "execution_count": 47,
   "metadata": {},
   "outputs": [
    {
     "data": {
      "text/plain": [
       "array([1, 5, 6])"
      ]
     },
     "execution_count": 47,
     "metadata": {},
     "output_type": "execute_result"
    }
   ],
   "source": [
    "y=np.array([1,7,5,8,6])\n",
    "y[bool_unseen]"
   ]
  },
  {
   "cell_type": "code",
   "execution_count": 83,
   "metadata": {},
   "outputs": [],
   "source": [
    "def make_recommendations(_id, _id_type='movie', train_data=train_data_df, \n",
    "                         train_df=train_df, movies=movies, rec_num=5, user_mat=user_mat, movie_mat=movie_mat):\n",
    "    '''\n",
    "    INPUT:\n",
    "    _id - either a user or movie id (int)\n",
    "    _id_type - \"movie\" or \"user\" (str)\n",
    "    train_data - dataframe of data as user-movie matrix\n",
    "    train_df - dataframe of training data reviews\n",
    "    movies - movies df\n",
    "    rec_num - number of recommendations to return (int)\n",
    "    user_mat - the U matrix of matrix factorization\n",
    "    movie_mat - the V matrix of matrix factorization\n",
    "    \n",
    "    OUTPUT:\n",
    "    rec_ids - (array) a list or numpy array of recommended movies by id                  \n",
    "    rec_names - (array) a list or numpy array of recommended movies by name\n",
    "    '''\n",
    "    rec_ids = []\n",
    "    rec_names = []\n",
    "    overall = []\n",
    "    tmp_movie_id = []\n",
    "    tmp_pred_id = []\n",
    "    # based on movie--------------\n",
    "    if(_id_type=='movie'):\n",
    "        #print('Movie new/exists')\n",
    "        # do content base get top similar movies if movie new, if movie not new can do item base with correlation with all pair of movie but not here\n",
    "        rec_ids_tmp = find_similar_movies(_id)[0:2*rec_num]  # adding max criteria priority then the rest some \n",
    "        # create some surprise\n",
    "        rec_ids = np.random.choice(rec_ids_tmp, rec_num, replace=False)\n",
    "        rec_names = get_movie_names(rec_ids)       \n",
    "        \n",
    "    # based on user--------------\n",
    "    if(_id_type=='user'):\n",
    "        user_ids_series = np.array(train_data_df.index)\n",
    "        movie_ids_series = np.array(train_data_df.columns)    \n",
    "        \n",
    "        if(_id in user_ids_series): # user id already in training user/matrix data\n",
    "            #print('User exists')\n",
    "            predict_array = []\n",
    "            x =train_data_df.loc[_id]\n",
    "            user_seen_movie = np.array(x[~train_data_df.loc[_id].isnull()].index)\n",
    "            # remove movies if user already seen it\n",
    "            user_unseen_movie_id = np.setdiff1d(movie_ids_series, user_seen_movie)\n",
    "            user_row = np.where(user_ids_series == _id)[0][0]\n",
    "            \n",
    "            prediction = np.dot(user_mat[user_row, :], movie_mat)\n",
    "            \n",
    "            bool_unseen = np.isin(movie_ids_series, user_unseen_movie_id)\n",
    "            ix = np.where(bool_unseen)\n",
    "            prediction = prediction[bool_unseen]\n",
    "            idx = np.argsort(prediction)[::-1]\n",
    "            # sorted unseen movies\n",
    "            user_unseen_movie_id = user_unseen_movie_id[idx]\n",
    "            # twice as needed\n",
    "            user_unseen_movie_id = user_unseen_movie_id[0:2*rec_num]\n",
    "            # create some surprise\n",
    "            rec_ids = np.random.choice(user_unseen_movie_id, rec_num, replace=False)\n",
    "            rec_names = get_movie_names(rec_ids)\n",
    "            \n",
    "        if(_id not in user_ids_series):  # user not in the training user/matrix data \n",
    "            #print('User new')\n",
    "            ranked_movies = create_ranked_df(movies, train_df)\n",
    "            # can do some randomness here too get 2*rec_num then pick randomly\n",
    "            rec_ids_tmp, _ = popular_recommendations(_id, 2*rec_num, ranked_movies) \n",
    "            # create some surprise\n",
    "            rec_ids = np.random.choice(rec_ids_tmp, rec_num, replace=False)\n",
    "            rec_names = get_movie_names(rec_ids)\n",
    "            \n",
    "\n",
    "    return list(rec_ids), rec_names"
   ]
  },
  {
   "cell_type": "code",
   "execution_count": 84,
   "metadata": {},
   "outputs": [
    {
     "name": "stdout",
     "output_type": "stream",
     "text": [
      "4.21598414060458\n"
     ]
    }
   ],
   "source": [
    "_id = 2215\n",
    "movie_id = 1305806\n",
    "user_ids_series = np.array(train_data_df.index)\n",
    "movie_ids_series = np.array(train_data_df.columns) \n",
    "movie_col = np.where(movie_ids_series == movie_id)[0][0]\n",
    "user_row = np.where(user_ids_series == _id)[0][0]\n",
    "    \n",
    "print(np.dot(user_mat[user_row, :], movie_mat[:,movie_col]))"
   ]
  },
  {
   "cell_type": "code",
   "execution_count": 107,
   "metadata": {},
   "outputs": [
    {
     "data": {
      "text/plain": [
       "2679"
      ]
     },
     "execution_count": 107,
     "metadata": {},
     "output_type": "execute_result"
    }
   ],
   "source": [
    "len(movie_ids_series)"
   ]
  },
  {
   "cell_type": "code",
   "execution_count": 99,
   "metadata": {},
   "outputs": [
    {
     "data": {
      "text/plain": [
       "([1447480, 2101341, 1659337, 1045658, 1024648],\n",
       " ['Argo (2012)',\n",
       "  'Silver Linings Playbook (2012)',\n",
       "  'Bones (2010)',\n",
       "  'The Perks of Being a Wallflower (2012)',\n",
       "  'Dead Man Down (2013)'])"
      ]
     },
     "execution_count": 99,
     "metadata": {},
     "output_type": "execute_result"
    }
   ],
   "source": [
    "make_recommendations(2215, 'user')"
   ]
  },
  {
   "cell_type": "code",
   "execution_count": 106,
   "metadata": {},
   "outputs": [
    {
     "data": {
      "text/plain": [
       "([363163, 92965, 1723811, 1659337, 838283],\n",
       " ['Empire of the Sun (1987)',\n",
       "  'Der Untergang (2004)',\n",
       "  'Step Brothers (2008)',\n",
       "  'The Perks of Being a Wallflower (2012)',\n",
       "  'Shame (2011)'])"
      ]
     },
     "execution_count": 106,
     "metadata": {},
     "output_type": "execute_result"
    }
   ],
   "source": [
    "make_recommendations(48, 'user')"
   ]
  },
  {
   "cell_type": "code",
   "execution_count": 82,
   "metadata": {},
   "outputs": [
    {
     "name": "stderr",
     "output_type": "stream",
     "text": [
      "  0% |                                                                        |\r"
     ]
    },
    {
     "name": "stdout",
     "output_type": "stream",
     "text": [
      "[6.38031149 6.7550385  4.39589202 ... 9.20162942 8.9126158  8.10158134]\n",
      "[11.2213105  11.2026529  11.01819754 ...  2.01593172  1.88450609\n",
      "  0.4104629 ]\n",
      "[6.38031149 6.7550385  4.39589202 ... 9.20162942 8.9126158  8.10158134]\n",
      "[11.2213105  11.2026529  11.01819754 ...  2.01593172  1.88450609\n",
      "  0.4104629 ]\n",
      "[6.38031149 6.7550385  4.39589202 ... 9.20162942 8.9126158  8.10158134]\n",
      "[11.2213105  11.2026529  11.01819754 ...  2.01593172  1.88450609\n",
      "  0.4104629 ]\n",
      "[6.38031149 6.7550385  4.39589202 ... 9.20162942 8.9126158  8.10158134]\n",
      "[11.2213105  11.2026529  11.01819754 ...  2.01593172  1.88450609\n",
      "  0.4104629 ]\n",
      "[6.16629616 6.81146435 4.78440014 ... 8.08690294 8.44079288 5.56779222]\n",
      "[11.28159984 10.36161062 10.34054873 ...  1.81962608  1.50143902\n",
      "  1.46061687]\n",
      "[5.54626003 6.62823449 4.0284789  ... 7.33128217 6.77590286 5.8440671 ]\n",
      "[10.26880468  9.64161068  9.57229706 ...  1.40674845  1.22720783\n",
      "  0.81544767]\n",
      "[6.65431154 7.04046554 4.29464686 ... 7.79690583 7.25374023 5.78884794]\n",
      "[12.13190013 11.9012255  11.68501381 ...  1.29326985  1.27733035\n",
      "  1.25453454]\n",
      "[3.72025809 3.76085182 2.07146979 ... 4.65497602 4.5548681  3.25746293]\n",
      "[6.90603352 6.57318916 6.53052428 ... 0.77218389 0.77014128 0.42121231]\n",
      "[5.07466823 5.53602716 2.42627735 ... 6.28149063 6.2795585  5.04568403]\n",
      "[9.28916298 8.70553375 8.67212483 ... 1.27575653 1.22373844 0.37268743]\n",
      "[5.56448732 6.43666921 3.60675873 ... 7.44417501 7.61103622 5.84957826]\n",
      "[11.12082334 10.48961768  9.80714076 ...  1.34649017  1.34291015\n",
      "  1.34116485]\n",
      "[3.29679763 5.36772887 3.8239726  ... 5.71101701 4.19169909 5.69609572]\n",
      "[ 9.3787794   8.84095865  8.79301908 ... -0.57104422 -1.02879919\n",
      " -1.27633232]\n",
      "[6.57463651 6.99277665 5.1329591  ... 9.70394244 9.80079089 7.45724471]\n",
      "[13.91986231 13.43739226 13.20521377 ...  1.80068051  1.65679411\n",
      "  1.50429247]\n",
      "[4.86147711 4.49997304 2.95249318 ... 5.54483295 5.10301114 3.74519343]\n",
      "[8.56941665 8.43463302 7.99415137 ... 0.94257542 0.86832452 0.6650883 ]\n",
      "[6.41054303 6.57560434 3.07042624 ... 8.26625679 7.65636098 5.99955309]\n",
      "[10.65204868 10.41319275 10.36453564 ...  1.44558394  1.14801208\n",
      "  0.66718231]\n",
      "[5.763728   6.62879815 4.69059206 ... 7.71162508 6.94653513 5.83990119]\n",
      "[9.69794584 9.49743994 9.34930563 ... 1.69921914 1.4132529  1.34142129]\n",
      "[ 8.66923176  9.0949226   6.05353252 ... 11.11313445 10.61512037\n",
      "  8.56755727]\n",
      "[14.16180931 13.81800242 13.43881731 ...  2.57786436  2.37671317\n",
      "  1.95193412]\n"
     ]
    },
    {
     "name": "stderr",
     "output_type": "stream",
     "text": [
      "  1% |                                                                        |\r"
     ]
    },
    {
     "ename": "KeyboardInterrupt",
     "evalue": "",
     "output_type": "error",
     "traceback": [
      "\u001b[1;31m---------------------------------------------------------------------------\u001b[0m",
      "\u001b[1;31mAttributeError\u001b[0m                            Traceback (most recent call last)",
      "\u001b[1;32m~\\Anaconda3\\lib\\site-packages\\pandas\\core\\groupby.py\u001b[0m in \u001b[0;36mf\u001b[1;34m(self, **kwargs)\u001b[0m\n\u001b[0;32m   1243\u001b[0m                     return self._cython_agg_general(\n\u001b[1;32m-> 1244\u001b[1;33m                         alias, alt=npfunc, **kwargs)\n\u001b[0m\u001b[0;32m   1245\u001b[0m                 \u001b[1;32mexcept\u001b[0m \u001b[0mAssertionError\u001b[0m \u001b[1;32mas\u001b[0m \u001b[0me\u001b[0m\u001b[1;33m:\u001b[0m\u001b[1;33m\u001b[0m\u001b[0m\n",
      "\u001b[1;32m~\\Anaconda3\\lib\\site-packages\\pandas\\core\\groupby.py\u001b[0m in \u001b[0;36m_cython_agg_general\u001b[1;34m(self, how, alt, numeric_only, min_count)\u001b[0m\n\u001b[0;32m   3608\u001b[0m         new_items, new_blocks = self._cython_agg_blocks(\n\u001b[1;32m-> 3609\u001b[1;33m             how, alt=alt, numeric_only=numeric_only, min_count=min_count)\n\u001b[0m\u001b[0;32m   3610\u001b[0m         \u001b[1;32mreturn\u001b[0m \u001b[0mself\u001b[0m\u001b[1;33m.\u001b[0m\u001b[0m_wrap_agged_blocks\u001b[0m\u001b[1;33m(\u001b[0m\u001b[0mnew_items\u001b[0m\u001b[1;33m,\u001b[0m \u001b[0mnew_blocks\u001b[0m\u001b[1;33m)\u001b[0m\u001b[1;33m\u001b[0m\u001b[0m\n",
      "\u001b[1;32m~\\Anaconda3\\lib\\site-packages\\pandas\\core\\groupby.py\u001b[0m in \u001b[0;36m_cython_agg_blocks\u001b[1;34m(self, how, alt, numeric_only, min_count)\u001b[0m\n\u001b[0;32m   3674\u001b[0m                 \u001b[0mresult\u001b[0m \u001b[1;33m=\u001b[0m \u001b[0mblock\u001b[0m\u001b[1;33m.\u001b[0m\u001b[0m_try_coerce_and_cast_result\u001b[0m\u001b[1;33m(\u001b[0m\u001b[0mresult\u001b[0m\u001b[1;33m)\u001b[0m\u001b[1;33m\u001b[0m\u001b[0m\n\u001b[1;32m-> 3675\u001b[1;33m                 \u001b[0mnewb\u001b[0m \u001b[1;33m=\u001b[0m \u001b[0mblock\u001b[0m\u001b[1;33m.\u001b[0m\u001b[0mmake_block\u001b[0m\u001b[1;33m(\u001b[0m\u001b[0mresult\u001b[0m\u001b[1;33m)\u001b[0m\u001b[1;33m\u001b[0m\u001b[0m\n\u001b[0m\u001b[0;32m   3676\u001b[0m \u001b[1;33m\u001b[0m\u001b[0m\n",
      "\u001b[1;32m~\\Anaconda3\\lib\\site-packages\\pandas\\core\\internals.py\u001b[0m in \u001b[0;36mmake_block\u001b[1;34m(self, values, placement, ndim, **kwargs)\u001b[0m\n\u001b[0;32m    209\u001b[0m \u001b[1;33m\u001b[0m\u001b[0m\n\u001b[1;32m--> 210\u001b[1;33m         \u001b[1;32mreturn\u001b[0m \u001b[0mmake_block\u001b[0m\u001b[1;33m(\u001b[0m\u001b[0mvalues\u001b[0m\u001b[1;33m,\u001b[0m \u001b[0mplacement\u001b[0m\u001b[1;33m=\u001b[0m\u001b[0mplacement\u001b[0m\u001b[1;33m,\u001b[0m \u001b[0mndim\u001b[0m\u001b[1;33m=\u001b[0m\u001b[0mndim\u001b[0m\u001b[1;33m,\u001b[0m \u001b[1;33m**\u001b[0m\u001b[0mkwargs\u001b[0m\u001b[1;33m)\u001b[0m\u001b[1;33m\u001b[0m\u001b[0m\n\u001b[0m\u001b[0;32m    211\u001b[0m \u001b[1;33m\u001b[0m\u001b[0m\n",
      "\u001b[1;32m~\\Anaconda3\\lib\\site-packages\\pandas\\core\\internals.py\u001b[0m in \u001b[0;36mmake_block\u001b[1;34m(values, placement, klass, ndim, dtype, fastpath)\u001b[0m\n\u001b[0;32m   2923\u001b[0m     \u001b[1;32mif\u001b[0m \u001b[0mklass\u001b[0m \u001b[1;32mis\u001b[0m \u001b[1;32mNone\u001b[0m\u001b[1;33m:\u001b[0m\u001b[1;33m\u001b[0m\u001b[0m\n\u001b[1;32m-> 2924\u001b[1;33m         \u001b[0mdtype\u001b[0m \u001b[1;33m=\u001b[0m \u001b[0mdtype\u001b[0m \u001b[1;32mor\u001b[0m \u001b[0mvalues\u001b[0m\u001b[1;33m.\u001b[0m\u001b[0mdtype\u001b[0m\u001b[1;33m\u001b[0m\u001b[0m\n\u001b[0m\u001b[0;32m   2925\u001b[0m         \u001b[0mvtype\u001b[0m \u001b[1;33m=\u001b[0m \u001b[0mdtype\u001b[0m\u001b[1;33m.\u001b[0m\u001b[0mtype\u001b[0m\u001b[1;33m\u001b[0m\u001b[0m\n",
      "\u001b[1;32m~\\Anaconda3\\lib\\site-packages\\pandas\\core\\generic.py\u001b[0m in \u001b[0;36m__getattr__\u001b[1;34m(self, name)\u001b[0m\n\u001b[0;32m   3613\u001b[0m                 \u001b[1;32mreturn\u001b[0m \u001b[0mself\u001b[0m\u001b[1;33m[\u001b[0m\u001b[0mname\u001b[0m\u001b[1;33m]\u001b[0m\u001b[1;33m\u001b[0m\u001b[0m\n\u001b[1;32m-> 3614\u001b[1;33m             \u001b[1;32mreturn\u001b[0m \u001b[0mobject\u001b[0m\u001b[1;33m.\u001b[0m\u001b[0m__getattribute__\u001b[0m\u001b[1;33m(\u001b[0m\u001b[0mself\u001b[0m\u001b[1;33m,\u001b[0m \u001b[0mname\u001b[0m\u001b[1;33m)\u001b[0m\u001b[1;33m\u001b[0m\u001b[0m\n\u001b[0m\u001b[0;32m   3615\u001b[0m \u001b[1;33m\u001b[0m\u001b[0m\n",
      "\u001b[1;31mAttributeError\u001b[0m: 'DataFrame' object has no attribute 'dtype'",
      "\nDuring handling of the above exception, another exception occurred:\n",
      "\u001b[1;31mTypeError\u001b[0m                                 Traceback (most recent call last)",
      "\u001b[1;32m~\\Anaconda3\\lib\\site-packages\\pandas\\core\\nanops.py\u001b[0m in \u001b[0;36mf\u001b[1;34m(values, axis, skipna, **kwds)\u001b[0m\n\u001b[0;32m    120\u001b[0m                         _bn_ok_dtype(values.dtype, bn_name)):\n\u001b[1;32m--> 121\u001b[1;33m                     \u001b[0mresult\u001b[0m \u001b[1;33m=\u001b[0m \u001b[0mbn_func\u001b[0m\u001b[1;33m(\u001b[0m\u001b[0mvalues\u001b[0m\u001b[1;33m,\u001b[0m \u001b[0maxis\u001b[0m\u001b[1;33m=\u001b[0m\u001b[0maxis\u001b[0m\u001b[1;33m,\u001b[0m \u001b[1;33m**\u001b[0m\u001b[0mkwds\u001b[0m\u001b[1;33m)\u001b[0m\u001b[1;33m\u001b[0m\u001b[0m\n\u001b[0m\u001b[0;32m    122\u001b[0m \u001b[1;33m\u001b[0m\u001b[0m\n",
      "\u001b[1;31mTypeError\u001b[0m: 'NoneType' object is not callable",
      "\nDuring handling of the above exception, another exception occurred:\n",
      "\u001b[1;31mKeyboardInterrupt\u001b[0m                         Traceback (most recent call last)",
      "\u001b[1;32m~\\Anaconda3\\lib\\site-packages\\pandas\\core\\groupby.py\u001b[0m in \u001b[0;36maggregate\u001b[1;34m(self, arg, *args, **kwargs)\u001b[0m\n\u001b[0;32m   3738\u001b[0m                     result = self._aggregate_multiple_funcs(\n\u001b[1;32m-> 3739\u001b[1;33m                         [arg], _level=_level, _axis=self.axis)\n\u001b[0m\u001b[0;32m   3740\u001b[0m                     result.columns = Index(\n",
      "\u001b[1;32m~\\Anaconda3\\lib\\site-packages\\pandas\\core\\base.py\u001b[0m in \u001b[0;36m_aggregate_multiple_funcs\u001b[1;34m(self, arg, _level, _axis)\u001b[0m\n\u001b[0;32m    583\u001b[0m                     \u001b[0mcolg\u001b[0m \u001b[1;33m=\u001b[0m \u001b[0mself\u001b[0m\u001b[1;33m.\u001b[0m\u001b[0m_gotitem\u001b[0m\u001b[1;33m(\u001b[0m\u001b[0mcol\u001b[0m\u001b[1;33m,\u001b[0m \u001b[0mndim\u001b[0m\u001b[1;33m=\u001b[0m\u001b[1;36m1\u001b[0m\u001b[1;33m,\u001b[0m \u001b[0msubset\u001b[0m\u001b[1;33m=\u001b[0m\u001b[0mobj\u001b[0m\u001b[1;33m[\u001b[0m\u001b[0mcol\u001b[0m\u001b[1;33m]\u001b[0m\u001b[1;33m)\u001b[0m\u001b[1;33m\u001b[0m\u001b[0m\n\u001b[1;32m--> 584\u001b[1;33m                     \u001b[0mresults\u001b[0m\u001b[1;33m.\u001b[0m\u001b[0mappend\u001b[0m\u001b[1;33m(\u001b[0m\u001b[0mcolg\u001b[0m\u001b[1;33m.\u001b[0m\u001b[0maggregate\u001b[0m\u001b[1;33m(\u001b[0m\u001b[0marg\u001b[0m\u001b[1;33m)\u001b[0m\u001b[1;33m)\u001b[0m\u001b[1;33m\u001b[0m\u001b[0m\n\u001b[0m\u001b[0;32m    585\u001b[0m                     \u001b[0mkeys\u001b[0m\u001b[1;33m.\u001b[0m\u001b[0mappend\u001b[0m\u001b[1;33m(\u001b[0m\u001b[0mcol\u001b[0m\u001b[1;33m)\u001b[0m\u001b[1;33m\u001b[0m\u001b[0m\n",
      "\u001b[1;32m~\\Anaconda3\\lib\\site-packages\\pandas\\core\\groupby.py\u001b[0m in \u001b[0;36maggregate\u001b[1;34m(self, func_or_funcs, *args, **kwargs)\u001b[0m\n\u001b[0;32m   3124\u001b[0m             ret = self._aggregate_multiple_funcs(func_or_funcs,\n\u001b[1;32m-> 3125\u001b[1;33m                                                  (_level or 0) + 1)\n\u001b[0m\u001b[0;32m   3126\u001b[0m         \u001b[1;32melse\u001b[0m\u001b[1;33m:\u001b[0m\u001b[1;33m\u001b[0m\u001b[0m\n",
      "\u001b[1;32m~\\Anaconda3\\lib\\site-packages\\pandas\\core\\groupby.py\u001b[0m in \u001b[0;36m_aggregate_multiple_funcs\u001b[1;34m(self, arg, _level)\u001b[0m\n\u001b[0;32m   3197\u001b[0m                 \u001b[0mobj\u001b[0m\u001b[1;33m.\u001b[0m\u001b[0m_selection\u001b[0m \u001b[1;33m=\u001b[0m \u001b[0mname\u001b[0m\u001b[1;33m\u001b[0m\u001b[0m\n\u001b[1;32m-> 3198\u001b[1;33m             \u001b[0mresults\u001b[0m\u001b[1;33m[\u001b[0m\u001b[0mname\u001b[0m\u001b[1;33m]\u001b[0m \u001b[1;33m=\u001b[0m \u001b[0mobj\u001b[0m\u001b[1;33m.\u001b[0m\u001b[0maggregate\u001b[0m\u001b[1;33m(\u001b[0m\u001b[0mfunc\u001b[0m\u001b[1;33m)\u001b[0m\u001b[1;33m\u001b[0m\u001b[0m\n\u001b[0m\u001b[0;32m   3199\u001b[0m \u001b[1;33m\u001b[0m\u001b[0m\n",
      "\u001b[1;32m~\\Anaconda3\\lib\\site-packages\\pandas\\core\\groupby.py\u001b[0m in \u001b[0;36maggregate\u001b[1;34m(self, func_or_funcs, *args, **kwargs)\u001b[0m\n\u001b[0;32m   3134\u001b[0m             \u001b[1;32mtry\u001b[0m\u001b[1;33m:\u001b[0m\u001b[1;33m\u001b[0m\u001b[0m\n\u001b[1;32m-> 3135\u001b[1;33m                 \u001b[1;32mreturn\u001b[0m \u001b[0mself\u001b[0m\u001b[1;33m.\u001b[0m\u001b[0m_python_agg_general\u001b[0m\u001b[1;33m(\u001b[0m\u001b[0mfunc_or_funcs\u001b[0m\u001b[1;33m,\u001b[0m \u001b[1;33m*\u001b[0m\u001b[0margs\u001b[0m\u001b[1;33m,\u001b[0m \u001b[1;33m**\u001b[0m\u001b[0mkwargs\u001b[0m\u001b[1;33m)\u001b[0m\u001b[1;33m\u001b[0m\u001b[0m\n\u001b[0m\u001b[0;32m   3136\u001b[0m             \u001b[1;32mexcept\u001b[0m \u001b[0mException\u001b[0m\u001b[1;33m:\u001b[0m\u001b[1;33m\u001b[0m\u001b[0m\n",
      "\u001b[1;32m~\\Anaconda3\\lib\\site-packages\\pandas\\core\\groupby.py\u001b[0m in \u001b[0;36m_python_agg_general\u001b[1;34m(self, func, *args, **kwargs)\u001b[0m\n\u001b[0;32m    938\u001b[0m             \u001b[1;32mtry\u001b[0m\u001b[1;33m:\u001b[0m\u001b[1;33m\u001b[0m\u001b[0m\n\u001b[1;32m--> 939\u001b[1;33m                 \u001b[0mresult\u001b[0m\u001b[1;33m,\u001b[0m \u001b[0mcounts\u001b[0m \u001b[1;33m=\u001b[0m \u001b[0mself\u001b[0m\u001b[1;33m.\u001b[0m\u001b[0mgrouper\u001b[0m\u001b[1;33m.\u001b[0m\u001b[0magg_series\u001b[0m\u001b[1;33m(\u001b[0m\u001b[0mobj\u001b[0m\u001b[1;33m,\u001b[0m \u001b[0mf\u001b[0m\u001b[1;33m)\u001b[0m\u001b[1;33m\u001b[0m\u001b[0m\n\u001b[0m\u001b[0;32m    940\u001b[0m                 \u001b[0moutput\u001b[0m\u001b[1;33m[\u001b[0m\u001b[0mname\u001b[0m\u001b[1;33m]\u001b[0m \u001b[1;33m=\u001b[0m \u001b[0mself\u001b[0m\u001b[1;33m.\u001b[0m\u001b[0m_try_cast\u001b[0m\u001b[1;33m(\u001b[0m\u001b[0mresult\u001b[0m\u001b[1;33m,\u001b[0m \u001b[0mobj\u001b[0m\u001b[1;33m,\u001b[0m \u001b[0mnumeric_only\u001b[0m\u001b[1;33m=\u001b[0m\u001b[1;32mTrue\u001b[0m\u001b[1;33m)\u001b[0m\u001b[1;33m\u001b[0m\u001b[0m\n",
      "\u001b[1;32m~\\Anaconda3\\lib\\site-packages\\pandas\\core\\groupby.py\u001b[0m in \u001b[0;36magg_series\u001b[1;34m(self, obj, func)\u001b[0m\n\u001b[0;32m   2356\u001b[0m         \u001b[1;32mtry\u001b[0m\u001b[1;33m:\u001b[0m\u001b[1;33m\u001b[0m\u001b[0m\n\u001b[1;32m-> 2357\u001b[1;33m             \u001b[1;32mreturn\u001b[0m \u001b[0mself\u001b[0m\u001b[1;33m.\u001b[0m\u001b[0m_aggregate_series_fast\u001b[0m\u001b[1;33m(\u001b[0m\u001b[0mobj\u001b[0m\u001b[1;33m,\u001b[0m \u001b[0mfunc\u001b[0m\u001b[1;33m)\u001b[0m\u001b[1;33m\u001b[0m\u001b[0m\n\u001b[0m\u001b[0;32m   2358\u001b[0m         \u001b[1;32mexcept\u001b[0m \u001b[0mException\u001b[0m\u001b[1;33m:\u001b[0m\u001b[1;33m\u001b[0m\u001b[0m\n",
      "\u001b[1;32m~\\Anaconda3\\lib\\site-packages\\pandas\\core\\groupby.py\u001b[0m in \u001b[0;36m_aggregate_series_fast\u001b[1;34m(self, obj, func)\u001b[0m\n\u001b[0;32m   2376\u001b[0m                                     dummy)\n\u001b[1;32m-> 2377\u001b[1;33m         \u001b[0mresult\u001b[0m\u001b[1;33m,\u001b[0m \u001b[0mcounts\u001b[0m \u001b[1;33m=\u001b[0m \u001b[0mgrouper\u001b[0m\u001b[1;33m.\u001b[0m\u001b[0mget_result\u001b[0m\u001b[1;33m(\u001b[0m\u001b[1;33m)\u001b[0m\u001b[1;33m\u001b[0m\u001b[0m\n\u001b[0m\u001b[0;32m   2378\u001b[0m         \u001b[1;32mreturn\u001b[0m \u001b[0mresult\u001b[0m\u001b[1;33m,\u001b[0m \u001b[0mcounts\u001b[0m\u001b[1;33m\u001b[0m\u001b[0m\n",
      "\u001b[1;32mpandas/_libs/src/reduce.pyx\u001b[0m in \u001b[0;36mpandas._libs.lib.SeriesGrouper.get_result\u001b[1;34m()\u001b[0m\n",
      "\u001b[1;32mpandas/_libs/src/reduce.pyx\u001b[0m in \u001b[0;36mpandas._libs.lib.SeriesGrouper.get_result\u001b[1;34m()\u001b[0m\n",
      "\u001b[1;32m~\\Anaconda3\\lib\\site-packages\\pandas\\core\\groupby.py\u001b[0m in \u001b[0;36m<lambda>\u001b[1;34m(x)\u001b[0m\n\u001b[0;32m    932\u001b[0m         \u001b[0mfunc\u001b[0m \u001b[1;33m=\u001b[0m \u001b[0mself\u001b[0m\u001b[1;33m.\u001b[0m\u001b[0m_is_builtin_func\u001b[0m\u001b[1;33m(\u001b[0m\u001b[0mfunc\u001b[0m\u001b[1;33m)\u001b[0m\u001b[1;33m\u001b[0m\u001b[0m\n\u001b[1;32m--> 933\u001b[1;33m         \u001b[0mf\u001b[0m \u001b[1;33m=\u001b[0m \u001b[1;32mlambda\u001b[0m \u001b[0mx\u001b[0m\u001b[1;33m:\u001b[0m \u001b[0mfunc\u001b[0m\u001b[1;33m(\u001b[0m\u001b[0mx\u001b[0m\u001b[1;33m,\u001b[0m \u001b[1;33m*\u001b[0m\u001b[0margs\u001b[0m\u001b[1;33m,\u001b[0m \u001b[1;33m**\u001b[0m\u001b[0mkwargs\u001b[0m\u001b[1;33m)\u001b[0m\u001b[1;33m\u001b[0m\u001b[0m\n\u001b[0m\u001b[0;32m    934\u001b[0m \u001b[1;33m\u001b[0m\u001b[0m\n",
      "\u001b[1;32m~\\Anaconda3\\lib\\site-packages\\pandas\\core\\groupby.py\u001b[0m in \u001b[0;36m<lambda>\u001b[1;34m(x)\u001b[0m\n\u001b[0;32m   1248\u001b[0m                     result = self.aggregate(\n\u001b[1;32m-> 1249\u001b[1;33m                         lambda x: npfunc(x, axis=self.axis))\n\u001b[0m\u001b[0;32m   1250\u001b[0m                     \u001b[1;32mif\u001b[0m \u001b[0m_convert\u001b[0m\u001b[1;33m:\u001b[0m\u001b[1;33m\u001b[0m\u001b[0m\n",
      "\u001b[1;32m~\\Anaconda3\\lib\\site-packages\\numpy\\core\\fromnumeric.py\u001b[0m in \u001b[0;36mamax\u001b[1;34m(a, axis, out, keepdims)\u001b[0m\n\u001b[0;32m   2316\u001b[0m         \u001b[1;32melse\u001b[0m\u001b[1;33m:\u001b[0m\u001b[1;33m\u001b[0m\u001b[0m\n\u001b[1;32m-> 2317\u001b[1;33m             \u001b[1;32mreturn\u001b[0m \u001b[0mamax\u001b[0m\u001b[1;33m(\u001b[0m\u001b[0maxis\u001b[0m\u001b[1;33m=\u001b[0m\u001b[0maxis\u001b[0m\u001b[1;33m,\u001b[0m \u001b[0mout\u001b[0m\u001b[1;33m=\u001b[0m\u001b[0mout\u001b[0m\u001b[1;33m,\u001b[0m \u001b[1;33m**\u001b[0m\u001b[0mkwargs\u001b[0m\u001b[1;33m)\u001b[0m\u001b[1;33m\u001b[0m\u001b[0m\n\u001b[0m\u001b[0;32m   2318\u001b[0m \u001b[1;33m\u001b[0m\u001b[0m\n",
      "\u001b[1;32m~\\Anaconda3\\lib\\site-packages\\pandas\\core\\generic.py\u001b[0m in \u001b[0;36mstat_func\u001b[1;34m(self, axis, skipna, level, numeric_only, **kwargs)\u001b[0m\n\u001b[0;32m   7314\u001b[0m         return self._reduce(f, name, axis=axis, skipna=skipna,\n\u001b[1;32m-> 7315\u001b[1;33m                             numeric_only=numeric_only)\n\u001b[0m\u001b[0;32m   7316\u001b[0m \u001b[1;33m\u001b[0m\u001b[0m\n",
      "\u001b[1;32m~\\Anaconda3\\lib\\site-packages\\pandas\\core\\series.py\u001b[0m in \u001b[0;36m_reduce\u001b[1;34m(self, op, name, axis, skipna, numeric_only, filter_type, **kwds)\u001b[0m\n\u001b[0;32m   2576\u001b[0m             \u001b[1;32mwith\u001b[0m \u001b[0mnp\u001b[0m\u001b[1;33m.\u001b[0m\u001b[0merrstate\u001b[0m\u001b[1;33m(\u001b[0m\u001b[0mall\u001b[0m\u001b[1;33m=\u001b[0m\u001b[1;34m'ignore'\u001b[0m\u001b[1;33m)\u001b[0m\u001b[1;33m:\u001b[0m\u001b[1;33m\u001b[0m\u001b[0m\n\u001b[1;32m-> 2577\u001b[1;33m                 \u001b[1;32mreturn\u001b[0m \u001b[0mop\u001b[0m\u001b[1;33m(\u001b[0m\u001b[0mdelegate\u001b[0m\u001b[1;33m,\u001b[0m \u001b[0mskipna\u001b[0m\u001b[1;33m=\u001b[0m\u001b[0mskipna\u001b[0m\u001b[1;33m,\u001b[0m \u001b[1;33m**\u001b[0m\u001b[0mkwds\u001b[0m\u001b[1;33m)\u001b[0m\u001b[1;33m\u001b[0m\u001b[0m\n\u001b[0m\u001b[0;32m   2578\u001b[0m \u001b[1;33m\u001b[0m\u001b[0m\n",
      "\u001b[1;32m~\\Anaconda3\\lib\\site-packages\\pandas\\core\\nanops.py\u001b[0m in \u001b[0;36mf\u001b[1;34m(values, axis, skipna, **kwds)\u001b[0m\n\u001b[0;32m    130\u001b[0m                 \u001b[1;32mtry\u001b[0m\u001b[1;33m:\u001b[0m\u001b[1;33m\u001b[0m\u001b[0m\n\u001b[1;32m--> 131\u001b[1;33m                     \u001b[0mresult\u001b[0m \u001b[1;33m=\u001b[0m \u001b[0malt\u001b[0m\u001b[1;33m(\u001b[0m\u001b[0mvalues\u001b[0m\u001b[1;33m,\u001b[0m \u001b[0maxis\u001b[0m\u001b[1;33m=\u001b[0m\u001b[0maxis\u001b[0m\u001b[1;33m,\u001b[0m \u001b[0mskipna\u001b[0m\u001b[1;33m=\u001b[0m\u001b[0mskipna\u001b[0m\u001b[1;33m,\u001b[0m \u001b[1;33m**\u001b[0m\u001b[0mkwds\u001b[0m\u001b[1;33m)\u001b[0m\u001b[1;33m\u001b[0m\u001b[0m\n\u001b[0m\u001b[0;32m    132\u001b[0m                 \u001b[1;32mexcept\u001b[0m \u001b[0mValueError\u001b[0m \u001b[1;32mas\u001b[0m \u001b[0me\u001b[0m\u001b[1;33m:\u001b[0m\u001b[1;33m\u001b[0m\u001b[0m\n",
      "\u001b[1;32m~\\Anaconda3\\lib\\site-packages\\pandas\\core\\nanops.py\u001b[0m in \u001b[0;36mreduction\u001b[1;34m(values, axis, skipna)\u001b[0m\n\u001b[0;32m    493\u001b[0m         values, mask, dtype, dtype_max = _get_values(\n\u001b[1;32m--> 494\u001b[1;33m             values, skipna, fill_value_typ=fill_value_typ, )\n\u001b[0m\u001b[0;32m    495\u001b[0m \u001b[1;33m\u001b[0m\u001b[0m\n",
      "\u001b[1;32m~\\Anaconda3\\lib\\site-packages\\pandas\\core\\nanops.py\u001b[0m in \u001b[0;36m_get_values\u001b[1;34m(values, skipna, fill_value, fill_value_typ, isfinite, copy)\u001b[0m\n\u001b[0;32m    211\u001b[0m     \u001b[1;32melse\u001b[0m\u001b[1;33m:\u001b[0m\u001b[1;33m\u001b[0m\u001b[0m\n\u001b[1;32m--> 212\u001b[1;33m         \u001b[0mmask\u001b[0m \u001b[1;33m=\u001b[0m \u001b[0misna\u001b[0m\u001b[1;33m(\u001b[0m\u001b[0mvalues\u001b[0m\u001b[1;33m)\u001b[0m\u001b[1;33m\u001b[0m\u001b[0m\n\u001b[0m\u001b[0;32m    213\u001b[0m \u001b[1;33m\u001b[0m\u001b[0m\n",
      "\u001b[1;32m~\\Anaconda3\\lib\\site-packages\\pandas\\core\\dtypes\\missing.py\u001b[0m in \u001b[0;36misna\u001b[1;34m(obj)\u001b[0m\n\u001b[0;32m     44\u001b[0m     \"\"\"\n\u001b[1;32m---> 45\u001b[1;33m     \u001b[1;32mreturn\u001b[0m \u001b[0m_isna\u001b[0m\u001b[1;33m(\u001b[0m\u001b[0mobj\u001b[0m\u001b[1;33m)\u001b[0m\u001b[1;33m\u001b[0m\u001b[0m\n\u001b[0m\u001b[0;32m     46\u001b[0m \u001b[1;33m\u001b[0m\u001b[0m\n",
      "\u001b[1;32m~\\Anaconda3\\lib\\site-packages\\pandas\\core\\dtypes\\missing.py\u001b[0m in \u001b[0;36m_isna_new\u001b[1;34m(obj)\u001b[0m\n\u001b[0;32m     57\u001b[0m     \u001b[1;32melif\u001b[0m \u001b[0misinstance\u001b[0m\u001b[1;33m(\u001b[0m\u001b[0mobj\u001b[0m\u001b[1;33m,\u001b[0m \u001b[1;33m(\u001b[0m\u001b[0mABCSeries\u001b[0m\u001b[1;33m,\u001b[0m \u001b[0mnp\u001b[0m\u001b[1;33m.\u001b[0m\u001b[0mndarray\u001b[0m\u001b[1;33m,\u001b[0m \u001b[0mABCIndexClass\u001b[0m\u001b[1;33m)\u001b[0m\u001b[1;33m)\u001b[0m\u001b[1;33m:\u001b[0m\u001b[1;33m\u001b[0m\u001b[0m\n\u001b[1;32m---> 58\u001b[1;33m         \u001b[1;32mreturn\u001b[0m \u001b[0m_isna_ndarraylike\u001b[0m\u001b[1;33m(\u001b[0m\u001b[0mobj\u001b[0m\u001b[1;33m)\u001b[0m\u001b[1;33m\u001b[0m\u001b[0m\n\u001b[0m\u001b[0;32m     59\u001b[0m     \u001b[1;32melif\u001b[0m \u001b[0misinstance\u001b[0m\u001b[1;33m(\u001b[0m\u001b[0mobj\u001b[0m\u001b[1;33m,\u001b[0m \u001b[0mABCGeneric\u001b[0m\u001b[1;33m)\u001b[0m\u001b[1;33m:\u001b[0m\u001b[1;33m\u001b[0m\u001b[0m\n",
      "\u001b[1;32m~\\Anaconda3\\lib\\site-packages\\pandas\\core\\dtypes\\missing.py\u001b[0m in \u001b[0;36m_isna_ndarraylike\u001b[1;34m(obj)\u001b[0m\n\u001b[0;32m    152\u001b[0m     \u001b[1;32melse\u001b[0m\u001b[1;33m:\u001b[0m\u001b[1;33m\u001b[0m\u001b[0m\n\u001b[1;32m--> 153\u001b[1;33m         \u001b[0mresult\u001b[0m \u001b[1;33m=\u001b[0m \u001b[0mnp\u001b[0m\u001b[1;33m.\u001b[0m\u001b[0misnan\u001b[0m\u001b[1;33m(\u001b[0m\u001b[0mvalues\u001b[0m\u001b[1;33m)\u001b[0m\u001b[1;33m\u001b[0m\u001b[0m\n\u001b[0m\u001b[0;32m    154\u001b[0m \u001b[1;33m\u001b[0m\u001b[0m\n",
      "\u001b[1;31mKeyboardInterrupt\u001b[0m: ",
      "\nDuring handling of the above exception, another exception occurred:\n",
      "\u001b[1;31mKeyboardInterrupt\u001b[0m                         Traceback (most recent call last)",
      "\u001b[1;32m<ipython-input-82-b597968a27db>\u001b[0m in \u001b[0;36m<module>\u001b[1;34m()\u001b[0m\n\u001b[0;32m      4\u001b[0m \u001b[0mbar\u001b[0m \u001b[1;33m=\u001b[0m \u001b[0mprogressbar\u001b[0m\u001b[1;33m.\u001b[0m\u001b[0mProgressBar\u001b[0m\u001b[1;33m(\u001b[0m\u001b[1;33m)\u001b[0m\u001b[1;33m\u001b[0m\u001b[0m\n\u001b[0;32m      5\u001b[0m \u001b[1;32mfor\u001b[0m \u001b[0muser_id\u001b[0m \u001b[1;32min\u001b[0m \u001b[0mbar\u001b[0m\u001b[1;33m(\u001b[0m\u001b[0muser_id_list\u001b[0m\u001b[1;33m)\u001b[0m\u001b[1;33m:\u001b[0m\u001b[1;33m\u001b[0m\u001b[0m\n\u001b[1;32m----> 6\u001b[1;33m     \u001b[0mdict_rec_id\u001b[0m\u001b[1;33m[\u001b[0m\u001b[0muser_id\u001b[0m\u001b[1;33m]\u001b[0m\u001b[1;33m,\u001b[0m \u001b[0mdict_rec_name\u001b[0m\u001b[1;33m[\u001b[0m\u001b[0muser_id\u001b[0m\u001b[1;33m]\u001b[0m \u001b[1;33m=\u001b[0m \u001b[0mmake_recommendations\u001b[0m\u001b[1;33m(\u001b[0m\u001b[0muser_id\u001b[0m\u001b[1;33m,\u001b[0m \u001b[1;34m'user'\u001b[0m\u001b[1;33m)\u001b[0m\u001b[1;33m\u001b[0m\u001b[0m\n\u001b[0m",
      "\u001b[1;32m<ipython-input-75-87d4262dd598>\u001b[0m in \u001b[0;36mmake_recommendations\u001b[1;34m(_id, _id_type, train_data, train_df, movies, rec_num, user_mat, movie_mat)\u001b[0m\n\u001b[0;32m     62\u001b[0m         \u001b[1;32mif\u001b[0m\u001b[1;33m(\u001b[0m\u001b[0m_id\u001b[0m \u001b[1;32mnot\u001b[0m \u001b[1;32min\u001b[0m \u001b[0muser_ids_series\u001b[0m\u001b[1;33m)\u001b[0m\u001b[1;33m:\u001b[0m  \u001b[1;31m# user not in the training user/matrix data\u001b[0m\u001b[1;33m\u001b[0m\u001b[0m\n\u001b[0;32m     63\u001b[0m             \u001b[1;31m#print('User new')\u001b[0m\u001b[1;33m\u001b[0m\u001b[1;33m\u001b[0m\u001b[0m\n\u001b[1;32m---> 64\u001b[1;33m             \u001b[0mranked_movies\u001b[0m \u001b[1;33m=\u001b[0m \u001b[0mcreate_ranked_df\u001b[0m\u001b[1;33m(\u001b[0m\u001b[0mmovies\u001b[0m\u001b[1;33m,\u001b[0m \u001b[0mtrain_df\u001b[0m\u001b[1;33m)\u001b[0m\u001b[1;33m\u001b[0m\u001b[0m\n\u001b[0m\u001b[0;32m     65\u001b[0m             \u001b[1;31m# can do some randomness here too get 2*rec_num then pick randomly\u001b[0m\u001b[1;33m\u001b[0m\u001b[1;33m\u001b[0m\u001b[0m\n\u001b[0;32m     66\u001b[0m             \u001b[0mrec_ids_tmp\u001b[0m\u001b[1;33m,\u001b[0m \u001b[0m_\u001b[0m \u001b[1;33m=\u001b[0m \u001b[0mpopular_recommendations\u001b[0m\u001b[1;33m(\u001b[0m\u001b[0m_id\u001b[0m\u001b[1;33m,\u001b[0m \u001b[1;36m2\u001b[0m\u001b[1;33m*\u001b[0m\u001b[0mrec_num\u001b[0m\u001b[1;33m,\u001b[0m \u001b[0mranked_movies\u001b[0m\u001b[1;33m)\u001b[0m\u001b[1;33m\u001b[0m\u001b[0m\n",
      "\u001b[1;32m<ipython-input-16-b8a62c2cfd47>\u001b[0m in \u001b[0;36mcreate_ranked_df\u001b[1;34m(movies, reviews)\u001b[0m\n\u001b[0;32m     14\u001b[0m         \u001b[0mavg_ratings\u001b[0m \u001b[1;33m=\u001b[0m \u001b[0mmovie_ratings\u001b[0m\u001b[1;33m.\u001b[0m\u001b[0mmean\u001b[0m\u001b[1;33m(\u001b[0m\u001b[1;33m)\u001b[0m\u001b[1;33m\u001b[0m\u001b[0m\n\u001b[0;32m     15\u001b[0m         \u001b[0mnum_ratings\u001b[0m \u001b[1;33m=\u001b[0m \u001b[0mmovie_ratings\u001b[0m\u001b[1;33m.\u001b[0m\u001b[0mcount\u001b[0m\u001b[1;33m(\u001b[0m\u001b[1;33m)\u001b[0m\u001b[1;33m\u001b[0m\u001b[0m\n\u001b[1;32m---> 16\u001b[1;33m         \u001b[0mlast_rating\u001b[0m \u001b[1;33m=\u001b[0m \u001b[0mpd\u001b[0m\u001b[1;33m.\u001b[0m\u001b[0mDataFrame\u001b[0m\u001b[1;33m(\u001b[0m\u001b[0mreviews\u001b[0m\u001b[1;33m.\u001b[0m\u001b[0mgroupby\u001b[0m\u001b[1;33m(\u001b[0m\u001b[1;34m'movie_id'\u001b[0m\u001b[1;33m)\u001b[0m\u001b[1;33m.\u001b[0m\u001b[0mmax\u001b[0m\u001b[1;33m(\u001b[0m\u001b[1;33m)\u001b[0m\u001b[1;33m[\u001b[0m\u001b[1;34m'date'\u001b[0m\u001b[1;33m]\u001b[0m\u001b[1;33m)\u001b[0m\u001b[1;33m\u001b[0m\u001b[0m\n\u001b[0m\u001b[0;32m     17\u001b[0m         \u001b[0mlast_rating\u001b[0m\u001b[1;33m.\u001b[0m\u001b[0mcolumns\u001b[0m \u001b[1;33m=\u001b[0m \u001b[1;33m[\u001b[0m\u001b[1;34m'last_rating'\u001b[0m\u001b[1;33m]\u001b[0m\u001b[1;33m\u001b[0m\u001b[0m\n\u001b[0;32m     18\u001b[0m \u001b[1;33m\u001b[0m\u001b[0m\n",
      "\u001b[1;32m~\\Anaconda3\\lib\\site-packages\\pandas\\core\\groupby.py\u001b[0m in \u001b[0;36mf\u001b[1;34m(self, **kwargs)\u001b[0m\n\u001b[0;32m   1247\u001b[0m                 \u001b[1;32mexcept\u001b[0m \u001b[0mException\u001b[0m\u001b[1;33m:\u001b[0m\u001b[1;33m\u001b[0m\u001b[0m\n\u001b[0;32m   1248\u001b[0m                     result = self.aggregate(\n\u001b[1;32m-> 1249\u001b[1;33m                         lambda x: npfunc(x, axis=self.axis))\n\u001b[0m\u001b[0;32m   1250\u001b[0m                     \u001b[1;32mif\u001b[0m \u001b[0m_convert\u001b[0m\u001b[1;33m:\u001b[0m\u001b[1;33m\u001b[0m\u001b[0m\n\u001b[0;32m   1251\u001b[0m                         \u001b[0mresult\u001b[0m \u001b[1;33m=\u001b[0m \u001b[0mresult\u001b[0m\u001b[1;33m.\u001b[0m\u001b[0m_convert\u001b[0m\u001b[1;33m(\u001b[0m\u001b[0mdatetime\u001b[0m\u001b[1;33m=\u001b[0m\u001b[1;32mTrue\u001b[0m\u001b[1;33m)\u001b[0m\u001b[1;33m\u001b[0m\u001b[0m\n",
      "\u001b[1;32m~\\Anaconda3\\lib\\site-packages\\pandas\\core\\groupby.py\u001b[0m in \u001b[0;36maggregate\u001b[1;34m(self, arg, *args, **kwargs)\u001b[0m\n\u001b[0;32m   4289\u001b[0m         versionadded=''))\n\u001b[0;32m   4290\u001b[0m     \u001b[1;32mdef\u001b[0m \u001b[0maggregate\u001b[0m\u001b[1;33m(\u001b[0m\u001b[0mself\u001b[0m\u001b[1;33m,\u001b[0m \u001b[0marg\u001b[0m\u001b[1;33m,\u001b[0m \u001b[1;33m*\u001b[0m\u001b[0margs\u001b[0m\u001b[1;33m,\u001b[0m \u001b[1;33m**\u001b[0m\u001b[0mkwargs\u001b[0m\u001b[1;33m)\u001b[0m\u001b[1;33m:\u001b[0m\u001b[1;33m\u001b[0m\u001b[0m\n\u001b[1;32m-> 4291\u001b[1;33m         \u001b[1;32mreturn\u001b[0m \u001b[0msuper\u001b[0m\u001b[1;33m(\u001b[0m\u001b[0mDataFrameGroupBy\u001b[0m\u001b[1;33m,\u001b[0m \u001b[0mself\u001b[0m\u001b[1;33m)\u001b[0m\u001b[1;33m.\u001b[0m\u001b[0maggregate\u001b[0m\u001b[1;33m(\u001b[0m\u001b[0marg\u001b[0m\u001b[1;33m,\u001b[0m \u001b[1;33m*\u001b[0m\u001b[0margs\u001b[0m\u001b[1;33m,\u001b[0m \u001b[1;33m**\u001b[0m\u001b[0mkwargs\u001b[0m\u001b[1;33m)\u001b[0m\u001b[1;33m\u001b[0m\u001b[0m\n\u001b[0m\u001b[0;32m   4292\u001b[0m \u001b[1;33m\u001b[0m\u001b[0m\n\u001b[0;32m   4293\u001b[0m     \u001b[0magg\u001b[0m \u001b[1;33m=\u001b[0m \u001b[0maggregate\u001b[0m\u001b[1;33m\u001b[0m\u001b[0m\n",
      "\u001b[1;32m~\\Anaconda3\\lib\\site-packages\\pandas\\core\\groupby.py\u001b[0m in \u001b[0;36maggregate\u001b[1;34m(self, arg, *args, **kwargs)\u001b[0m\n\u001b[0;32m   3742\u001b[0m                         name=self._selected_obj.columns.name)\n\u001b[0;32m   3743\u001b[0m                 \u001b[1;32mexcept\u001b[0m\u001b[1;33m:\u001b[0m\u001b[1;33m\u001b[0m\u001b[0m\n\u001b[1;32m-> 3744\u001b[1;33m                     \u001b[0mresult\u001b[0m \u001b[1;33m=\u001b[0m \u001b[0mself\u001b[0m\u001b[1;33m.\u001b[0m\u001b[0m_aggregate_generic\u001b[0m\u001b[1;33m(\u001b[0m\u001b[0marg\u001b[0m\u001b[1;33m,\u001b[0m \u001b[1;33m*\u001b[0m\u001b[0margs\u001b[0m\u001b[1;33m,\u001b[0m \u001b[1;33m**\u001b[0m\u001b[0mkwargs\u001b[0m\u001b[1;33m)\u001b[0m\u001b[1;33m\u001b[0m\u001b[0m\n\u001b[0m\u001b[0;32m   3745\u001b[0m \u001b[1;33m\u001b[0m\u001b[0m\n\u001b[0;32m   3746\u001b[0m         \u001b[1;32mif\u001b[0m \u001b[1;32mnot\u001b[0m \u001b[0mself\u001b[0m\u001b[1;33m.\u001b[0m\u001b[0mas_index\u001b[0m\u001b[1;33m:\u001b[0m\u001b[1;33m\u001b[0m\u001b[0m\n",
      "\u001b[1;32m~\\Anaconda3\\lib\\site-packages\\pandas\\core\\groupby.py\u001b[0m in \u001b[0;36m_aggregate_generic\u001b[1;34m(self, func, *args, **kwargs)\u001b[0m\n\u001b[0;32m   3764\u001b[0m                 \u001b[1;32mfor\u001b[0m \u001b[0mname\u001b[0m\u001b[1;33m,\u001b[0m \u001b[0mdata\u001b[0m \u001b[1;32min\u001b[0m \u001b[0mself\u001b[0m\u001b[1;33m:\u001b[0m\u001b[1;33m\u001b[0m\u001b[0m\n\u001b[0;32m   3765\u001b[0m                     result[name] = self._try_cast(func(data, *args, **kwargs),\n\u001b[1;32m-> 3766\u001b[1;33m                                                   data)\n\u001b[0m\u001b[0;32m   3767\u001b[0m             \u001b[1;32mexcept\u001b[0m \u001b[0mException\u001b[0m\u001b[1;33m:\u001b[0m\u001b[1;33m\u001b[0m\u001b[0m\n\u001b[0;32m   3768\u001b[0m                 \u001b[1;32mreturn\u001b[0m \u001b[0mself\u001b[0m\u001b[1;33m.\u001b[0m\u001b[0m_aggregate_item_by_item\u001b[0m\u001b[1;33m(\u001b[0m\u001b[0mfunc\u001b[0m\u001b[1;33m,\u001b[0m \u001b[1;33m*\u001b[0m\u001b[0margs\u001b[0m\u001b[1;33m,\u001b[0m \u001b[1;33m**\u001b[0m\u001b[0mkwargs\u001b[0m\u001b[1;33m)\u001b[0m\u001b[1;33m\u001b[0m\u001b[0m\n",
      "\u001b[1;32m~\\Anaconda3\\lib\\site-packages\\pandas\\core\\groupby.py\u001b[0m in \u001b[0;36m_try_cast\u001b[1;34m(self, result, obj, numeric_only)\u001b[0m\n\u001b[0;32m    879\u001b[0m         \"\"\"\n\u001b[0;32m    880\u001b[0m         \u001b[1;32mif\u001b[0m \u001b[0mobj\u001b[0m\u001b[1;33m.\u001b[0m\u001b[0mndim\u001b[0m \u001b[1;33m>\u001b[0m \u001b[1;36m1\u001b[0m\u001b[1;33m:\u001b[0m\u001b[1;33m\u001b[0m\u001b[0m\n\u001b[1;32m--> 881\u001b[1;33m             \u001b[0mdtype\u001b[0m \u001b[1;33m=\u001b[0m \u001b[0mobj\u001b[0m\u001b[1;33m.\u001b[0m\u001b[0mvalues\u001b[0m\u001b[1;33m.\u001b[0m\u001b[0mdtype\u001b[0m\u001b[1;33m\u001b[0m\u001b[0m\n\u001b[0m\u001b[0;32m    882\u001b[0m         \u001b[1;32melse\u001b[0m\u001b[1;33m:\u001b[0m\u001b[1;33m\u001b[0m\u001b[0m\n\u001b[0;32m    883\u001b[0m             \u001b[0mdtype\u001b[0m \u001b[1;33m=\u001b[0m \u001b[0mobj\u001b[0m\u001b[1;33m.\u001b[0m\u001b[0mdtype\u001b[0m\u001b[1;33m\u001b[0m\u001b[0m\n",
      "\u001b[1;32m~\\Anaconda3\\lib\\site-packages\\pandas\\core\\generic.py\u001b[0m in \u001b[0;36mvalues\u001b[1;34m(self)\u001b[0m\n\u001b[0;32m   3809\u001b[0m         \u001b[0mwill\u001b[0m \u001b[0mresult\u001b[0m \u001b[1;32min\u001b[0m \u001b[0ma\u001b[0m \u001b[0mflot64\u001b[0m \u001b[0mdtype\u001b[0m\u001b[1;33m.\u001b[0m\u001b[1;33m\u001b[0m\u001b[0m\n\u001b[0;32m   3810\u001b[0m         \"\"\"\n\u001b[1;32m-> 3811\u001b[1;33m         \u001b[1;32mreturn\u001b[0m \u001b[0mself\u001b[0m\u001b[1;33m.\u001b[0m\u001b[0mas_matrix\u001b[0m\u001b[1;33m(\u001b[0m\u001b[1;33m)\u001b[0m\u001b[1;33m\u001b[0m\u001b[0m\n\u001b[0m\u001b[0;32m   3812\u001b[0m \u001b[1;33m\u001b[0m\u001b[0m\n\u001b[0;32m   3813\u001b[0m     \u001b[1;33m@\u001b[0m\u001b[0mproperty\u001b[0m\u001b[1;33m\u001b[0m\u001b[0m\n",
      "\u001b[1;32m~\\Anaconda3\\lib\\site-packages\\pandas\\core\\generic.py\u001b[0m in \u001b[0;36mas_matrix\u001b[1;34m(self, columns)\u001b[0m\n\u001b[0;32m   3790\u001b[0m         \u001b[0mself\u001b[0m\u001b[1;33m.\u001b[0m\u001b[0m_consolidate_inplace\u001b[0m\u001b[1;33m(\u001b[0m\u001b[1;33m)\u001b[0m\u001b[1;33m\u001b[0m\u001b[0m\n\u001b[0;32m   3791\u001b[0m         \u001b[1;32mif\u001b[0m \u001b[0mself\u001b[0m\u001b[1;33m.\u001b[0m\u001b[0m_AXIS_REVERSED\u001b[0m\u001b[1;33m:\u001b[0m\u001b[1;33m\u001b[0m\u001b[0m\n\u001b[1;32m-> 3792\u001b[1;33m             \u001b[1;32mreturn\u001b[0m \u001b[0mself\u001b[0m\u001b[1;33m.\u001b[0m\u001b[0m_data\u001b[0m\u001b[1;33m.\u001b[0m\u001b[0mas_matrix\u001b[0m\u001b[1;33m(\u001b[0m\u001b[0mcolumns\u001b[0m\u001b[1;33m)\u001b[0m\u001b[1;33m.\u001b[0m\u001b[0mT\u001b[0m\u001b[1;33m\u001b[0m\u001b[0m\n\u001b[0m\u001b[0;32m   3793\u001b[0m         \u001b[1;32mreturn\u001b[0m \u001b[0mself\u001b[0m\u001b[1;33m.\u001b[0m\u001b[0m_data\u001b[0m\u001b[1;33m.\u001b[0m\u001b[0mas_matrix\u001b[0m\u001b[1;33m(\u001b[0m\u001b[0mcolumns\u001b[0m\u001b[1;33m)\u001b[0m\u001b[1;33m\u001b[0m\u001b[0m\n\u001b[0;32m   3794\u001b[0m \u001b[1;33m\u001b[0m\u001b[0m\n",
      "\u001b[1;32m~\\Anaconda3\\lib\\site-packages\\pandas\\core\\internals.py\u001b[0m in \u001b[0;36mas_matrix\u001b[1;34m(self, items)\u001b[0m\n\u001b[0;32m   3676\u001b[0m             \u001b[1;32mreturn\u001b[0m \u001b[0mmgr\u001b[0m\u001b[1;33m.\u001b[0m\u001b[0mblocks\u001b[0m\u001b[1;33m[\u001b[0m\u001b[1;36m0\u001b[0m\u001b[1;33m]\u001b[0m\u001b[1;33m.\u001b[0m\u001b[0mget_values\u001b[0m\u001b[1;33m(\u001b[0m\u001b[1;33m)\u001b[0m\u001b[1;33m\u001b[0m\u001b[0m\n\u001b[0;32m   3677\u001b[0m         \u001b[1;32melse\u001b[0m\u001b[1;33m:\u001b[0m\u001b[1;33m\u001b[0m\u001b[0m\n\u001b[1;32m-> 3678\u001b[1;33m             \u001b[1;32mreturn\u001b[0m \u001b[0mmgr\u001b[0m\u001b[1;33m.\u001b[0m\u001b[0m_interleave\u001b[0m\u001b[1;33m(\u001b[0m\u001b[1;33m)\u001b[0m\u001b[1;33m\u001b[0m\u001b[0m\n\u001b[0m\u001b[0;32m   3679\u001b[0m \u001b[1;33m\u001b[0m\u001b[0m\n\u001b[0;32m   3680\u001b[0m     \u001b[1;32mdef\u001b[0m \u001b[0m_interleave\u001b[0m\u001b[1;33m(\u001b[0m\u001b[0mself\u001b[0m\u001b[1;33m)\u001b[0m\u001b[1;33m:\u001b[0m\u001b[1;33m\u001b[0m\u001b[0m\n",
      "\u001b[1;32m~\\Anaconda3\\lib\\site-packages\\pandas\\core\\internals.py\u001b[0m in \u001b[0;36m_interleave\u001b[1;34m(self)\u001b[0m\n\u001b[0;32m   3703\u001b[0m         \u001b[1;32mfor\u001b[0m \u001b[0mblk\u001b[0m \u001b[1;32min\u001b[0m \u001b[0mself\u001b[0m\u001b[1;33m.\u001b[0m\u001b[0mblocks\u001b[0m\u001b[1;33m:\u001b[0m\u001b[1;33m\u001b[0m\u001b[0m\n\u001b[0;32m   3704\u001b[0m             \u001b[0mrl\u001b[0m \u001b[1;33m=\u001b[0m \u001b[0mblk\u001b[0m\u001b[1;33m.\u001b[0m\u001b[0mmgr_locs\u001b[0m\u001b[1;33m\u001b[0m\u001b[0m\n\u001b[1;32m-> 3705\u001b[1;33m             \u001b[0mresult\u001b[0m\u001b[1;33m[\u001b[0m\u001b[0mrl\u001b[0m\u001b[1;33m.\u001b[0m\u001b[0mindexer\u001b[0m\u001b[1;33m]\u001b[0m \u001b[1;33m=\u001b[0m \u001b[0mblk\u001b[0m\u001b[1;33m.\u001b[0m\u001b[0mget_values\u001b[0m\u001b[1;33m(\u001b[0m\u001b[0mdtype\u001b[0m\u001b[1;33m)\u001b[0m\u001b[1;33m\u001b[0m\u001b[0m\n\u001b[0m\u001b[0;32m   3706\u001b[0m             \u001b[0mitemmask\u001b[0m\u001b[1;33m[\u001b[0m\u001b[0mrl\u001b[0m\u001b[1;33m.\u001b[0m\u001b[0mindexer\u001b[0m\u001b[1;33m]\u001b[0m \u001b[1;33m=\u001b[0m \u001b[1;36m1\u001b[0m\u001b[1;33m\u001b[0m\u001b[0m\n\u001b[0;32m   3707\u001b[0m \u001b[1;33m\u001b[0m\u001b[0m\n",
      "\u001b[1;31mKeyboardInterrupt\u001b[0m: "
     ]
    }
   ],
   "source": [
    "user_id_list = val_df.user_id.values\n",
    "dict_rec_name = {}\n",
    "dict_rec_id = {}\n",
    "bar = progressbar.ProgressBar()\n",
    "for user_id in bar(user_id_list):\n",
    "    dict_rec_id[user_id], dict_rec_name[user_id] = make_recommendations(user_id, 'user')"
   ]
  },
  {
   "cell_type": "code",
   "execution_count": 54,
   "metadata": {},
   "outputs": [
    {
     "name": "stdout",
     "output_type": "stream",
     "text": [
      "user_id 49056\n",
      "movie recommendation ['Incendies (2010)', 'Oz the Great and Powerful (2013)', 'Stoker (2013)', 'Bekas (2012)', 'Pitch Perfect (2012)']\n",
      "----------------------------\n",
      "\n",
      "user_id 28599\n",
      "movie recommendation ['Empire of the Sun (1987)', 'Jack the Giant Slayer (2013)', 'Django Unchained (2012)', 'Jagten (2012)', 'Sound City (2013)']\n",
      "----------------------------\n",
      "\n",
      "user_id 50593\n",
      "movie recommendation ['Empire of the Sun (1987)', 'The Shawshank Redemption (1994)', 'Inglourious Basterds (2009)', 'Life of Pi (2012)', 'Incendies (2010)']\n",
      "----------------------------\n",
      "\n",
      "user_id 29000\n",
      "movie recommendation ['Empire of the Sun (1987)', 'Blood Diamond (2006)', 'Skyfall (2012)', 'Sinister (2012)', 'Jagten (2012)']\n",
      "----------------------------\n",
      "\n",
      "user_id 32541\n",
      "movie recommendation ['Pulp Fiction (1994)', 'Blood Diamond (2006)', 'The Fall (2006)', 'Les Misérables (2012)', 'Shame (2011)']\n",
      "----------------------------\n",
      "\n",
      "user_id 9779\n",
      "movie recommendation ['The Curious Case of Benjamin Button (2008)', 'Lincoln (2012)', 'The Hobbit: An Unexpected Journey (2012)', 'Rise of the Guardians (2012)', 'Oz the Great and Powerful (2013)']\n",
      "----------------------------\n",
      "\n",
      "user_id 44110\n",
      "movie recommendation ['Casino (1995)', 'Fight Club (1999)', 'The Perks of Being a Wallflower (2012)', 'Safety Not Guaranteed (2012)', 'Bad 25 (2012)']\n",
      "----------------------------\n",
      "\n",
      "user_id 40093\n",
      "movie recommendation ['Goodfellas (1990)', 'The Shawshank Redemption (1994)', 'Snatch. (2000)', 'Gran Torino (2008)', 'Jodaeiye Nader az Simin (2011)']\n",
      "----------------------------\n",
      "\n",
      "user_id 17186\n",
      "movie recommendation ['The Big Lebowski (1998)', 'El secreto de sus ojos (2009)', 'Lo imposible (2012)', 'Killing Them Softly (2012)', 'Parker (2013)']\n",
      "----------------------------\n",
      "\n",
      "user_id 42089\n",
      "movie recommendation ['Casablanca (1942)', 'Empire of the Sun (1987)', 'The Dark Knight (2008)', 'Incendies (2010)', 'The Intouchables (2011)']\n",
      "----------------------------\n",
      "\n",
      "user_id 31367\n",
      "movie recommendation ['Blood Diamond (2006)', 'The Hobbit: An Unexpected Journey (2012)', 'The Descendants (2011)', 'The Perks of Being a Wallflower (2012)', 'Searching for Sugar Man (2012)']\n",
      "----------------------------\n",
      "\n",
      "user_id 10811\n",
      "movie recommendation ['A Few Good Men (1992)', 'Life of Pi (2012)', 'Les Misérables (2012)', 'Shame (2011)', 'Ruby Sparks (2012)']\n",
      "----------------------------\n",
      "\n",
      "user_id 37647\n",
      "movie recommendation ['Empire of the Sun (1987)', 'The Lives of Others (2006)', 'The Fall (2006)', 'Incendies (2010)', 'Sound City (2013)']\n",
      "----------------------------\n",
      "\n",
      "user_id 16138\n",
      "movie recommendation ['The Godfather (1972)', 'Goodfellas (1990)', 'There Will Be Blood (2007)', 'Step Brothers (2008)', 'Incendies (2010)']\n",
      "----------------------------\n",
      "\n",
      "user_id 45986\n",
      "movie recommendation ['The Shawshank Redemption (1994)', 'There Will Be Blood (2007)', 'Gran Torino (2008)', 'Django Unchained (2012)', 'Sound City (2013)']\n",
      "----------------------------\n",
      "\n",
      "user_id 16963\n",
      "movie recommendation ['The Shawshank Redemption (1994)', 'There Will Be Blood (2007)', 'Step Brothers (2008)', 'Gran Torino (2008)', 'Jodaeiye Nader az Simin (2011)']\n",
      "----------------------------\n",
      "\n",
      "user_id 7136\n",
      "movie recommendation ['Goodfellas (1990)', 'American Beauty (1999)', 'Snatch. (2000)', 'There Will Be Blood (2007)', 'Gran Torino (2008)']\n",
      "----------------------------\n",
      "\n",
      "user_id 47985\n",
      "movie recommendation ['Goodfellas (1990)', 'The Shawshank Redemption (1994)', 'American Beauty (1999)', 'Snatch. (2000)', 'Step Brothers (2008)']\n",
      "----------------------------\n",
      "\n",
      "user_id 43524\n",
      "movie recommendation ['Empire of the Sun (1987)', \"Schindler's List (1993)\", 'Casino (1995)', 'Lincoln (2012)', 'The Fall (2006)']\n",
      "----------------------------\n",
      "\n",
      "user_id 33808\n",
      "movie recommendation ['The Godfather (1972)', 'Empire of the Sun (1987)', 'The Shawshank Redemption (1994)', 'Step Brothers (2008)', 'Sound City (2013)']\n",
      "----------------------------\n",
      "\n"
     ]
    }
   ],
   "source": [
    "count = 0\n",
    "for key, value in dict_rec_name.items():\n",
    "    if(count<20):\n",
    "        print('user_id',key)\n",
    "        print('movie recommendation', value)\n",
    "        print('----------------------------')\n",
    "        print()\n",
    "        count += 1"
   ]
  },
  {
   "cell_type": "code",
   "execution_count": null,
   "metadata": {},
   "outputs": [],
   "source": []
  }
 ],
 "metadata": {
  "kernelspec": {
   "display_name": "Python [default]",
   "language": "python",
   "name": "python3"
  },
  "language_info": {
   "codemirror_mode": {
    "name": "ipython",
    "version": 3
   },
   "file_extension": ".py",
   "mimetype": "text/x-python",
   "name": "python",
   "nbconvert_exporter": "python",
   "pygments_lexer": "ipython3",
   "version": "3.6.4"
  }
 },
 "nbformat": 4,
 "nbformat_minor": 2
}
