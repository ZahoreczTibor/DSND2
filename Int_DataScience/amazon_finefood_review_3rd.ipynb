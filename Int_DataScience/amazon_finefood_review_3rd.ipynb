{
 "cells": [
  {
   "cell_type": "code",
   "execution_count": 150,
   "metadata": {},
   "outputs": [],
   "source": [
    "import numpy as np\n",
    "import pandas as pd\n",
    "import matplotlib.pyplot as plt\n",
    "from datetime import datetime\n",
    "import seaborn as sns\n",
    "\n",
    "%matplotlib inline\n"
   ]
  },
  {
   "cell_type": "code",
   "execution_count": 2,
   "metadata": {},
   "outputs": [],
   "source": [
    "amz_review=pd.read_csv('Reviews.csv')"
   ]
  },
  {
   "cell_type": "code",
   "execution_count": 3,
   "metadata": {},
   "outputs": [
    {
     "data": {
      "text/html": [
       "<div>\n",
       "<style scoped>\n",
       "    .dataframe tbody tr th:only-of-type {\n",
       "        vertical-align: middle;\n",
       "    }\n",
       "\n",
       "    .dataframe tbody tr th {\n",
       "        vertical-align: top;\n",
       "    }\n",
       "\n",
       "    .dataframe thead th {\n",
       "        text-align: right;\n",
       "    }\n",
       "</style>\n",
       "<table border=\"1\" class=\"dataframe\">\n",
       "  <thead>\n",
       "    <tr style=\"text-align: right;\">\n",
       "      <th></th>\n",
       "      <th>Id</th>\n",
       "      <th>ProductId</th>\n",
       "      <th>UserId</th>\n",
       "      <th>ProfileName</th>\n",
       "      <th>HelpfulnessNumerator</th>\n",
       "      <th>HelpfulnessDenominator</th>\n",
       "      <th>Score</th>\n",
       "      <th>Time</th>\n",
       "      <th>Summary</th>\n",
       "      <th>Text</th>\n",
       "    </tr>\n",
       "  </thead>\n",
       "  <tbody>\n",
       "    <tr>\n",
       "      <th>0</th>\n",
       "      <td>1</td>\n",
       "      <td>B001E4KFG0</td>\n",
       "      <td>A3SGXH7AUHU8GW</td>\n",
       "      <td>delmartian</td>\n",
       "      <td>1</td>\n",
       "      <td>1</td>\n",
       "      <td>5</td>\n",
       "      <td>1303862400</td>\n",
       "      <td>Good Quality Dog Food</td>\n",
       "      <td>I have bought several of the Vitality canned d...</td>\n",
       "    </tr>\n",
       "    <tr>\n",
       "      <th>1</th>\n",
       "      <td>2</td>\n",
       "      <td>B00813GRG4</td>\n",
       "      <td>A1D87F6ZCVE5NK</td>\n",
       "      <td>dll pa</td>\n",
       "      <td>0</td>\n",
       "      <td>0</td>\n",
       "      <td>1</td>\n",
       "      <td>1346976000</td>\n",
       "      <td>Not as Advertised</td>\n",
       "      <td>Product arrived labeled as Jumbo Salted Peanut...</td>\n",
       "    </tr>\n",
       "    <tr>\n",
       "      <th>2</th>\n",
       "      <td>3</td>\n",
       "      <td>B000LQOCH0</td>\n",
       "      <td>ABXLMWJIXXAIN</td>\n",
       "      <td>Natalia Corres \"Natalia Corres\"</td>\n",
       "      <td>1</td>\n",
       "      <td>1</td>\n",
       "      <td>4</td>\n",
       "      <td>1219017600</td>\n",
       "      <td>\"Delight\" says it all</td>\n",
       "      <td>This is a confection that has been around a fe...</td>\n",
       "    </tr>\n",
       "    <tr>\n",
       "      <th>3</th>\n",
       "      <td>4</td>\n",
       "      <td>B000UA0QIQ</td>\n",
       "      <td>A395BORC6FGVXV</td>\n",
       "      <td>Karl</td>\n",
       "      <td>3</td>\n",
       "      <td>3</td>\n",
       "      <td>2</td>\n",
       "      <td>1307923200</td>\n",
       "      <td>Cough Medicine</td>\n",
       "      <td>If you are looking for the secret ingredient i...</td>\n",
       "    </tr>\n",
       "    <tr>\n",
       "      <th>4</th>\n",
       "      <td>5</td>\n",
       "      <td>B006K2ZZ7K</td>\n",
       "      <td>A1UQRSCLF8GW1T</td>\n",
       "      <td>Michael D. Bigham \"M. Wassir\"</td>\n",
       "      <td>0</td>\n",
       "      <td>0</td>\n",
       "      <td>5</td>\n",
       "      <td>1350777600</td>\n",
       "      <td>Great taffy</td>\n",
       "      <td>Great taffy at a great price.  There was a wid...</td>\n",
       "    </tr>\n",
       "  </tbody>\n",
       "</table>\n",
       "</div>"
      ],
      "text/plain": [
       "   Id   ProductId          UserId                      ProfileName  \\\n",
       "0   1  B001E4KFG0  A3SGXH7AUHU8GW                       delmartian   \n",
       "1   2  B00813GRG4  A1D87F6ZCVE5NK                           dll pa   \n",
       "2   3  B000LQOCH0   ABXLMWJIXXAIN  Natalia Corres \"Natalia Corres\"   \n",
       "3   4  B000UA0QIQ  A395BORC6FGVXV                             Karl   \n",
       "4   5  B006K2ZZ7K  A1UQRSCLF8GW1T    Michael D. Bigham \"M. Wassir\"   \n",
       "\n",
       "   HelpfulnessNumerator  HelpfulnessDenominator  Score        Time  \\\n",
       "0                     1                       1      5  1303862400   \n",
       "1                     0                       0      1  1346976000   \n",
       "2                     1                       1      4  1219017600   \n",
       "3                     3                       3      2  1307923200   \n",
       "4                     0                       0      5  1350777600   \n",
       "\n",
       "                 Summary                                               Text  \n",
       "0  Good Quality Dog Food  I have bought several of the Vitality canned d...  \n",
       "1      Not as Advertised  Product arrived labeled as Jumbo Salted Peanut...  \n",
       "2  \"Delight\" says it all  This is a confection that has been around a fe...  \n",
       "3         Cough Medicine  If you are looking for the secret ingredient i...  \n",
       "4            Great taffy  Great taffy at a great price.  There was a wid...  "
      ]
     },
     "execution_count": 3,
     "metadata": {},
     "output_type": "execute_result"
    }
   ],
   "source": [
    "amz_review.head()"
   ]
  },
  {
   "cell_type": "code",
   "execution_count": 4,
   "metadata": {},
   "outputs": [
    {
     "data": {
      "text/plain": [
       "(568454, 10)"
      ]
     },
     "execution_count": 4,
     "metadata": {},
     "output_type": "execute_result"
    }
   ],
   "source": [
    "amz_review.shape"
   ]
  },
  {
   "cell_type": "code",
   "execution_count": 5,
   "metadata": {
    "scrolled": true
   },
   "outputs": [
    {
     "data": {
      "text/plain": [
       "'I have bought several of the Vitality canned dog food products and have found them all to be of good quality. The product looks more like a stew than a processed meat and it smells better. My Labrador is finicky and she appreciates this product better than  most.'"
      ]
     },
     "execution_count": 5,
     "metadata": {},
     "output_type": "execute_result"
    }
   ],
   "source": [
    "amz_review['Text'][0]"
   ]
  },
  {
   "cell_type": "code",
   "execution_count": 6,
   "metadata": {},
   "outputs": [
    {
     "data": {
      "text/plain": [
       "'Good Quality Dog Food'"
      ]
     },
     "execution_count": 6,
     "metadata": {},
     "output_type": "execute_result"
    }
   ],
   "source": [
    "amz_review['Summary'][0]"
   ]
  },
  {
   "cell_type": "code",
   "execution_count": 7,
   "metadata": {
    "scrolled": false
   },
   "outputs": [
    {
     "data": {
      "text/html": [
       "<div>\n",
       "<style scoped>\n",
       "    .dataframe tbody tr th:only-of-type {\n",
       "        vertical-align: middle;\n",
       "    }\n",
       "\n",
       "    .dataframe tbody tr th {\n",
       "        vertical-align: top;\n",
       "    }\n",
       "\n",
       "    .dataframe thead th {\n",
       "        text-align: right;\n",
       "    }\n",
       "</style>\n",
       "<table border=\"1\" class=\"dataframe\">\n",
       "  <thead>\n",
       "    <tr style=\"text-align: right;\">\n",
       "      <th></th>\n",
       "      <th></th>\n",
       "      <th>Id</th>\n",
       "      <th>ProfileName</th>\n",
       "      <th>HelpfulnessNumerator</th>\n",
       "      <th>HelpfulnessDenominator</th>\n",
       "      <th>Score</th>\n",
       "      <th>Time</th>\n",
       "      <th>Summary</th>\n",
       "      <th>Text</th>\n",
       "    </tr>\n",
       "    <tr>\n",
       "      <th>UserId</th>\n",
       "      <th>ProductId</th>\n",
       "      <th></th>\n",
       "      <th></th>\n",
       "      <th></th>\n",
       "      <th></th>\n",
       "      <th></th>\n",
       "      <th></th>\n",
       "      <th></th>\n",
       "      <th></th>\n",
       "    </tr>\n",
       "  </thead>\n",
       "  <tbody>\n",
       "    <tr>\n",
       "      <th rowspan=\"11\" valign=\"top\">A29JUMRL1US6YP</th>\n",
       "      <th>B000WFKWDI</th>\n",
       "      <td>11</td>\n",
       "      <td>11</td>\n",
       "      <td>11</td>\n",
       "      <td>11</td>\n",
       "      <td>11</td>\n",
       "      <td>11</td>\n",
       "      <td>11</td>\n",
       "      <td>11</td>\n",
       "    </tr>\n",
       "    <tr>\n",
       "      <th>B000WFU8O6</th>\n",
       "      <td>11</td>\n",
       "      <td>11</td>\n",
       "      <td>11</td>\n",
       "      <td>11</td>\n",
       "      <td>11</td>\n",
       "      <td>11</td>\n",
       "      <td>11</td>\n",
       "      <td>11</td>\n",
       "    </tr>\n",
       "    <tr>\n",
       "      <th>B000WFN0VO</th>\n",
       "      <td>11</td>\n",
       "      <td>11</td>\n",
       "      <td>11</td>\n",
       "      <td>11</td>\n",
       "      <td>11</td>\n",
       "      <td>11</td>\n",
       "      <td>11</td>\n",
       "      <td>11</td>\n",
       "    </tr>\n",
       "    <tr>\n",
       "      <th>B000WFORH0</th>\n",
       "      <td>11</td>\n",
       "      <td>11</td>\n",
       "      <td>11</td>\n",
       "      <td>11</td>\n",
       "      <td>11</td>\n",
       "      <td>11</td>\n",
       "      <td>11</td>\n",
       "      <td>11</td>\n",
       "    </tr>\n",
       "    <tr>\n",
       "      <th>B000WFKI82</th>\n",
       "      <td>11</td>\n",
       "      <td>11</td>\n",
       "      <td>11</td>\n",
       "      <td>11</td>\n",
       "      <td>11</td>\n",
       "      <td>11</td>\n",
       "      <td>11</td>\n",
       "      <td>11</td>\n",
       "    </tr>\n",
       "    <tr>\n",
       "      <th>B000WFEN74</th>\n",
       "      <td>11</td>\n",
       "      <td>11</td>\n",
       "      <td>11</td>\n",
       "      <td>11</td>\n",
       "      <td>11</td>\n",
       "      <td>11</td>\n",
       "      <td>11</td>\n",
       "      <td>11</td>\n",
       "    </tr>\n",
       "    <tr>\n",
       "      <th>B000WFPJIG</th>\n",
       "      <td>11</td>\n",
       "      <td>11</td>\n",
       "      <td>11</td>\n",
       "      <td>11</td>\n",
       "      <td>11</td>\n",
       "      <td>11</td>\n",
       "      <td>11</td>\n",
       "      <td>11</td>\n",
       "    </tr>\n",
       "    <tr>\n",
       "      <th>B000WFRQQ4</th>\n",
       "      <td>11</td>\n",
       "      <td>11</td>\n",
       "      <td>11</td>\n",
       "      <td>11</td>\n",
       "      <td>11</td>\n",
       "      <td>11</td>\n",
       "      <td>11</td>\n",
       "      <td>11</td>\n",
       "    </tr>\n",
       "    <tr>\n",
       "      <th>B00008CQVA</th>\n",
       "      <td>11</td>\n",
       "      <td>11</td>\n",
       "      <td>11</td>\n",
       "      <td>11</td>\n",
       "      <td>11</td>\n",
       "      <td>11</td>\n",
       "      <td>11</td>\n",
       "      <td>11</td>\n",
       "    </tr>\n",
       "    <tr>\n",
       "      <th>B000084EZ4</th>\n",
       "      <td>11</td>\n",
       "      <td>11</td>\n",
       "      <td>11</td>\n",
       "      <td>11</td>\n",
       "      <td>11</td>\n",
       "      <td>11</td>\n",
       "      <td>11</td>\n",
       "      <td>11</td>\n",
       "    </tr>\n",
       "    <tr>\n",
       "      <th>B000WFUL3E</th>\n",
       "      <td>11</td>\n",
       "      <td>11</td>\n",
       "      <td>11</td>\n",
       "      <td>11</td>\n",
       "      <td>11</td>\n",
       "      <td>11</td>\n",
       "      <td>11</td>\n",
       "      <td>11</td>\n",
       "    </tr>\n",
       "    <tr>\n",
       "      <th rowspan=\"14\" valign=\"top\">A3TVZM3ZIXG8YW</th>\n",
       "      <th>B003M60K54</th>\n",
       "      <td>10</td>\n",
       "      <td>10</td>\n",
       "      <td>10</td>\n",
       "      <td>10</td>\n",
       "      <td>10</td>\n",
       "      <td>10</td>\n",
       "      <td>10</td>\n",
       "      <td>10</td>\n",
       "    </tr>\n",
       "    <tr>\n",
       "      <th>B000084DWM</th>\n",
       "      <td>10</td>\n",
       "      <td>10</td>\n",
       "      <td>10</td>\n",
       "      <td>10</td>\n",
       "      <td>10</td>\n",
       "      <td>10</td>\n",
       "      <td>10</td>\n",
       "      <td>10</td>\n",
       "    </tr>\n",
       "    <tr>\n",
       "      <th>B001VIY8BW</th>\n",
       "      <td>10</td>\n",
       "      <td>10</td>\n",
       "      <td>10</td>\n",
       "      <td>10</td>\n",
       "      <td>10</td>\n",
       "      <td>10</td>\n",
       "      <td>10</td>\n",
       "      <td>10</td>\n",
       "    </tr>\n",
       "    <tr>\n",
       "      <th>B000QSN7P6</th>\n",
       "      <td>10</td>\n",
       "      <td>10</td>\n",
       "      <td>10</td>\n",
       "      <td>10</td>\n",
       "      <td>10</td>\n",
       "      <td>10</td>\n",
       "      <td>10</td>\n",
       "      <td>10</td>\n",
       "    </tr>\n",
       "    <tr>\n",
       "      <th>B003ANFMY8</th>\n",
       "      <td>10</td>\n",
       "      <td>10</td>\n",
       "      <td>10</td>\n",
       "      <td>10</td>\n",
       "      <td>10</td>\n",
       "      <td>10</td>\n",
       "      <td>10</td>\n",
       "      <td>10</td>\n",
       "    </tr>\n",
       "    <tr>\n",
       "      <th>B003BJOORW</th>\n",
       "      <td>10</td>\n",
       "      <td>10</td>\n",
       "      <td>10</td>\n",
       "      <td>10</td>\n",
       "      <td>10</td>\n",
       "      <td>10</td>\n",
       "      <td>10</td>\n",
       "      <td>10</td>\n",
       "    </tr>\n",
       "    <tr>\n",
       "      <th>B003M5TG28</th>\n",
       "      <td>10</td>\n",
       "      <td>10</td>\n",
       "      <td>10</td>\n",
       "      <td>10</td>\n",
       "      <td>10</td>\n",
       "      <td>10</td>\n",
       "      <td>10</td>\n",
       "      <td>10</td>\n",
       "    </tr>\n",
       "    <tr>\n",
       "      <th>B001VIYCK4</th>\n",
       "      <td>10</td>\n",
       "      <td>10</td>\n",
       "      <td>10</td>\n",
       "      <td>10</td>\n",
       "      <td>10</td>\n",
       "      <td>10</td>\n",
       "      <td>10</td>\n",
       "      <td>10</td>\n",
       "    </tr>\n",
       "    <tr>\n",
       "      <th>B003MA8P02</th>\n",
       "      <td>10</td>\n",
       "      <td>10</td>\n",
       "      <td>10</td>\n",
       "      <td>10</td>\n",
       "      <td>10</td>\n",
       "      <td>10</td>\n",
       "      <td>10</td>\n",
       "      <td>10</td>\n",
       "    </tr>\n",
       "    <tr>\n",
       "      <th>B0002MLA5K</th>\n",
       "      <td>10</td>\n",
       "      <td>10</td>\n",
       "      <td>10</td>\n",
       "      <td>10</td>\n",
       "      <td>10</td>\n",
       "      <td>10</td>\n",
       "      <td>10</td>\n",
       "      <td>10</td>\n",
       "    </tr>\n",
       "    <tr>\n",
       "      <th>B003MW7858</th>\n",
       "      <td>10</td>\n",
       "      <td>10</td>\n",
       "      <td>10</td>\n",
       "      <td>10</td>\n",
       "      <td>10</td>\n",
       "      <td>10</td>\n",
       "      <td>10</td>\n",
       "      <td>10</td>\n",
       "    </tr>\n",
       "    <tr>\n",
       "      <th>B003MWBFMK</th>\n",
       "      <td>10</td>\n",
       "      <td>10</td>\n",
       "      <td>10</td>\n",
       "      <td>10</td>\n",
       "      <td>10</td>\n",
       "      <td>10</td>\n",
       "      <td>10</td>\n",
       "      <td>10</td>\n",
       "    </tr>\n",
       "    <tr>\n",
       "      <th>B003MWBFXY</th>\n",
       "      <td>10</td>\n",
       "      <td>10</td>\n",
       "      <td>10</td>\n",
       "      <td>10</td>\n",
       "      <td>10</td>\n",
       "      <td>10</td>\n",
       "      <td>10</td>\n",
       "      <td>10</td>\n",
       "    </tr>\n",
       "    <tr>\n",
       "      <th>B003WK0D8O</th>\n",
       "      <td>10</td>\n",
       "      <td>10</td>\n",
       "      <td>10</td>\n",
       "      <td>10</td>\n",
       "      <td>10</td>\n",
       "      <td>10</td>\n",
       "      <td>10</td>\n",
       "      <td>10</td>\n",
       "    </tr>\n",
       "  </tbody>\n",
       "</table>\n",
       "</div>"
      ],
      "text/plain": [
       "                           Id  ProfileName  HelpfulnessNumerator  \\\n",
       "UserId         ProductId                                           \n",
       "A29JUMRL1US6YP B000WFKWDI  11           11                    11   \n",
       "               B000WFU8O6  11           11                    11   \n",
       "               B000WFN0VO  11           11                    11   \n",
       "               B000WFORH0  11           11                    11   \n",
       "               B000WFKI82  11           11                    11   \n",
       "               B000WFEN74  11           11                    11   \n",
       "               B000WFPJIG  11           11                    11   \n",
       "               B000WFRQQ4  11           11                    11   \n",
       "               B00008CQVA  11           11                    11   \n",
       "               B000084EZ4  11           11                    11   \n",
       "               B000WFUL3E  11           11                    11   \n",
       "A3TVZM3ZIXG8YW B003M60K54  10           10                    10   \n",
       "               B000084DWM  10           10                    10   \n",
       "               B001VIY8BW  10           10                    10   \n",
       "               B000QSN7P6  10           10                    10   \n",
       "               B003ANFMY8  10           10                    10   \n",
       "               B003BJOORW  10           10                    10   \n",
       "               B003M5TG28  10           10                    10   \n",
       "               B001VIYCK4  10           10                    10   \n",
       "               B003MA8P02  10           10                    10   \n",
       "               B0002MLA5K  10           10                    10   \n",
       "               B003MW7858  10           10                    10   \n",
       "               B003MWBFMK  10           10                    10   \n",
       "               B003MWBFXY  10           10                    10   \n",
       "               B003WK0D8O  10           10                    10   \n",
       "\n",
       "                           HelpfulnessDenominator  Score  Time  Summary  Text  \n",
       "UserId         ProductId                                                       \n",
       "A29JUMRL1US6YP B000WFKWDI                      11     11    11       11    11  \n",
       "               B000WFU8O6                      11     11    11       11    11  \n",
       "               B000WFN0VO                      11     11    11       11    11  \n",
       "               B000WFORH0                      11     11    11       11    11  \n",
       "               B000WFKI82                      11     11    11       11    11  \n",
       "               B000WFEN74                      11     11    11       11    11  \n",
       "               B000WFPJIG                      11     11    11       11    11  \n",
       "               B000WFRQQ4                      11     11    11       11    11  \n",
       "               B00008CQVA                      11     11    11       11    11  \n",
       "               B000084EZ4                      11     11    11       11    11  \n",
       "               B000WFUL3E                      11     11    11       11    11  \n",
       "A3TVZM3ZIXG8YW B003M60K54                      10     10    10       10    10  \n",
       "               B000084DWM                      10     10    10       10    10  \n",
       "               B001VIY8BW                      10     10    10       10    10  \n",
       "               B000QSN7P6                      10     10    10       10    10  \n",
       "               B003ANFMY8                      10     10    10       10    10  \n",
       "               B003BJOORW                      10     10    10       10    10  \n",
       "               B003M5TG28                      10     10    10       10    10  \n",
       "               B001VIYCK4                      10     10    10       10    10  \n",
       "               B003MA8P02                      10     10    10       10    10  \n",
       "               B0002MLA5K                      10     10    10       10    10  \n",
       "               B003MW7858                      10     10    10       10    10  \n",
       "               B003MWBFMK                      10     10    10       10    10  \n",
       "               B003MWBFXY                      10     10    10       10    10  \n",
       "               B003WK0D8O                      10     10    10       10    10  "
      ]
     },
     "execution_count": 7,
     "metadata": {},
     "output_type": "execute_result"
    }
   ],
   "source": [
    "amz_review.groupby(by=['UserId','ProductId']).count().sort_values(by=['Text'],ascending=False).head(25)"
   ]
  },
  {
   "cell_type": "code",
   "execution_count": 8,
   "metadata": {
    "scrolled": false
   },
   "outputs": [
    {
     "data": {
      "text/plain": [
       "Id                        5859\n",
       "ProfileName               5859\n",
       "HelpfulnessNumerator      5859\n",
       "HelpfulnessDenominator    5859\n",
       "Score                     5859\n",
       "Time                      5859\n",
       "Summary                   5859\n",
       "Text                      5859\n",
       "dtype: int64"
      ]
     },
     "execution_count": 8,
     "metadata": {},
     "output_type": "execute_result"
    }
   ],
   "source": [
    "((amz_review.groupby(by=['UserId','ProductId']).count().sort_values(by=['Text'],ascending=False)>1)==True).sum()"
   ]
  },
  {
   "cell_type": "code",
   "execution_count": 9,
   "metadata": {},
   "outputs": [],
   "source": [
    "amz_review['Text_lenght']=amz_review['Text'].apply(lambda col: len(col.split(' ')))"
   ]
  },
  {
   "cell_type": "code",
   "execution_count": 10,
   "metadata": {},
   "outputs": [
    {
     "data": {
      "text/plain": [
       "Index(['Id', 'ProductId', 'UserId', 'ProfileName', 'HelpfulnessNumerator',\n",
       "       'HelpfulnessDenominator', 'Score', 'Time', 'Summary', 'Text',\n",
       "       'Text_lenght'],\n",
       "      dtype='object')"
      ]
     },
     "execution_count": 10,
     "metadata": {},
     "output_type": "execute_result"
    }
   ],
   "source": [
    "amz_review.columns"
   ]
  },
  {
   "cell_type": "code",
   "execution_count": 11,
   "metadata": {},
   "outputs": [
    {
     "data": {
      "text/plain": [
       "(0, 10)"
      ]
     },
     "execution_count": 11,
     "metadata": {},
     "output_type": "execute_result"
    },
    {
     "data": {
      "image/png": "[encoded data removed]",
      "text/plain": [
       "<Figure size 432x288 with 1 Axes>"
      ]
     },
     "metadata": {},
     "output_type": "display_data"
    }
   ],
   "source": [
    "amz_review['HelpfulnessDenominator'].hist(bins=1000,alpha=0.5);\n",
    "amz_review['HelpfulnessNumerator'].hist(bins=1000,alpha=0.5);\n",
    "plt.xlim(0,10)"
   ]
  },
  {
   "cell_type": "code",
   "execution_count": 12,
   "metadata": {},
   "outputs": [
    {
     "data": {
      "text/plain": [
       "(100, 1000)"
      ]
     },
     "execution_count": 12,
     "metadata": {},
     "output_type": "execute_result"
    },
    {
     "data": {
      "image/png": "[encoded data removed]",
      "text/plain": [
       "<Figure size 432x288 with 1 Axes>"
      ]
     },
     "metadata": {},
     "output_type": "display_data"
    }
   ],
   "source": [
    "amz_review[amz_review['HelpfulnessDenominator']>100]['HelpfulnessDenominator'].hist(bins=100,alpha=0.5);\n",
    "amz_review[amz_review['HelpfulnessNumerator']>100]['HelpfulnessNumerator'].hist(bins=100,alpha=0.5);\n",
    "plt.xlim(100,1000)"
   ]
  },
  {
   "cell_type": "code",
   "execution_count": 13,
   "metadata": {},
   "outputs": [
    {
     "data": {
      "text/plain": [
       "(0, 400)"
      ]
     },
     "execution_count": 13,
     "metadata": {},
     "output_type": "execute_result"
    },
    {
     "data": {
      "image/png": "[encoded data removed]",
      "text/plain": [
       "<Figure size 432x288 with 1 Axes>"
      ]
     },
     "metadata": {},
     "output_type": "display_data"
    }
   ],
   "source": [
    "amz_review['Text_lenght'].hist(bins=1000);\n",
    "plt.xlim(0,400)"
   ]
  },
  {
   "cell_type": "code",
   "execution_count": 14,
   "metadata": {},
   "outputs": [],
   "source": [
    "amz_review['Time_converted']=amz_review['Time'].apply(lambda col: datetime.utcfromtimestamp(int(col)).strftime('%Y-%m-%d'))\n",
    "#strftime('%Y-%m-%d %H:%M:%S'))\n",
    "amz_review['Time_converted_ym']=amz_review['Time'].apply(lambda col: datetime.utcfromtimestamp(int(col)).strftime('%Y-%m'))"
   ]
  },
  {
   "cell_type": "code",
   "execution_count": 15,
   "metadata": {},
   "outputs": [
    {
     "data": {
      "text/plain": [
       "'2012-10-26'"
      ]
     },
     "execution_count": 15,
     "metadata": {},
     "output_type": "execute_result"
    }
   ],
   "source": [
    "amz_review['Time_converted'].max()"
   ]
  },
  {
   "cell_type": "code",
   "execution_count": 16,
   "metadata": {},
   "outputs": [
    {
     "data": {
      "text/plain": [
       "'1999-10-08'"
      ]
     },
     "execution_count": 16,
     "metadata": {},
     "output_type": "execute_result"
    }
   ],
   "source": [
    "amz_review['Time_converted'].min()"
   ]
  },
  {
   "cell_type": "code",
   "execution_count": 19,
   "metadata": {},
   "outputs": [],
   "source": [
    "#had to remove time since same revireer/item had more than same time frame unfortunately and keeping time in subset would not clean them\n",
    "\n",
    "amz_review_sorted_drop_duplicated=amz_review.drop_duplicates(subset=['UserId','ProductId'], keep='first', inplace=False)"
   ]
  },
  {
   "cell_type": "code",
   "execution_count": 20,
   "metadata": {},
   "outputs": [
    {
     "data": {
      "text/plain": [
       "(560804, 13)"
      ]
     },
     "execution_count": 20,
     "metadata": {},
     "output_type": "execute_result"
    }
   ],
   "source": [
    "amz_review_sorted_drop_duplicated.shape"
   ]
  },
  {
   "cell_type": "code",
   "execution_count": 21,
   "metadata": {},
   "outputs": [
    {
     "data": {
      "text/plain": [
       "Id                        0\n",
       "ProfileName               0\n",
       "HelpfulnessNumerator      0\n",
       "HelpfulnessDenominator    0\n",
       "Score                     0\n",
       "Time                      0\n",
       "Summary                   0\n",
       "Text                      0\n",
       "Text_lenght               0\n",
       "Time_converted            0\n",
       "Time_converted_ym         0\n",
       "dtype: int64"
      ]
     },
     "execution_count": 21,
     "metadata": {},
     "output_type": "execute_result"
    }
   ],
   "source": [
    "((amz_review_sorted_drop_duplicated.groupby(by=['UserId','ProductId']).count().sort_values(by=['Text'],ascending=False)>1)==True).sum()"
   ]
  },
  {
   "cell_type": "code",
   "execution_count": 22,
   "metadata": {},
   "outputs": [
    {
     "data": {
      "text/plain": [
       "Id                         0\n",
       "ProductId                  0\n",
       "UserId                     0\n",
       "ProfileName               16\n",
       "HelpfulnessNumerator       0\n",
       "HelpfulnessDenominator     0\n",
       "Score                      0\n",
       "Time                       0\n",
       "Summary                   27\n",
       "Text                       0\n",
       "Text_lenght                0\n",
       "Time_converted             0\n",
       "Time_converted_ym          0\n",
       "dtype: int64"
      ]
     },
     "execution_count": 22,
     "metadata": {},
     "output_type": "execute_result"
    }
   ],
   "source": [
    "amz_review_sorted_drop_duplicated.isnull().sum()"
   ]
  },
  {
   "cell_type": "code",
   "execution_count": 23,
   "metadata": {},
   "outputs": [],
   "source": [
    "#clean cells in review that are parsed by mistake and still have html heading \"<span \"\n",
    "\n",
    "def clean_span(col):  \n",
    "    \n",
    "    if('<span' not in col.lower()):\n",
    "\n",
    "        return col.lower()"
   ]
  },
  {
   "cell_type": "code",
   "execution_count": 24,
   "metadata": {
    "scrolled": true
   },
   "outputs": [
    {
     "name": "stderr",
     "output_type": "stream",
     "text": [
      "/home/ania/anaconda3/lib/python3.6/site-packages/ipykernel_launcher.py:2: SettingWithCopyWarning: \n",
      "A value is trying to be set on a copy of a slice from a DataFrame.\n",
      "Try using .loc[row_indexer,col_indexer] = value instead\n",
      "\n",
      "See the caveats in the documentation: http://pandas.pydata.org/pandas-docs/stable/indexing.html#indexing-view-versus-copy\n",
      "  \n"
     ]
    }
   ],
   "source": [
    "#pd.options.mode.chained_assignment = None\n",
    "amz_review_sorted_drop_duplicated['Text_new']=amz_review_sorted_drop_duplicated['Text'].apply(clean_span)"
   ]
  },
  {
   "cell_type": "code",
   "execution_count": 25,
   "metadata": {
    "scrolled": true
   },
   "outputs": [
    {
     "data": {
      "text/plain": [
       "Id                          0\n",
       "ProductId                   0\n",
       "UserId                      0\n",
       "ProfileName                16\n",
       "HelpfulnessNumerator        0\n",
       "HelpfulnessDenominator      0\n",
       "Score                       0\n",
       "Time                        0\n",
       "Summary                    27\n",
       "Text                        0\n",
       "Text_lenght                 0\n",
       "Time_converted              0\n",
       "Time_converted_ym           0\n",
       "Text_new                  373\n",
       "dtype: int64"
      ]
     },
     "execution_count": 25,
     "metadata": {},
     "output_type": "execute_result"
    }
   ],
   "source": [
    "amz_review_sorted_drop_duplicated.isnull().sum()"
   ]
  },
  {
   "cell_type": "code",
   "execution_count": 26,
   "metadata": {},
   "outputs": [
    {
     "name": "stderr",
     "output_type": "stream",
     "text": [
      "/home/ania/anaconda3/lib/python3.6/site-packages/ipykernel_launcher.py:1: SettingWithCopyWarning: \n",
      "A value is trying to be set on a copy of a slice from a DataFrame\n",
      "\n",
      "See the caveats in the documentation: http://pandas.pydata.org/pandas-docs/stable/indexing.html#indexing-view-versus-copy\n",
      "  \"\"\"Entry point for launching an IPython kernel.\n"
     ]
    }
   ],
   "source": [
    "amz_review_sorted_drop_duplicated.dropna(inplace=True)"
   ]
  },
  {
   "cell_type": "code",
   "execution_count": 27,
   "metadata": {},
   "outputs": [
    {
     "data": {
      "text/plain": [
       "Id                        0\n",
       "ProductId                 0\n",
       "UserId                    0\n",
       "ProfileName               0\n",
       "HelpfulnessNumerator      0\n",
       "HelpfulnessDenominator    0\n",
       "Score                     0\n",
       "Time                      0\n",
       "Summary                   0\n",
       "Text                      0\n",
       "Text_lenght               0\n",
       "Time_converted            0\n",
       "Time_converted_ym         0\n",
       "Text_new                  0\n",
       "dtype: int64"
      ]
     },
     "execution_count": 27,
     "metadata": {},
     "output_type": "execute_result"
    }
   ],
   "source": [
    "amz_review_sorted_drop_duplicated.isnull().sum()"
   ]
  },
  {
   "cell_type": "code",
   "execution_count": 33,
   "metadata": {},
   "outputs": [
    {
     "data": {
      "text/plain": [
       "(560388, 14)"
      ]
     },
     "execution_count": 33,
     "metadata": {},
     "output_type": "execute_result"
    }
   ],
   "source": [
    "amz_review_sorted_drop_duplicated.shape"
   ]
  },
  {
   "cell_type": "code",
   "execution_count": 28,
   "metadata": {},
   "outputs": [
    {
     "data": {
      "text/plain": [
       "642"
      ]
     },
     "execution_count": 28,
     "metadata": {},
     "output_type": "execute_result"
    }
   ],
   "source": [
    "stop_word_list =[]\n",
    "for word in open('stopword_short_long_mod.txt'):\n",
    "    #print(word)\n",
    "    stop_word_list.append(word.replace('\\n',''))\n",
    "    \n",
    "stop_word_list=list(set(stop_word_list))   \n",
    "len(stop_word_list)"
   ]
  },
  {
   "cell_type": "code",
   "execution_count": 29,
   "metadata": {},
   "outputs": [],
   "source": [
    "#special characters\n",
    "special_char_list=['\\\\','`','\\\"',\"'\",'*','_','{','}','[',']','(',')',';','@','^','&','>','#','+',':','-','_','=','|','>','<','~','.','!','$','/',',','?','%','0','1','2','3','4','5','6','7','8','9']"
   ]
  },
  {
   "cell_type": "code",
   "execution_count": 30,
   "metadata": {
    "scrolled": true
   },
   "outputs": [],
   "source": [
    "def remove_stopword(col):\n",
    "        #print(stop_word_list)\n",
    "        col_list=[]\n",
    "        txt_col_split=col.lower().replace('\\n',\" \").strip().split(\" \")\n",
    "        #print(txt_col_split)\n",
    "        for word_ in txt_col_split:\n",
    "            #print(word)\n",
    "            #print(word in col.split(\" \"))\n",
    "            #for stop_w in stop_word_list:               \n",
    "            if ((word_ not in stop_word_list) and len(word)>3):\n",
    "                #col=col.replace(word,\"\") #.replace(\"  \",\" \")\n",
    "                #print(col)\n",
    "                col_list.append(word_)\n",
    "\n",
    "        return (col_list)             \n",
    "                \n",
    "def remove_specialchar(col):\n",
    "        #print(stop_word_list)\n",
    "        for word in special_char_list:\n",
    "            #print(word)\n",
    "            #print(word in col.split(\" \"))\n",
    "            \n",
    "            #for stop_w in stop_word_list:               \n",
    "            if word in col: #col.split(\" \"):\n",
    "                col=col.replace(word,\"\").replace(\"  \",\" \")\n",
    "                #print(col)\n",
    "\n",
    "        return col                  \n",
    "    \n",
    "\n",
    "#amz_review_sorted_drop_duplicated['Text_new2']=amz_review_sorted_drop_duplicated.loc[:,'Text_new'].apply(remove_stopword)"
   ]
  },
  {
   "cell_type": "code",
   "execution_count": 31,
   "metadata": {
    "scrolled": true
   },
   "outputs": [
    {
     "name": "stderr",
     "output_type": "stream",
     "text": [
      "/home/ania/anaconda3/lib/python3.6/site-packages/ipykernel_launcher.py:1: SettingWithCopyWarning: \n",
      "A value is trying to be set on a copy of a slice from a DataFrame.\n",
      "Try using .loc[row_indexer,col_indexer] = value instead\n",
      "\n",
      "See the caveats in the documentation: http://pandas.pydata.org/pandas-docs/stable/indexing.html#indexing-view-versus-copy\n",
      "  \"\"\"Entry point for launching an IPython kernel.\n"
     ]
    }
   ],
   "source": [
    "amz_review_sorted_drop_duplicated['Text_new2']=amz_review_sorted_drop_duplicated['Text_new'].apply(remove_specialchar)"
   ]
  },
  {
   "cell_type": "code",
   "execution_count": 33,
   "metadata": {
    "scrolled": true
   },
   "outputs": [
    {
     "name": "stderr",
     "output_type": "stream",
     "text": [
      "/home/ania/anaconda3/lib/python3.6/site-packages/ipykernel_launcher.py:1: SettingWithCopyWarning: \n",
      "A value is trying to be set on a copy of a slice from a DataFrame.\n",
      "Try using .loc[row_indexer,col_indexer] = value instead\n",
      "\n",
      "See the caveats in the documentation: http://pandas.pydata.org/pandas-docs/stable/indexing.html#indexing-view-versus-copy\n",
      "  \"\"\"Entry point for launching an IPython kernel.\n"
     ]
    }
   ],
   "source": [
    "amz_review_sorted_drop_duplicated['Text_new2']=amz_review_sorted_drop_duplicated['Text_new2'].apply(remove_stopword)"
   ]
  },
  {
   "cell_type": "code",
   "execution_count": 34,
   "metadata": {},
   "outputs": [
    {
     "data": {
      "text/plain": [
       "['bought',\n",
       " 'vitality',\n",
       " 'canned',\n",
       " 'dog',\n",
       " 'food',\n",
       " 'products',\n",
       " 'good',\n",
       " 'quality',\n",
       " 'product',\n",
       " 'like',\n",
       " 'stew',\n",
       " 'processed',\n",
       " 'meat',\n",
       " 'smells',\n",
       " 'better',\n",
       " 'labrador',\n",
       " 'finicky',\n",
       " 'appreciates',\n",
       " 'product',\n",
       " 'better']"
      ]
     },
     "execution_count": 34,
     "metadata": {},
     "output_type": "execute_result"
    }
   ],
   "source": [
    "amz_review_sorted_drop_duplicated['Text_new2'][0]"
   ]
  },
  {
   "cell_type": "code",
   "execution_count": 35,
   "metadata": {},
   "outputs": [
    {
     "data": {
      "text/plain": [
       "Id                        0\n",
       "ProductId                 0\n",
       "UserId                    0\n",
       "ProfileName               0\n",
       "HelpfulnessNumerator      0\n",
       "HelpfulnessDenominator    0\n",
       "Score                     0\n",
       "Time                      0\n",
       "Summary                   0\n",
       "Text                      0\n",
       "Text_lenght               0\n",
       "Time_converted            0\n",
       "Time_converted_ym         0\n",
       "Text_new                  0\n",
       "Text_new2                 0\n",
       "dtype: int64"
      ]
     },
     "execution_count": 35,
     "metadata": {},
     "output_type": "execute_result"
    }
   ],
   "source": [
    "amz_review_sorted_drop_duplicated.isnull().sum()"
   ]
  },
  {
   "cell_type": "code",
   "execution_count": 36,
   "metadata": {},
   "outputs": [],
   "source": [
    "#amz_review_sorted_drop_duplicated.dtypes"
   ]
  },
  {
   "cell_type": "code",
   "execution_count": 37,
   "metadata": {},
   "outputs": [],
   "source": [
    "def score_pos_neg(col):\n",
    "    \n",
    "    if col>3:\n",
    "        return 1\n",
    "    else:\n",
    "        return 0\n",
    "    "
   ]
  },
  {
   "cell_type": "code",
   "execution_count": 38,
   "metadata": {
    "scrolled": true
   },
   "outputs": [
    {
     "name": "stderr",
     "output_type": "stream",
     "text": [
      "/home/ania/anaconda3/lib/python3.6/site-packages/ipykernel_launcher.py:1: SettingWithCopyWarning: \n",
      "A value is trying to be set on a copy of a slice from a DataFrame.\n",
      "Try using .loc[row_indexer,col_indexer] = value instead\n",
      "\n",
      "See the caveats in the documentation: http://pandas.pydata.org/pandas-docs/stable/indexing.html#indexing-view-versus-copy\n",
      "  \"\"\"Entry point for launching an IPython kernel.\n"
     ]
    }
   ],
   "source": [
    "amz_review_sorted_drop_duplicated['score_pos_neg']=amz_review_sorted_drop_duplicated['Score'].apply(score_pos_neg)"
   ]
  },
  {
   "cell_type": "code",
   "execution_count": 39,
   "metadata": {},
   "outputs": [
    {
     "data": {
      "text/plain": [
       "<matplotlib.collections.PathCollection at 0x7f4e46968940>"
      ]
     },
     "execution_count": 39,
     "metadata": {},
     "output_type": "execute_result"
    },
    {
     "data": {
      "image/png": "[encoded data removed]",
      "text/plain": [
       "<Figure size 432x288 with 1 Axes>"
      ]
     },
     "metadata": {},
     "output_type": "display_data"
    }
   ],
   "source": [
    "plt.scatter(amz_review_sorted_drop_duplicated['Score'],amz_review_sorted_drop_duplicated['score_pos_neg'])"
   ]
  },
  {
   "cell_type": "code",
   "execution_count": 40,
   "metadata": {},
   "outputs": [],
   "source": [
    "amz_review_sorted_drop_duplicated.to_csv('amazon_review_parsed.csv',index=False)"
   ]
  },
  {
   "cell_type": "code",
   "execution_count": 83,
   "metadata": {
    "scrolled": true
   },
   "outputs": [
    {
     "data": {
      "text/html": [
       "<div>\n",
       "<style scoped>\n",
       "    .dataframe tbody tr th:only-of-type {\n",
       "        vertical-align: middle;\n",
       "    }\n",
       "\n",
       "    .dataframe tbody tr th {\n",
       "        vertical-align: top;\n",
       "    }\n",
       "\n",
       "    .dataframe thead th {\n",
       "        text-align: right;\n",
       "    }\n",
       "</style>\n",
       "<table border=\"1\" class=\"dataframe\">\n",
       "  <thead>\n",
       "    <tr style=\"text-align: right;\">\n",
       "      <th></th>\n",
       "      <th>Id</th>\n",
       "      <th>ProductId</th>\n",
       "      <th>UserId</th>\n",
       "      <th>ProfileName</th>\n",
       "      <th>HelpfulnessNumerator</th>\n",
       "      <th>HelpfulnessDenominator</th>\n",
       "      <th>Score</th>\n",
       "      <th>Time</th>\n",
       "      <th>Summary</th>\n",
       "      <th>Text</th>\n",
       "      <th>Text_lenght</th>\n",
       "      <th>Time_converted</th>\n",
       "      <th>Time_converted_ym</th>\n",
       "      <th>Text_new</th>\n",
       "      <th>Text_new2</th>\n",
       "      <th>Text_new3</th>\n",
       "      <th>score_pos_neg</th>\n",
       "    </tr>\n",
       "  </thead>\n",
       "  <tbody>\n",
       "    <tr>\n",
       "      <th>0</th>\n",
       "      <td>1</td>\n",
       "      <td>B001E4KFG0</td>\n",
       "      <td>A3SGXH7AUHU8GW</td>\n",
       "      <td>delmartian</td>\n",
       "      <td>1</td>\n",
       "      <td>1</td>\n",
       "      <td>5</td>\n",
       "      <td>1303862400</td>\n",
       "      <td>Good Quality Dog Food</td>\n",
       "      <td>I have bought several of the Vitality canned d...</td>\n",
       "      <td>49</td>\n",
       "      <td>2011-04-27</td>\n",
       "      <td>2011-04</td>\n",
       "      <td>i have bought several of the vitality canned d...</td>\n",
       "      <td>i have bought several of the vitality canned d...</td>\n",
       "      <td>[bought, vitality, canned, dog, food, products...</td>\n",
       "      <td>1</td>\n",
       "    </tr>\n",
       "    <tr>\n",
       "      <th>1</th>\n",
       "      <td>2</td>\n",
       "      <td>B00813GRG4</td>\n",
       "      <td>A1D87F6ZCVE5NK</td>\n",
       "      <td>dll pa</td>\n",
       "      <td>0</td>\n",
       "      <td>0</td>\n",
       "      <td>1</td>\n",
       "      <td>1346976000</td>\n",
       "      <td>Not as Advertised</td>\n",
       "      <td>Product arrived labeled as Jumbo Salted Peanut...</td>\n",
       "      <td>31</td>\n",
       "      <td>2012-09-07</td>\n",
       "      <td>2012-09</td>\n",
       "      <td>product arrived labeled as jumbo salted peanut...</td>\n",
       "      <td>product arrived labeled as jumbo salted peanut...</td>\n",
       "      <td>[product, arrived, labeled, jumbo, salted, pea...</td>\n",
       "      <td>0</td>\n",
       "    </tr>\n",
       "    <tr>\n",
       "      <th>2</th>\n",
       "      <td>3</td>\n",
       "      <td>B000LQOCH0</td>\n",
       "      <td>ABXLMWJIXXAIN</td>\n",
       "      <td>Natalia Corres \"Natalia Corres\"</td>\n",
       "      <td>1</td>\n",
       "      <td>1</td>\n",
       "      <td>4</td>\n",
       "      <td>1219017600</td>\n",
       "      <td>\"Delight\" says it all</td>\n",
       "      <td>This is a confection that has been around a fe...</td>\n",
       "      <td>99</td>\n",
       "      <td>2008-08-18</td>\n",
       "      <td>2008-08</td>\n",
       "      <td>this is a confection that has been around a fe...</td>\n",
       "      <td>this is a confection that has been around a fe...</td>\n",
       "      <td>[confection, centuries, light, pillowy, citrus...</td>\n",
       "      <td>1</td>\n",
       "    </tr>\n",
       "    <tr>\n",
       "      <th>3</th>\n",
       "      <td>4</td>\n",
       "      <td>B000UA0QIQ</td>\n",
       "      <td>A395BORC6FGVXV</td>\n",
       "      <td>Karl</td>\n",
       "      <td>3</td>\n",
       "      <td>3</td>\n",
       "      <td>2</td>\n",
       "      <td>1307923200</td>\n",
       "      <td>Cough Medicine</td>\n",
       "      <td>If you are looking for the secret ingredient i...</td>\n",
       "      <td>43</td>\n",
       "      <td>2011-06-13</td>\n",
       "      <td>2011-06</td>\n",
       "      <td>if you are looking for the secret ingredient i...</td>\n",
       "      <td>if you are looking for the secret ingredient i...</td>\n",
       "      <td>[secret, ingredient, robitussin, addition, roo...</td>\n",
       "      <td>0</td>\n",
       "    </tr>\n",
       "    <tr>\n",
       "      <th>4</th>\n",
       "      <td>5</td>\n",
       "      <td>B006K2ZZ7K</td>\n",
       "      <td>A1UQRSCLF8GW1T</td>\n",
       "      <td>Michael D. Bigham \"M. Wassir\"</td>\n",
       "      <td>0</td>\n",
       "      <td>0</td>\n",
       "      <td>5</td>\n",
       "      <td>1350777600</td>\n",
       "      <td>Great taffy</td>\n",
       "      <td>Great taffy at a great price.  There was a wid...</td>\n",
       "      <td>30</td>\n",
       "      <td>2012-10-21</td>\n",
       "      <td>2012-10</td>\n",
       "      <td>great taffy at a great price.  there was a wid...</td>\n",
       "      <td>great taffy at a great price there was a wide ...</td>\n",
       "      <td>[great, taffy, great, price, wide, assortment,...</td>\n",
       "      <td>1</td>\n",
       "    </tr>\n",
       "  </tbody>\n",
       "</table>\n",
       "</div>"
      ],
      "text/plain": [
       "   Id   ProductId          UserId                      ProfileName  \\\n",
       "0   1  B001E4KFG0  A3SGXH7AUHU8GW                       delmartian   \n",
       "1   2  B00813GRG4  A1D87F6ZCVE5NK                           dll pa   \n",
       "2   3  B000LQOCH0   ABXLMWJIXXAIN  Natalia Corres \"Natalia Corres\"   \n",
       "3   4  B000UA0QIQ  A395BORC6FGVXV                             Karl   \n",
       "4   5  B006K2ZZ7K  A1UQRSCLF8GW1T    Michael D. Bigham \"M. Wassir\"   \n",
       "\n",
       "   HelpfulnessNumerator  HelpfulnessDenominator  Score        Time  \\\n",
       "0                     1                       1      5  1303862400   \n",
       "1                     0                       0      1  1346976000   \n",
       "2                     1                       1      4  1219017600   \n",
       "3                     3                       3      2  1307923200   \n",
       "4                     0                       0      5  1350777600   \n",
       "\n",
       "                 Summary                                               Text  \\\n",
       "0  Good Quality Dog Food  I have bought several of the Vitality canned d...   \n",
       "1      Not as Advertised  Product arrived labeled as Jumbo Salted Peanut...   \n",
       "2  \"Delight\" says it all  This is a confection that has been around a fe...   \n",
       "3         Cough Medicine  If you are looking for the secret ingredient i...   \n",
       "4            Great taffy  Great taffy at a great price.  There was a wid...   \n",
       "\n",
       "   Text_lenght Time_converted Time_converted_ym  \\\n",
       "0           49     2011-04-27           2011-04   \n",
       "1           31     2012-09-07           2012-09   \n",
       "2           99     2008-08-18           2008-08   \n",
       "3           43     2011-06-13           2011-06   \n",
       "4           30     2012-10-21           2012-10   \n",
       "\n",
       "                                            Text_new  \\\n",
       "0  i have bought several of the vitality canned d...   \n",
       "1  product arrived labeled as jumbo salted peanut...   \n",
       "2  this is a confection that has been around a fe...   \n",
       "3  if you are looking for the secret ingredient i...   \n",
       "4  great taffy at a great price.  there was a wid...   \n",
       "\n",
       "                                           Text_new2  \\\n",
       "0  i have bought several of the vitality canned d...   \n",
       "1  product arrived labeled as jumbo salted peanut...   \n",
       "2  this is a confection that has been around a fe...   \n",
       "3  if you are looking for the secret ingredient i...   \n",
       "4  great taffy at a great price there was a wide ...   \n",
       "\n",
       "                                           Text_new3  score_pos_neg  \n",
       "0  [bought, vitality, canned, dog, food, products...              1  \n",
       "1  [product, arrived, labeled, jumbo, salted, pea...              0  \n",
       "2  [confection, centuries, light, pillowy, citrus...              1  \n",
       "3  [secret, ingredient, robitussin, addition, roo...              0  \n",
       "4  [great, taffy, great, price, wide, assortment,...              1  "
      ]
     },
     "execution_count": 83,
     "metadata": {},
     "output_type": "execute_result"
    }
   ],
   "source": [
    "amz_review_sorted_drop_duplicated.head()"
   ]
  },
  {
   "cell_type": "code",
   "execution_count": 41,
   "metadata": {},
   "outputs": [
    {
     "data": {
      "text/plain": [
       "(0, 20)"
      ]
     },
     "execution_count": 41,
     "metadata": {},
     "output_type": "execute_result"
    },
    {
     "data": {
      "image/png": "[encoded data removed]",
      "text/plain": [
       "<Figure size 432x288 with 1 Axes>"
      ]
     },
     "metadata": {},
     "output_type": "display_data"
    }
   ],
   "source": [
    "amz_review_sorted_drop_duplicated['HelpfulnessDenominator'].hist(bins=1000);\n",
    "plt.xlim(0,20)"
   ]
  },
  {
   "cell_type": "code",
   "execution_count": 42,
   "metadata": {},
   "outputs": [
    {
     "data": {
      "text/html": [
       "<div>\n",
       "<style scoped>\n",
       "    .dataframe tbody tr th:only-of-type {\n",
       "        vertical-align: middle;\n",
       "    }\n",
       "\n",
       "    .dataframe tbody tr th {\n",
       "        vertical-align: top;\n",
       "    }\n",
       "\n",
       "    .dataframe thead th {\n",
       "        text-align: right;\n",
       "    }\n",
       "</style>\n",
       "<table border=\"1\" class=\"dataframe\">\n",
       "  <thead>\n",
       "    <tr style=\"text-align: right;\">\n",
       "      <th></th>\n",
       "      <th>Id</th>\n",
       "      <th>ProductId</th>\n",
       "      <th>ProfileName</th>\n",
       "      <th>HelpfulnessNumerator</th>\n",
       "      <th>HelpfulnessDenominator</th>\n",
       "      <th>Score</th>\n",
       "      <th>Time</th>\n",
       "      <th>Summary</th>\n",
       "      <th>Text</th>\n",
       "      <th>Text_lenght</th>\n",
       "      <th>Time_converted</th>\n",
       "      <th>Time_converted_ym</th>\n",
       "      <th>Text_new</th>\n",
       "      <th>Text_new2</th>\n",
       "      <th>score_pos_neg</th>\n",
       "    </tr>\n",
       "    <tr>\n",
       "      <th>UserId</th>\n",
       "      <th></th>\n",
       "      <th></th>\n",
       "      <th></th>\n",
       "      <th></th>\n",
       "      <th></th>\n",
       "      <th></th>\n",
       "      <th></th>\n",
       "      <th></th>\n",
       "      <th></th>\n",
       "      <th></th>\n",
       "      <th></th>\n",
       "      <th></th>\n",
       "      <th></th>\n",
       "      <th></th>\n",
       "      <th></th>\n",
       "    </tr>\n",
       "  </thead>\n",
       "  <tbody>\n",
       "    <tr>\n",
       "      <th>A3OXHLG6DIBRW8</th>\n",
       "      <td>419</td>\n",
       "      <td>419</td>\n",
       "      <td>419</td>\n",
       "      <td>419</td>\n",
       "      <td>419</td>\n",
       "      <td>419</td>\n",
       "      <td>419</td>\n",
       "      <td>419</td>\n",
       "      <td>419</td>\n",
       "      <td>419</td>\n",
       "      <td>419</td>\n",
       "      <td>419</td>\n",
       "      <td>419</td>\n",
       "      <td>419</td>\n",
       "      <td>419</td>\n",
       "    </tr>\n",
       "    <tr>\n",
       "      <th>AY12DBB0U420B</th>\n",
       "      <td>382</td>\n",
       "      <td>382</td>\n",
       "      <td>382</td>\n",
       "      <td>382</td>\n",
       "      <td>382</td>\n",
       "      <td>382</td>\n",
       "      <td>382</td>\n",
       "      <td>382</td>\n",
       "      <td>382</td>\n",
       "      <td>382</td>\n",
       "      <td>382</td>\n",
       "      <td>382</td>\n",
       "      <td>382</td>\n",
       "      <td>382</td>\n",
       "      <td>382</td>\n",
       "    </tr>\n",
       "    <tr>\n",
       "      <th>A281NPSIMI1C2R</th>\n",
       "      <td>321</td>\n",
       "      <td>321</td>\n",
       "      <td>321</td>\n",
       "      <td>321</td>\n",
       "      <td>321</td>\n",
       "      <td>321</td>\n",
       "      <td>321</td>\n",
       "      <td>321</td>\n",
       "      <td>321</td>\n",
       "      <td>321</td>\n",
       "      <td>321</td>\n",
       "      <td>321</td>\n",
       "      <td>321</td>\n",
       "      <td>321</td>\n",
       "      <td>321</td>\n",
       "    </tr>\n",
       "    <tr>\n",
       "      <th>A1YUL9PCJR3JTY</th>\n",
       "      <td>308</td>\n",
       "      <td>308</td>\n",
       "      <td>308</td>\n",
       "      <td>308</td>\n",
       "      <td>308</td>\n",
       "      <td>308</td>\n",
       "      <td>308</td>\n",
       "      <td>308</td>\n",
       "      <td>308</td>\n",
       "      <td>308</td>\n",
       "      <td>308</td>\n",
       "      <td>308</td>\n",
       "      <td>308</td>\n",
       "      <td>308</td>\n",
       "      <td>308</td>\n",
       "    </tr>\n",
       "    <tr>\n",
       "      <th>A1Z54EM24Y40LL</th>\n",
       "      <td>251</td>\n",
       "      <td>251</td>\n",
       "      <td>251</td>\n",
       "      <td>251</td>\n",
       "      <td>251</td>\n",
       "      <td>251</td>\n",
       "      <td>251</td>\n",
       "      <td>251</td>\n",
       "      <td>251</td>\n",
       "      <td>251</td>\n",
       "      <td>251</td>\n",
       "      <td>251</td>\n",
       "      <td>251</td>\n",
       "      <td>251</td>\n",
       "      <td>251</td>\n",
       "    </tr>\n",
       "  </tbody>\n",
       "</table>\n",
       "</div>"
      ],
      "text/plain": [
       "                 Id  ProductId  ProfileName  HelpfulnessNumerator  \\\n",
       "UserId                                                              \n",
       "A3OXHLG6DIBRW8  419        419          419                   419   \n",
       "AY12DBB0U420B   382        382          382                   382   \n",
       "A281NPSIMI1C2R  321        321          321                   321   \n",
       "A1YUL9PCJR3JTY  308        308          308                   308   \n",
       "A1Z54EM24Y40LL  251        251          251                   251   \n",
       "\n",
       "                HelpfulnessDenominator  Score  Time  Summary  Text  \\\n",
       "UserId                                                               \n",
       "A3OXHLG6DIBRW8                     419    419   419      419   419   \n",
       "AY12DBB0U420B                      382    382   382      382   382   \n",
       "A281NPSIMI1C2R                     321    321   321      321   321   \n",
       "A1YUL9PCJR3JTY                     308    308   308      308   308   \n",
       "A1Z54EM24Y40LL                     251    251   251      251   251   \n",
       "\n",
       "                Text_lenght  Time_converted  Time_converted_ym  Text_new  \\\n",
       "UserId                                                                     \n",
       "A3OXHLG6DIBRW8          419             419                419       419   \n",
       "AY12DBB0U420B           382             382                382       382   \n",
       "A281NPSIMI1C2R          321             321                321       321   \n",
       "A1YUL9PCJR3JTY          308             308                308       308   \n",
       "A1Z54EM24Y40LL          251             251                251       251   \n",
       "\n",
       "                Text_new2  score_pos_neg  \n",
       "UserId                                    \n",
       "A3OXHLG6DIBRW8        419            419  \n",
       "AY12DBB0U420B         382            382  \n",
       "A281NPSIMI1C2R        321            321  \n",
       "A1YUL9PCJR3JTY        308            308  \n",
       "A1Z54EM24Y40LL        251            251  "
      ]
     },
     "execution_count": 42,
     "metadata": {},
     "output_type": "execute_result"
    }
   ],
   "source": [
    "user_number_review=amz_review_sorted_drop_duplicated.groupby(by=['UserId']).count().sort_values(by=['Text'],ascending=False)\n",
    "#amz_review_sorted_drop_duplicated.groupby(by=['UserId']).mean()\n",
    "user_number_review.head()"
   ]
  },
  {
   "cell_type": "code",
   "execution_count": 44,
   "metadata": {},
   "outputs": [
    {
     "data": {
      "text/html": [
       "<div>\n",
       "<style scoped>\n",
       "    .dataframe tbody tr th:only-of-type {\n",
       "        vertical-align: middle;\n",
       "    }\n",
       "\n",
       "    .dataframe tbody tr th {\n",
       "        vertical-align: top;\n",
       "    }\n",
       "\n",
       "    .dataframe thead th {\n",
       "        text-align: right;\n",
       "    }\n",
       "</style>\n",
       "<table border=\"1\" class=\"dataframe\">\n",
       "  <thead>\n",
       "    <tr style=\"text-align: right;\">\n",
       "      <th></th>\n",
       "      <th>Id</th>\n",
       "    </tr>\n",
       "    <tr>\n",
       "      <th>UserId</th>\n",
       "      <th></th>\n",
       "    </tr>\n",
       "  </thead>\n",
       "  <tbody>\n",
       "    <tr>\n",
       "      <th>A3OXHLG6DIBRW8</th>\n",
       "      <td>419</td>\n",
       "    </tr>\n",
       "    <tr>\n",
       "      <th>AY12DBB0U420B</th>\n",
       "      <td>382</td>\n",
       "    </tr>\n",
       "    <tr>\n",
       "      <th>A281NPSIMI1C2R</th>\n",
       "      <td>321</td>\n",
       "    </tr>\n",
       "    <tr>\n",
       "      <th>A1YUL9PCJR3JTY</th>\n",
       "      <td>308</td>\n",
       "    </tr>\n",
       "    <tr>\n",
       "      <th>A1Z54EM24Y40LL</th>\n",
       "      <td>251</td>\n",
       "    </tr>\n",
       "    <tr>\n",
       "      <th>A2MUGFV2TDQ47K</th>\n",
       "      <td>201</td>\n",
       "    </tr>\n",
       "    <tr>\n",
       "      <th>AZV26LP92E6WU</th>\n",
       "      <td>167</td>\n",
       "    </tr>\n",
       "    <tr>\n",
       "      <th>AQQLWCMRNDFGI</th>\n",
       "      <td>167</td>\n",
       "    </tr>\n",
       "    <tr>\n",
       "      <th>A1UQBFCERIP7VJ</th>\n",
       "      <td>157</td>\n",
       "    </tr>\n",
       "    <tr>\n",
       "      <th>AY1EF0GOH80EK</th>\n",
       "      <td>151</td>\n",
       "    </tr>\n",
       "  </tbody>\n",
       "</table>\n",
       "</div>"
      ],
      "text/plain": [
       "                 Id\n",
       "UserId             \n",
       "A3OXHLG6DIBRW8  419\n",
       "AY12DBB0U420B   382\n",
       "A281NPSIMI1C2R  321\n",
       "A1YUL9PCJR3JTY  308\n",
       "A1Z54EM24Y40LL  251\n",
       "A2MUGFV2TDQ47K  201\n",
       "AZV26LP92E6WU   167\n",
       "AQQLWCMRNDFGI   167\n",
       "A1UQBFCERIP7VJ  157\n",
       "AY1EF0GOH80EK   151"
      ]
     },
     "execution_count": 44,
     "metadata": {},
     "output_type": "execute_result"
    }
   ],
   "source": [
    "user_top_reviewer=user_number_review[user_number_review['Id']>10][['Id']]\n",
    "user_top_reviewer.head(10)   #11 to 419"
   ]
  },
  {
   "cell_type": "code",
   "execution_count": 45,
   "metadata": {},
   "outputs": [],
   "source": [
    "user_top_reviewer.to_csv('amazon_top_reviewer_list.csv')"
   ]
  },
  {
   "cell_type": "code",
   "execution_count": 51,
   "metadata": {},
   "outputs": [],
   "source": [
    "#amz_review_sorted_drop_duplicated.groupby(by=['UserId'])['Time_converted'].max()"
   ]
  },
  {
   "cell_type": "code",
   "execution_count": 54,
   "metadata": {},
   "outputs": [
    {
     "data": {
      "text/html": [
       "<div>\n",
       "<style scoped>\n",
       "    .dataframe tbody tr th:only-of-type {\n",
       "        vertical-align: middle;\n",
       "    }\n",
       "\n",
       "    .dataframe tbody tr th {\n",
       "        vertical-align: top;\n",
       "    }\n",
       "\n",
       "    .dataframe thead th {\n",
       "        text-align: right;\n",
       "    }\n",
       "</style>\n",
       "<table border=\"1\" class=\"dataframe\">\n",
       "  <thead>\n",
       "    <tr style=\"text-align: right;\">\n",
       "      <th></th>\n",
       "      <th>Id</th>\n",
       "      <th>ProductId</th>\n",
       "      <th>UserId</th>\n",
       "      <th>ProfileName</th>\n",
       "      <th>HelpfulnessNumerator</th>\n",
       "      <th>HelpfulnessDenominator</th>\n",
       "      <th>Score</th>\n",
       "      <th>Time</th>\n",
       "      <th>Summary</th>\n",
       "      <th>Text</th>\n",
       "      <th>Text_lenght</th>\n",
       "      <th>Time_converted</th>\n",
       "      <th>Time_converted_ym</th>\n",
       "      <th>Text_new</th>\n",
       "      <th>Text_new2</th>\n",
       "      <th>score_pos_neg</th>\n",
       "    </tr>\n",
       "  </thead>\n",
       "  <tbody>\n",
       "    <tr>\n",
       "      <th>0</th>\n",
       "      <td>1</td>\n",
       "      <td>B001E4KFG0</td>\n",
       "      <td>A3SGXH7AUHU8GW</td>\n",
       "      <td>delmartian</td>\n",
       "      <td>1</td>\n",
       "      <td>1</td>\n",
       "      <td>5</td>\n",
       "      <td>1303862400</td>\n",
       "      <td>Good Quality Dog Food</td>\n",
       "      <td>I have bought several of the Vitality canned d...</td>\n",
       "      <td>49</td>\n",
       "      <td>2011-04-27</td>\n",
       "      <td>2011-04</td>\n",
       "      <td>i have bought several of the vitality canned d...</td>\n",
       "      <td>[bought, vitality, canned, dog, food, products...</td>\n",
       "      <td>1</td>\n",
       "    </tr>\n",
       "    <tr>\n",
       "      <th>1</th>\n",
       "      <td>2</td>\n",
       "      <td>B00813GRG4</td>\n",
       "      <td>A1D87F6ZCVE5NK</td>\n",
       "      <td>dll pa</td>\n",
       "      <td>0</td>\n",
       "      <td>0</td>\n",
       "      <td>1</td>\n",
       "      <td>1346976000</td>\n",
       "      <td>Not as Advertised</td>\n",
       "      <td>Product arrived labeled as Jumbo Salted Peanut...</td>\n",
       "      <td>31</td>\n",
       "      <td>2012-09-07</td>\n",
       "      <td>2012-09</td>\n",
       "      <td>product arrived labeled as jumbo salted peanut...</td>\n",
       "      <td>[product, arrived, labeled, jumbo, salted, pea...</td>\n",
       "      <td>0</td>\n",
       "    </tr>\n",
       "    <tr>\n",
       "      <th>2</th>\n",
       "      <td>3</td>\n",
       "      <td>B000LQOCH0</td>\n",
       "      <td>ABXLMWJIXXAIN</td>\n",
       "      <td>Natalia Corres \"Natalia Corres\"</td>\n",
       "      <td>1</td>\n",
       "      <td>1</td>\n",
       "      <td>4</td>\n",
       "      <td>1219017600</td>\n",
       "      <td>\"Delight\" says it all</td>\n",
       "      <td>This is a confection that has been around a fe...</td>\n",
       "      <td>99</td>\n",
       "      <td>2008-08-18</td>\n",
       "      <td>2008-08</td>\n",
       "      <td>this is a confection that has been around a fe...</td>\n",
       "      <td>[confection, centuries, light, pillowy, citrus...</td>\n",
       "      <td>1</td>\n",
       "    </tr>\n",
       "  </tbody>\n",
       "</table>\n",
       "</div>"
      ],
      "text/plain": [
       "   Id   ProductId          UserId                      ProfileName  \\\n",
       "0   1  B001E4KFG0  A3SGXH7AUHU8GW                       delmartian   \n",
       "1   2  B00813GRG4  A1D87F6ZCVE5NK                           dll pa   \n",
       "2   3  B000LQOCH0   ABXLMWJIXXAIN  Natalia Corres \"Natalia Corres\"   \n",
       "\n",
       "   HelpfulnessNumerator  HelpfulnessDenominator  Score        Time  \\\n",
       "0                     1                       1      5  1303862400   \n",
       "1                     0                       0      1  1346976000   \n",
       "2                     1                       1      4  1219017600   \n",
       "\n",
       "                 Summary                                               Text  \\\n",
       "0  Good Quality Dog Food  I have bought several of the Vitality canned d...   \n",
       "1      Not as Advertised  Product arrived labeled as Jumbo Salted Peanut...   \n",
       "2  \"Delight\" says it all  This is a confection that has been around a fe...   \n",
       "\n",
       "   Text_lenght Time_converted Time_converted_ym  \\\n",
       "0           49     2011-04-27           2011-04   \n",
       "1           31     2012-09-07           2012-09   \n",
       "2           99     2008-08-18           2008-08   \n",
       "\n",
       "                                            Text_new  \\\n",
       "0  i have bought several of the vitality canned d...   \n",
       "1  product arrived labeled as jumbo salted peanut...   \n",
       "2  this is a confection that has been around a fe...   \n",
       "\n",
       "                                           Text_new2  score_pos_neg  \n",
       "0  [bought, vitality, canned, dog, food, products...              1  \n",
       "1  [product, arrived, labeled, jumbo, salted, pea...              0  \n",
       "2  [confection, centuries, light, pillowy, citrus...              1  "
      ]
     },
     "execution_count": 54,
     "metadata": {},
     "output_type": "execute_result"
    }
   ],
   "source": [
    "amz_review_sorted_drop_duplicated.head(3)"
   ]
  },
  {
   "cell_type": "code",
   "execution_count": 68,
   "metadata": {},
   "outputs": [],
   "source": [
    "user_average_info=amz_review_sorted_drop_duplicated.groupby(by=['UserId']).mean() #['UserId']  #=='A3OXHLG6DIBRW8' #.sort_values(by=['Text'],ascending=False)"
   ]
  },
  {
   "cell_type": "code",
   "execution_count": 69,
   "metadata": {},
   "outputs": [
    {
     "data": {
      "text/html": [
       "<div>\n",
       "<style scoped>\n",
       "    .dataframe tbody tr th:only-of-type {\n",
       "        vertical-align: middle;\n",
       "    }\n",
       "\n",
       "    .dataframe tbody tr th {\n",
       "        vertical-align: top;\n",
       "    }\n",
       "\n",
       "    .dataframe thead th {\n",
       "        text-align: right;\n",
       "    }\n",
       "</style>\n",
       "<table border=\"1\" class=\"dataframe\">\n",
       "  <thead>\n",
       "    <tr style=\"text-align: right;\">\n",
       "      <th></th>\n",
       "      <th>Id</th>\n",
       "      <th>HelpfulnessNumerator</th>\n",
       "      <th>HelpfulnessDenominator</th>\n",
       "      <th>Score</th>\n",
       "      <th>Time</th>\n",
       "      <th>Text_lenght</th>\n",
       "      <th>score_pos_neg</th>\n",
       "    </tr>\n",
       "    <tr>\n",
       "      <th>UserId</th>\n",
       "      <th></th>\n",
       "      <th></th>\n",
       "      <th></th>\n",
       "      <th></th>\n",
       "      <th></th>\n",
       "      <th></th>\n",
       "      <th></th>\n",
       "    </tr>\n",
       "  </thead>\n",
       "  <tbody>\n",
       "    <tr>\n",
       "      <th>#oc-R103C0QSV1DF5E</th>\n",
       "      <td>136323.0</td>\n",
       "      <td>1.0</td>\n",
       "      <td>2.0</td>\n",
       "      <td>5.0</td>\n",
       "      <td>1.343088e+09</td>\n",
       "      <td>56.0</td>\n",
       "      <td>1.0</td>\n",
       "    </tr>\n",
       "    <tr>\n",
       "      <th>#oc-R109MU5OBBZ59U</th>\n",
       "      <td>516062.0</td>\n",
       "      <td>0.0</td>\n",
       "      <td>1.0</td>\n",
       "      <td>5.0</td>\n",
       "      <td>1.350086e+09</td>\n",
       "      <td>21.0</td>\n",
       "      <td>1.0</td>\n",
       "    </tr>\n",
       "    <tr>\n",
       "      <th>#oc-R10LFEMQEW6QGZ</th>\n",
       "      <td>516079.0</td>\n",
       "      <td>0.0</td>\n",
       "      <td>1.0</td>\n",
       "      <td>5.0</td>\n",
       "      <td>1.345939e+09</td>\n",
       "      <td>85.0</td>\n",
       "      <td>1.0</td>\n",
       "    </tr>\n",
       "    <tr>\n",
       "      <th>#oc-R10LT57ZGIB140</th>\n",
       "      <td>378693.0</td>\n",
       "      <td>0.0</td>\n",
       "      <td>0.0</td>\n",
       "      <td>3.0</td>\n",
       "      <td>1.310602e+09</td>\n",
       "      <td>45.0</td>\n",
       "      <td>0.0</td>\n",
       "    </tr>\n",
       "    <tr>\n",
       "      <th>#oc-R10UA029WVWIUI</th>\n",
       "      <td>136545.0</td>\n",
       "      <td>0.0</td>\n",
       "      <td>0.0</td>\n",
       "      <td>1.0</td>\n",
       "      <td>1.342483e+09</td>\n",
       "      <td>66.0</td>\n",
       "      <td>0.0</td>\n",
       "    </tr>\n",
       "  </tbody>\n",
       "</table>\n",
       "</div>"
      ],
      "text/plain": [
       "                          Id  HelpfulnessNumerator  HelpfulnessDenominator  \\\n",
       "UserId                                                                       \n",
       "#oc-R103C0QSV1DF5E  136323.0                   1.0                     2.0   \n",
       "#oc-R109MU5OBBZ59U  516062.0                   0.0                     1.0   \n",
       "#oc-R10LFEMQEW6QGZ  516079.0                   0.0                     1.0   \n",
       "#oc-R10LT57ZGIB140  378693.0                   0.0                     0.0   \n",
       "#oc-R10UA029WVWIUI  136545.0                   0.0                     0.0   \n",
       "\n",
       "                    Score          Time  Text_lenght  score_pos_neg  \n",
       "UserId                                                               \n",
       "#oc-R103C0QSV1DF5E    5.0  1.343088e+09         56.0            1.0  \n",
       "#oc-R109MU5OBBZ59U    5.0  1.350086e+09         21.0            1.0  \n",
       "#oc-R10LFEMQEW6QGZ    5.0  1.345939e+09         85.0            1.0  \n",
       "#oc-R10LT57ZGIB140    3.0  1.310602e+09         45.0            0.0  \n",
       "#oc-R10UA029WVWIUI    1.0  1.342483e+09         66.0            0.0  "
      ]
     },
     "execution_count": 69,
     "metadata": {},
     "output_type": "execute_result"
    }
   ],
   "source": [
    "user_average_info.head()"
   ]
  },
  {
   "cell_type": "code",
   "execution_count": 107,
   "metadata": {},
   "outputs": [],
   "source": [
    "user_average_info.to_csv('amazon_reviewer_avg_info.csv')"
   ]
  },
  {
   "cell_type": "code",
   "execution_count": 70,
   "metadata": {},
   "outputs": [
    {
     "data": {
      "text/html": [
       "<div>\n",
       "<style scoped>\n",
       "    .dataframe tbody tr th:only-of-type {\n",
       "        vertical-align: middle;\n",
       "    }\n",
       "\n",
       "    .dataframe tbody tr th {\n",
       "        vertical-align: top;\n",
       "    }\n",
       "\n",
       "    .dataframe thead th {\n",
       "        text-align: right;\n",
       "    }\n",
       "</style>\n",
       "<table border=\"1\" class=\"dataframe\">\n",
       "  <thead>\n",
       "    <tr style=\"text-align: right;\">\n",
       "      <th></th>\n",
       "      <th>Id</th>\n",
       "    </tr>\n",
       "    <tr>\n",
       "      <th>UserId</th>\n",
       "      <th></th>\n",
       "    </tr>\n",
       "  </thead>\n",
       "  <tbody>\n",
       "    <tr>\n",
       "      <th>A3OXHLG6DIBRW8</th>\n",
       "      <td>419</td>\n",
       "    </tr>\n",
       "    <tr>\n",
       "      <th>AY12DBB0U420B</th>\n",
       "      <td>382</td>\n",
       "    </tr>\n",
       "    <tr>\n",
       "      <th>A281NPSIMI1C2R</th>\n",
       "      <td>321</td>\n",
       "    </tr>\n",
       "    <tr>\n",
       "      <th>A1YUL9PCJR3JTY</th>\n",
       "      <td>308</td>\n",
       "    </tr>\n",
       "    <tr>\n",
       "      <th>A1Z54EM24Y40LL</th>\n",
       "      <td>251</td>\n",
       "    </tr>\n",
       "  </tbody>\n",
       "</table>\n",
       "</div>"
      ],
      "text/plain": [
       "                 Id\n",
       "UserId             \n",
       "A3OXHLG6DIBRW8  419\n",
       "AY12DBB0U420B   382\n",
       "A281NPSIMI1C2R  321\n",
       "A1YUL9PCJR3JTY  308\n",
       "A1Z54EM24Y40LL  251"
      ]
     },
     "execution_count": 70,
     "metadata": {},
     "output_type": "execute_result"
    }
   ],
   "source": [
    "user_top_reviewer.head()"
   ]
  },
  {
   "cell_type": "code",
   "execution_count": 96,
   "metadata": {},
   "outputs": [],
   "source": [
    "top_reviewer_avg_data=pd.merge(user_average_info,user_top_reviewer,how='inner',on='UserId')\n"
   ]
  },
  {
   "cell_type": "code",
   "execution_count": 97,
   "metadata": {},
   "outputs": [],
   "source": [
    "top_reviewer_avg_data['ratio_helpful']=top_reviewer_avg_data['HelpfulnessNumerator']/top_reviewer_avg_data['HelpfulnessDenominator']"
   ]
  },
  {
   "cell_type": "code",
   "execution_count": 190,
   "metadata": {
    "scrolled": true
   },
   "outputs": [
    {
     "data": {
      "text/html": [
       "<div>\n",
       "<style scoped>\n",
       "    .dataframe tbody tr th:only-of-type {\n",
       "        vertical-align: middle;\n",
       "    }\n",
       "\n",
       "    .dataframe tbody tr th {\n",
       "        vertical-align: top;\n",
       "    }\n",
       "\n",
       "    .dataframe thead th {\n",
       "        text-align: right;\n",
       "    }\n",
       "</style>\n",
       "<table border=\"1\" class=\"dataframe\">\n",
       "  <thead>\n",
       "    <tr style=\"text-align: right;\">\n",
       "      <th></th>\n",
       "      <th>Id_x</th>\n",
       "      <th>HelpfulnessNumerator</th>\n",
       "      <th>HelpfulnessDenominator</th>\n",
       "      <th>Score</th>\n",
       "      <th>Time</th>\n",
       "      <th>Text_lenght</th>\n",
       "      <th>score_pos_neg</th>\n",
       "      <th>Id_y</th>\n",
       "      <th>ratio_helpful</th>\n",
       "      <th>Time_converted</th>\n",
       "    </tr>\n",
       "    <tr>\n",
       "      <th>UserId</th>\n",
       "      <th></th>\n",
       "      <th></th>\n",
       "      <th></th>\n",
       "      <th></th>\n",
       "      <th></th>\n",
       "      <th></th>\n",
       "      <th></th>\n",
       "      <th></th>\n",
       "      <th></th>\n",
       "      <th></th>\n",
       "    </tr>\n",
       "  </thead>\n",
       "  <tbody>\n",
       "    <tr>\n",
       "      <th>A100WO06OQR8BQ</th>\n",
       "      <td>295215.290909</td>\n",
       "      <td>0.836364</td>\n",
       "      <td>2.418182</td>\n",
       "      <td>3.109091</td>\n",
       "      <td>1.315171e+09</td>\n",
       "      <td>166.418182</td>\n",
       "      <td>0.400000</td>\n",
       "      <td>55</td>\n",
       "      <td>0.345865</td>\n",
       "      <td>2011-09</td>\n",
       "    </tr>\n",
       "    <tr>\n",
       "      <th>A101P2KHWCU0G6</th>\n",
       "      <td>306505.230769</td>\n",
       "      <td>0.346154</td>\n",
       "      <td>1.653846</td>\n",
       "      <td>2.038462</td>\n",
       "      <td>1.338788e+09</td>\n",
       "      <td>287.923077</td>\n",
       "      <td>0.346154</td>\n",
       "      <td>26</td>\n",
       "      <td>0.209302</td>\n",
       "      <td>2012-06</td>\n",
       "    </tr>\n",
       "    <tr>\n",
       "      <th>A102UXGLDF76G1</th>\n",
       "      <td>262626.636364</td>\n",
       "      <td>0.363636</td>\n",
       "      <td>0.545455</td>\n",
       "      <td>4.818182</td>\n",
       "      <td>1.243296e+09</td>\n",
       "      <td>91.272727</td>\n",
       "      <td>0.909091</td>\n",
       "      <td>11</td>\n",
       "      <td>0.666667</td>\n",
       "      <td>2009-05</td>\n",
       "    </tr>\n",
       "    <tr>\n",
       "      <th>A105S56ODHGJEK</th>\n",
       "      <td>296723.888889</td>\n",
       "      <td>0.111111</td>\n",
       "      <td>0.555556</td>\n",
       "      <td>3.222222</td>\n",
       "      <td>1.286256e+09</td>\n",
       "      <td>159.666667</td>\n",
       "      <td>0.444444</td>\n",
       "      <td>18</td>\n",
       "      <td>0.200000</td>\n",
       "      <td>2010-10</td>\n",
       "    </tr>\n",
       "    <tr>\n",
       "      <th>A106Q1A6LGU4DP</th>\n",
       "      <td>225461.307692</td>\n",
       "      <td>2.615385</td>\n",
       "      <td>2.846154</td>\n",
       "      <td>4.307692</td>\n",
       "      <td>1.322106e+09</td>\n",
       "      <td>149.538462</td>\n",
       "      <td>0.769231</td>\n",
       "      <td>13</td>\n",
       "      <td>0.918919</td>\n",
       "      <td>2011-11</td>\n",
       "    </tr>\n",
       "  </tbody>\n",
       "</table>\n",
       "</div>"
      ],
      "text/plain": [
       "                         Id_x  HelpfulnessNumerator  HelpfulnessDenominator  \\\n",
       "UserId                                                                        \n",
       "A100WO06OQR8BQ  295215.290909              0.836364                2.418182   \n",
       "A101P2KHWCU0G6  306505.230769              0.346154                1.653846   \n",
       "A102UXGLDF76G1  262626.636364              0.363636                0.545455   \n",
       "A105S56ODHGJEK  296723.888889              0.111111                0.555556   \n",
       "A106Q1A6LGU4DP  225461.307692              2.615385                2.846154   \n",
       "\n",
       "                   Score          Time  Text_lenght  score_pos_neg  Id_y  \\\n",
       "UserId                                                                     \n",
       "A100WO06OQR8BQ  3.109091  1.315171e+09   166.418182       0.400000    55   \n",
       "A101P2KHWCU0G6  2.038462  1.338788e+09   287.923077       0.346154    26   \n",
       "A102UXGLDF76G1  4.818182  1.243296e+09    91.272727       0.909091    11   \n",
       "A105S56ODHGJEK  3.222222  1.286256e+09   159.666667       0.444444    18   \n",
       "A106Q1A6LGU4DP  4.307692  1.322106e+09   149.538462       0.769231    13   \n",
       "\n",
       "                ratio_helpful Time_converted  \n",
       "UserId                                        \n",
       "A100WO06OQR8BQ       0.345865        2011-09  \n",
       "A101P2KHWCU0G6       0.209302        2012-06  \n",
       "A102UXGLDF76G1       0.666667        2009-05  \n",
       "A105S56ODHGJEK       0.200000        2010-10  \n",
       "A106Q1A6LGU4DP       0.918919        2011-11  "
      ]
     },
     "execution_count": 190,
     "metadata": {},
     "output_type": "execute_result"
    }
   ],
   "source": [
    "top_reviewer_avg_data.head()"
   ]
  },
  {
   "cell_type": "code",
   "execution_count": 142,
   "metadata": {},
   "outputs": [
    {
     "data": {
      "text/plain": [
       "1315171374.5454545"
      ]
     },
     "execution_count": 142,
     "metadata": {},
     "output_type": "execute_result"
    }
   ],
   "source": [
    "top_reviewer_avg_data['Time'][0]"
   ]
  },
  {
   "cell_type": "code",
   "execution_count": 144,
   "metadata": {},
   "outputs": [],
   "source": [
    "top_reviewer_avg_data['Time_converted']=top_reviewer_avg_data['Time'].apply(lambda col: datetime.utcfromtimestamp(int(col)).strftime('%Y-%m'))"
   ]
  },
  {
   "cell_type": "code",
   "execution_count": 99,
   "metadata": {},
   "outputs": [],
   "source": [
    "top_reviewer_avg_data=top_reviewer_avg_data[(top_reviewer_avg_data['ratio_helpful']>0.0) & (top_reviewer_avg_data['ratio_helpful']<1.0)]"
   ]
  },
  {
   "cell_type": "code",
   "execution_count": 314,
   "metadata": {},
   "outputs": [
    {
     "data": {
      "text/html": [
       "<div>\n",
       "<style scoped>\n",
       "    .dataframe tbody tr th:only-of-type {\n",
       "        vertical-align: middle;\n",
       "    }\n",
       "\n",
       "    .dataframe tbody tr th {\n",
       "        vertical-align: top;\n",
       "    }\n",
       "\n",
       "    .dataframe thead th {\n",
       "        text-align: right;\n",
       "    }\n",
       "</style>\n",
       "<table border=\"1\" class=\"dataframe\">\n",
       "  <thead>\n",
       "    <tr style=\"text-align: right;\">\n",
       "      <th></th>\n",
       "      <th>Id_x</th>\n",
       "      <th>HelpfulnessNumerator</th>\n",
       "      <th>HelpfulnessDenominator</th>\n",
       "      <th>Score</th>\n",
       "      <th>Time</th>\n",
       "      <th>Text_lenght</th>\n",
       "      <th>score_pos_neg</th>\n",
       "      <th>Id_y</th>\n",
       "      <th>ratio_helpful</th>\n",
       "      <th>Time_converted</th>\n",
       "    </tr>\n",
       "    <tr>\n",
       "      <th>UserId</th>\n",
       "      <th></th>\n",
       "      <th></th>\n",
       "      <th></th>\n",
       "      <th></th>\n",
       "      <th></th>\n",
       "      <th></th>\n",
       "      <th></th>\n",
       "      <th></th>\n",
       "      <th></th>\n",
       "      <th></th>\n",
       "    </tr>\n",
       "  </thead>\n",
       "  <tbody>\n",
       "    <tr>\n",
       "      <th>A100WO06OQR8BQ</th>\n",
       "      <td>295215.290909</td>\n",
       "      <td>0.836364</td>\n",
       "      <td>2.418182</td>\n",
       "      <td>3.109091</td>\n",
       "      <td>1.315171e+09</td>\n",
       "      <td>166.418182</td>\n",
       "      <td>0.400000</td>\n",
       "      <td>55</td>\n",
       "      <td>0.345865</td>\n",
       "      <td>2011-09</td>\n",
       "    </tr>\n",
       "    <tr>\n",
       "      <th>A101P2KHWCU0G6</th>\n",
       "      <td>306505.230769</td>\n",
       "      <td>0.346154</td>\n",
       "      <td>1.653846</td>\n",
       "      <td>2.038462</td>\n",
       "      <td>1.338788e+09</td>\n",
       "      <td>287.923077</td>\n",
       "      <td>0.346154</td>\n",
       "      <td>26</td>\n",
       "      <td>0.209302</td>\n",
       "      <td>2012-06</td>\n",
       "    </tr>\n",
       "    <tr>\n",
       "      <th>A102UXGLDF76G1</th>\n",
       "      <td>262626.636364</td>\n",
       "      <td>0.363636</td>\n",
       "      <td>0.545455</td>\n",
       "      <td>4.818182</td>\n",
       "      <td>1.243296e+09</td>\n",
       "      <td>91.272727</td>\n",
       "      <td>0.909091</td>\n",
       "      <td>11</td>\n",
       "      <td>0.666667</td>\n",
       "      <td>2009-05</td>\n",
       "    </tr>\n",
       "    <tr>\n",
       "      <th>A105S56ODHGJEK</th>\n",
       "      <td>296723.888889</td>\n",
       "      <td>0.111111</td>\n",
       "      <td>0.555556</td>\n",
       "      <td>3.222222</td>\n",
       "      <td>1.286256e+09</td>\n",
       "      <td>159.666667</td>\n",
       "      <td>0.444444</td>\n",
       "      <td>18</td>\n",
       "      <td>0.200000</td>\n",
       "      <td>2010-10</td>\n",
       "    </tr>\n",
       "    <tr>\n",
       "      <th>A106Q1A6LGU4DP</th>\n",
       "      <td>225461.307692</td>\n",
       "      <td>2.615385</td>\n",
       "      <td>2.846154</td>\n",
       "      <td>4.307692</td>\n",
       "      <td>1.322106e+09</td>\n",
       "      <td>149.538462</td>\n",
       "      <td>0.769231</td>\n",
       "      <td>13</td>\n",
       "      <td>0.918919</td>\n",
       "      <td>2011-11</td>\n",
       "    </tr>\n",
       "  </tbody>\n",
       "</table>\n",
       "</div>"
      ],
      "text/plain": [
       "                         Id_x  HelpfulnessNumerator  HelpfulnessDenominator  \\\n",
       "UserId                                                                        \n",
       "A100WO06OQR8BQ  295215.290909              0.836364                2.418182   \n",
       "A101P2KHWCU0G6  306505.230769              0.346154                1.653846   \n",
       "A102UXGLDF76G1  262626.636364              0.363636                0.545455   \n",
       "A105S56ODHGJEK  296723.888889              0.111111                0.555556   \n",
       "A106Q1A6LGU4DP  225461.307692              2.615385                2.846154   \n",
       "\n",
       "                   Score          Time  Text_lenght  score_pos_neg  Id_y  \\\n",
       "UserId                                                                     \n",
       "A100WO06OQR8BQ  3.109091  1.315171e+09   166.418182       0.400000    55   \n",
       "A101P2KHWCU0G6  2.038462  1.338788e+09   287.923077       0.346154    26   \n",
       "A102UXGLDF76G1  4.818182  1.243296e+09    91.272727       0.909091    11   \n",
       "A105S56ODHGJEK  3.222222  1.286256e+09   159.666667       0.444444    18   \n",
       "A106Q1A6LGU4DP  4.307692  1.322106e+09   149.538462       0.769231    13   \n",
       "\n",
       "                ratio_helpful Time_converted  \n",
       "UserId                                        \n",
       "A100WO06OQR8BQ       0.345865        2011-09  \n",
       "A101P2KHWCU0G6       0.209302        2012-06  \n",
       "A102UXGLDF76G1       0.666667        2009-05  \n",
       "A105S56ODHGJEK       0.200000        2010-10  \n",
       "A106Q1A6LGU4DP       0.918919        2011-11  "
      ]
     },
     "execution_count": 314,
     "metadata": {},
     "output_type": "execute_result"
    }
   ],
   "source": [
    "top_reviewer_avg_data.head()"
   ]
  },
  {
   "cell_type": "code",
   "execution_count": 133,
   "metadata": {},
   "outputs": [],
   "source": [
    "colors = np.random.rand(top_reviewer_avg_data.shape[0])"
   ]
  },
  {
   "cell_type": "code",
   "execution_count": 293,
   "metadata": {},
   "outputs": [],
   "source": [
    "# plt.scatter(top_reviewer_avg_data['Time_converted'],top_reviewer_avg_data['Score']);\n",
    "# #plt.xlim(0,600);\n",
    "# plt.xlabel('Date');\n",
    "# plt.ylabel('Review Helpfullness 0-1 scale');\n",
    "# plt.xticks(rotation=90);"
   ]
  },
  {
   "cell_type": "code",
   "execution_count": 301,
   "metadata": {},
   "outputs": [
    {
     "data": {
      "image/png": "[encoded data removed]",
      "text/plain": [
       "<Figure size 432x288 with 1 Axes>"
      ]
     },
     "metadata": {},
     "output_type": "display_data"
    }
   ],
   "source": [
    "top_reviewer_avg_data['ratio_helpful'].hist(bins=100,label='review helpfullness top reviewers',alpha=0.7);\n",
    "#plt.scatter(top_reviewer_avg_data['Text_lenght'],top_reviewer_avg_data['ratio_helpful'])\n",
    "plt.xlabel('Review Helpfullness ratio',fontsize=14);\n",
    "plt.ylabel('count',fontsize=14);\n",
    "\n",
    "#plt.legend()\n",
    "plt.grid(linewidth=0.5,alpha=0.75)\n",
    "\n",
    "\n",
    "plt.title('Review helpfullness for top reviewers',fontsize=14);\n",
    "plt.savefig('helpfullness_top_reviewer_dist.png')"
   ]
  },
  {
   "cell_type": "code",
   "execution_count": 302,
   "metadata": {},
   "outputs": [],
   "source": [
    "# sns.distplot(top_reviewer_avg_data['ratio_helpful'],bins=100,label='review helpfullness')\n",
    "# plt.xlabel('Review Helpfullness 0-1 scale');\n",
    "# plt.ylabel('count');\n",
    "# plt.xlim(0,1.0);\n"
   ]
  },
  {
   "cell_type": "code",
   "execution_count": 300,
   "metadata": {},
   "outputs": [
    {
     "data": {
      "image/png": "[encoded data removed]",
      "text/plain": [
       "<Figure size 432x288 with 1 Axes>"
      ]
     },
     "metadata": {},
     "output_type": "display_data"
    }
   ],
   "source": [
    "plt.scatter(top_reviewer_avg_data['Text_lenght'],top_reviewer_avg_data['ratio_helpful'],alpha=0.7);\n",
    "plt.xlim(0,600);\n",
    "plt.xlabel('Review Length',fontsize=14);\n",
    "plt.ylabel('Review Helpfullness ratio',fontsize=14);\n",
    "#plt.legend()\n",
    "plt.grid(linewidth=0.5,alpha=0.75)\n",
    "\n",
    "\n",
    "plt.title('Review length for top reviewers',fontsize=14);\n",
    "plt.savefig('helpfullness_top_reviewer_length.png')"
   ]
  },
  {
   "cell_type": "code",
   "execution_count": 159,
   "metadata": {},
   "outputs": [],
   "source": [
    "#sns.scatterplot(top_reviewer_avg_data['Text_lenght'],top_reviewer_avg_data['ratio_helpful'])"
   ]
  },
  {
   "cell_type": "code",
   "execution_count": 303,
   "metadata": {},
   "outputs": [
    {
     "data": {
      "image/png": "[encoded data removed]",
      "text/plain": [
       "<Figure size 432x288 with 1 Axes>"
      ]
     },
     "metadata": {},
     "output_type": "display_data"
    }
   ],
   "source": [
    "plt.scatter(top_reviewer_avg_data['Id_y'],top_reviewer_avg_data['ratio_helpful'],alpha=0.7);\n",
    "plt.xlim(0,175);\n",
    "plt.xlabel('Top reviewer review count',fontsize=14);\n",
    "plt.ylabel('Review Helpfullness ratio',fontsize=14);\n",
    "\n",
    "#plt.legend()\n",
    "plt.grid(linewidth=0.5,alpha=0.75)\n",
    "\n",
    "\n",
    "plt.title('Review count for top reviewers',fontsize=14);\n",
    "plt.savefig('helpfullness_top_reviewer_count.png')"
   ]
  },
  {
   "cell_type": "code",
   "execution_count": 304,
   "metadata": {},
   "outputs": [
    {
     "data": {
      "image/png": "[encoded data removed]",
      "text/plain": [
       "<Figure size 432x288 with 1 Axes>"
      ]
     },
     "metadata": {},
     "output_type": "display_data"
    }
   ],
   "source": [
    "plt.scatter(top_reviewer_avg_data['Id_y'],top_reviewer_avg_data['Text_lenght'],alpha=0.7); #,c=top_reviewer_avg_data['ratio_helpful'])\n",
    "plt.xlim(0,175);\n",
    "\n",
    "plt.xlabel('Top reviewer review count',fontsize=14);\n",
    "plt.ylabel('Review length for top reviewers',fontsize=14);\n",
    "\n",
    "#plt.legend()\n",
    "plt.grid(linewidth=0.5,alpha=0.75)\n",
    "\n",
    "\n",
    "plt.title('Review count vs. length top reviewers',fontsize=14);\n",
    "plt.savefig('helpfullness_top_reviewer_length_count.png')"
   ]
  },
  {
   "cell_type": "code",
   "execution_count": 305,
   "metadata": {},
   "outputs": [],
   "source": [
    "# plt.scatter(top_reviewer_avg_data['Score'],top_reviewer_avg_data['ratio_helpful']);\n",
    "# plt.xlim(1.05,5);\n",
    "# #no trend observed only less bad review on top reviewer"
   ]
  },
  {
   "cell_type": "code",
   "execution_count": 291,
   "metadata": {},
   "outputs": [],
   "source": [
    "# df_2011_data=amz_review_sorted_drop_duplicated[(amz_review_sorted_drop_duplicated['Time_converted_ym']>'2011-00') & (amz_review_sorted_drop_duplicated['Time_converted_ym']<'2012-00')]\n",
    "# df_2010_data=amz_review_sorted_drop_duplicated[(amz_review_sorted_drop_duplicated['Time_converted_ym']>'2010-00') & (amz_review_sorted_drop_duplicated['Time_converted_ym']<'2011-00')]\n",
    "# df_2009_data=amz_review_sorted_drop_duplicated[(amz_review_sorted_drop_duplicated['Time_converted_ym']>'2009-00') & (amz_review_sorted_drop_duplicated['Time_converted_ym']<'2010-00')]\n"
   ]
  },
  {
   "cell_type": "code",
   "execution_count": 292,
   "metadata": {},
   "outputs": [],
   "source": [
    "# df_2011_data['Time_converted_ym'] = pd.to_datetime(df_2011_data['Time_converted_ym']).dt.strftime('%H:%M')"
   ]
  },
  {
   "cell_type": "code",
   "execution_count": 289,
   "metadata": {
    "scrolled": true
   },
   "outputs": [],
   "source": [
    "# df_2011_data=amz_review_sorted_drop_duplicated[(amz_review_sorted_drop_duplicated['Time_converted_ym']>'2011-00') & (amz_review_sorted_drop_duplicated['Time_converted_ym']<'2012-00')]\n",
    "# plt.figure(figsize=(24,4))\n",
    "# sns.countplot(x=\"Time_converted_ym\", data=df_2011_data)\n",
    "# #sns.distplot(df_2011_data['Time_converted_ym']) didnot work\n",
    "# #plt.hist(df_2011_data['Time_converted_ym']) too too long\n",
    "# plt.xticks(rotation=90);"
   ]
  },
  {
   "cell_type": "code",
   "execution_count": 290,
   "metadata": {},
   "outputs": [],
   "source": [
    "# plt.figure(figsize=(24,6))\n",
    "# grp_date=amz_review_sorted_drop_duplicated.groupby(by=['Time_converted_ym']).count();\n",
    "# grp_date.reset_index(inplace=True);\n",
    "# plt.plot_date(x=grp_date['Time_converted_ym'],y=grp_date['Score']);\n",
    "# plt.xticks(rotation=90);\n",
    "# plt.xlim('2000-01','2012-10');\n",
    "# #grp_date"
   ]
  },
  {
   "cell_type": "code",
   "execution_count": 254,
   "metadata": {},
   "outputs": [],
   "source": [
    "grp_s1=amz_review_sorted_drop_duplicated[amz_review_sorted_drop_duplicated['Score']==1]\n",
    "grp_s2=amz_review_sorted_drop_duplicated[amz_review_sorted_drop_duplicated['Score']==2]\n",
    "grp_s3=amz_review_sorted_drop_duplicated[amz_review_sorted_drop_duplicated['Score']==3]\n",
    "grp_s4=amz_review_sorted_drop_duplicated[amz_review_sorted_drop_duplicated['Score']==4]\n",
    "grp_s5=amz_review_sorted_drop_duplicated[amz_review_sorted_drop_duplicated['Score']==5]\n",
    "\n",
    "grp_date_1=grp_s1.groupby(by=['Time_converted_ym']).count();\n",
    "grp_date_2=grp_s2.groupby(by=['Time_converted_ym']).count();\n",
    "grp_date_3=grp_s3.groupby(by=['Time_converted_ym']).count();\n",
    "grp_date_4=grp_s4.groupby(by=['Time_converted_ym']).count();\n",
    "grp_date_5=grp_s5.groupby(by=['Time_converted_ym']).count();\n",
    "\n",
    "grp_date_1.reset_index(inplace=True); #to make it to column\n",
    "grp_date_2.reset_index(inplace=True);\n",
    "grp_date_3.reset_index(inplace=True);\n",
    "grp_date_4.reset_index(inplace=True);\n",
    "grp_date_5.reset_index(inplace=True);"
   ]
  },
  {
   "cell_type": "code",
   "execution_count": 263,
   "metadata": {},
   "outputs": [
    {
     "data": {
      "image/png": "[encoded data removed]",
      "text/plain": [
       "<Figure size 1728x576 with 1 Axes>"
      ]
     },
     "metadata": {},
     "output_type": "display_data"
    }
   ],
   "source": [
    "plt.figure(figsize=(24,8))\n",
    "\n",
    "plt.plot_date(x=grp_date_1['Time_converted_ym'],y=grp_date_1['Score'],label='Score=1');\n",
    "plt.plot_date(x=grp_date_2['Time_converted_ym'],y=grp_date_2['Score'],label='Score=2');\n",
    "plt.plot_date(x=grp_date_3['Time_converted_ym'],y=grp_date_3['Score'],label='Score=3');\n",
    "plt.plot_date(x=grp_date_4['Time_converted_ym'],y=grp_date_4['Score'],label='Score=4');\n",
    "plt.plot_date(x=grp_date_5['Time_converted_ym'],y=grp_date_5['Score'],label='Score=5');\n",
    "plt.xticks(rotation=90);\n",
    "plt.legend()\n",
    "plt.grid(linewidth=0.5,alpha=0.75)\n",
    "plt.xlim('2000-01','2012-10');\n",
    "plt.xlabel('Date',fontsize=22)\n",
    "plt.ylabel('Number of review',fontsize=22)\n",
    "plt.title('Number of review trend from 2000 to 2012',fontsize=24);\n",
    "plt.savefig('data_review_trend.png')\n",
    "#grp_date"
   ]
  },
  {
   "cell_type": "code",
   "execution_count": 279,
   "metadata": {},
   "outputs": [],
   "source": [
    "#amz_review_sorted_drop_duplicated(by=['Time_converted_ym']).count()\n",
    "grp_avg_date=amz_review_sorted_drop_duplicated.groupby(by=['Time_converted_ym']).mean()\n",
    "grp_avg_date.reset_index(inplace=True);\n",
    "grp_avg_date['Helpfulness_ratio']=grp_avg_date['HelpfulnessNumerator']/grp_avg_date['HelpfulnessDenominator']"
   ]
  },
  {
   "cell_type": "code",
   "execution_count": 281,
   "metadata": {},
   "outputs": [
    {
     "data": {
      "text/plain": [
       "Time_converted_ym         0\n",
       "Id                        0\n",
       "HelpfulnessNumerator      0\n",
       "HelpfulnessDenominator    0\n",
       "Score                     0\n",
       "Time                      0\n",
       "Text_lenght               0\n",
       "score_pos_neg             0\n",
       "Helpfulness_ratio         0\n",
       "dtype: int64"
      ]
     },
     "execution_count": 281,
     "metadata": {},
     "output_type": "execute_result"
    }
   ],
   "source": [
    "grp_avg_date.isnull().sum()"
   ]
  },
  {
   "cell_type": "code",
   "execution_count": 282,
   "metadata": {},
   "outputs": [
    {
     "data": {
      "text/html": [
       "<div>\n",
       "<style scoped>\n",
       "    .dataframe tbody tr th:only-of-type {\n",
       "        vertical-align: middle;\n",
       "    }\n",
       "\n",
       "    .dataframe tbody tr th {\n",
       "        vertical-align: top;\n",
       "    }\n",
       "\n",
       "    .dataframe thead th {\n",
       "        text-align: right;\n",
       "    }\n",
       "</style>\n",
       "<table border=\"1\" class=\"dataframe\">\n",
       "  <thead>\n",
       "    <tr style=\"text-align: right;\">\n",
       "      <th></th>\n",
       "      <th>Time_converted_ym</th>\n",
       "      <th>Id</th>\n",
       "      <th>HelpfulnessNumerator</th>\n",
       "      <th>HelpfulnessDenominator</th>\n",
       "      <th>Score</th>\n",
       "      <th>Time</th>\n",
       "      <th>Text_lenght</th>\n",
       "      <th>score_pos_neg</th>\n",
       "      <th>Helpfulness_ratio</th>\n",
       "    </tr>\n",
       "  </thead>\n",
       "  <tbody>\n",
       "    <tr>\n",
       "      <th>0</th>\n",
       "      <td>1999-10</td>\n",
       "      <td>150512.500000</td>\n",
       "      <td>1.000</td>\n",
       "      <td>1.000</td>\n",
       "      <td>5.0</td>\n",
       "      <td>940075200.0</td>\n",
       "      <td>81.50</td>\n",
       "      <td>1.000</td>\n",
       "      <td>1.000000</td>\n",
       "    </tr>\n",
       "    <tr>\n",
       "      <th>1</th>\n",
       "      <td>1999-12</td>\n",
       "      <td>377094.500000</td>\n",
       "      <td>0.750</td>\n",
       "      <td>1.500</td>\n",
       "      <td>5.0</td>\n",
       "      <td>944352000.0</td>\n",
       "      <td>35.75</td>\n",
       "      <td>1.000</td>\n",
       "      <td>0.500000</td>\n",
       "    </tr>\n",
       "    <tr>\n",
       "      <th>2</th>\n",
       "      <td>2000-01</td>\n",
       "      <td>330241.500000</td>\n",
       "      <td>7.875</td>\n",
       "      <td>9.375</td>\n",
       "      <td>3.5</td>\n",
       "      <td>947797200.0</td>\n",
       "      <td>51.00</td>\n",
       "      <td>0.625</td>\n",
       "      <td>0.840000</td>\n",
       "    </tr>\n",
       "    <tr>\n",
       "      <th>3</th>\n",
       "      <td>2000-02</td>\n",
       "      <td>352267.666667</td>\n",
       "      <td>2.000</td>\n",
       "      <td>3.000</td>\n",
       "      <td>4.0</td>\n",
       "      <td>951523200.0</td>\n",
       "      <td>244.00</td>\n",
       "      <td>1.000</td>\n",
       "      <td>0.666667</td>\n",
       "    </tr>\n",
       "    <tr>\n",
       "      <th>4</th>\n",
       "      <td>2000-06</td>\n",
       "      <td>211823.600000</td>\n",
       "      <td>3.400</td>\n",
       "      <td>4.800</td>\n",
       "      <td>5.0</td>\n",
       "      <td>960785280.0</td>\n",
       "      <td>42.60</td>\n",
       "      <td>1.000</td>\n",
       "      <td>0.708333</td>\n",
       "    </tr>\n",
       "  </tbody>\n",
       "</table>\n",
       "</div>"
      ],
      "text/plain": [
       "  Time_converted_ym             Id  HelpfulnessNumerator  \\\n",
       "0           1999-10  150512.500000                 1.000   \n",
       "1           1999-12  377094.500000                 0.750   \n",
       "2           2000-01  330241.500000                 7.875   \n",
       "3           2000-02  352267.666667                 2.000   \n",
       "4           2000-06  211823.600000                 3.400   \n",
       "\n",
       "   HelpfulnessDenominator  Score         Time  Text_lenght  score_pos_neg  \\\n",
       "0                   1.000    5.0  940075200.0        81.50          1.000   \n",
       "1                   1.500    5.0  944352000.0        35.75          1.000   \n",
       "2                   9.375    3.5  947797200.0        51.00          0.625   \n",
       "3                   3.000    4.0  951523200.0       244.00          1.000   \n",
       "4                   4.800    5.0  960785280.0        42.60          1.000   \n",
       "\n",
       "   Helpfulness_ratio  \n",
       "0           1.000000  \n",
       "1           0.500000  \n",
       "2           0.840000  \n",
       "3           0.666667  \n",
       "4           0.708333  "
      ]
     },
     "execution_count": 282,
     "metadata": {},
     "output_type": "execute_result"
    }
   ],
   "source": [
    "grp_avg_date.head()"
   ]
  },
  {
   "cell_type": "code",
   "execution_count": 287,
   "metadata": {},
   "outputs": [
    {
     "data": {
      "image/png": "[encoded data removed]",
      "text/plain": [
       "<Figure size 1728x576 with 1 Axes>"
      ]
     },
     "metadata": {},
     "output_type": "display_data"
    }
   ],
   "source": [
    "plt.figure(figsize=(24,8))\n",
    "plt.plot_date(x=grp_avg_date['Time_converted_ym'],y=grp_avg_date['Text_lenght'],label='Review length');\n",
    "plt.xticks(rotation=90);\n",
    "plt.legend()\n",
    "plt.grid(linewidth=0.5,alpha=0.75)\n",
    "plt.xlim('2000-01','2012-10');\n",
    "plt.xlabel('Date',fontsize=22)\n",
    "plt.ylabel('Average review length',fontsize=22)\n",
    "plt.title('Length of review trend from 2000 to 2012',fontsize=24);\n",
    "plt.savefig('data_review_length_trend.png')\n",
    "#stable review length"
   ]
  },
  {
   "cell_type": "code",
   "execution_count": 288,
   "metadata": {},
   "outputs": [
    {
     "data": {
      "image/png": "[encoded data removed]",
      "text/plain": [
       "<Figure size 1728x576 with 1 Axes>"
      ]
     },
     "metadata": {},
     "output_type": "display_data"
    }
   ],
   "source": [
    "plt.figure(figsize=(24,8))\n",
    "plt.plot_date(x=grp_avg_date['Time_converted_ym'],y=grp_avg_date['Helpfulness_ratio'],label='Review Helpfullness ratio');\n",
    "plt.xticks(rotation=90);\n",
    "plt.legend()\n",
    "plt.grid(linewidth=0.5,alpha=0.75)\n",
    "plt.xlim('2000-01','2012-10');\n",
    "plt.xlabel('Date',fontsize=22)\n",
    "plt.ylabel('Average Helpfullness',fontsize=22)\n",
    "plt.title('Length of review trend from 2000 to 2012',fontsize=24);\n",
    "plt.savefig('data_review_helpful_trend.png')\n",
    "\n",
    "#drop can be due to visitor not getting time yet to check the reviews of 2012"
   ]
  },
  {
   "cell_type": "code",
   "execution_count": 195,
   "metadata": {},
   "outputs": [],
   "source": [
    "# df_2011_data['Time_converted'] = df_2011_data['Time_converted'].map(lambda x:x.date())\n",
    "# plt.plot_date(x=df_2011_data['Score'],y=df_2011_data['Time_converted'])"
   ]
  },
  {
   "cell_type": "code",
   "execution_count": 189,
   "metadata": {},
   "outputs": [],
   "source": [
    "#sns.countplot(x=\"Score\", data=df_2011_data)\n",
    "#sns.countplot(x=\"Score\", data=df_2010_data)\n",
    "#sns.countplot(x=\"Score\", data=df_2009_data)\n",
    "#sns.factorplot(x=\"Time_converted_ym\", data=df_2011_data)"
   ]
  },
  {
   "cell_type": "code",
   "execution_count": 315,
   "metadata": {},
   "outputs": [],
   "source": [
    "top_reviewer_avg_data.to_csv('top_reviewer_avg_data.csv',index=False)\n",
    "\n",
    "grp_avg_date.to_csv('grp_avg_date.csv',index=False)"
   ]
  },
  {
   "cell_type": "code",
   "execution_count": 126,
   "metadata": {},
   "outputs": [],
   "source": [
    "check_name=pd.read_csv('amazon_top_reviewer_list.csv')"
   ]
  },
  {
   "cell_type": "code",
   "execution_count": 316,
   "metadata": {},
   "outputs": [],
   "source": [
    "#amz_review_sorted_drop_duplicated.head()"
   ]
  },
  {
   "cell_type": "code",
   "execution_count": 317,
   "metadata": {},
   "outputs": [
    {
     "data": {
      "text/html": [
       "<div>\n",
       "<style scoped>\n",
       "    .dataframe tbody tr th:only-of-type {\n",
       "        vertical-align: middle;\n",
       "    }\n",
       "\n",
       "    .dataframe tbody tr th {\n",
       "        vertical-align: top;\n",
       "    }\n",
       "\n",
       "    .dataframe thead th {\n",
       "        text-align: right;\n",
       "    }\n",
       "</style>\n",
       "<table border=\"1\" class=\"dataframe\">\n",
       "  <thead>\n",
       "    <tr style=\"text-align: right;\">\n",
       "      <th></th>\n",
       "      <th>Id</th>\n",
       "      <th>ProductId</th>\n",
       "      <th>UserId</th>\n",
       "      <th>ProfileName</th>\n",
       "      <th>HelpfulnessNumerator</th>\n",
       "      <th>HelpfulnessDenominator</th>\n",
       "      <th>Score</th>\n",
       "      <th>Time</th>\n",
       "      <th>Summary</th>\n",
       "      <th>Text</th>\n",
       "      <th>Text_lenght</th>\n",
       "      <th>Time_converted</th>\n",
       "      <th>Time_converted_ym</th>\n",
       "      <th>Text_new</th>\n",
       "      <th>Text_new2</th>\n",
       "      <th>score_pos_neg</th>\n",
       "    </tr>\n",
       "  </thead>\n",
       "  <tbody>\n",
       "    <tr>\n",
       "      <th>0</th>\n",
       "      <td>1</td>\n",
       "      <td>B001E4KFG0</td>\n",
       "      <td>A3SGXH7AUHU8GW</td>\n",
       "      <td>delmartian</td>\n",
       "      <td>1</td>\n",
       "      <td>1</td>\n",
       "      <td>5</td>\n",
       "      <td>1303862400</td>\n",
       "      <td>Good Quality Dog Food</td>\n",
       "      <td>I have bought several of the Vitality canned d...</td>\n",
       "      <td>49</td>\n",
       "      <td>2011-04-27</td>\n",
       "      <td>2011-04</td>\n",
       "      <td>i have bought several of the vitality canned d...</td>\n",
       "      <td>[bought, vitality, canned, dog, food, products...</td>\n",
       "      <td>1</td>\n",
       "    </tr>\n",
       "    <tr>\n",
       "      <th>1</th>\n",
       "      <td>2</td>\n",
       "      <td>B00813GRG4</td>\n",
       "      <td>A1D87F6ZCVE5NK</td>\n",
       "      <td>dll pa</td>\n",
       "      <td>0</td>\n",
       "      <td>0</td>\n",
       "      <td>1</td>\n",
       "      <td>1346976000</td>\n",
       "      <td>Not as Advertised</td>\n",
       "      <td>Product arrived labeled as Jumbo Salted Peanut...</td>\n",
       "      <td>31</td>\n",
       "      <td>2012-09-07</td>\n",
       "      <td>2012-09</td>\n",
       "      <td>product arrived labeled as jumbo salted peanut...</td>\n",
       "      <td>[product, arrived, labeled, jumbo, salted, pea...</td>\n",
       "      <td>0</td>\n",
       "    </tr>\n",
       "    <tr>\n",
       "      <th>2</th>\n",
       "      <td>3</td>\n",
       "      <td>B000LQOCH0</td>\n",
       "      <td>ABXLMWJIXXAIN</td>\n",
       "      <td>Natalia Corres \"Natalia Corres\"</td>\n",
       "      <td>1</td>\n",
       "      <td>1</td>\n",
       "      <td>4</td>\n",
       "      <td>1219017600</td>\n",
       "      <td>\"Delight\" says it all</td>\n",
       "      <td>This is a confection that has been around a fe...</td>\n",
       "      <td>99</td>\n",
       "      <td>2008-08-18</td>\n",
       "      <td>2008-08</td>\n",
       "      <td>this is a confection that has been around a fe...</td>\n",
       "      <td>[confection, centuries, light, pillowy, citrus...</td>\n",
       "      <td>1</td>\n",
       "    </tr>\n",
       "    <tr>\n",
       "      <th>3</th>\n",
       "      <td>4</td>\n",
       "      <td>B000UA0QIQ</td>\n",
       "      <td>A395BORC6FGVXV</td>\n",
       "      <td>Karl</td>\n",
       "      <td>3</td>\n",
       "      <td>3</td>\n",
       "      <td>2</td>\n",
       "      <td>1307923200</td>\n",
       "      <td>Cough Medicine</td>\n",
       "      <td>If you are looking for the secret ingredient i...</td>\n",
       "      <td>43</td>\n",
       "      <td>2011-06-13</td>\n",
       "      <td>2011-06</td>\n",
       "      <td>if you are looking for the secret ingredient i...</td>\n",
       "      <td>[secret, ingredient, robitussin, addition, roo...</td>\n",
       "      <td>0</td>\n",
       "    </tr>\n",
       "    <tr>\n",
       "      <th>4</th>\n",
       "      <td>5</td>\n",
       "      <td>B006K2ZZ7K</td>\n",
       "      <td>A1UQRSCLF8GW1T</td>\n",
       "      <td>Michael D. Bigham \"M. Wassir\"</td>\n",
       "      <td>0</td>\n",
       "      <td>0</td>\n",
       "      <td>5</td>\n",
       "      <td>1350777600</td>\n",
       "      <td>Great taffy</td>\n",
       "      <td>Great taffy at a great price.  There was a wid...</td>\n",
       "      <td>30</td>\n",
       "      <td>2012-10-21</td>\n",
       "      <td>2012-10</td>\n",
       "      <td>great taffy at a great price.  there was a wid...</td>\n",
       "      <td>[great, taffy, great, price, wide, assortment,...</td>\n",
       "      <td>1</td>\n",
       "    </tr>\n",
       "  </tbody>\n",
       "</table>\n",
       "</div>"
      ],
      "text/plain": [
       "   Id   ProductId          UserId                      ProfileName  \\\n",
       "0   1  B001E4KFG0  A3SGXH7AUHU8GW                       delmartian   \n",
       "1   2  B00813GRG4  A1D87F6ZCVE5NK                           dll pa   \n",
       "2   3  B000LQOCH0   ABXLMWJIXXAIN  Natalia Corres \"Natalia Corres\"   \n",
       "3   4  B000UA0QIQ  A395BORC6FGVXV                             Karl   \n",
       "4   5  B006K2ZZ7K  A1UQRSCLF8GW1T    Michael D. Bigham \"M. Wassir\"   \n",
       "\n",
       "   HelpfulnessNumerator  HelpfulnessDenominator  Score        Time  \\\n",
       "0                     1                       1      5  1303862400   \n",
       "1                     0                       0      1  1346976000   \n",
       "2                     1                       1      4  1219017600   \n",
       "3                     3                       3      2  1307923200   \n",
       "4                     0                       0      5  1350777600   \n",
       "\n",
       "                 Summary                                               Text  \\\n",
       "0  Good Quality Dog Food  I have bought several of the Vitality canned d...   \n",
       "1      Not as Advertised  Product arrived labeled as Jumbo Salted Peanut...   \n",
       "2  \"Delight\" says it all  This is a confection that has been around a fe...   \n",
       "3         Cough Medicine  If you are looking for the secret ingredient i...   \n",
       "4            Great taffy  Great taffy at a great price.  There was a wid...   \n",
       "\n",
       "   Text_lenght Time_converted Time_converted_ym  \\\n",
       "0           49     2011-04-27           2011-04   \n",
       "1           31     2012-09-07           2012-09   \n",
       "2           99     2008-08-18           2008-08   \n",
       "3           43     2011-06-13           2011-06   \n",
       "4           30     2012-10-21           2012-10   \n",
       "\n",
       "                                            Text_new  \\\n",
       "0  i have bought several of the vitality canned d...   \n",
       "1  product arrived labeled as jumbo salted peanut...   \n",
       "2  this is a confection that has been around a fe...   \n",
       "3  if you are looking for the secret ingredient i...   \n",
       "4  great taffy at a great price.  there was a wid...   \n",
       "\n",
       "                                           Text_new2  score_pos_neg  \n",
       "0  [bought, vitality, canned, dog, food, products...              1  \n",
       "1  [product, arrived, labeled, jumbo, salted, pea...              0  \n",
       "2  [confection, centuries, light, pillowy, citrus...              1  \n",
       "3  [secret, ingredient, robitussin, addition, roo...              0  \n",
       "4  [great, taffy, great, price, wide, assortment,...              1  "
      ]
     },
     "execution_count": 317,
     "metadata": {},
     "output_type": "execute_result"
    }
   ],
   "source": [
    "amz_review_sorted_drop_duplicated.head()"
   ]
  },
  {
   "cell_type": "code",
   "execution_count": 318,
   "metadata": {},
   "outputs": [
    {
     "data": {
      "text/plain": [
       "Index(['Id', 'ProductId', 'UserId', 'ProfileName', 'HelpfulnessNumerator',\n",
       "       'HelpfulnessDenominator', 'Score', 'Time', 'Summary', 'Text',\n",
       "       'Text_lenght', 'Time_converted', 'Time_converted_ym', 'Text_new',\n",
       "       'Text_new2', 'score_pos_neg'],\n",
       "      dtype='object')"
      ]
     },
     "execution_count": 318,
     "metadata": {},
     "output_type": "execute_result"
    }
   ],
   "source": [
    "amz_review_sorted_drop_duplicated.columns"
   ]
  },
  {
   "cell_type": "code",
   "execution_count": 319,
   "metadata": {},
   "outputs": [],
   "source": [
    "amz_review_less_col=amz_review_sorted_drop_duplicated[['Score','Time_converted_ym', 'Text_new2', 'score_pos_neg']]"
   ]
  },
  {
   "cell_type": "code",
   "execution_count": 320,
   "metadata": {},
   "outputs": [
    {
     "data": {
      "text/html": [
       "<div>\n",
       "<style scoped>\n",
       "    .dataframe tbody tr th:only-of-type {\n",
       "        vertical-align: middle;\n",
       "    }\n",
       "\n",
       "    .dataframe tbody tr th {\n",
       "        vertical-align: top;\n",
       "    }\n",
       "\n",
       "    .dataframe thead th {\n",
       "        text-align: right;\n",
       "    }\n",
       "</style>\n",
       "<table border=\"1\" class=\"dataframe\">\n",
       "  <thead>\n",
       "    <tr style=\"text-align: right;\">\n",
       "      <th></th>\n",
       "      <th>Score</th>\n",
       "      <th>Time_converted_ym</th>\n",
       "      <th>Text_new2</th>\n",
       "      <th>score_pos_neg</th>\n",
       "    </tr>\n",
       "  </thead>\n",
       "  <tbody>\n",
       "    <tr>\n",
       "      <th>0</th>\n",
       "      <td>5</td>\n",
       "      <td>2011-04</td>\n",
       "      <td>[bought, vitality, canned, dog, food, products...</td>\n",
       "      <td>1</td>\n",
       "    </tr>\n",
       "    <tr>\n",
       "      <th>1</th>\n",
       "      <td>1</td>\n",
       "      <td>2012-09</td>\n",
       "      <td>[product, arrived, labeled, jumbo, salted, pea...</td>\n",
       "      <td>0</td>\n",
       "    </tr>\n",
       "    <tr>\n",
       "      <th>2</th>\n",
       "      <td>4</td>\n",
       "      <td>2008-08</td>\n",
       "      <td>[confection, centuries, light, pillowy, citrus...</td>\n",
       "      <td>1</td>\n",
       "    </tr>\n",
       "    <tr>\n",
       "      <th>3</th>\n",
       "      <td>2</td>\n",
       "      <td>2011-06</td>\n",
       "      <td>[secret, ingredient, robitussin, addition, roo...</td>\n",
       "      <td>0</td>\n",
       "    </tr>\n",
       "    <tr>\n",
       "      <th>4</th>\n",
       "      <td>5</td>\n",
       "      <td>2012-10</td>\n",
       "      <td>[great, taffy, great, price, wide, assortment,...</td>\n",
       "      <td>1</td>\n",
       "    </tr>\n",
       "  </tbody>\n",
       "</table>\n",
       "</div>"
      ],
      "text/plain": [
       "   Score Time_converted_ym                                          Text_new2  \\\n",
       "0      5           2011-04  [bought, vitality, canned, dog, food, products...   \n",
       "1      1           2012-09  [product, arrived, labeled, jumbo, salted, pea...   \n",
       "2      4           2008-08  [confection, centuries, light, pillowy, citrus...   \n",
       "3      2           2011-06  [secret, ingredient, robitussin, addition, roo...   \n",
       "4      5           2012-10  [great, taffy, great, price, wide, assortment,...   \n",
       "\n",
       "   score_pos_neg  \n",
       "0              1  \n",
       "1              0  \n",
       "2              1  \n",
       "3              0  \n",
       "4              1  "
      ]
     },
     "execution_count": 320,
     "metadata": {},
     "output_type": "execute_result"
    }
   ],
   "source": [
    "amz_review_less_col.head()"
   ]
  },
  {
   "cell_type": "code",
   "execution_count": 323,
   "metadata": {},
   "outputs": [],
   "source": [
    "amz_review_less_col_rename=amz_review_less_col.rename(columns={'Text_new2':'Review_word_list'})"
   ]
  },
  {
   "cell_type": "code",
   "execution_count": 324,
   "metadata": {},
   "outputs": [
    {
     "data": {
      "text/html": [
       "<div>\n",
       "<style scoped>\n",
       "    .dataframe tbody tr th:only-of-type {\n",
       "        vertical-align: middle;\n",
       "    }\n",
       "\n",
       "    .dataframe tbody tr th {\n",
       "        vertical-align: top;\n",
       "    }\n",
       "\n",
       "    .dataframe thead th {\n",
       "        text-align: right;\n",
       "    }\n",
       "</style>\n",
       "<table border=\"1\" class=\"dataframe\">\n",
       "  <thead>\n",
       "    <tr style=\"text-align: right;\">\n",
       "      <th></th>\n",
       "      <th>Score</th>\n",
       "      <th>Time_converted_ym</th>\n",
       "      <th>Review_word_list</th>\n",
       "      <th>score_pos_neg</th>\n",
       "    </tr>\n",
       "  </thead>\n",
       "  <tbody>\n",
       "    <tr>\n",
       "      <th>0</th>\n",
       "      <td>5</td>\n",
       "      <td>2011-04</td>\n",
       "      <td>[bought, vitality, canned, dog, food, products...</td>\n",
       "      <td>1</td>\n",
       "    </tr>\n",
       "    <tr>\n",
       "      <th>1</th>\n",
       "      <td>1</td>\n",
       "      <td>2012-09</td>\n",
       "      <td>[product, arrived, labeled, jumbo, salted, pea...</td>\n",
       "      <td>0</td>\n",
       "    </tr>\n",
       "    <tr>\n",
       "      <th>2</th>\n",
       "      <td>4</td>\n",
       "      <td>2008-08</td>\n",
       "      <td>[confection, centuries, light, pillowy, citrus...</td>\n",
       "      <td>1</td>\n",
       "    </tr>\n",
       "    <tr>\n",
       "      <th>3</th>\n",
       "      <td>2</td>\n",
       "      <td>2011-06</td>\n",
       "      <td>[secret, ingredient, robitussin, addition, roo...</td>\n",
       "      <td>0</td>\n",
       "    </tr>\n",
       "    <tr>\n",
       "      <th>4</th>\n",
       "      <td>5</td>\n",
       "      <td>2012-10</td>\n",
       "      <td>[great, taffy, great, price, wide, assortment,...</td>\n",
       "      <td>1</td>\n",
       "    </tr>\n",
       "  </tbody>\n",
       "</table>\n",
       "</div>"
      ],
      "text/plain": [
       "   Score Time_converted_ym                                   Review_word_list  \\\n",
       "0      5           2011-04  [bought, vitality, canned, dog, food, products...   \n",
       "1      1           2012-09  [product, arrived, labeled, jumbo, salted, pea...   \n",
       "2      4           2008-08  [confection, centuries, light, pillowy, citrus...   \n",
       "3      2           2011-06  [secret, ingredient, robitussin, addition, roo...   \n",
       "4      5           2012-10  [great, taffy, great, price, wide, assortment,...   \n",
       "\n",
       "   score_pos_neg  \n",
       "0              1  \n",
       "1              0  \n",
       "2              1  \n",
       "3              0  \n",
       "4              1  "
      ]
     },
     "execution_count": 324,
     "metadata": {},
     "output_type": "execute_result"
    }
   ],
   "source": [
    "amz_review_less_col_rename.head()"
   ]
  },
  {
   "cell_type": "code",
   "execution_count": 325,
   "metadata": {},
   "outputs": [],
   "source": [
    "amz_review_less_col_rename.to_csv('amz_review_less_col_rename.csv',index=False)"
   ]
  },
  {
   "cell_type": "code",
   "execution_count": 326,
   "metadata": {},
   "outputs": [
    {
     "data": {
      "text/plain": [
       "['bought',\n",
       " 'vitality',\n",
       " 'canned',\n",
       " 'dog',\n",
       " 'food',\n",
       " 'products',\n",
       " 'good',\n",
       " 'quality',\n",
       " 'product',\n",
       " 'like',\n",
       " 'stew',\n",
       " 'processed',\n",
       " 'meat',\n",
       " 'smells',\n",
       " 'better',\n",
       " 'labrador',\n",
       " 'finicky',\n",
       " 'appreciates',\n",
       " 'product',\n",
       " 'better']"
      ]
     },
     "execution_count": 326,
     "metadata": {},
     "output_type": "execute_result"
    }
   ],
   "source": [
    "amz_review_less_col_rename['Review_word_list'][0]"
   ]
  },
  {
   "cell_type": "code",
   "execution_count": null,
   "metadata": {},
   "outputs": [],
   "source": []
  },
  {
   "cell_type": "code",
   "execution_count": 127,
   "metadata": {},
   "outputs": [
    {
     "data": {
      "text/html": [
       "<div>\n",
       "<style scoped>\n",
       "    .dataframe tbody tr th:only-of-type {\n",
       "        vertical-align: middle;\n",
       "    }\n",
       "\n",
       "    .dataframe tbody tr th {\n",
       "        vertical-align: top;\n",
       "    }\n",
       "\n",
       "    .dataframe thead th {\n",
       "        text-align: right;\n",
       "    }\n",
       "</style>\n",
       "<table border=\"1\" class=\"dataframe\">\n",
       "  <thead>\n",
       "    <tr style=\"text-align: right;\">\n",
       "      <th></th>\n",
       "      <th>UserId</th>\n",
       "      <th>Id</th>\n",
       "    </tr>\n",
       "  </thead>\n",
       "  <tbody>\n",
       "    <tr>\n",
       "      <th>0</th>\n",
       "      <td>A3OXHLG6DIBRW8</td>\n",
       "      <td>419</td>\n",
       "    </tr>\n",
       "    <tr>\n",
       "      <th>1</th>\n",
       "      <td>AY12DBB0U420B</td>\n",
       "      <td>382</td>\n",
       "    </tr>\n",
       "    <tr>\n",
       "      <th>2</th>\n",
       "      <td>A281NPSIMI1C2R</td>\n",
       "      <td>321</td>\n",
       "    </tr>\n",
       "    <tr>\n",
       "      <th>3</th>\n",
       "      <td>A1YUL9PCJR3JTY</td>\n",
       "      <td>308</td>\n",
       "    </tr>\n",
       "    <tr>\n",
       "      <th>4</th>\n",
       "      <td>A1Z54EM24Y40LL</td>\n",
       "      <td>251</td>\n",
       "    </tr>\n",
       "  </tbody>\n",
       "</table>\n",
       "</div>"
      ],
      "text/plain": [
       "           UserId   Id\n",
       "0  A3OXHLG6DIBRW8  419\n",
       "1   AY12DBB0U420B  382\n",
       "2  A281NPSIMI1C2R  321\n",
       "3  A1YUL9PCJR3JTY  308\n",
       "4  A1Z54EM24Y40LL  251"
      ]
     },
     "execution_count": 127,
     "metadata": {},
     "output_type": "execute_result"
    }
   ],
   "source": [
    "check_name.head()"
   ]
  },
  {
   "cell_type": "code",
   "execution_count": 115,
   "metadata": {},
   "outputs": [
    {
     "data": {
      "text/plain": [
       "(10, 50)"
      ]
     },
     "execution_count": 115,
     "metadata": {},
     "output_type": "execute_result"
    },
    {
     "data": {
      "image/png": "[encoded data removed]",
      "text/plain": [
       "<Figure size 432x288 with 1 Axes>"
      ]
     },
     "metadata": {},
     "output_type": "display_data"
    }
   ],
   "source": [
    "user_number_review[user_number_review['Id']>10]['Id'].hist(bins=400);\n",
    "plt.xlim(10,50)"
   ]
  },
  {
   "cell_type": "code",
   "execution_count": 56,
   "metadata": {},
   "outputs": [],
   "source": [
    "check=pd.read_csv('amazon_review_parsed_new2.csv')"
   ]
  },
  {
   "cell_type": "code",
   "execution_count": 69,
   "metadata": {},
   "outputs": [
    {
     "data": {
      "text/plain": [
       "Id                         int64\n",
       "ProductId                 object\n",
       "UserId                    object\n",
       "ProfileName               object\n",
       "HelpfulnessNumerator       int64\n",
       "HelpfulnessDenominator     int64\n",
       "Score                      int64\n",
       "Time                       int64\n",
       "Summary                   object\n",
       "Text                      object\n",
       "Text_lenght                int64\n",
       "Time_converted            object\n",
       "Time_converted_ym         object\n",
       "Text_new                  object\n",
       "Text_new2                 object\n",
       "Text_new3                 object\n",
       "dtype: object"
      ]
     },
     "execution_count": 69,
     "metadata": {},
     "output_type": "execute_result"
    }
   ],
   "source": [
    "check.dtypes"
   ]
  },
  {
   "cell_type": "code",
   "execution_count": 74,
   "metadata": {
    "scrolled": true
   },
   "outputs": [
    {
     "data": {
      "text/plain": [
       "['bought',\n",
       " 'vitality',\n",
       " 'canned',\n",
       " 'dog',\n",
       " 'food',\n",
       " 'products',\n",
       " 'good',\n",
       " 'quality',\n",
       " 'product',\n",
       " 'like',\n",
       " 'stew',\n",
       " 'processed',\n",
       " 'meat',\n",
       " 'smells',\n",
       " 'better',\n",
       " 'labrador',\n",
       " 'finicky',\n",
       " 'appreciates',\n",
       " 'product',\n",
       " 'better']"
      ]
     },
     "execution_count": 74,
     "metadata": {},
     "output_type": "execute_result"
    }
   ],
   "source": [
    "eval(check['Text_new3'][0])\n",
    "# import ast\n",
    "# fruits = ast.literal_eval(fruits)"
   ]
  },
  {
   "cell_type": "code",
   "execution_count": 76,
   "metadata": {},
   "outputs": [],
   "source": [
    "check['Text_new3']=check['Text_new3'].apply(lambda x: eval(x))"
   ]
  },
  {
   "cell_type": "code",
   "execution_count": 78,
   "metadata": {},
   "outputs": [
    {
     "data": {
      "text/plain": [
       "0    [bought, vitality, canned, dog, food, products...\n",
       "1    [product, arrived, labeled, jumbo, salted, pea...\n",
       "2    [confection, centuries, light, pillowy, citrus...\n",
       "3    [secret, ingredient, robitussin, addition, roo...\n",
       "4    [great, taffy, great, price, wide, assortment,...\n",
       "Name: Text_new3, dtype: object"
      ]
     },
     "execution_count": 78,
     "metadata": {},
     "output_type": "execute_result"
    }
   ],
   "source": [
    "check['Text_new3'][0:5]"
   ]
  },
  {
   "cell_type": "code",
   "execution_count": 312,
   "metadata": {
    "scrolled": true
   },
   "outputs": [],
   "source": [
    "# amz_review_sorted_drop_duplicated['Text_new3'][0]"
   ]
  },
  {
   "cell_type": "code",
   "execution_count": 311,
   "metadata": {},
   "outputs": [],
   "source": [
    "# check['Text_new3'].astype(object)[0]"
   ]
  },
  {
   "cell_type": "code",
   "execution_count": null,
   "metadata": {},
   "outputs": [],
   "source": []
  },
  {
   "cell_type": "code",
   "execution_count": 306,
   "metadata": {},
   "outputs": [],
   "source": [
    "# recent1=amz_review[(amz_review['Time_converted_ym']>'2012-01')]\n",
    "# #recent2=amz_review[(amz_review['Time_converted']>'2012-01-26') & (amz_review['Score']==1)]\n",
    "# plt.rcParams['agg.path.chunksize'] = 10000\n",
    "# plt.figure(figsize=(12,4))\n",
    "# plt.plot(recent1['Time_converted'],recent1['Score']);\n",
    "# #plt.plot(recent2['Time_converted'],recent2['Score']);\n",
    "# plt.xticks(rotation=90);"
   ]
  },
  {
   "cell_type": "code",
   "execution_count": 307,
   "metadata": {},
   "outputs": [],
   "source": [
    "# recent2=recent1.groupby(by=['Time_converted_ym','Score']).mean()\n",
    "# recent2.head(10)\n",
    "# # plt.rcParams['agg.path.chunksize'] = 10000\n",
    "# # plt.figure(figsize=(12,4))\n",
    "# # plt.plot(recent2['Time_converted_ym'],recent2['Score']);\n",
    "# # #plt.plot(recent2['Time_converted'],recent2['Score']);\n",
    "# # plt.xticks(rotation=90);"
   ]
  },
  {
   "cell_type": "code",
   "execution_count": 308,
   "metadata": {},
   "outputs": [],
   "source": [
    "# amz_review[amz_review['Time_converted']>'2012-01-26 00:00:00']"
   ]
  },
  {
   "cell_type": "code",
   "execution_count": 310,
   "metadata": {},
   "outputs": [],
   "source": [
    "# from nltk.corpus import stopwords\n",
    "\n",
    "\n",
    "# stop_word_list=(stopwords.words('english'))"
   ]
  },
  {
   "cell_type": "code",
   "execution_count": null,
   "metadata": {},
   "outputs": [],
   "source": []
  }
 ],
 "metadata": {
  "kernelspec": {
   "display_name": "Python 3",
   "language": "python",
   "name": "python3"
  },
  "language_info": {
   "codemirror_mode": {
    "name": "ipython",
    "version": 3
   },
   "file_extension": ".py",
   "mimetype": "text/x-python",
   "name": "python",
   "nbconvert_exporter": "python",
   "pygments_lexer": "ipython3",
   "version": "3.6.5"
  }
 },
 "nbformat": 4,
 "nbformat_minor": 2
}
