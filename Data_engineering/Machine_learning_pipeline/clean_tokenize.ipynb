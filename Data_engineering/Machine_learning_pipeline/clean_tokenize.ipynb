{
 "cells": [
  {
   "cell_type": "markdown",
   "metadata": {},
   "source": [
    "## Tokenization\n",
    "Before we can classify any posts, we'll need to clean and tokenize the text data. Use what you remember from the last lesson on NLP to implement the function `tokenize`. This function should perform the following steps on the string, `text`, using nltk:\n",
    "\n",
    "1. Identify any urls in `text`, and replace each one with the word, `\"urlplaceholder\"`.\n",
    "2. Split `text` into tokens.\n",
    "3. For each token: lemmatize, normalize case, and strip leading and trailing white space.\n",
    "4. Return the tokens in a list!\n",
    "\n",
    "For example, this:\n",
    "```python\n",
    "text = 'Barclays CEO stresses the importance of regulatory and cultural reform in financial services at Brussels conference  http://t.co/Ge9Lp7hpyG'\n",
    "\n",
    "tokenize(text)\n",
    "```\n",
    "should return this:\n",
    "```txt\n",
    "['barclays', 'ceo', 'stress', 'the', 'importance', 'of', 'regulatory', 'and', 'cultural', 'reform', 'in', 'financial', 'service', 'at', 'brussels', 'conference', 'urlplaceholder']\n",
    "```\n",
    "\n",
    "Hint: You'll have to add an import statement to use the `re` package (which supports regular expressions) and two import statements to use the appropriate functions from `nltk`! Add them to this first code cell."
   ]
  },
  {
   "cell_type": "code",
   "execution_count": 24,
   "metadata": {},
   "outputs": [
    {
     "name": "stdout",
     "output_type": "stream",
     "text": [
      "[nltk_data] Downloading package punkt to /root/nltk_data...\n",
      "[nltk_data]   Package punkt is already up-to-date!\n",
      "[nltk_data] Downloading package wordnet to /root/nltk_data...\n",
      "[nltk_data]   Package wordnet is already up-to-date!\n"
     ]
    }
   ],
   "source": [
    "# download necessary NLTK data\n",
    "\n",
    "import nltk\n",
    "nltk.download(['punkt', 'wordnet'])\n",
    "\n",
    "# import statements\n",
    "import pandas as pd\n",
    "import re\n",
    "from nltk.tokenize import word_tokenize,sent_tokenize\n",
    "from nltk.stem.wordnet import WordNetLemmatizer"
   ]
  },
  {
   "cell_type": "code",
   "execution_count": 25,
   "metadata": {},
   "outputs": [],
   "source": [
    "def load_data():\n",
    "    df = pd.read_csv('corporate_messaging.csv', encoding='latin-1')\n",
    "    df = df[(df[\"category:confidence\"] == 1) & (df['category'] != 'Exclude')]\n",
    "    X = df.text.values\n",
    "    y = df.category.values\n",
    "    return X, y"
   ]
  },
  {
   "cell_type": "markdown",
   "metadata": {},
   "source": [
    "#### For step 1, the regular expression to detect a url is given below"
   ]
  },
  {
   "cell_type": "code",
   "execution_count": 26,
   "metadata": {},
   "outputs": [],
   "source": [
    "url_regex = 'http[s]?://(?:[a-zA-Z]|[0-9]|[$-_@.&+]|[!*\\(\\),]|(?:%[0-9a-fA-F][0-9a-fA-F]))+'\n"
   ]
  },
  {
   "cell_type": "code",
   "execution_count": 27,
   "metadata": {},
   "outputs": [],
   "source": [
    "def tokenize(text):\n",
    "    # get list of all urls using regex\n",
    "    detected_urls = re.findall(url_regex,text) #all cases of pattern save in string for each case\n",
    "    print('***',detected_urls)\n",
    "    pattern = re.compile(r'[^a-zA-Z0-9]')\n",
    "    \n",
    "    # replace each url in text string with placeholder\n",
    "    for url in detected_urls:\n",
    "        \n",
    "        text = re.sub(url,'urlplaceholder',text)   #text.replace(url,'urlplaceholder')\n",
    "        \n",
    "    text = re.sub(pattern,' ',text)\n",
    "    # tokenize text\n",
    "    tokens = word_tokenize(text.lower())\n",
    "    \n",
    "    # initiate lemmatizer\n",
    "    lemmatizer = WordNetLemmatizer()\n",
    "\n",
    "    # iterate through each token\n",
    "    clean_tokens = []\n",
    "    for tok in tokens:\n",
    "        \n",
    "        # lemmatize, normalize case, and remove leading/trailing white space\n",
    "        clean_tok = lemmatizer.lemmatize(lemmatizer.lemmatize(tok.strip()),pos='v')\n",
    "        clean_tokens.append(clean_tok)\n",
    "\n",
    "    return clean_tokens"
   ]
  },
  {
   "cell_type": "code",
   "execution_count": 28,
   "metadata": {},
   "outputs": [
    {
     "name": "stdout",
     "output_type": "stream",
     "text": [
      "*** ['http://t.co/Ge9Lp7hpyG']\n",
      "Barclays CEO stresses the importance of regulatory and cultural reform in financial services at Brussels conference  http://t.co/Ge9Lp7hpyG\n",
      "['barclays', 'ceo', 'stress', 'the', 'importance', 'of', 'regulatory', 'and', 'cultural', 'reform', 'in', 'financial', 'service', 'at', 'brussels', 'conference', 'urlplaceholder'] \n",
      "\n",
      "*** ['http://t.co/LbIqqh3wwG']\n",
      "Barclays announces result of Rights Issue http://t.co/LbIqqh3wwG\n",
      "['barclays', 'announce', 'result', 'of', 'right', 'issue', 'urlplaceholder'] \n",
      "\n",
      "*** ['http://t.co/YZk24iE8G6']\n",
      "Barclays publishes its prospectus for its å£5.8bn Rights Issue: http://t.co/YZk24iE8G6\n",
      "['barclays', 'publish', 'it', 'prospectus', 'for', 'it', '5', '8bn', 'right', 'issue', 'urlplaceholder'] \n",
      "\n",
      "*** ['http://t.co/nkuHoAfnSD']\n",
      "Barclays Group Finance Director Chris Lucas is to step down at the end of the week due to ill health http://t.co/nkuHoAfnSD\n",
      "['barclays', 'group', 'finance', 'director', 'chris', 'lucas', 'be', 'to', 'step', 'down', 'at', 'the', 'end', 'of', 'the', 'week', 'due', 'to', 'ill', 'health', 'urlplaceholder'] \n",
      "\n",
      "*** ['http://t.co/c3fNGY6NMT']\n",
      "Barclays announces that Irene McDermott Brown has been appointed as Group Human Resources Director http://t.co/c3fNGY6NMT\n",
      "['barclays', 'announce', 'that', 'irene', 'mcdermott', 'brown', 'ha', 'be', 'appoint', 'a', 'group', 'human', 'resource', 'director', 'urlplaceholder'] \n",
      "\n",
      "*** ['http://t.co/LwsUQVFaMz']\n",
      "Barclays response to PRA capital shortfall exercise: http://t.co/LwsUQVFaMz\n",
      "['barclays', 'response', 'to', 'pra', 'capital', 'shortfall', 'exercise', 'urlplaceholder'] \n",
      "\n",
      "*** ['http://t.co/5Mqcj0LIRg']\n",
      "Barclays sponsors #Zamynforum BBC World Service debate on globalisation, part of a series of citizenship lectures - http://t.co/5Mqcj0LIRg\n",
      "['barclays', 'sponsor', 'zamynforum', 'bbc', 'world', 'service', 'debate', 'on', 'globalisation', 'part', 'of', 'a', 'series', 'of', 'citizenship', 'lecture', 'urlplaceholder'] \n",
      "\n",
      "*** ['http://t.co/QIrl6TuAtf']\n",
      "Barclays has today published its response to The Salz Review, the independent report into our business practices: http://t.co/QIrl6TuAtf\n",
      "['barclays', 'ha', 'today', 'publish', 'it', 'response', 'to', 'the', 'salz', 'review', 'the', 'independent', 'report', 'into', 'our', 'business', 'practice', 'urlplaceholder'] \n",
      "\n",
      "*** ['http://t.co/JbZ2Sx8JLT']\n",
      "59% of workers are either looking to change jobs or have applied, the highest figures recorded yet. More in our video http://t.co/JbZ2Sx8JLT\n",
      "['59', 'of', 'worker', 'be', 'either', 'look', 'to', 'change', 'job', 'or', 'have', 'apply', 'the', 'highest', 'figure', 'record', 'yet', 'more', 'in', 'our', 'video', 'urlplaceholder'] \n",
      "\n",
      "*** ['http://t.co/Mxydes7LHG']\n",
      "You no longer have one workforce. You have five. Want the employee benefits plan to match? Our video tells you how. http://t.co/Mxydes7LHG\n",
      "['you', 'no', 'longer', 'have', 'one', 'workforce', 'you', 'have', 'five', 'want', 'the', 'employee', 'benefit', 'plan', 'to', 'match', 'our', 'video', 'tell', 'you', 'how', 'urlplaceholder'] \n",
      "\n"
     ]
    }
   ],
   "source": [
    "# test out function\n",
    "X, y = load_data()\n",
    "for message in X[:10]:\n",
    "    tokens = tokenize(message)\n",
    "    print(message)\n",
    "    print(tokens, '\\n')"
   ]
  },
  {
   "cell_type": "code",
   "execution_count": null,
   "metadata": {},
   "outputs": [],
   "source": []
  }
 ],
 "metadata": {
  "kernelspec": {
   "display_name": "Python 3",
   "language": "python",
   "name": "python3"
  },
  "language_info": {
   "codemirror_mode": {
    "name": "ipython",
    "version": 3
   },
   "file_extension": ".py",
   "mimetype": "text/x-python",
   "name": "python",
   "nbconvert_exporter": "python",
   "pygments_lexer": "ipython3",
   "version": "3.6.3"
  }
 },
 "nbformat": 4,
 "nbformat_minor": 2
}
