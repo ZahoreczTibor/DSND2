{
 "cells": [
  {
   "cell_type": "markdown",
   "metadata": {},
   "source": [
    "### Implementing FunkSVD\n",
    "\n",
    "In this notebook we will take a look at writing our own function that performs FunkSVD, which will follow the steps you saw in the previous video.  If you find that you aren't ready to tackle this task on your own, feel free to skip to the following video where you can watch as I walk through the steps.\n",
    "\n",
    "To test our algorithm, we will run it on the subset of the data you worked with earlier.  Run the cell below to get started."
   ]
  },
  {
   "cell_type": "code",
   "execution_count": 42,
   "metadata": {},
   "outputs": [
    {
     "name": "stdout",
     "output_type": "stream",
     "text": [
      "[[10. 10. 10. 10.]\n",
      " [10.  4.  9. 10.]\n",
      " [ 8.  9. 10.  5.]\n",
      " [ 9.  8. 10. 10.]\n",
      " [10.  5.  9.  9.]\n",
      " [ 6.  4. 10.  6.]\n",
      " [ 9.  8. 10.  9.]\n",
      " [10.  5.  9.  8.]\n",
      " [ 7.  8. 10.  8.]\n",
      " [ 9.  5.  9.  7.]\n",
      " [ 9.  8. 10.  8.]\n",
      " [ 9. 10. 10.  9.]\n",
      " [10.  9. 10.  8.]\n",
      " [ 5.  8.  5.  8.]\n",
      " [10.  8. 10. 10.]\n",
      " [ 9.  9. 10. 10.]\n",
      " [ 9.  8.  8.  8.]\n",
      " [10.  8.  1. 10.]\n",
      " [ 5.  6. 10. 10.]\n",
      " [ 8.  7. 10.  7.]]\n"
     ]
    }
   ],
   "source": [
    "import numpy as np\n",
    "import pandas as pd\n",
    "import matplotlib.pyplot as plt\n",
    "from scipy import sparse\n",
    "import svd_tests as t\n",
    "%matplotlib inline\n",
    "\n",
    "# Read in the datasets\n",
    "movies = pd.read_csv('data/movies_clean.csv')\n",
    "reviews = pd.read_csv('data/reviews_clean.csv')\n",
    "\n",
    "del movies['Unnamed: 0']\n",
    "del reviews['Unnamed: 0']\n",
    "\n",
    "# Create user-by-item matrix\n",
    "user_items = reviews[['user_id', 'movie_id', 'rating', 'timestamp']]\n",
    "user_by_movie = user_items.groupby(['user_id', 'movie_id'])['rating'].max().unstack()\n",
    "\n",
    "# Create data subset\n",
    "user_movie_subset = user_by_movie[[73486, 75314,  68646, 99685]].dropna(axis=0)\n",
    "ratings_mat = np.matrix(user_movie_subset)\n",
    "print(ratings_mat)"
   ]
  },
  {
   "cell_type": "code",
   "execution_count": 43,
   "metadata": {},
   "outputs": [
    {
     "data": {
      "text/plain": [
       "False"
      ]
     },
     "execution_count": 43,
     "metadata": {},
     "output_type": "execute_result"
    }
   ],
   "source": [
    "import math\n",
    "math.isnan(ratings_mat[0,0])"
   ]
  },
  {
   "cell_type": "code",
   "execution_count": 44,
   "metadata": {},
   "outputs": [
    {
     "data": {
      "text/plain": [
       "(20, 4)"
      ]
     },
     "execution_count": 44,
     "metadata": {},
     "output_type": "execute_result"
    }
   ],
   "source": [
    "ratings_mat.shape"
   ]
  },
  {
   "cell_type": "markdown",
   "metadata": {},
   "source": [
    "`1.` You will use the **user_movie_subset** matrix to show that your FunkSVD algorithm will converge.  In the below cell, use the comments and document string to assist you as you complete writing your own function to complete FunkSVD.  You may also want to try to complete the function on your own without the assistance of comments.  You may feel free to remove and add to the function in any way that gets you a working solution! \n",
    "\n",
    "**Notice:** There isn't a sigma matrix in this version of the matrix factorization."
   ]
  },
  {
   "cell_type": "code",
   "execution_count": 45,
   "metadata": {},
   "outputs": [
    {
     "name": "stdout",
     "output_type": "stream",
     "text": [
      "[[4.17022005e-01 7.20324493e-01 1.14374817e-04 3.02332573e-01]\n",
      " [1.46755891e-01 9.23385948e-02 1.86260211e-01 3.45560727e-01]\n",
      " [3.96767474e-01 5.38816734e-01 4.19194514e-01 6.85219500e-01]\n",
      " [2.04452250e-01 8.78117436e-01 2.73875932e-02 6.70467510e-01]\n",
      " [4.17304802e-01 5.58689828e-01 1.40386939e-01 1.98101489e-01]\n",
      " [8.00744569e-01 9.68261576e-01 3.13424178e-01 6.92322616e-01]\n",
      " [8.76389152e-01 8.94606664e-01 8.50442114e-02 3.90547832e-02]\n",
      " [1.69830420e-01 8.78142503e-01 9.83468338e-02 4.21107625e-01]\n",
      " [9.57889530e-01 5.33165285e-01 6.91877114e-01 3.15515631e-01]\n",
      " [6.86500928e-01 8.34625672e-01 1.82882773e-02 7.50144315e-01]\n",
      " [9.88861089e-01 7.48165654e-01 2.80443992e-01 7.89279328e-01]\n",
      " [1.03226007e-01 4.47893526e-01 9.08595503e-01 2.93614148e-01]\n",
      " [2.87775339e-01 1.30028572e-01 1.93669579e-02 6.78835533e-01]\n",
      " [2.11628116e-01 2.65546659e-01 4.91573159e-01 5.33625451e-02]\n",
      " [5.74117605e-01 1.46728575e-01 5.89305537e-01 6.99758360e-01]\n",
      " [1.02334429e-01 4.14055988e-01 6.94400158e-01 4.14179270e-01]\n",
      " [4.99534589e-02 5.35896406e-01 6.63794645e-01 5.14889112e-01]\n",
      " [9.44594756e-01 5.86555041e-01 9.03401915e-01 1.37474704e-01]\n",
      " [1.39276347e-01 8.07391289e-01 3.97676837e-01 1.65354197e-01]\n",
      " [9.27508580e-01 3.47765860e-01 7.50812103e-01 7.25997985e-01]]\n",
      "[4.17022005e-01 7.20324493e-01 1.14374817e-04 3.02332573e-01]\n",
      "[0.417022   0.14675589 0.39676747 0.20445225 0.4173048  0.80074457\n",
      " 0.87638915 0.16983042 0.95788953 0.68650093 0.98886109 0.10322601\n",
      " 0.28777534 0.21162812 0.57411761 0.10233443 0.04995346 0.94459476\n",
      " 0.13927635 0.92750858]\n"
     ]
    }
   ],
   "source": [
    "np.random.seed(1)\n",
    "user_mat = np.random.rand(20, 4)\n",
    "print(user_mat)\n",
    "print(user_mat[0,:])\n",
    "print(user_mat[:,0])"
   ]
  },
  {
   "cell_type": "code",
   "execution_count": null,
   "metadata": {},
   "outputs": [],
   "source": []
  },
  {
   "cell_type": "code",
   "execution_count": 85,
   "metadata": {},
   "outputs": [],
   "source": [
    "def FunkSVD(ratings_mat, latent_features=4, learning_rate=0.0001, iters=100):\n",
    "    '''\n",
    "    This function performs matrix factorization using a basic form of FunkSVD with no regularization\n",
    "    \n",
    "    INPUT:\n",
    "    ratings_mat - (numpy array) a matrix with users as rows, movies as columns, and ratings as values\n",
    "    latent_features - (int) the number of latent features used\n",
    "    learning_rate - (float) the learning rate \n",
    "    iters - (int) the number of iterations\n",
    "    \n",
    "    OUTPUT:\n",
    "    user_mat - (numpy array) a user by latent feature matrix\n",
    "    movie_mat - (numpy array) a latent feature by movie matrix\n",
    "    '''\n",
    "    \n",
    "    # Set up useful values to be used through the rest of the function\n",
    "    n_users = ratings_mat.shape[0]\n",
    "    n_movies = ratings_mat.shape[1]\n",
    "    num_ratings = n_users * n_movies\n",
    "    \n",
    "    # initialize the user and movie matrices with random values\n",
    "    # helpful link: https://docs.scipy.org/doc/numpy/reference/generated/numpy.random.rand.html\n",
    "    user_mat = np.random.rand(n_users, latent_features)  # user matrix filled with random values of shape user x latent \n",
    "    movie_mat = np.random.rand(latent_features, n_movies) # movie matrix filled with random values of shape latent x movies\n",
    "    \n",
    "    # initialize sse at 0 for first iteration\n",
    "    sse_accum = 0\n",
    "    \n",
    "    # header for running results\n",
    "    print(\"Optimization Statistics\")\n",
    "    print(\"Iterations | Mean Squared Error \")\n",
    "    \n",
    "    user_movie_index = []\n",
    "    #movie_index = []\n",
    "    \n",
    "    # check what is not NaN\n",
    "    for user_i in range(n_users):\n",
    "        for movie_j in range(n_movies):\n",
    "            if(math.isnan(ratings_mat[user_i,movie_j])==False):\n",
    "                user_movie_index.append([user_i,movie_j])\n",
    "                #print(user_i,movie_j)\n",
    "    \n",
    "    \n",
    "    # for each iteration\n",
    "    sse = []\n",
    "    for t in range(iters):\n",
    "        \n",
    "        # update our sse\n",
    "        old_sse = sse_accum\n",
    "        sse_accum = 0\n",
    "        \n",
    "        \n",
    "        for pairs in user_movie_index:\n",
    "            user_i = pairs[0]\n",
    "            movie_j = pairs[1]\n",
    "            \n",
    "            # row of U\n",
    "            #u = user_mat[user_i,:]\n",
    "            # column of Vt\n",
    "            #v = movie_mat[:,movie_j]\n",
    "            \n",
    "            # dot product\n",
    "            uv_new = np.dot(user_mat[user_i,:], movie_mat[:,movie_j])\n",
    "            delta = (ratings_mat[user_i, movie_j] - uv_new)\n",
    "            #print(delta)\n",
    "            sse_accum += delta**2.0 #sum of the square error\n",
    "            \n",
    "            for k in range(latent_features):\n",
    "                user_mat[user_i,k] = user_mat[user_i,k] + 2.0 * (delta) * learning_rate * movie_mat[k,movie_j]\n",
    "                \n",
    "            for k in range(latent_features):\n",
    "                movie_mat[k,movie_j] = movie_mat[k,movie_j] + 2.0 * (delta) * learning_rate * user_mat[user_i,k]  \n",
    "            \n",
    "            #user_mat[user_i,:] = u\n",
    "            #movie_mat[:,movie_j] = v\n",
    "        sse.append(sse_accum)\n",
    "        if(t%10==0):\n",
    "            print('iteration {}: sse_accum {}'.format(t+1, sse_accum))\n",
    "    plt.plot(sse)  \n",
    "    plt.title('iteration {}: sse_accum {}, learning rate {}'.format(t+1, sse_accum, learning_rate))\n",
    "    plt.show()\n",
    "    return user_mat, movie_mat "
   ]
  },
  {
   "cell_type": "markdown",
   "metadata": {},
   "source": [
    "`2.` Try out your function on the **user_movie_subset** dataset.  First try 4 latent features, a learning rate of 0.005, and 10 iterations.  When you take the dot product of the resulting U and V matrices, how does the resulting **user_movie** matrix compare to the original subset of the data?"
   ]
  },
  {
   "cell_type": "code",
   "execution_count": 86,
   "metadata": {},
   "outputs": [
    {
     "name": "stdout",
     "output_type": "stream",
     "text": [
      "Optimization Statistics\n",
      "Iterations | Mean Squared Error \n",
      "iteration 1: sse_accum 3075.468828086074\n"
     ]
    },
    {
     "data": {
      "image/png": "[encoded data removed]",
      "text/plain": [
       "<Figure size 432x288 with 1 Axes>"
      ]
     },
     "metadata": {},
     "output_type": "display_data"
    }
   ],
   "source": [
    "user_mat, movie_mat = FunkSVD(ratings_mat, 4, 0.005, 10) # use your function with 4 latent features, lr of 0.005 and 10 iterations"
   ]
  },
  {
   "cell_type": "code",
   "execution_count": 87,
   "metadata": {},
   "outputs": [
    {
     "name": "stdout",
     "output_type": "stream",
     "text": [
      "[[10.17440255  9.30088214 10.56029448  9.89102449]\n",
      " [ 8.58863914  7.2050941   9.17366212  8.87227587]\n",
      " [ 8.00666166  7.10188373  8.19987212  7.64766534]\n",
      " [ 9.53495297  8.0370823  10.08614784  9.6829593 ]\n",
      " [ 8.64313952  7.6472463   8.85444433  8.4459363 ]\n",
      " [ 6.75942751  5.60410549  7.52239141  6.87170633]\n",
      " [ 9.09791724  7.95722251 10.03926504  8.99245514]\n",
      " [ 8.22662478  7.0116464   8.71740898  8.19989578]\n",
      " [ 8.64229676  7.47032872  8.77024221  8.48814732]\n",
      " [ 7.60381134  6.75937399  8.09824702  7.67669231]\n",
      " [ 8.92507768  8.04810473  9.14759043  8.84148467]\n",
      " [ 9.62010794  8.54601844  9.9969267   9.51624491]\n",
      " [ 9.23037362  8.44402415  9.6313335   9.18168992]\n",
      " [ 6.61754929  5.91640389  6.9439074   6.54498274]\n",
      " [ 9.71937323  8.26819715 10.05894846 10.0496227 ]\n",
      " [ 9.89704301  8.49081728 10.05314254  9.81930095]\n",
      " [ 8.33235797  7.35425693  8.68147597  8.22593664]\n",
      " [ 7.15355781  6.31088362  7.2432515   7.17180124]\n",
      " [ 8.27908576  7.19592514  8.89495925  8.4110515 ]\n",
      " [ 8.05472357  6.88043018  8.5095999   8.31865153]]\n",
      "[[10. 10. 10. 10.]\n",
      " [10.  4.  9. 10.]\n",
      " [ 8.  9. 10.  5.]\n",
      " [ 9.  8. 10. 10.]\n",
      " [10.  5.  9.  9.]\n",
      " [ 6.  4. 10.  6.]\n",
      " [ 9.  8. 10.  9.]\n",
      " [10.  5.  9.  8.]\n",
      " [ 7.  8. 10.  8.]\n",
      " [ 9.  5.  9.  7.]\n",
      " [ 9.  8. 10.  8.]\n",
      " [ 9. 10. 10.  9.]\n",
      " [10.  9. 10.  8.]\n",
      " [ 5.  8.  5.  8.]\n",
      " [10.  8. 10. 10.]\n",
      " [ 9.  9. 10. 10.]\n",
      " [ 9.  8.  8.  8.]\n",
      " [10.  8.  1. 10.]\n",
      " [ 5.  6. 10. 10.]\n",
      " [ 8.  7. 10.  7.]]\n"
     ]
    }
   ],
   "source": [
    "#Compare the predicted and actual results\n",
    "print(np.dot(user_mat, movie_mat))\n",
    "print(ratings_mat)"
   ]
  },
  {
   "cell_type": "markdown",
   "metadata": {},
   "source": [
    "**Write your summary here.**"
   ]
  },
  {
   "cell_type": "markdown",
   "metadata": {},
   "source": [
    "`3.` Let's try out the function again on the **user_movie_subset** dataset.  This time we will again use 4 latent features and a learning rate of 0.005.  However, let's bump up the number of iterations to 250.  When you take the dot product of the resulting U and V matrices, how does the resulting **user_movie** matrix compare to the original subset of the data?  What do you notice about your error at the end of the 250 iterations?"
   ]
  },
  {
   "cell_type": "code",
   "execution_count": 88,
   "metadata": {},
   "outputs": [
    {
     "name": "stdout",
     "output_type": "stream",
     "text": [
      "Optimization Statistics\n",
      "Iterations | Mean Squared Error \n",
      "iteration 1: sse_accum 3322.9917628448475\n",
      "iteration 11: sse_accum 194.50302142982278\n",
      "iteration 21: sse_accum 127.62071077964177\n",
      "iteration 31: sse_accum 54.337122841673136\n",
      "iteration 41: sse_accum 36.21773728247957\n",
      "iteration 51: sse_accum 26.593610402759317\n",
      "iteration 61: sse_accum 13.75840800309678\n",
      "iteration 71: sse_accum 4.414873880359185\n",
      "iteration 81: sse_accum 1.1210144287653225\n",
      "iteration 91: sse_accum 0.29990907305956077\n",
      "iteration 101: sse_accum 0.08780853336445614\n",
      "iteration 111: sse_accum 0.026785387458575696\n",
      "iteration 121: sse_accum 0.008274624830686549\n",
      "iteration 131: sse_accum 0.002564238468160429\n",
      "iteration 141: sse_accum 0.000795117500895816\n",
      "iteration 151: sse_accum 0.00024657356900873703\n",
      "iteration 161: sse_accum 7.647058602848124e-05\n",
      "iteration 171: sse_accum 2.3719092086594678e-05\n",
      "iteration 181: sse_accum 7.3582437448249825e-06\n",
      "iteration 191: sse_accum 2.2831236652867626e-06\n",
      "iteration 201: sse_accum 7.085388712508629e-07\n",
      "iteration 211: sse_accum 2.1992419940124878e-07\n",
      "iteration 221: sse_accum 6.827345893547148e-08\n",
      "iteration 231: sse_accum 2.119796980335551e-08\n",
      "iteration 241: sse_accum 6.582548508365478e-09\n"
     ]
    },
    {
     "data": {
      "image/png": "[encoded data removed]",
      "text/plain": [
       "<Figure size 432x288 with 1 Axes>"
      ]
     },
     "metadata": {},
     "output_type": "display_data"
    }
   ],
   "source": [
    "user_mat, movie_mat = FunkSVD(ratings_mat, 4, 0.005, 250) #use your function with 4 latent features, lr of 0.005 and 250 iterations"
   ]
  },
  {
   "cell_type": "code",
   "execution_count": 89,
   "metadata": {},
   "outputs": [
    {
     "name": "stdout",
     "output_type": "stream",
     "text": [
      "[[10.00000723 10.00000218 10.00000171  9.99999333]\n",
      " [10.00000174  4.00000044  9.00000031  9.99999838]\n",
      " [ 8.00000412  9.00000118 10.00000089  4.99999613]\n",
      " [ 8.9999922   7.99999758  9.99999805 10.00000706]\n",
      " [10.00000682  5.00000199  9.00000155  8.99999373]\n",
      " [ 5.9999851   3.99999555  9.99999648  6.00001358]\n",
      " [ 9.00000004  8.00000007 10.00000007  8.99999993]\n",
      " [10.00000288  5.00000089  9.0000007   7.99999734]\n",
      " [ 6.99999947  7.99999989  9.99999992  8.00000045]\n",
      " [ 9.00000141  5.00000043  9.00000034  6.99999868]\n",
      " [ 9.00001392  8.0000041  10.00000321  7.99998722]\n",
      " [ 8.99999699  9.99999895  9.9999991   9.00000264]\n",
      " [10.00000494  9.00000133 10.00000098  7.99999537]\n",
      " [ 5.00000135  8.00000029  5.00000019  7.9999987 ]\n",
      " [ 9.99999466  7.99999825  9.99999855 10.00000478]\n",
      " [ 8.99999937  8.99999973  9.99999975 10.0000005 ]\n",
      " [ 8.99999028  7.99999706  7.99999766  8.0000088 ]\n",
      " [ 9.99999755  7.99999926  0.99999941 10.00000217]\n",
      " [ 5.00000739  6.00000227 10.00000181  9.99999327]\n",
      " [ 7.99999533  6.99999861  9.9999989   7.00000421]]\n",
      "[[10. 10. 10. 10.]\n",
      " [10.  4.  9. 10.]\n",
      " [ 8.  9. 10.  5.]\n",
      " [ 9.  8. 10. 10.]\n",
      " [10.  5.  9.  9.]\n",
      " [ 6.  4. 10.  6.]\n",
      " [ 9.  8. 10.  9.]\n",
      " [10.  5.  9.  8.]\n",
      " [ 7.  8. 10.  8.]\n",
      " [ 9.  5.  9.  7.]\n",
      " [ 9.  8. 10.  8.]\n",
      " [ 9. 10. 10.  9.]\n",
      " [10.  9. 10.  8.]\n",
      " [ 5.  8.  5.  8.]\n",
      " [10.  8. 10. 10.]\n",
      " [ 9.  9. 10. 10.]\n",
      " [ 9.  8.  8.  8.]\n",
      " [10.  8.  1. 10.]\n",
      " [ 5.  6. 10. 10.]\n",
      " [ 8.  7. 10.  7.]]\n"
     ]
    }
   ],
   "source": [
    "#Compare the predicted and actual results\n",
    "print(np.dot(user_mat, movie_mat))\n",
    "print(ratings_mat)"
   ]
  },
  {
   "cell_type": "markdown",
   "metadata": {},
   "source": [
    "**Write your summary here.**"
   ]
  },
  {
   "cell_type": "markdown",
   "metadata": {},
   "source": [
    "The last time we placed an **np.nan** value into this matrix the entire svd algorithm in python broke.  Let's see if that is still the case using your FunkSVD function.  In the below cell, I have placed a nan into the first cell of your numpy array.  \n",
    "\n",
    "`4.` Use 4 latent features, a learning rate of 0.005, and 250 iterations.  Are you able to run your SVD without it breaking (something that was not true about the python built in)?  Do you get a prediction for the nan value?  What is your prediction for the missing value? Use the cells below to answer these questions."
   ]
  },
  {
   "cell_type": "code",
   "execution_count": null,
   "metadata": {
    "collapsed": true
   },
   "outputs": [],
   "source": [
    "# Here we are placing a nan into our original subset matrix\n",
    "ratings_mat[0, 0] = np.nan\n",
    "ratings_mat"
   ]
  },
  {
   "cell_type": "code",
   "execution_count": null,
   "metadata": {
    "collapsed": true
   },
   "outputs": [],
   "source": [
    "# run SVD on the matrix with the missing value\n",
    "user_mat, movie_mat = #use your function with 4 latent features, lr of 0.005 and 250 iterations"
   ]
  },
  {
   "cell_type": "code",
   "execution_count": null,
   "metadata": {
    "collapsed": true
   },
   "outputs": [],
   "source": [
    "# Run this cell to see if you were able to predict for the missing value\n",
    "preds = np.dot(user_mat, movie_mat)\n",
    "print(\"The predicted value for the missing rating is {}:\".format(preds[0,0]))\n",
    "print()\n",
    "print(\"The actual value for the missing rating is {}:\".format(ratings_mat[0,0]))\n",
    "print()\n",
    "assert np.isnan(preds[0,0]) == False\n",
    "print(\"That's right! You just predicted a rating for a user-movie pair that was never rated!\")\n",
    "print(\"But if you look in the original matrix, this was actually a value of 10. Not bad!\")"
   ]
  },
  {
   "cell_type": "markdown",
   "metadata": {},
   "source": [
    "Now let's extend this to a more realistic example. Unfortunately, running this function on your entire user-movie matrix is still not something you likely want to do on your local machine.  However, we can see how well this example extends to 1000 users.  In the above portion, you were using a very small subset of data with no missing values.\n",
    "\n",
    "`5.` Given the size of this matrix, this will take quite a bit of time.  Consider the following hyperparameters: 4 latent features, 0.005 learning rate, and 20 iterations.  Grab a snack, take a walk, and this should be done running in a bit."
   ]
  },
  {
   "cell_type": "code",
   "execution_count": null,
   "metadata": {
    "collapsed": true
   },
   "outputs": [],
   "source": [
    "# Setting up a matrix of the first 1000 users with movie ratings\n",
    "first_1000_users = np.matrix(user_by_movie.head(1000))\n",
    "\n",
    "# perform funkSVD on the matrix of the top 1000 users\n",
    "user_mat, movie_mat = #fit to 1000 users with 4 latent features, lr of 0.005, and 20 iterations"
   ]
  },
  {
   "cell_type": "markdown",
   "metadata": {},
   "source": [
    "`6.` Now that you have a set of predictions for each user-movie pair,  let's answer a few questions about your results. Provide the correct values for each of the variables below, and check your solutions using the tests below."
   ]
  },
  {
   "cell_type": "code",
   "execution_count": null,
   "metadata": {
    "collapsed": true
   },
   "outputs": [],
   "source": [
    "# Replace each of the comments below with the correct values\n",
    "num_ratings = # How many actual ratings exist in first_1000_users\n",
    "print(\"The number of actual ratings in the first_1000_users is {}.\".format(num_ratings))\n",
    "print()\n",
    "\n",
    "\n",
    "ratings_for_missing = # How many ratings did we make for user-movie pairs that didn't actually have ratings\n",
    "print(\"The number of ratings made for user-movie pairs that didn't have ratings is {}\".format(ratings_for_missing))"
   ]
  },
  {
   "cell_type": "code",
   "execution_count": null,
   "metadata": {
    "collapsed": true
   },
   "outputs": [],
   "source": [
    "# Test your results against the solution\n",
    "assert num_ratings == 10852, \"Oops!  The number of actual ratings doesn't quite look right.\"\n",
    "assert ratings_for_missing == 31234148, \"Oops!  The number of movie-user pairs that you made ratings for that didn't actually have ratings doesn't look right.\"\n",
    "\n",
    "# Make sure you made predictions on all the missing user-movie pairs\n",
    "preds = np.dot(user_mat, movie_mat)\n",
    "assert np.isnan(preds).sum() == 0\n",
    "print(\"Nice job!  Looks like you have predictions made for all the missing user-movie pairs! But I still have one question... How good are they?\")"
   ]
  },
  {
   "cell_type": "code",
   "execution_count": null,
   "metadata": {
    "collapsed": true
   },
   "outputs": [],
   "source": []
  }
 ],
 "metadata": {
  "kernelspec": {
   "display_name": "Python [default]",
   "language": "python",
   "name": "python3"
  },
  "language_info": {
   "codemirror_mode": {
    "name": "ipython",
    "version": 3
   },
   "file_extension": ".py",
   "mimetype": "text/x-python",
   "name": "python",
   "nbconvert_exporter": "python",
   "pygments_lexer": "ipython3",
   "version": "3.6.4"
  }
 },
 "nbformat": 4,
 "nbformat_minor": 2
}
