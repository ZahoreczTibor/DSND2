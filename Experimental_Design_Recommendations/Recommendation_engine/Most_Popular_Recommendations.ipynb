{
 "cells": [
  {
   "cell_type": "markdown",
   "metadata": {},
   "source": [
    "### Recommendations with MovieTweetings: Most Popular Recommendation\n",
    "\n",
    "Now that you have created the necessary columns we will be using throughout the rest of the lesson on creating recommendations, let's get started with the first of our recommendations.\n",
    "\n",
    "To get started, read in the libraries and the two datasets you will be using throughout the lesson using the code below.\n"
   ]
  },
  {
   "cell_type": "code",
   "execution_count": 139,
   "metadata": {},
   "outputs": [],
   "source": [
    "import numpy as np\n",
    "import pandas as pd\n",
    "import matplotlib.pyplot as plt\n",
    "import tests as t\n",
    "\n",
    "%matplotlib inline\n",
    "\n",
    "# Read in the datasets\n",
    "movies = pd.read_csv('movies_clean.csv')\n",
    "reviews = pd.read_csv('reviews_clean.csv')\n",
    "del movies['Unnamed: 0']\n",
    "del reviews['Unnamed: 0']"
   ]
  },
  {
   "cell_type": "code",
   "execution_count": 136,
   "metadata": {},
   "outputs": [
    {
     "data": {
      "text/html": [
       "<div>\n",
       "<style>\n",
       "    .dataframe thead tr:only-child th {\n",
       "        text-align: right;\n",
       "    }\n",
       "\n",
       "    .dataframe thead th {\n",
       "        text-align: left;\n",
       "    }\n",
       "\n",
       "    .dataframe tbody tr th {\n",
       "        vertical-align: top;\n",
       "    }\n",
       "</style>\n",
       "<table border=\"1\" class=\"dataframe\">\n",
       "  <thead>\n",
       "    <tr style=\"text-align: right;\">\n",
       "      <th></th>\n",
       "      <th>movie_id</th>\n",
       "      <th>movie</th>\n",
       "      <th>genre</th>\n",
       "      <th>date</th>\n",
       "      <th>1800's</th>\n",
       "      <th>1900's</th>\n",
       "      <th>2000's</th>\n",
       "      <th>History</th>\n",
       "      <th>News</th>\n",
       "      <th>Horror</th>\n",
       "      <th>...</th>\n",
       "      <th>Fantasy</th>\n",
       "      <th>Romance</th>\n",
       "      <th>Game-Show</th>\n",
       "      <th>Action</th>\n",
       "      <th>Documentary</th>\n",
       "      <th>Animation</th>\n",
       "      <th>Comedy</th>\n",
       "      <th>Short</th>\n",
       "      <th>Western</th>\n",
       "      <th>Thriller</th>\n",
       "    </tr>\n",
       "  </thead>\n",
       "  <tbody>\n",
       "    <tr>\n",
       "      <th>11954</th>\n",
       "      <td>337926</td>\n",
       "      <td>Chatô, O Rei do Brasil (2015)</td>\n",
       "      <td>Biography</td>\n",
       "      <td>2015</td>\n",
       "      <td>0</td>\n",
       "      <td>0</td>\n",
       "      <td>1</td>\n",
       "      <td>0</td>\n",
       "      <td>0</td>\n",
       "      <td>0</td>\n",
       "      <td>...</td>\n",
       "      <td>0</td>\n",
       "      <td>0</td>\n",
       "      <td>0</td>\n",
       "      <td>0</td>\n",
       "      <td>0</td>\n",
       "      <td>0</td>\n",
       "      <td>0</td>\n",
       "      <td>0</td>\n",
       "      <td>0</td>\n",
       "      <td>0</td>\n",
       "    </tr>\n",
       "    <tr>\n",
       "      <th>12393</th>\n",
       "      <td>369610</td>\n",
       "      <td>Jurassic World (2015)</td>\n",
       "      <td>Action|Adventure|Sci-Fi</td>\n",
       "      <td>2015</td>\n",
       "      <td>0</td>\n",
       "      <td>0</td>\n",
       "      <td>1</td>\n",
       "      <td>0</td>\n",
       "      <td>0</td>\n",
       "      <td>0</td>\n",
       "      <td>...</td>\n",
       "      <td>0</td>\n",
       "      <td>0</td>\n",
       "      <td>0</td>\n",
       "      <td>1</td>\n",
       "      <td>0</td>\n",
       "      <td>0</td>\n",
       "      <td>0</td>\n",
       "      <td>0</td>\n",
       "      <td>0</td>\n",
       "      <td>0</td>\n",
       "    </tr>\n",
       "    <tr>\n",
       "      <th>13156</th>\n",
       "      <td>420293</td>\n",
       "      <td>The Stanford Prison Experiment (2015)</td>\n",
       "      <td>Biography|Drama|History</td>\n",
       "      <td>2015</td>\n",
       "      <td>0</td>\n",
       "      <td>0</td>\n",
       "      <td>1</td>\n",
       "      <td>1</td>\n",
       "      <td>0</td>\n",
       "      <td>0</td>\n",
       "      <td>...</td>\n",
       "      <td>0</td>\n",
       "      <td>0</td>\n",
       "      <td>0</td>\n",
       "      <td>0</td>\n",
       "      <td>0</td>\n",
       "      <td>0</td>\n",
       "      <td>0</td>\n",
       "      <td>0</td>\n",
       "      <td>0</td>\n",
       "      <td>0</td>\n",
       "    </tr>\n",
       "    <tr>\n",
       "      <th>13817</th>\n",
       "      <td>462335</td>\n",
       "      <td>High-Rise (2015)</td>\n",
       "      <td>Action|Drama|Sci-Fi</td>\n",
       "      <td>2015</td>\n",
       "      <td>0</td>\n",
       "      <td>0</td>\n",
       "      <td>1</td>\n",
       "      <td>0</td>\n",
       "      <td>0</td>\n",
       "      <td>0</td>\n",
       "      <td>...</td>\n",
       "      <td>0</td>\n",
       "      <td>0</td>\n",
       "      <td>0</td>\n",
       "      <td>1</td>\n",
       "      <td>0</td>\n",
       "      <td>0</td>\n",
       "      <td>0</td>\n",
       "      <td>0</td>\n",
       "      <td>0</td>\n",
       "      <td>0</td>\n",
       "    </tr>\n",
       "    <tr>\n",
       "      <th>13935</th>\n",
       "      <td>470752</td>\n",
       "      <td>Ex Machina (2015)</td>\n",
       "      <td>Drama|Mystery|Sci-Fi</td>\n",
       "      <td>2015</td>\n",
       "      <td>0</td>\n",
       "      <td>0</td>\n",
       "      <td>1</td>\n",
       "      <td>0</td>\n",
       "      <td>0</td>\n",
       "      <td>0</td>\n",
       "      <td>...</td>\n",
       "      <td>0</td>\n",
       "      <td>0</td>\n",
       "      <td>0</td>\n",
       "      <td>0</td>\n",
       "      <td>0</td>\n",
       "      <td>0</td>\n",
       "      <td>0</td>\n",
       "      <td>0</td>\n",
       "      <td>0</td>\n",
       "      <td>0</td>\n",
       "    </tr>\n",
       "  </tbody>\n",
       "</table>\n",
       "<p>5 rows × 35 columns</p>\n",
       "</div>"
      ],
      "text/plain": [
       "       movie_id                                  movie  \\\n",
       "11954    337926          Chatô, O Rei do Brasil (2015)   \n",
       "12393    369610                  Jurassic World (2015)   \n",
       "13156    420293  The Stanford Prison Experiment (2015)   \n",
       "13817    462335                       High-Rise (2015)   \n",
       "13935    470752                      Ex Machina (2015)   \n",
       "\n",
       "                         genre  date  1800's  1900's  2000's  History  News  \\\n",
       "11954                Biography  2015       0       0       1        0     0   \n",
       "12393  Action|Adventure|Sci-Fi  2015       0       0       1        0     0   \n",
       "13156  Biography|Drama|History  2015       0       0       1        1     0   \n",
       "13817      Action|Drama|Sci-Fi  2015       0       0       1        0     0   \n",
       "13935     Drama|Mystery|Sci-Fi  2015       0       0       1        0     0   \n",
       "\n",
       "       Horror    ...     Fantasy  Romance  Game-Show  Action  Documentary  \\\n",
       "11954       0    ...           0        0          0       0            0   \n",
       "12393       0    ...           0        0          0       1            0   \n",
       "13156       0    ...           0        0          0       0            0   \n",
       "13817       0    ...           0        0          0       1            0   \n",
       "13935       0    ...           0        0          0       0            0   \n",
       "\n",
       "       Animation  Comedy  Short  Western  Thriller  \n",
       "11954          0       0      0        0         0  \n",
       "12393          0       0      0        0         0  \n",
       "13156          0       0      0        0         0  \n",
       "13817          0       0      0        0         0  \n",
       "13935          0       0      0        0         0  \n",
       "\n",
       "[5 rows x 35 columns]"
      ]
     },
     "execution_count": 136,
     "metadata": {},
     "output_type": "execute_result"
    }
   ],
   "source": [
    "movies.head()"
   ]
  },
  {
   "cell_type": "code",
   "execution_count": 138,
   "metadata": {},
   "outputs": [
    {
     "data": {
      "text/html": [
       "<div>\n",
       "<style>\n",
       "    .dataframe thead tr:only-child th {\n",
       "        text-align: right;\n",
       "    }\n",
       "\n",
       "    .dataframe thead th {\n",
       "        text-align: left;\n",
       "    }\n",
       "\n",
       "    .dataframe tbody tr th {\n",
       "        vertical-align: top;\n",
       "    }\n",
       "</style>\n",
       "<table border=\"1\" class=\"dataframe\">\n",
       "  <thead>\n",
       "    <tr style=\"text-align: right;\">\n",
       "      <th></th>\n",
       "      <th>user_id</th>\n",
       "      <th>movie_id</th>\n",
       "      <th>rating</th>\n",
       "      <th>timestamp</th>\n",
       "      <th>date</th>\n",
       "      <th>month_1</th>\n",
       "      <th>month_2</th>\n",
       "      <th>month_3</th>\n",
       "      <th>month_4</th>\n",
       "      <th>month_5</th>\n",
       "      <th>...</th>\n",
       "      <th>month_9</th>\n",
       "      <th>month_10</th>\n",
       "      <th>month_11</th>\n",
       "      <th>month_12</th>\n",
       "      <th>year_2013</th>\n",
       "      <th>year_2014</th>\n",
       "      <th>year_2015</th>\n",
       "      <th>year_2016</th>\n",
       "      <th>year_2017</th>\n",
       "      <th>year_2018</th>\n",
       "    </tr>\n",
       "  </thead>\n",
       "  <tbody>\n",
       "    <tr>\n",
       "      <th>0</th>\n",
       "      <td>1</td>\n",
       "      <td>68646</td>\n",
       "      <td>10</td>\n",
       "      <td>1381620027</td>\n",
       "      <td>2013-10-12 23:20:27</td>\n",
       "      <td>0</td>\n",
       "      <td>0</td>\n",
       "      <td>0</td>\n",
       "      <td>0</td>\n",
       "      <td>0</td>\n",
       "      <td>...</td>\n",
       "      <td>0</td>\n",
       "      <td>1</td>\n",
       "      <td>0</td>\n",
       "      <td>0</td>\n",
       "      <td>1</td>\n",
       "      <td>0</td>\n",
       "      <td>0</td>\n",
       "      <td>0</td>\n",
       "      <td>0</td>\n",
       "      <td>0</td>\n",
       "    </tr>\n",
       "    <tr>\n",
       "      <th>1</th>\n",
       "      <td>1</td>\n",
       "      <td>113277</td>\n",
       "      <td>10</td>\n",
       "      <td>1379466669</td>\n",
       "      <td>2013-09-18 01:11:09</td>\n",
       "      <td>0</td>\n",
       "      <td>0</td>\n",
       "      <td>0</td>\n",
       "      <td>0</td>\n",
       "      <td>0</td>\n",
       "      <td>...</td>\n",
       "      <td>0</td>\n",
       "      <td>0</td>\n",
       "      <td>0</td>\n",
       "      <td>0</td>\n",
       "      <td>1</td>\n",
       "      <td>0</td>\n",
       "      <td>0</td>\n",
       "      <td>0</td>\n",
       "      <td>0</td>\n",
       "      <td>0</td>\n",
       "    </tr>\n",
       "    <tr>\n",
       "      <th>2</th>\n",
       "      <td>2</td>\n",
       "      <td>422720</td>\n",
       "      <td>8</td>\n",
       "      <td>1412178746</td>\n",
       "      <td>2014-10-01 15:52:26</td>\n",
       "      <td>0</td>\n",
       "      <td>0</td>\n",
       "      <td>0</td>\n",
       "      <td>0</td>\n",
       "      <td>0</td>\n",
       "      <td>...</td>\n",
       "      <td>0</td>\n",
       "      <td>1</td>\n",
       "      <td>0</td>\n",
       "      <td>0</td>\n",
       "      <td>0</td>\n",
       "      <td>1</td>\n",
       "      <td>0</td>\n",
       "      <td>0</td>\n",
       "      <td>0</td>\n",
       "      <td>0</td>\n",
       "    </tr>\n",
       "    <tr>\n",
       "      <th>3</th>\n",
       "      <td>2</td>\n",
       "      <td>454876</td>\n",
       "      <td>8</td>\n",
       "      <td>1394818630</td>\n",
       "      <td>2014-03-14 17:37:10</td>\n",
       "      <td>0</td>\n",
       "      <td>0</td>\n",
       "      <td>0</td>\n",
       "      <td>0</td>\n",
       "      <td>0</td>\n",
       "      <td>...</td>\n",
       "      <td>0</td>\n",
       "      <td>0</td>\n",
       "      <td>0</td>\n",
       "      <td>0</td>\n",
       "      <td>0</td>\n",
       "      <td>1</td>\n",
       "      <td>0</td>\n",
       "      <td>0</td>\n",
       "      <td>0</td>\n",
       "      <td>0</td>\n",
       "    </tr>\n",
       "    <tr>\n",
       "      <th>4</th>\n",
       "      <td>2</td>\n",
       "      <td>790636</td>\n",
       "      <td>7</td>\n",
       "      <td>1389963947</td>\n",
       "      <td>2014-01-17 13:05:47</td>\n",
       "      <td>0</td>\n",
       "      <td>0</td>\n",
       "      <td>0</td>\n",
       "      <td>0</td>\n",
       "      <td>0</td>\n",
       "      <td>...</td>\n",
       "      <td>0</td>\n",
       "      <td>0</td>\n",
       "      <td>0</td>\n",
       "      <td>0</td>\n",
       "      <td>0</td>\n",
       "      <td>1</td>\n",
       "      <td>0</td>\n",
       "      <td>0</td>\n",
       "      <td>0</td>\n",
       "      <td>0</td>\n",
       "    </tr>\n",
       "  </tbody>\n",
       "</table>\n",
       "<p>5 rows × 23 columns</p>\n",
       "</div>"
      ],
      "text/plain": [
       "   user_id  movie_id  rating   timestamp                 date  month_1  \\\n",
       "0        1     68646      10  1381620027  2013-10-12 23:20:27        0   \n",
       "1        1    113277      10  1379466669  2013-09-18 01:11:09        0   \n",
       "2        2    422720       8  1412178746  2014-10-01 15:52:26        0   \n",
       "3        2    454876       8  1394818630  2014-03-14 17:37:10        0   \n",
       "4        2    790636       7  1389963947  2014-01-17 13:05:47        0   \n",
       "\n",
       "   month_2  month_3  month_4  month_5    ...      month_9  month_10  month_11  \\\n",
       "0        0        0        0        0    ...            0         1         0   \n",
       "1        0        0        0        0    ...            0         0         0   \n",
       "2        0        0        0        0    ...            0         1         0   \n",
       "3        0        0        0        0    ...            0         0         0   \n",
       "4        0        0        0        0    ...            0         0         0   \n",
       "\n",
       "   month_12  year_2013  year_2014  year_2015  year_2016  year_2017  year_2018  \n",
       "0         0          1          0          0          0          0          0  \n",
       "1         0          1          0          0          0          0          0  \n",
       "2         0          0          1          0          0          0          0  \n",
       "3         0          0          1          0          0          0          0  \n",
       "4         0          0          1          0          0          0          0  \n",
       "\n",
       "[5 rows x 23 columns]"
      ]
     },
     "execution_count": 138,
     "metadata": {},
     "output_type": "execute_result"
    }
   ],
   "source": [
    "reviews.head()"
   ]
  },
  {
   "cell_type": "markdown",
   "metadata": {},
   "source": [
    "#### 1. How To Find The Most Popular Movies\n",
    "\n",
    "For this notebook, we have a single task.  The task is that no matter the user, we need to provide a list of the recommendations based on simply the most popular items.\n",
    "\n",
    "For this task, we will consider what is \"most popular\" based on the following criteria:\n",
    "\n",
    "* A movie with the highest average rating is considered best\n",
    "* With ties, movies that have more ratings are better\n",
    "* A movie must have a minimum of 5 ratings to be considered among the best movies\n",
    "* If movies are tied in their average rating and number of ratings, the ranking is determined by the movie that is the most recent rating\n",
    "\n",
    "With these criteria, the goal for this notebook is to take a **user_id** and provide back the **n_top** recommendations.  Use the function below as the scaffolding that will be used for all the future recommendations as well."
   ]
  },
  {
   "cell_type": "code",
   "execution_count": 7,
   "metadata": {},
   "outputs": [
    {
     "data": {
      "text/plain": [
       "31245"
      ]
     },
     "execution_count": 7,
     "metadata": {},
     "output_type": "execute_result"
    }
   ],
   "source": [
    "reviews.movie_id.nunique()"
   ]
  },
  {
   "cell_type": "code",
   "execution_count": 39,
   "metadata": {},
   "outputs": [],
   "source": [
    "avg_rating = pd.Series(reviews.groupby(by=['movie_id']).rating.mean()).rename('avg_rating')"
   ]
  },
  {
   "cell_type": "code",
   "execution_count": 40,
   "metadata": {},
   "outputs": [],
   "source": [
    "rating_count = pd.Series(reviews.groupby(by=['movie_id']).rating.count()).rename('rating_count')"
   ]
  },
  {
   "cell_type": "code",
   "execution_count": 41,
   "metadata": {},
   "outputs": [],
   "source": [
    "rating_time_max = pd.Series(reviews.groupby(by=['movie_id']).date.max()).rename('rating_time_max')"
   ]
  },
  {
   "cell_type": "code",
   "execution_count": 42,
   "metadata": {},
   "outputs": [],
   "source": [
    "df = pd.DataFrame(pd.concat([avg_rating,rating_count,rating_time_max], axis=1))"
   ]
  },
  {
   "cell_type": "code",
   "execution_count": 43,
   "metadata": {},
   "outputs": [
    {
     "data": {
      "text/plain": [
       "Index(['avg_rating', 'rating_count', 'rating_time_max'], dtype='object')"
      ]
     },
     "execution_count": 43,
     "metadata": {},
     "output_type": "execute_result"
    }
   ],
   "source": []
  },
  {
   "cell_type": "code",
   "execution_count": 45,
   "metadata": {},
   "outputs": [
    {
     "data": {
      "text/html": [
       "<div>\n",
       "<style>\n",
       "    .dataframe thead tr:only-child th {\n",
       "        text-align: right;\n",
       "    }\n",
       "\n",
       "    .dataframe thead th {\n",
       "        text-align: left;\n",
       "    }\n",
       "\n",
       "    .dataframe tbody tr th {\n",
       "        vertical-align: top;\n",
       "    }\n",
       "</style>\n",
       "<table border=\"1\" class=\"dataframe\">\n",
       "  <thead>\n",
       "    <tr style=\"text-align: right;\">\n",
       "      <th></th>\n",
       "      <th>avg_rating</th>\n",
       "      <th>rating_count</th>\n",
       "      <th>rating_time_max</th>\n",
       "    </tr>\n",
       "    <tr>\n",
       "      <th>movie_id</th>\n",
       "      <th></th>\n",
       "      <th></th>\n",
       "      <th></th>\n",
       "    </tr>\n",
       "  </thead>\n",
       "  <tbody>\n",
       "    <tr>\n",
       "      <th>8</th>\n",
       "      <td>5.000000</td>\n",
       "      <td>1</td>\n",
       "      <td>2014-04-08 18:20:11</td>\n",
       "    </tr>\n",
       "    <tr>\n",
       "      <th>10</th>\n",
       "      <td>10.000000</td>\n",
       "      <td>1</td>\n",
       "      <td>2014-10-09 18:15:53</td>\n",
       "    </tr>\n",
       "    <tr>\n",
       "      <th>12</th>\n",
       "      <td>10.000000</td>\n",
       "      <td>1</td>\n",
       "      <td>2015-08-10 23:16:19</td>\n",
       "    </tr>\n",
       "    <tr>\n",
       "      <th>25</th>\n",
       "      <td>8.000000</td>\n",
       "      <td>1</td>\n",
       "      <td>2017-02-27 10:04:59</td>\n",
       "    </tr>\n",
       "    <tr>\n",
       "      <th>91</th>\n",
       "      <td>6.000000</td>\n",
       "      <td>1</td>\n",
       "      <td>2013-11-23 18:59:55</td>\n",
       "    </tr>\n",
       "    <tr>\n",
       "      <th>417</th>\n",
       "      <td>8.368421</td>\n",
       "      <td>19</td>\n",
       "      <td>2018-06-26 21:08:46</td>\n",
       "    </tr>\n",
       "    <tr>\n",
       "      <th>439</th>\n",
       "      <td>6.750000</td>\n",
       "      <td>4</td>\n",
       "      <td>2018-06-24 02:59:09</td>\n",
       "    </tr>\n",
       "    <tr>\n",
       "      <th>443</th>\n",
       "      <td>8.000000</td>\n",
       "      <td>1</td>\n",
       "      <td>2016-10-23 21:08:32</td>\n",
       "    </tr>\n",
       "    <tr>\n",
       "      <th>628</th>\n",
       "      <td>4.500000</td>\n",
       "      <td>2</td>\n",
       "      <td>2013-11-29 12:55:28</td>\n",
       "    </tr>\n",
       "    <tr>\n",
       "      <th>833</th>\n",
       "      <td>3.000000</td>\n",
       "      <td>1</td>\n",
       "      <td>2013-11-29 15:27:27</td>\n",
       "    </tr>\n",
       "  </tbody>\n",
       "</table>\n",
       "</div>"
      ],
      "text/plain": [
       "          avg_rating  rating_count      rating_time_max\n",
       "movie_id                                               \n",
       "8           5.000000             1  2014-04-08 18:20:11\n",
       "10         10.000000             1  2014-10-09 18:15:53\n",
       "12         10.000000             1  2015-08-10 23:16:19\n",
       "25          8.000000             1  2017-02-27 10:04:59\n",
       "91          6.000000             1  2013-11-23 18:59:55\n",
       "417         8.368421            19  2018-06-26 21:08:46\n",
       "439         6.750000             4  2018-06-24 02:59:09\n",
       "443         8.000000             1  2016-10-23 21:08:32\n",
       "628         4.500000             2  2013-11-29 12:55:28\n",
       "833         3.000000             1  2013-11-29 15:27:27"
      ]
     },
     "execution_count": 45,
     "metadata": {},
     "output_type": "execute_result"
    }
   ],
   "source": [
    "df.head(10)"
   ]
  },
  {
   "cell_type": "code",
   "execution_count": 47,
   "metadata": {},
   "outputs": [],
   "source": [
    "df_5 = df[df.rating_count >= 5]"
   ]
  },
  {
   "cell_type": "code",
   "execution_count": 70,
   "metadata": {},
   "outputs": [],
   "source": [
    "top_20_df = df_5.sort_values(by=['avg_rating', 'rating_count', 'rating_time_max'], ascending=[False,False,False]).head(20)"
   ]
  },
  {
   "cell_type": "code",
   "execution_count": 71,
   "metadata": {},
   "outputs": [],
   "source": [
    "top_20_df = top_20_df.reset_index()"
   ]
  },
  {
   "cell_type": "code",
   "execution_count": 72,
   "metadata": {},
   "outputs": [
    {
     "data": {
      "text/plain": [
       "['MSG 2 the Messenger (2015)',\n",
       " 'Avengers: Age of Ultron Parody (2015)',\n",
       " 'Sorry to Bother You (2018)',\n",
       " 'Selam (2013)',\n",
       " \"Quiet Riot: Well Now You're Here, There's No Way Back (2014)\",\n",
       " 'Crawl Bitch Crawl (2012)',\n",
       " 'Make Like a Dog (2015)',\n",
       " 'Pandorica (2016)',\n",
       " 'Third Contact (2011)',\n",
       " 'Romeo Juliet (2009)',\n",
       " 'Be Somebody (2016)',\n",
       " 'Birlesen Gonuller (2014)',\n",
       " 'Agnelli (2017)',\n",
       " 'Sátántangó (1994)',\n",
       " 'Shijie (2004)',\n",
       " 'Foster (2011)',\n",
       " 'CM101MMXI Fundamentals (2013)',\n",
       " 'Akahige (1965)',\n",
       " 'Crystal Lake Memories: The Complete History of Friday the 13th (2013)',\n",
       " 'Körkarlen (1921)']"
      ]
     },
     "execution_count": 72,
     "metadata": {},
     "output_type": "execute_result"
    }
   ],
   "source": [
    "list(top_20_df.merge(movies,how='inner',on='movie_id').movie.values)"
   ]
  },
  {
   "cell_type": "code",
   "execution_count": 92,
   "metadata": {},
   "outputs": [],
   "source": [
    "def popular_recommendations(user_id, n_top):\n",
    "    '''\n",
    "    INPUT:\n",
    "    user_id - the user_id of the individual you are making recommendations for\n",
    "    n_top - an integer of the number recommendations you want back\n",
    "    OUTPUT:\n",
    "    top_movies - a list of the n_top recommended movies by movie title in order best to worst\n",
    "    '''\n",
    "\n",
    "    avg_rating = pd.Series(reviews.groupby(by=['movie_id']).rating.mean()).rename('avg_rating')\n",
    "    rating_count = pd.Series(reviews.groupby(by=['movie_id']).rating.count()).rename('rating_count')\n",
    "    rating_time_max = pd.Series(reviews.groupby(by=['movie_id']).date.max()).rename('rating_time_max')\n",
    "    df = pd.DataFrame(pd.concat([avg_rating,rating_count,rating_time_max], axis=1))\n",
    "    df_5 = df[df.rating_count >= 5]\n",
    "    top_n_df = df_5.sort_values(by=['avg_rating', 'rating_count', 'rating_time_max'], ascending=[False,False,False]).head(n_top)\n",
    "    top_n_df = top_n_df.reset_index()\n",
    "    top_movies = list(top_n_df.merge(movies,how='inner',on='movie_id').movie.values)\n",
    "    \n",
    "    return top_movies # a list of the n_top movies as recommended"
   ]
  },
  {
   "cell_type": "markdown",
   "metadata": {},
   "source": [
    "Usint the three criteria above, you should be able to put together the above function.  If you feel confident in your solution, check the results of your function against our solution. On the next page, you can see a walkthrough and you can of course get the solution by looking at the solution notebook available in this workspace.  "
   ]
  },
  {
   "cell_type": "code",
   "execution_count": 68,
   "metadata": {},
   "outputs": [],
   "source": [
    "# Put your solutions for each of the cases here\n",
    "\n",
    "# Top 20 movies recommended for id 1\n",
    "\n",
    "recs_20_for_1 = popular_recommendations(1, 20)  # Your solution list here\n",
    "\n",
    "# Top 5 movies recommended for id 53968\n",
    "recs_5_for_53968 = popular_recommendations(53968, 5) # Your solution list here\n",
    "\n",
    "# Top 100 movies recommended for id 70000\n",
    "recs_100_for_70000 = popular_recommendations(70000, 100) # Your solution list here\n",
    "\n",
    "# Top 35 movies recommended for id 43\n",
    "recs_35_for_43 = popular_recommendations(43, 35) # Your solution list here\n",
    "\n"
   ]
  },
  {
   "cell_type": "code",
   "execution_count": 69,
   "metadata": {},
   "outputs": [
    {
     "name": "stdout",
     "output_type": "stream",
     "text": [
      "If you got here, looks like you are good to go!  Nice job!\n"
     ]
    }
   ],
   "source": [
    "### You Should Not Need To Modify Anything In This Cell\n",
    "ranked_movies = t.create_ranked_df(movies, reviews) # only run this once - it is not fast\n",
    "\n",
    "# check 1 \n",
    "assert t.popular_recommendations('1', 20, ranked_movies) == recs_20_for_1,  \"The first check failed...\"\n",
    "# check 2\n",
    "assert t.popular_recommendations('53968', 5, ranked_movies) == recs_5_for_53968,  \"The second check failed...\"\n",
    "# check 3\n",
    "assert t.popular_recommendations('70000', 100, ranked_movies) == recs_100_for_70000,  \"The third check failed...\"\n",
    "# check 4\n",
    "assert t.popular_recommendations('43', 35, ranked_movies) == recs_35_for_43,  \"The fourth check failed...\"\n",
    "\n",
    "print(\"If you got here, looks like you are good to go!  Nice job!\")"
   ]
  },
  {
   "cell_type": "markdown",
   "metadata": {},
   "source": [
    "**Notice:** This wasn't the only way we could have determined the \"top rated\" movies.  You can imagine that in keeping track of trending news or trending social events, **you would likely want to create a time window from the current time, and then pull the articles in the most recent time frame.  There are always going to be some subjective decisions to be made.**  \n",
    "\n",
    "If you find that no one is paying any attention to your most popular recommendations, then it might be time to find a new way to recommend, which is what the next parts of the lesson should prepare us to do!\n"
   ]
  },
  {
   "cell_type": "markdown",
   "metadata": {},
   "source": [
    "### Part II: Adding Filters\n",
    "\n",
    "Now that you have created a function to give back the **n_top** movies, let's make it a bit more robust.  Add arguments that will act as filters for the movie **year** and **genre**.  \n",
    "\n",
    "Use the cells below to adjust your existing function to allow for **year** and **genre** arguments as **lists** of **strings**.  Then your ending results are filtered to only movies within the lists of provided years and genres (as `or` conditions).  If no list is provided, there should be no filter applied.\n",
    "\n",
    "You can adjust other necessary inputs as necessary to retrieve the final results you are looking for!\n"
   ]
  },
  {
   "cell_type": "code",
   "execution_count": 130,
   "metadata": {},
   "outputs": [],
   "source": [
    "# movies[movies.date.isin([2015])]"
   ]
  },
  {
   "cell_type": "code",
   "execution_count": 131,
   "metadata": {},
   "outputs": [],
   "source": [
    "genre_ = 'Documentary'\n",
    "# movies[movies['genre'].str.contains(genre_, na=False)] "
   ]
  },
  {
   "cell_type": "code",
   "execution_count": 101,
   "metadata": {},
   "outputs": [],
   "source": [
    "# movies[movies[genre_]>0] "
   ]
  },
  {
   "cell_type": "code",
   "execution_count": 132,
   "metadata": {},
   "outputs": [],
   "source": [
    "# years = [2015]\n",
    "# movies[movies['date'].isin(years)]"
   ]
  },
  {
   "cell_type": "code",
   "execution_count": 149,
   "metadata": {},
   "outputs": [],
   "source": [
    "def popular_recommendations_filtered(user_id, n_top, years = None, genres = None):\n",
    "    '''\n",
    "    INPUT:\n",
    "    user_id - the user_id of the individual you are making recommendations for\n",
    "    n_top - an integer of the number recommendations you want back\n",
    "    year - list of filtering year\n",
    "    genres -list of filtering genres\n",
    "    OUTPUT:\n",
    "    top_movies - a list of the n_top recommended movies by movie title in order best to worst\n",
    "    '''\n",
    "    global movies\n",
    "    global reviews\n",
    "    \n",
    "    movies_mod = movies\n",
    "    if(type(years) == list):\n",
    "        movies_mod = movies_mod[movies_mod['date'].isin(years)]  # use try\n",
    "    else:\n",
    "        movies_mod = movies_mod\n",
    "        \n",
    "    \n",
    "    if(type(genres) == list):\n",
    "        df_list = []\n",
    "        for i, genre in enumerate(genres):\n",
    "            df_list.append(movies_mod[movies_mod[genre]>0])     \n",
    "        movies_mod = pd.concat(df_list)\n",
    "    print('before', movies_mod.shape[0])\n",
    "    movies_mod = movies_mod.drop_duplicates() #since is possible to get short|documetry added twice\n",
    "    print('after', movies_mod.shape[0])\n",
    "    \n",
    "#     Another way BETTER\n",
    "#     if years is not None:\n",
    "#         movies_mod = movies_mod[movies_mod['date'].isin(years)]\n",
    "\n",
    "#     if genres is not None:\n",
    "#         num_genre_match = movies_mod[genres].sum(axis=1)  # atleast one genre is 1\n",
    "#         movies_mod = movies_mod.loc[num_genre_match > 0, :]        \n",
    "        \n",
    "    avg_rating = pd.Series(reviews.groupby(by=['movie_id']).rating.mean()).rename('avg_rating')\n",
    "    rating_count = pd.Series(reviews.groupby(by=['movie_id']).rating.count()).rename('rating_count')\n",
    "    rating_time_max = pd.Series(reviews.groupby(by=['movie_id']).date.max()).rename('rating_time_max')\n",
    "    df = pd.DataFrame(pd.concat([avg_rating,rating_count,rating_time_max], axis=1))\n",
    "    df_5 = df[df.rating_count >= 5]\n",
    "    df_prelim = df_5.sort_values(by=['avg_rating', 'rating_count', 'rating_time_max'], ascending=[False,False,False])\n",
    "    df_prelim = df_prelim.reset_index()\n",
    "    df_prelim_merge = df_prelim.merge(movies_mod,how='inner',on='movie_id')\n",
    "    top_movies = list(df_prelim_merge.head(n_top).movie.values)\n",
    "    \n",
    "\n",
    "    \n",
    "    return top_movies # a list of the n_top movies as recommended"
   ]
  },
  {
   "cell_type": "code",
   "execution_count": 150,
   "metadata": {},
   "outputs": [
    {
     "name": "stdout",
     "output_type": "stream",
     "text": [
      "before 3482\n",
      "after 3205\n"
     ]
    },
    {
     "data": {
      "text/plain": [
       "['MSG 2 the Messenger (2015)',\n",
       " 'Avengers: Age of Ultron Parody (2015)',\n",
       " 'Make Like a Dog (2015)',\n",
       " 'Be Somebody (2016)',\n",
       " 'Agnelli (2017)',\n",
       " 'Kirik Party (2016)',\n",
       " 'Chasing Asylum (2016)',\n",
       " 'No Stone Unturned (2017)',\n",
       " 'Dag II (2016)',\n",
       " \"Hillary's America: The Secret History of the Democratic Party (2016)\",\n",
       " 'Chasing Coral (2017)',\n",
       " 'Terra (2015)',\n",
       " 'Ayla: The Daughter of War (2017)',\n",
       " 'Hitting the Apex (2015)',\n",
       " 'Colombia magia salvaje (2015)',\n",
       " 'I Believe in Miracles (2015)',\n",
       " 'Wild Wild Country (2018)',\n",
       " 'Bajrangi Bhaijaan (2015)',\n",
       " 'Dangal (2016)',\n",
       " 'Inner Workings (2016)']"
      ]
     },
     "execution_count": 150,
     "metadata": {},
     "output_type": "execute_result"
    }
   ],
   "source": [
    "popular_recommendations_filtered(1, 20, years=['2015', '2016', '2017', '2018'], genres=['History','Documentary','Short', 'Drama'])"
   ]
  },
  {
   "cell_type": "code",
   "execution_count": 141,
   "metadata": {},
   "outputs": [
    {
     "data": {
      "text/plain": [
       "['MSG 2 the Messenger (2015)',\n",
       " 'Avengers: Age of Ultron Parody (2015)',\n",
       " 'Sorry to Bother You (2018)',\n",
       " 'Selam (2013)',\n",
       " \"Quiet Riot: Well Now You're Here, There's No Way Back (2014)\",\n",
       " 'Crawl Bitch Crawl (2012)',\n",
       " 'Make Like a Dog (2015)',\n",
       " 'Pandorica (2016)',\n",
       " 'Third Contact (2011)',\n",
       " 'Romeo Juliet (2009)',\n",
       " 'Be Somebody (2016)',\n",
       " 'Birlesen Gonuller (2014)',\n",
       " 'Agnelli (2017)',\n",
       " 'Sátántangó (1994)',\n",
       " 'Shijie (2004)',\n",
       " 'Foster (2011)',\n",
       " 'CM101MMXI Fundamentals (2013)',\n",
       " 'Akahige (1965)',\n",
       " 'Crystal Lake Memories: The Complete History of Friday the 13th (2013)',\n",
       " 'Körkarlen (1921)']"
      ]
     },
     "execution_count": 141,
     "metadata": {},
     "output_type": "execute_result"
    }
   ],
   "source": [
    "popular_recommendations_filtered(1, 20, years=None)"
   ]
  },
  {
   "cell_type": "code",
   "execution_count": 142,
   "metadata": {},
   "outputs": [
    {
     "data": {
      "text/plain": [
       "['Sorry to Bother You (2018)',\n",
       " 'Wild Wild Country (2018)',\n",
       " 'Ricky Gervais: Humanity (2018)',\n",
       " 'Avengers: Infinity War (2018)',\n",
       " 'Hadi Be Oglum (2018)',\n",
       " 'Incredibles 2 (2018)',\n",
       " 'Ahlat Agaci (2018)',\n",
       " 'Deadpool 2 (2018)',\n",
       " 'Kelebekler (2018)',\n",
       " 'Isle of Dogs (2018)',\n",
       " 'Love, Simon (2018)',\n",
       " 'A Quiet Place (2018)',\n",
       " 'Upgrade (2018)',\n",
       " 'The Tale (2018)',\n",
       " 'Ready Player One (2018)',\n",
       " 'Padman (2018)',\n",
       " 'Hichki (2018)',\n",
       " 'Black Panther (2018)',\n",
       " 'Game Night (2018)',\n",
       " 'Set It Up (2018)']"
      ]
     },
     "execution_count": 142,
     "metadata": {},
     "output_type": "execute_result"
    }
   ],
   "source": [
    "popular_recommendations_filtered(1, 20, years=[2018])"
   ]
  },
  {
   "cell_type": "code",
   "execution_count": 148,
   "metadata": {},
   "outputs": [
    {
     "data": {
      "text/plain": [
       "['Agnelli (2017)',\n",
       " 'No Stone Unturned (2017)',\n",
       " 'Chasing Coral (2017)',\n",
       " 'Wild Wild Country (2018)',\n",
       " 'The Farthest (2017)',\n",
       " 'Ricky Gervais: Humanity (2018)',\n",
       " 'What the Health (2017)',\n",
       " 'Icarus (2017)',\n",
       " 'LA 92 (2017)',\n",
       " 'Gaga: Five Foot Two (2017)',\n",
       " 'I Am Heath Ledger (2017)',\n",
       " 'Visages villages (2017)',\n",
       " 'Get Me Roger Stone (2017)',\n",
       " 'Mommy Dead and Dearest (2017)',\n",
       " 'Becoming Warren Buffett (2017)',\n",
       " 'One of Us (2017)',\n",
       " 'Chris Brown: Welcome to My Life (2017)',\n",
       " 'Conor McGregor: Notorious (2017)',\n",
       " '78/52 (2017)',\n",
       " 'City of Ghosts (2017)']"
      ]
     },
     "execution_count": 148,
     "metadata": {},
     "output_type": "execute_result"
    }
   ],
   "source": [
    "popular_recommendations_filtered(1, 20, years=[2017,2018], genres=['Documentary'])"
   ]
  },
  {
   "cell_type": "code",
   "execution_count": 147,
   "metadata": {},
   "outputs": [
    {
     "data": {
      "text/plain": [
       "['Ayla: The Daughter of War (2017)',\n",
       " 'I Believe in Miracles (2015)',\n",
       " 'The Farthest (2017)',\n",
       " 'Sado (2015)',\n",
       " 'Hatred (2016)',\n",
       " 'Kincsem (2017)',\n",
       " 'Nise - O Coração da Loucura (2015)',\n",
       " 'LA 92 (2017)',\n",
       " 'Straight Outta Compton (2015)',\n",
       " 'Manjhi: The Mountain Man (2015)',\n",
       " 'Only the Dead (2015)',\n",
       " 'Spotlight (2015)',\n",
       " 'Under sandet (2015)',\n",
       " 'Airlift (2016)',\n",
       " 'Dunkirk (2017)',\n",
       " 'Taeksi Woonjunsa (2017)',\n",
       " 'The Battleship Island (2017)',\n",
       " 'Darkest Hour (2017)',\n",
       " 'Best of Enemies (2015)',\n",
       " 'The Ghazi Attack (2017)']"
      ]
     },
     "execution_count": 147,
     "metadata": {},
     "output_type": "execute_result"
    }
   ],
   "source": [
    "popular_recommendations_filtered(1, 20, years=['2015', '2016', '2017', '2018'], genres=['History'])"
   ]
  },
  {
   "cell_type": "markdown",
   "metadata": {},
   "source": [
    "\n",
    "Try writing a few tests against the test function in our test function.  Below returns the top 20 movies for user 1 based on the specified year and genre filters.  Does yours return the same? \n",
    "\n",
    "```\n",
    "t.popular_recs_filtered('1', 20, ranked_movies, years=['2015', '2016', '2017', '2018'], genres=['History'])\n",
    "```"
   ]
  },
  {
   "cell_type": "code",
   "execution_count": null,
   "metadata": {},
   "outputs": [],
   "source": []
  },
  {
   "cell_type": "code",
   "execution_count": 146,
   "metadata": {},
   "outputs": [
    {
     "data": {
      "text/plain": [
       "['Ayla: The Daughter of War (2017)',\n",
       " 'I Believe in Miracles (2015)',\n",
       " 'The Farthest (2017)',\n",
       " 'Sado (2015)',\n",
       " 'Hatred (2016)',\n",
       " 'Kincsem (2017)',\n",
       " 'Nise - O Coração da Loucura (2015)',\n",
       " 'LA 92 (2017)',\n",
       " 'Straight Outta Compton (2015)',\n",
       " 'Manjhi: The Mountain Man (2015)',\n",
       " 'Only the Dead (2015)',\n",
       " 'Spotlight (2015)',\n",
       " 'Under sandet (2015)',\n",
       " 'Airlift (2016)',\n",
       " 'Dunkirk (2017)',\n",
       " 'Taeksi Woonjunsa (2017)',\n",
       " 'The Battleship Island (2017)',\n",
       " 'Darkest Hour (2017)',\n",
       " 'Best of Enemies (2015)',\n",
       " 'The Ghazi Attack (2017)']"
      ]
     },
     "execution_count": 146,
     "metadata": {},
     "output_type": "execute_result"
    }
   ],
   "source": [
    "t.popular_recs_filtered('1', 20, ranked_movies, years=['2015', '2016', '2017', '2018'], genres=['History'])"
   ]
  },
  {
   "cell_type": "code",
   "execution_count": null,
   "metadata": {},
   "outputs": [],
   "source": []
  }
 ],
 "metadata": {
  "kernelspec": {
   "display_name": "Python 3",
   "language": "python",
   "name": "python3"
  },
  "language_info": {
   "codemirror_mode": {
    "name": "ipython",
    "version": 3
   },
   "file_extension": ".py",
   "mimetype": "text/x-python",
   "name": "python",
   "nbconvert_exporter": "python",
   "pygments_lexer": "ipython3",
   "version": "3.6.3"
  }
 },
 "nbformat": 4,
 "nbformat_minor": 2
}
